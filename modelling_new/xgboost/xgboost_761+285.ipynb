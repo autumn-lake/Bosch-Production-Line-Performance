{
 "cells": [
  {
   "cell_type": "code",
   "execution_count": 1,
   "metadata": {
    "collapsed": true
   },
   "outputs": [],
   "source": [
    "import pandas as pd\n",
    "import xgboost as xgb\n",
    "import numpy as np\n",
    "from sklearn.metrics import roc_auc_score\n",
    "\n",
    "%matplotlib inline\n",
    "\n",
    "from sklearn.metrics import matthews_corrcoef\n",
    "import matplotlib.pyplot as plt\n",
    "from numba import jit\n",
    "\n",
    "@jit\n",
    "def mcc(tp, tn, fp, fn):\n",
    "    sup = tp * tn - fp * fn\n",
    "    inf = (tp + fp) * (tp + fn) * (tn + fp) * (tn + fn)\n",
    "    if inf==0:\n",
    "        return 0\n",
    "    else:\n",
    "        return sup / np.sqrt(inf)\n",
    "\n",
    "@jit\n",
    "def eval_mcc(y_true, y_prob, show=False):\n",
    "    idx = np.argsort(y_prob)\n",
    "    y_true_sort = y_true[idx]\n",
    "    n = y_true.shape[0]\n",
    "    nump = 1.0 * np.sum(y_true) # number of positive\n",
    "    numn = n - nump # number of negative\n",
    "    tp = nump\n",
    "    tn = 0.0\n",
    "    fp = numn\n",
    "    fn = 0.0\n",
    "    best_mcc = 0.0\n",
    "    best_id = -1\n",
    "    prev_proba = -1\n",
    "    best_proba = -1\n",
    "    mccs = np.zeros(n)\n",
    "    for i in range(n):\n",
    "        # all items with idx < i are predicted negative while others are predicted positive\n",
    "        # only evaluate mcc when probability changes\n",
    "        proba = y_prob[idx[i]]\n",
    "        if proba != prev_proba:\n",
    "            prev_proba = proba\n",
    "            new_mcc = mcc(tp, tn, fp, fn)\n",
    "            if new_mcc >= best_mcc:\n",
    "                best_mcc = new_mcc\n",
    "                best_id = i\n",
    "                best_proba = proba\n",
    "        mccs[i] = new_mcc\n",
    "        if y_true_sort[i] == 1:\n",
    "            tp -= 1.0\n",
    "            fn += 1.0\n",
    "        else:\n",
    "            fp -= 1.0\n",
    "            tn += 1.0\n",
    "    if show:\n",
    "        y_pred = (y_prob >= best_proba).astype(int)\n",
    "        score = matthews_corrcoef(y_true, y_pred)\n",
    "        print(score, best_mcc)\n",
    "        plt.plot(mccs)\n",
    "        return best_proba, best_mcc, y_pred\n",
    "    else:\n",
    "        return best_mcc\n",
    "\n",
    "def mcc_eval(y_prob, dtrain):\n",
    "    y_true = dtrain.get_label()\n",
    "    best_mcc = eval_mcc(y_true, y_prob)\n",
    "    return 'MCC', best_mcc"
   ]
  },
  {
   "cell_type": "code",
   "execution_count": 5,
   "metadata": {
    "collapsed": true
   },
   "outputs": [],
   "source": [
    "#df1 = pd.read_hdf('feats_selected/train_init_761.hdf5','table')\n",
    "df_train = pd.read_hdf('feats_selected/train_all_585_sel.hdf5','table')\n",
    "#df_train = pd.concat([df1,df2],axis=1)\n",
    "\n",
    "y = pd.read_csv('../../input_orig/train_numeric.csv', usecols=['Response'])\n",
    "\n",
    "from sklearn.model_selection import train_test_split\n",
    "X_train, X_test, y_train, y_test = train_test_split(df_train, y, test_size=0.2, random_state=42, stratify=y.values)"
   ]
  },
  {
   "cell_type": "code",
   "execution_count": 6,
   "metadata": {
    "collapsed": false
   },
   "outputs": [
    {
     "data": {
      "text/plain": [
       "14"
      ]
     },
     "execution_count": 6,
     "metadata": {},
     "output_type": "execute_result"
    }
   ],
   "source": [
    "del df_train\n",
    "import gc\n",
    "gc.collect()\n",
    "\n",
    "dtrain = xgb.DMatrix(X_train, label=y_train)\n",
    "\n",
    "del X_train\n",
    "del y_train\n",
    "gc.collect()\n",
    "\n",
    "dval = xgb.DMatrix(X_test, label=y_test)\n",
    "\n",
    "del X_test\n",
    "del y_test\n",
    "gc.collect()"
   ]
  },
  {
   "cell_type": "code",
   "execution_count": 7,
   "metadata": {
    "collapsed": true
   },
   "outputs": [],
   "source": [
    "dtrain.save_binary(\"all_feat_folder/train_all_585_sel.buffer\")\n",
    "dval.save_binary(\"all_feat_folder/val_all_585_sel.buffer\")"
   ]
  },
  {
   "cell_type": "code",
   "execution_count": 2,
   "metadata": {
    "collapsed": false
   },
   "outputs": [],
   "source": [
    "dtrain = xgb.DMatrix('all_feat_folder/train_init_and_rest.buffer')\n",
    "dval = xgb.DMatrix('all_feat_folder/val_init_and_rest.buffer')\n",
    "y = pd.read_csv('../../input_orig/train_numeric.csv', usecols=['Response'])"
   ]
  },
  {
   "cell_type": "code",
   "execution_count": null,
   "metadata": {
    "collapsed": false
   },
   "outputs": [
    {
     "name": "stdout",
     "output_type": "stream",
     "text": [
      "[0]\ttrain-auc:0.933109\teval-auc:0.872744\n",
      "Multiple eval metrics have been passed: 'eval-auc' will be used for early stopping.\n",
      "\n",
      "Will train until eval-auc hasn't improved in 20 rounds.\n",
      "[1]\ttrain-auc:0.865306\teval-auc:0.783704\n",
      "[2]\ttrain-auc:0.959411\teval-auc:0.874634\n",
      "[3]\ttrain-auc:0.964705\teval-auc:0.874836\n",
      "[4]\ttrain-auc:0.881739\teval-auc:0.786612\n"
     ]
    }
   ],
   "source": [
    "prior = (np.sum(y) / (1.*len(y))).values[0]\n",
    "\n",
    "xgb_params = {\n",
    "    'colsample_bytree': 1,\n",
    "    'colsample_bylevel': 1,\n",
    "    'subsample': 1,\n",
    "    'learning_rate': 0.2,\n",
    "    'max_depth': 24,\n",
    "    'min_child_weight': 1,\n",
    "    'gamma': 2,\n",
    "    'base_score': prior,\n",
    "    'tree_method': 'exact',\n",
    "    'objective': 'binary:logistic',\n",
    "    'eval_metric': 'auc',\n",
    "    'silent': 0,\n",
    "    'seed': 12,\n",
    "    'nthread': 22\n",
    "}\n",
    "\n",
    "evals  = [(dtrain,'train'), (dval,'eval')]\n",
    "bst = xgb.train(xgb_params, dtrain, num_boost_round=5000, early_stopping_rounds=20, \n",
    "                 evals=evals, verbose_eval=1)\n",
    "\n",
    "val_pred = bst.predict(dval, ntree_limit=bst.best_ntree_limit)\n",
    "print(roc_auc_score(dval.get_label(), val_pred))\n",
    "print(mcc_eval(val_pred, dval))\n",
    "print(len(bst.get_score(fmap='', importance_type='gain')))"
   ]
  },
  {
   "cell_type": "code",
   "execution_count": null,
   "metadata": {
    "collapsed": true
   },
   "outputs": [],
   "source": [
    "def create_feature_map(features):\n",
    "    outfile = open('xgb_all_no_selection.fmap', 'w')\n",
    "    for i, feat in enumerate(features):\n",
    "        outfile.write('{0}\\t{1}\\tq\\n'.format(i, feat))\n",
    "    outfile.close()\n",
    "\n",
    "from operator import itemgetter\n",
    "def get_importance(gbm, features):\n",
    "    create_feature_map(features)\n",
    "    importance = gbm.get_fscore(fmap='xgb_all_no_selection.fmap')\n",
    "    importance = sorted(importance.items(), key=itemgetter(1), reverse=True)\n",
    "    return importance"
   ]
  },
  {
   "cell_type": "code",
   "execution_count": null,
   "metadata": {
    "collapsed": true
   },
   "outputs": [],
   "source": [
    "#get_importance(bst1, bst1.feature_names)\n",
    "create_feature_map(bst.feature_names)\n",
    "bst.save_model('xgb_3237_all_039mcc_0906auc.model')"
   ]
  },
  {
   "cell_type": "code",
   "execution_count": 3,
   "metadata": {
    "collapsed": false
   },
   "outputs": [
    {
     "ename": "NameError",
     "evalue": "name 'y' is not defined",
     "output_type": "error",
     "traceback": [
      "\u001b[0;31m---------------------------------------------------------------------------\u001b[0m",
      "\u001b[0;31mNameError\u001b[0m                                 Traceback (most recent call last)",
      "\u001b[0;32m<ipython-input-3-d1518b8e22ce>\u001b[0m in \u001b[0;36m<module>\u001b[0;34m()\u001b[0m\n\u001b[0;32m----> 1\u001b[0;31m \u001b[0mprior\u001b[0m \u001b[0;34m=\u001b[0m \u001b[0;34m(\u001b[0m\u001b[0mnp\u001b[0m\u001b[0;34m.\u001b[0m\u001b[0msum\u001b[0m\u001b[0;34m(\u001b[0m\u001b[0my\u001b[0m\u001b[0;34m)\u001b[0m \u001b[0;34m/\u001b[0m \u001b[0;34m(\u001b[0m\u001b[0;36m1.\u001b[0m\u001b[0;34m*\u001b[0m\u001b[0mlen\u001b[0m\u001b[0;34m(\u001b[0m\u001b[0my\u001b[0m\u001b[0;34m)\u001b[0m\u001b[0;34m)\u001b[0m\u001b[0;34m)\u001b[0m\u001b[0;34m.\u001b[0m\u001b[0mvalues\u001b[0m\u001b[0;34m[\u001b[0m\u001b[0;36m0\u001b[0m\u001b[0;34m]\u001b[0m\u001b[0;34m\u001b[0m\u001b[0m\n\u001b[0m\u001b[1;32m      2\u001b[0m \u001b[0;34m\u001b[0m\u001b[0m\n\u001b[1;32m      3\u001b[0m xgb_params = {\n\u001b[1;32m      4\u001b[0m     \u001b[0;34m'booster'\u001b[0m\u001b[0;34m:\u001b[0m \u001b[0;34m'dart'\u001b[0m\u001b[0;34m,\u001b[0m\u001b[0;34m\u001b[0m\u001b[0m\n\u001b[1;32m      5\u001b[0m     \u001b[0;34m'colsample_bytree'\u001b[0m\u001b[0;34m:\u001b[0m \u001b[0;36m1\u001b[0m\u001b[0;34m,\u001b[0m\u001b[0;34m\u001b[0m\u001b[0m\n",
      "\u001b[0;31mNameError\u001b[0m: name 'y' is not defined"
     ]
    }
   ],
   "source": [
    "prior = (np.sum(y) / (1.*len(y))).values[0]\n",
    "\n",
    "xgb_params = {\n",
    "    'booster': 'dart',\n",
    "    'colsample_bytree': 1,\n",
    "    'colsample_bylevel': 1,\n",
    "    'subsample': 1,\n",
    "    'learning_rate': 0.05,\n",
    "    'max_depth': 6,\n",
    "    'min_child_weight': 1,\n",
    "    'gamma': 1,\n",
    "    'base_score': prior,\n",
    "    'rate_drop': 0.2,\n",
    "    'skip_drop': 0.5,\n",
    "    #'tree_method': 'exact',\n",
    "    'objective': 'binary:logistic',\n",
    "    'eval_metric': 'auc',\n",
    "    'silent': 0,\n",
    "    'seed': 12,\n",
    "    'nthread': 22\n",
    "}\n",
    "\n",
    "evals  = [(dtrain,'train'), (dval,'eval')]\n",
    "bst1 = xgb.train(xgb_params, dtrain, num_boost_round=50000, early_stopping_rounds=20, \n",
    "                 evals=evals, verbose_eval=1)\n",
    "\n",
    "val_pred = bst1.predict(dval, ntree_limit=bst1.best_ntree_limit)\n",
    "print(roc_auc_score(dval.get_label(), val_pred))\n",
    "print(mcc_eval(val_pred, dval))\n",
    "print(len(bst1.get_score(fmap='', importance_type='gain')))"
   ]
  },
  {
   "cell_type": "code",
   "execution_count": null,
   "metadata": {
    "collapsed": false
   },
   "outputs": [
    {
     "name": "stdout",
     "output_type": "stream",
     "text": [
      "[0]\ttrain-auc:0.909679\teval-auc:0.890692\n",
      "Multiple eval metrics have been passed: 'eval-auc' will be used for early stopping.\n",
      "\n",
      "Will train until eval-auc hasn't improved in 40 rounds.\n",
      "[1]\ttrain-auc:0.911273\teval-auc:0.891761\n",
      "[2]\ttrain-auc:0.917183\teval-auc:0.894994\n",
      "[3]\ttrain-auc:0.918496\teval-auc:0.894908\n",
      "[4]\ttrain-auc:0.919129\teval-auc:0.894846\n",
      "[5]\ttrain-auc:0.922331\teval-auc:0.895332\n",
      "[6]\ttrain-auc:0.923484\teval-auc:0.89631\n",
      "[7]\ttrain-auc:0.926535\teval-auc:0.89713\n",
      "[8]\ttrain-auc:0.927612\teval-auc:0.897592\n",
      "[9]\ttrain-auc:0.928422\teval-auc:0.898112\n",
      "[10]\ttrain-auc:0.931992\teval-auc:0.899009\n",
      "[11]\ttrain-auc:0.933225\teval-auc:0.898988\n",
      "[12]\ttrain-auc:0.933564\teval-auc:0.899269\n",
      "[13]\ttrain-auc:0.936351\teval-auc:0.898857\n",
      "[14]\ttrain-auc:0.937733\teval-auc:0.899495\n",
      "[15]\ttrain-auc:0.939197\teval-auc:0.89937\n",
      "[16]\ttrain-auc:0.940191\teval-auc:0.899381\n",
      "[17]\ttrain-auc:0.941099\teval-auc:0.90029\n",
      "[18]\ttrain-auc:0.942496\teval-auc:0.899988\n",
      "[19]\ttrain-auc:0.943014\teval-auc:0.900192\n",
      "[20]\ttrain-auc:0.944771\teval-auc:0.901122\n",
      "[21]\ttrain-auc:0.945888\teval-auc:0.902607\n",
      "[22]\ttrain-auc:0.946804\teval-auc:0.9028\n",
      "[23]\ttrain-auc:0.94806\teval-auc:0.902244\n",
      "[24]\ttrain-auc:0.948991\teval-auc:0.902813\n",
      "[25]\ttrain-auc:0.950368\teval-auc:0.903239\n",
      "[26]\ttrain-auc:0.951067\teval-auc:0.903306\n",
      "[27]\ttrain-auc:0.952056\teval-auc:0.903665\n",
      "[28]\ttrain-auc:0.952553\teval-auc:0.903447\n",
      "[29]\ttrain-auc:0.953878\teval-auc:0.903791\n",
      "[30]\ttrain-auc:0.955621\teval-auc:0.903702\n",
      "[31]\ttrain-auc:0.95715\teval-auc:0.903802\n",
      "[32]\ttrain-auc:0.958148\teval-auc:0.903407\n",
      "[33]\ttrain-auc:0.959348\teval-auc:0.902552\n",
      "[34]\ttrain-auc:0.960745\teval-auc:0.901764\n",
      "[35]\ttrain-auc:0.962795\teval-auc:0.902752\n",
      "[36]\ttrain-auc:0.964215\teval-auc:0.90333\n",
      "[37]\ttrain-auc:0.965384\teval-auc:0.903322\n",
      "[38]\ttrain-auc:0.96616\teval-auc:0.903572\n",
      "[39]\ttrain-auc:0.966699\teval-auc:0.903757\n",
      "[40]\ttrain-auc:0.968029\teval-auc:0.903724\n",
      "[41]\ttrain-auc:0.968981\teval-auc:0.903915\n",
      "[42]\ttrain-auc:0.970281\teval-auc:0.903555\n",
      "[43]\ttrain-auc:0.970912\teval-auc:0.902997\n",
      "[44]\ttrain-auc:0.972181\teval-auc:0.903183\n",
      "[45]\ttrain-auc:0.973517\teval-auc:0.903487\n",
      "[46]\ttrain-auc:0.974177\teval-auc:0.903223\n",
      "[47]\ttrain-auc:0.975106\teval-auc:0.903471\n",
      "[48]\ttrain-auc:0.975934\teval-auc:0.903634\n",
      "[49]\ttrain-auc:0.976209\teval-auc:0.903495\n",
      "[50]\ttrain-auc:0.97723\teval-auc:0.903614\n",
      "[51]\ttrain-auc:0.977893\teval-auc:0.903647\n",
      "[52]\ttrain-auc:0.978466\teval-auc:0.903578\n",
      "[53]\ttrain-auc:0.978811\teval-auc:0.903939\n",
      "[54]\ttrain-auc:0.979487\teval-auc:0.904024\n",
      "[55]\ttrain-auc:0.980271\teval-auc:0.903748\n",
      "[56]\ttrain-auc:0.981097\teval-auc:0.903938\n",
      "[57]\ttrain-auc:0.981684\teval-auc:0.903825\n",
      "[58]\ttrain-auc:0.982087\teval-auc:0.903778\n",
      "[59]\ttrain-auc:0.982314\teval-auc:0.903841\n",
      "[60]\ttrain-auc:0.982613\teval-auc:0.903942\n",
      "[61]\ttrain-auc:0.98319\teval-auc:0.90361\n",
      "[62]\ttrain-auc:0.983445\teval-auc:0.903383\n",
      "[63]\ttrain-auc:0.983611\teval-auc:0.903322\n",
      "[64]\ttrain-auc:0.983746\teval-auc:0.903105\n",
      "[65]\ttrain-auc:0.983981\teval-auc:0.903006\n",
      "[66]\ttrain-auc:0.984135\teval-auc:0.903145\n",
      "[67]\ttrain-auc:0.984275\teval-auc:0.903515\n",
      "[68]\ttrain-auc:0.98434\teval-auc:0.903452\n",
      "[69]\ttrain-auc:0.984401\teval-auc:0.903419\n",
      "[70]\ttrain-auc:0.984686\teval-auc:0.903622\n",
      "[71]\ttrain-auc:0.98488\teval-auc:0.903706\n",
      "[72]\ttrain-auc:0.985099\teval-auc:0.903565\n",
      "[73]\ttrain-auc:0.985356\teval-auc:0.903596\n",
      "[74]\ttrain-auc:0.985487\teval-auc:0.903601\n",
      "[75]\ttrain-auc:0.98576\teval-auc:0.903722\n",
      "[76]\ttrain-auc:0.985915\teval-auc:0.903973\n",
      "[77]\ttrain-auc:0.986081\teval-auc:0.904201\n",
      "[78]\ttrain-auc:0.986226\teval-auc:0.904378\n",
      "[79]\ttrain-auc:0.986411\teval-auc:0.904462\n",
      "[80]\ttrain-auc:0.986486\teval-auc:0.904487\n",
      "[81]\ttrain-auc:0.986595\teval-auc:0.904517\n",
      "[82]\ttrain-auc:0.98672\teval-auc:0.904435\n",
      "[83]\ttrain-auc:0.986783\teval-auc:0.904648\n",
      "[84]\ttrain-auc:0.98693\teval-auc:0.904683\n",
      "[85]\ttrain-auc:0.987046\teval-auc:0.904792\n",
      "[86]\ttrain-auc:0.98717\teval-auc:0.904789\n",
      "[87]\ttrain-auc:0.987292\teval-auc:0.904656\n",
      "[88]\ttrain-auc:0.98741\teval-auc:0.904909\n",
      "[89]\ttrain-auc:0.987545\teval-auc:0.904929\n",
      "[90]\ttrain-auc:0.987592\teval-auc:0.905049\n",
      "[91]\ttrain-auc:0.98765\teval-auc:0.904999\n",
      "[92]\ttrain-auc:0.987744\teval-auc:0.904907\n",
      "[93]\ttrain-auc:0.987902\teval-auc:0.904952\n",
      "[94]\ttrain-auc:0.988078\teval-auc:0.904845\n",
      "[95]\ttrain-auc:0.988113\teval-auc:0.904898\n",
      "[96]\ttrain-auc:0.988175\teval-auc:0.904906\n",
      "[97]\ttrain-auc:0.988284\teval-auc:0.904913\n",
      "[98]\ttrain-auc:0.988399\teval-auc:0.904725\n",
      "[99]\ttrain-auc:0.988617\teval-auc:0.904756\n",
      "[100]\ttrain-auc:0.988647\teval-auc:0.904774\n",
      "[101]\ttrain-auc:0.988754\teval-auc:0.904593\n",
      "[102]\ttrain-auc:0.988845\teval-auc:0.904574\n",
      "[103]\ttrain-auc:0.988897\teval-auc:0.904606\n",
      "[104]\ttrain-auc:0.988977\teval-auc:0.90449\n",
      "[105]\ttrain-auc:0.989086\teval-auc:0.904509\n",
      "[106]\ttrain-auc:0.989163\teval-auc:0.904481\n",
      "[107]\ttrain-auc:0.989228\teval-auc:0.904497\n",
      "[108]\ttrain-auc:0.989315\teval-auc:0.904625\n",
      "[109]\ttrain-auc:0.989549\teval-auc:0.904491\n",
      "[110]\ttrain-auc:0.989677\teval-auc:0.90439\n",
      "[111]\ttrain-auc:0.989757\teval-auc:0.904334\n",
      "[112]\ttrain-auc:0.989827\teval-auc:0.904408\n",
      "[113]\ttrain-auc:0.989914\teval-auc:0.904325\n",
      "[114]\ttrain-auc:0.989929\teval-auc:0.904259\n",
      "[115]\ttrain-auc:0.990034\teval-auc:0.904162\n",
      "[116]\ttrain-auc:0.990101\teval-auc:0.904129\n",
      "[117]\ttrain-auc:0.990238\teval-auc:0.904118\n"
     ]
    }
   ],
   "source": [
    "prior = (np.sum(y) / (1.*len(y))).values[0]\n",
    "\n",
    "xgb_params = {\n",
    "    'booster': 'gbtree',\n",
    "    'colsample_bytree': 1,\n",
    "    'colsample_bylevel': 1,\n",
    "    'subsample': 1,\n",
    "    'learning_rate': 0.05,\n",
    "    'max_depth': 12,\n",
    "    'min_child_weight': 1,\n",
    "    'gamma': 0,\n",
    "    'base_score': prior,\n",
    "    #'rate_drop': 0.2,\n",
    "    #'skip_drop': 0.2,\n",
    "    'tree_method': 'exact',\n",
    "    'objective': 'binary:logistic',\n",
    "    'eval_metric': 'auc',\n",
    "    'silent': 0,\n",
    "    'seed': 12,\n",
    "    'nthread': 22\n",
    "}\n",
    "\n",
    "evals  = [(dtrain,'train'), (dval,'eval')]\n",
    "bst2 = xgb.train(xgb_params, dtrain, num_boost_round=50000, early_stopping_rounds=40, \n",
    "                 evals=evals, verbose_eval=1)\n",
    "\n",
    "val_pred = bst2.predict(dval, ntree_limit=bst2.best_ntree_limit)\n",
    "print(roc_auc_score(dval.get_label(), val_pred))\n",
    "print(mcc_eval(val_pred, dval))\n",
    "print(len(bst2.get_score(fmap='', importance_type='gain')))"
   ]
  },
  {
   "cell_type": "code",
   "execution_count": null,
   "metadata": {
    "collapsed": true
   },
   "outputs": [],
   "source": []
  }
 ],
 "metadata": {
  "anaconda-cloud": {},
  "kernelspec": {
   "display_name": "Python [conda root]",
   "language": "python",
   "name": "conda-root-py"
  },
  "language_info": {
   "codemirror_mode": {
    "name": "ipython",
    "version": 3
   },
   "file_extension": ".py",
   "mimetype": "text/x-python",
   "name": "python",
   "nbconvert_exporter": "python",
   "pygments_lexer": "ipython3",
   "version": "3.5.2"
  }
 },
 "nbformat": 4,
 "nbformat_minor": 1
}
