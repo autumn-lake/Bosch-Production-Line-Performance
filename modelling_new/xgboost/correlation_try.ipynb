{
 "cells": [
  {
   "cell_type": "code",
   "execution_count": 1,
   "metadata": {
    "collapsed": true
   },
   "outputs": [],
   "source": [
    "import pandas as pd\n",
    "import numpy as np"
   ]
  },
  {
   "cell_type": "code",
   "execution_count": 2,
   "metadata": {
    "collapsed": false
   },
   "outputs": [],
   "source": [
    "df_train = pd.read_hdf('all_feat_folder/full_combined_train_3237cols.hdf5','table')"
   ]
  },
  {
   "cell_type": "code",
   "execution_count": 216,
   "metadata": {
    "collapsed": false,
    "scrolled": true
   },
   "outputs": [
    {
     "data": {
      "text/html": [
       "<div>\n",
       "<table border=\"1\" class=\"dataframe\">\n",
       "  <thead>\n",
       "    <tr style=\"text-align: right;\">\n",
       "      <th></th>\n",
       "      <th>L0_S1_F27_2</th>\n",
       "      <th>L0_S1_F29_1</th>\n",
       "      <th>L0_S1_F31_4</th>\n",
       "      <th>L0_S1_F31_5</th>\n",
       "      <th>L0_S2_F33_1</th>\n",
       "      <th>L0_S2_F35_1</th>\n",
       "      <th>L0_S2_F35_2</th>\n",
       "      <th>L0_S2_F35_3</th>\n",
       "      <th>L0_S2_F35_4</th>\n",
       "      <th>L0_S2_F35_5</th>\n",
       "      <th>...</th>\n",
       "      <th>dd_L3_L1</th>\n",
       "      <th>dd_L3_L0</th>\n",
       "      <th>dd_L2_L1</th>\n",
       "      <th>dd_L2_L0</th>\n",
       "      <th>dd_L1_L0</th>\n",
       "      <th>hash_full_date</th>\n",
       "      <th>hash_full_num</th>\n",
       "      <th>hash_full_cat</th>\n",
       "      <th>hash_full_all</th>\n",
       "      <th>hash_full_num_cat</th>\n",
       "    </tr>\n",
       "  </thead>\n",
       "  <tbody>\n",
       "    <tr>\n",
       "      <th>0</th>\n",
       "      <td>0.0</td>\n",
       "      <td>0.0</td>\n",
       "      <td>0.0</td>\n",
       "      <td>0.0</td>\n",
       "      <td>0.0</td>\n",
       "      <td>0.0</td>\n",
       "      <td>0.0</td>\n",
       "      <td>0.0</td>\n",
       "      <td>0.0</td>\n",
       "      <td>0.0</td>\n",
       "      <td>...</td>\n",
       "      <td>NaN</td>\n",
       "      <td>4.990005</td>\n",
       "      <td>NaN</td>\n",
       "      <td>NaN</td>\n",
       "      <td>NaN</td>\n",
       "      <td>0.0</td>\n",
       "      <td>0.0</td>\n",
       "      <td>0.0</td>\n",
       "      <td>0.0</td>\n",
       "      <td>0.0</td>\n",
       "    </tr>\n",
       "    <tr>\n",
       "      <th>1</th>\n",
       "      <td>0.0</td>\n",
       "      <td>0.0</td>\n",
       "      <td>0.0</td>\n",
       "      <td>0.0</td>\n",
       "      <td>0.0</td>\n",
       "      <td>0.0</td>\n",
       "      <td>0.0</td>\n",
       "      <td>0.0</td>\n",
       "      <td>0.0</td>\n",
       "      <td>0.0</td>\n",
       "      <td>...</td>\n",
       "      <td>NaN</td>\n",
       "      <td>2.579956</td>\n",
       "      <td>NaN</td>\n",
       "      <td>NaN</td>\n",
       "      <td>NaN</td>\n",
       "      <td>1.0</td>\n",
       "      <td>1.0</td>\n",
       "      <td>0.0</td>\n",
       "      <td>1.0</td>\n",
       "      <td>1.0</td>\n",
       "    </tr>\n",
       "    <tr>\n",
       "      <th>2</th>\n",
       "      <td>0.0</td>\n",
       "      <td>0.0</td>\n",
       "      <td>0.0</td>\n",
       "      <td>0.0</td>\n",
       "      <td>0.0</td>\n",
       "      <td>0.0</td>\n",
       "      <td>0.0</td>\n",
       "      <td>0.0</td>\n",
       "      <td>0.0</td>\n",
       "      <td>0.0</td>\n",
       "      <td>...</td>\n",
       "      <td>NaN</td>\n",
       "      <td>5.670044</td>\n",
       "      <td>NaN</td>\n",
       "      <td>NaN</td>\n",
       "      <td>NaN</td>\n",
       "      <td>2.0</td>\n",
       "      <td>2.0</td>\n",
       "      <td>1.0</td>\n",
       "      <td>2.0</td>\n",
       "      <td>2.0</td>\n",
       "    </tr>\n",
       "    <tr>\n",
       "      <th>3</th>\n",
       "      <td>0.0</td>\n",
       "      <td>0.0</td>\n",
       "      <td>0.0</td>\n",
       "      <td>0.0</td>\n",
       "      <td>0.0</td>\n",
       "      <td>0.0</td>\n",
       "      <td>0.0</td>\n",
       "      <td>0.0</td>\n",
       "      <td>0.0</td>\n",
       "      <td>0.0</td>\n",
       "      <td>...</td>\n",
       "      <td>NaN</td>\n",
       "      <td>4.900024</td>\n",
       "      <td>NaN</td>\n",
       "      <td>NaN</td>\n",
       "      <td>NaN</td>\n",
       "      <td>3.0</td>\n",
       "      <td>3.0</td>\n",
       "      <td>1.0</td>\n",
       "      <td>3.0</td>\n",
       "      <td>3.0</td>\n",
       "    </tr>\n",
       "    <tr>\n",
       "      <th>4</th>\n",
       "      <td>0.0</td>\n",
       "      <td>0.0</td>\n",
       "      <td>0.0</td>\n",
       "      <td>0.0</td>\n",
       "      <td>0.0</td>\n",
       "      <td>0.0</td>\n",
       "      <td>0.0</td>\n",
       "      <td>0.0</td>\n",
       "      <td>0.0</td>\n",
       "      <td>0.0</td>\n",
       "      <td>...</td>\n",
       "      <td>NaN</td>\n",
       "      <td>3.330017</td>\n",
       "      <td>NaN</td>\n",
       "      <td>NaN</td>\n",
       "      <td>NaN</td>\n",
       "      <td>4.0</td>\n",
       "      <td>4.0</td>\n",
       "      <td>1.0</td>\n",
       "      <td>4.0</td>\n",
       "      <td>4.0</td>\n",
       "    </tr>\n",
       "  </tbody>\n",
       "</table>\n",
       "<p>5 rows × 3237 columns</p>\n",
       "</div>"
      ],
      "text/plain": [
       "   L0_S1_F27_2  L0_S1_F29_1  L0_S1_F31_4  L0_S1_F31_5  L0_S2_F33_1  \\\n",
       "0          0.0          0.0          0.0          0.0          0.0   \n",
       "1          0.0          0.0          0.0          0.0          0.0   \n",
       "2          0.0          0.0          0.0          0.0          0.0   \n",
       "3          0.0          0.0          0.0          0.0          0.0   \n",
       "4          0.0          0.0          0.0          0.0          0.0   \n",
       "\n",
       "   L0_S2_F35_1  L0_S2_F35_2  L0_S2_F35_3  L0_S2_F35_4  L0_S2_F35_5  \\\n",
       "0          0.0          0.0          0.0          0.0          0.0   \n",
       "1          0.0          0.0          0.0          0.0          0.0   \n",
       "2          0.0          0.0          0.0          0.0          0.0   \n",
       "3          0.0          0.0          0.0          0.0          0.0   \n",
       "4          0.0          0.0          0.0          0.0          0.0   \n",
       "\n",
       "         ...          dd_L3_L1  dd_L3_L0  dd_L2_L1  dd_L2_L0  dd_L1_L0  \\\n",
       "0        ...               NaN  4.990005       NaN       NaN       NaN   \n",
       "1        ...               NaN  2.579956       NaN       NaN       NaN   \n",
       "2        ...               NaN  5.670044       NaN       NaN       NaN   \n",
       "3        ...               NaN  4.900024       NaN       NaN       NaN   \n",
       "4        ...               NaN  3.330017       NaN       NaN       NaN   \n",
       "\n",
       "   hash_full_date  hash_full_num  hash_full_cat  hash_full_all  \\\n",
       "0             0.0            0.0            0.0            0.0   \n",
       "1             1.0            1.0            0.0            1.0   \n",
       "2             2.0            2.0            1.0            2.0   \n",
       "3             3.0            3.0            1.0            3.0   \n",
       "4             4.0            4.0            1.0            4.0   \n",
       "\n",
       "   hash_full_num_cat  \n",
       "0                0.0  \n",
       "1                1.0  \n",
       "2                2.0  \n",
       "3                3.0  \n",
       "4                4.0  \n",
       "\n",
       "[5 rows x 3237 columns]"
      ]
     },
     "execution_count": 216,
     "metadata": {},
     "output_type": "execute_result"
    }
   ],
   "source": [
    "df_train.head()"
   ]
  },
  {
   "cell_type": "code",
   "execution_count": 301,
   "metadata": {
    "collapsed": true
   },
   "outputs": [],
   "source": [
    "#df_train.ix[:,0:50]\n",
    "df1 = df_train[toRemove].sample(frac=0.001)"
   ]
  },
  {
   "cell_type": "code",
   "execution_count": 302,
   "metadata": {
    "collapsed": false
   },
   "outputs": [],
   "source": [
    "df1.fillna(-9999999.0, inplace=True)"
   ]
  },
  {
   "cell_type": "code",
   "execution_count": 303,
   "metadata": {
    "collapsed": false
   },
   "outputs": [],
   "source": [
    "corr_matrix = df1.corr()"
   ]
  },
  {
   "cell_type": "code",
   "execution_count": 304,
   "metadata": {
    "collapsed": false
   },
   "outputs": [],
   "source": [
    "# substitude the entire matrix for a triangular matrix for faster\n",
    "# computation\n",
    "corr_matrix.ix[:,:] =  np.tril(corr_matrix.values, k = -1)\n",
    "## create catcher objects to find lists of what is perfectly correlated\n",
    "already_in = set()\n",
    "result = []\n",
    "for col in corr_matrix:\n",
    "    a = corr_matrix[col][abs(corr_matrix[col]) == 1.00].index.tolist()\n",
    "    b = corr_matrix[col][corr_matrix[col]==np.nan].index.tolist()\n",
    "    perfect_corr = a + b\n",
    "    result.append(perfect_corr)\n",
    "\n",
    "toRemove = []\n",
    "for item in result:\n",
    "    toRemove.append(item[0:(len(item)+1)])\n",
    "# flattenign the list of lists\n",
    "toRemove = list(set(sum(toRemove, [])))"
   ]
  },
  {
   "cell_type": "code",
   "execution_count": 305,
   "metadata": {
    "collapsed": false
   },
   "outputs": [
    {
     "data": {
      "text/plain": [
       "(0, 63)"
      ]
     },
     "execution_count": 305,
     "metadata": {},
     "output_type": "execute_result"
    }
   ],
   "source": [
    "#result\n",
    "len(already_in),len((toRemove))"
   ]
  },
  {
   "cell_type": "code",
   "execution_count": null,
   "metadata": {
    "collapsed": true
   },
   "outputs": [],
   "source": []
  }
 ],
 "metadata": {
  "anaconda-cloud": {},
  "kernelspec": {
   "display_name": "Python [default]",
   "language": "python",
   "name": "python3"
  },
  "language_info": {
   "codemirror_mode": {
    "name": "ipython",
    "version": 3
   },
   "file_extension": ".py",
   "mimetype": "text/x-python",
   "name": "python",
   "nbconvert_exporter": "python",
   "pygments_lexer": "ipython3",
   "version": "3.5.2"
  }
 },
 "nbformat": 4,
 "nbformat_minor": 1
}
