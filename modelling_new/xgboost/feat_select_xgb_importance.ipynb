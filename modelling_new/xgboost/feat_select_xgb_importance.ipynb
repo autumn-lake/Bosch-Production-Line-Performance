{
 "cells": [
  {
   "cell_type": "code",
   "execution_count": 1,
   "metadata": {
    "collapsed": true
   },
   "outputs": [],
   "source": [
    "%matplotlib inline\n",
    "\n",
    "import matplotlib.pyplot as plt\n",
    "import pandas as pd\n",
    "import numpy as np\n",
    "import xgboost as xgb\n",
    "import operator\n",
    "from scipy.sparse import csr_matrix\n",
    "\n",
    "np.random.seed(105)"
   ]
  },
  {
   "cell_type": "code",
   "execution_count": 2,
   "metadata": {
    "collapsed": true
   },
   "outputs": [],
   "source": [
    "def create_feature_map(features):\n",
    "    outfile = open('xgb_542_feats.fmap', 'w')\n",
    "    for i, feat in enumerate(features):\n",
    "        outfile.write('{0}\\t{1}\\tq\\n'.format(i, feat))\n",
    "    outfile.close()\n",
    "\n",
    "def get_importance(gbm, features):\n",
    "    create_feature_map(features)\n",
    "    importance = gbm.get_fscore(fmap='xgb_542_feats.fmap')\n",
    "    importance = sorted(importance.items(), key=itemgetter(1), reverse=True)\n",
    "    return importance\n",
    "\n",
    "def save_sparse_csr(filename,array):\n",
    "    np.savez(filename,data = array.data ,indices=array.indices,\n",
    "             indptr =array.indptr, shape=array.shape )\n",
    "\n",
    "def load_sparse_csr(filename):\n",
    "    loader = np.load(filename)\n",
    "    return csr_matrix((  loader['data'], loader['indices'], loader['indptr']),\n",
    "                         shape = loader['shape'])"
   ]
  },
  {
   "cell_type": "code",
   "execution_count": 3,
   "metadata": {
    "collapsed": false
   },
   "outputs": [],
   "source": [
    "df_train = pd.read_hdf('train-rest-542-unq.hdf5','table')\n",
    "#df_test = pd.read_hdf('../../search/feats/te_time_diff_adjacent12.hdf5','table')"
   ]
  },
  {
   "cell_type": "code",
   "execution_count": 4,
   "metadata": {
    "collapsed": false
   },
   "outputs": [],
   "source": [
    "bst = xgb.Booster()\n",
    "bst.load_model('xgb_542_0217mcc_0707auc.model')"
   ]
  },
  {
   "cell_type": "code",
   "execution_count": 7,
   "metadata": {
    "collapsed": false
   },
   "outputs": [],
   "source": [
    "#(bst.get_score(fmap='xgb.fmap', importance_type='gain'))\n",
    "importance = bst.get_fscore(fmap='xgb_542_feats.fmap')\n",
    "importance = sorted(importance.items(), key=operator.itemgetter(1))\n",
    "df = pd.DataFrame(importance, columns=['feature', 'fscore'])"
   ]
  },
  {
   "cell_type": "code",
   "execution_count": 10,
   "metadata": {
    "collapsed": true
   },
   "outputs": [],
   "source": [
    "df_te1 = pd.read_hdf('../../search/feats/te_station_pass1.hdf5','table')\n",
    "df_te2 = pd.read_hdf('../../search/feats/te_line_pass2.hdf5','table')\n",
    "df_te3 = pd.read_hdf('../../search/feats/te_number_stations_passed3.hdf5','table')\n",
    "df_te4 = pd.read_hdf('../../search/feats/te_nonNaN_full4.hdf5','table')\n",
    "df_te5 = pd.read_hdf('../../search/feats/te_sum_full5.hdf5','table')\n",
    "df_te6 = pd.read_hdf('../../search/feats/te_line_station_nonNaN6.hdf5','table')\n",
    "df_te7 = pd.read_hdf('../../search/feats/te_line_station_sum7.hdf5','table')\n",
    "df_te8 = pd.read_hdf('../../search/feats/te_line_station_minmax8.hdf5','table')\n",
    "df_te9 = pd.read_hdf('../../search/feats/te_minmaxdiff_full_date9.hdf5','table')\n",
    "df_te10 = pd.read_hdf('../../search/feats/te_line_station_diff_date10.hdf5','table')\n",
    "df_te13 = pd.read_hdf('../../search/feats/te_hash_full_date_num_cat13.hdf5','table')\n",
    "\n",
    "df_test = pd.concat([df_te1,df_te2,df_te3,df_te4,df_te5,df_te6,df_te7,df_te8,df_te9,df_te10,df_te13],axis=1)"
   ]
  },
  {
   "cell_type": "code",
   "execution_count": 11,
   "metadata": {
    "collapsed": false
   },
   "outputs": [],
   "source": [
    "df_train_sel = df_train[df.feature.values]\n",
    "df_test_sel = df_test[df.feature.values]"
   ]
  },
  {
   "cell_type": "code",
   "execution_count": 15,
   "metadata": {
    "collapsed": false
   },
   "outputs": [],
   "source": [
    "df_train_sel.to_hdf('feats_selected/train_rest_285_sel.hdf5', 'table')\n",
    "df_test_sel.to_hdf('feats_selected/test_rest_285_sel.hdf5', 'table')"
   ]
  },
  {
   "cell_type": "code",
   "execution_count": null,
   "metadata": {
    "collapsed": false
   },
   "outputs": [
    {
     "name": "stderr",
     "output_type": "stream",
     "text": [
      "/home/choudhary_ved_hmo/anaconda3/lib/python3.5/site-packages/ipykernel/__main__.py:3: SettingWithCopyWarning: \n",
      "A value is trying to be set on a copy of a slice from a DataFrame.\n",
      "Try using .loc[row_indexer,col_indexer] = value instead\n",
      "\n",
      "See the caveats in the documentation: http://pandas.pydata.org/pandas-docs/stable/indexing.html#indexing-view-versus-copy\n",
      "  app.launch_new_instance()\n"
     ]
    }
   ],
   "source": [
    "for col in df_train_sel.columns:\n",
    "    if str(df_train_sel[col].dtype) == 'float64':\n",
    "        df_train_sel[col] = df_train_sel[col].astype(np.float32)"
   ]
  },
  {
   "cell_type": "code",
   "execution_count": null,
   "metadata": {
    "collapsed": false
   },
   "outputs": [],
   "source": [
    "df_train_sel.info()"
   ]
  },
  {
   "cell_type": "code",
   "execution_count": null,
   "metadata": {
    "collapsed": true
   },
   "outputs": [],
   "source": []
  }
 ],
 "metadata": {
  "anaconda-cloud": {},
  "kernelspec": {
   "display_name": "Python [default]",
   "language": "python",
   "name": "python3"
  },
  "language_info": {
   "codemirror_mode": {
    "name": "ipython",
    "version": 3
   },
   "file_extension": ".py",
   "mimetype": "text/x-python",
   "name": "python",
   "nbconvert_exporter": "python",
   "pygments_lexer": "ipython3",
   "version": "3.5.2"
  }
 },
 "nbformat": 4,
 "nbformat_minor": 1
}
