{
 "cells": [
  {
   "cell_type": "code",
   "execution_count": 1,
   "metadata": {
    "collapsed": true
   },
   "outputs": [],
   "source": [
    "import pandas as pd\n",
    "import numpy as np"
   ]
  },
  {
   "cell_type": "code",
   "execution_count": null,
   "metadata": {
    "collapsed": false
   },
   "outputs": [],
   "source": [
    "df_tr0 = pd.read_hdf('../../input_hdf/df_tr_with_faron.hdf5','table').astype(np.float32)\n",
    "df_tr1 = pd.read_hdf('../../search/feats/tr_station_pass1.hdf5','table').astype(np.float32)\n",
    "df_tr2 = pd.read_hdf('../../search/feats/tr_line_pass2.hdf5','table').astype(np.float32)\n",
    "df_tr3 = pd.read_hdf('../../search/feats/tr_number_stations_passed3.hdf5','table').astype(np.float32)\n",
    "df_tr4 = pd.read_hdf('../../search/feats/tr_nonNaN_full4.hdf5','table').astype(np.float32)\n",
    "df_tr5 = pd.read_hdf('../../search/feats/tr_sum_full5.hdf5','table').astype(np.float32)\n",
    "df_tr6 = pd.read_hdf('../../search/feats/tr_line_station_nonNaN6.hdf5','table').astype(np.float32)\n",
    "df_tr7 = pd.read_hdf('../../search/feats/tr_line_station_sum7.hdf5','table').astype(np.float32)\n",
    "df_tr8 = pd.read_hdf('../../search/feats/tr_line_station_minmax8.hdf5','table').astype(np.float32)\n",
    "df_tr9 = pd.read_hdf('../../search/feats/tr_minmaxdiff_full_date9.hdf5','table').astype(np.float32)\n",
    "df_tr10 = pd.read_hdf('../../search/feats/tr_line_station_diff_date10.hdf5','table').astype(np.float32)\n",
    "df_tr12 = pd.read_hdf('../../search/feats/tr_time_diff_adjacent12.hdf5','table').astype(np.float32)\n",
    "df_tr13 = pd.read_hdf('../../search/feats/tr_hash_full_date_num_cat13.hdf5','table').astype(np.float32)\n",
    "\n",
    "df_train = pd.concat([df_tr0,df_tr1,df_tr2,df_tr3,df_tr4,df_tr5,df_tr6,df_tr7,df_tr8,df_tr9,df_tr10,df_tr12,df_tr13],axis=1)\n",
    "\n",
    "del df_tr0,df_tr1,df_tr2,df_tr3,df_tr4,df_tr5,df_tr6,df_tr7,df_tr8,df_tr9,df_tr10,df_tr12,df_tr13\n",
    "import gc\n",
    "gc.collect()"
   ]
  },
  {
   "cell_type": "code",
   "execution_count": null,
   "metadata": {
    "collapsed": false
   },
   "outputs": [],
   "source": [
    "df_train.shape"
   ]
  },
  {
   "cell_type": "code",
   "execution_count": null,
   "metadata": {
    "collapsed": false
   },
   "outputs": [],
   "source": [
    "df_train.head()"
   ]
  },
  {
   "cell_type": "code",
   "execution_count": null,
   "metadata": {
    "collapsed": true
   },
   "outputs": [],
   "source": [
    "df_train.fillna(-9999999.0,inplace=True)\n",
    "\n",
    "#now, let's find features with no variance \n",
    "toKeep = []\n",
    "toDelete = []\n",
    "## loop through the DataFrame's columns\n",
    "for col in df_train:\n",
    "    ## if the value_counts method returns more than one uniqe entity,\n",
    "    ## append the column name to 'toKeep'\n",
    "    if len(df_train[col].value_counts()) > 1:\n",
    "        toKeep.append(col)\n",
    "    ## if not, append to 'toDelete'.\n",
    "    else:\n",
    "        toDelete.append(col)\n",
    "\n",
    "df_train.drop(toDelete, 1, inplace = True)"
   ]
  },
  {
   "cell_type": "code",
   "execution_count": null,
   "metadata": {
    "collapsed": false
   },
   "outputs": [],
   "source": [
    "df_train.shape"
   ]
  },
  {
   "cell_type": "code",
   "execution_count": null,
   "metadata": {
    "collapsed": true
   },
   "outputs": [],
   "source": [
    "hashed = df_train.apply(lambda x: hash(tuple(x)), axis = 0)"
   ]
  },
  {
   "cell_type": "code",
   "execution_count": null,
   "metadata": {
    "collapsed": false
   },
   "outputs": [],
   "source": [
    "hashed.unique().shape,hashed.shape"
   ]
  },
  {
   "cell_type": "code",
   "execution_count": null,
   "metadata": {
    "collapsed": true
   },
   "outputs": [],
   "source": [
    "hashed_df = pd.DataFrame(hashed)\n",
    "hashed_df.columns = ['hash123']\n",
    "hashed_df['column'] = hashed_df.index\n",
    "hashed_df.reset_index(drop=True,inplace=True)\n",
    "\n",
    "hashed_unq = hashed_df.drop_duplicates(subset='hash123',keep='first')\n",
    "\n",
    "df_train = df_train[hashed_unq.column]\n",
    "\n",
    "df_train.replace(-9999999.0,np.nan,inplace=1)"
   ]
  },
  {
   "cell_type": "code",
   "execution_count": null,
   "metadata": {
    "collapsed": false
   },
   "outputs": [],
   "source": [
    "df_train.info()"
   ]
  },
  {
   "cell_type": "code",
   "execution_count": null,
   "metadata": {
    "collapsed": true
   },
   "outputs": [],
   "source": [
    "df_train.to_hdf('all_feat_folder/full_combined_train_3237cols.hdf5','table')"
   ]
  },
  {
   "cell_type": "code",
   "execution_count": null,
   "metadata": {
    "collapsed": false
   },
   "outputs": [],
   "source": [
    "del df_train\n",
    "gc.collect()"
   ]
  },
  {
   "cell_type": "code",
   "execution_count": null,
   "metadata": {
    "collapsed": true
   },
   "outputs": [],
   "source": [
    "df_te0 = pd.read_hdf('../../input_hdf/df_te_with_faron.hdf5','table').astype(np.float32)\n",
    "df_te1 = pd.read_hdf('../../search/feats/te_station_pass1.hdf5','table').astype(np.float32)\n",
    "df_te2 = pd.read_hdf('../../search/feats/te_line_pass2.hdf5','table').astype(np.float32)\n",
    "df_te3 = pd.read_hdf('../../search/feats/te_number_stations_passed3.hdf5','table').astype(np.float32)\n",
    "df_te4 = pd.read_hdf('../../search/feats/te_nonNaN_full4.hdf5','table').astype(np.float32)\n",
    "df_te5 = pd.read_hdf('../../search/feats/te_sum_full5.hdf5','table').astype(np.float32)\n",
    "df_te6 = pd.read_hdf('../../search/feats/te_line_station_nonNaN6.hdf5','table').astype(np.float32)\n",
    "df_te7 = pd.read_hdf('../../search/feats/te_line_station_sum7.hdf5','table').astype(np.float32)\n",
    "df_te8 = pd.read_hdf('../../search/feats/te_line_station_minmax8.hdf5','table').astype(np.float32)\n",
    "df_te9 = pd.read_hdf('../../search/feats/te_minmaxdiff_full_date9.hdf5','table').astype(np.float32)\n",
    "df_te10 = pd.read_hdf('../../search/feats/te_line_station_diff_date10.hdf5','table').astype(np.float32)\n",
    "df_te12 = pd.read_hdf('../../search/feats/te_time_diff_adjacent12.hdf5','table').astype(np.float32)\n",
    "df_te13 = pd.read_hdf('../../search/feats/te_hash_full_date_num_cat13.hdf5','table').astype(np.float32)\n",
    "\n",
    "df_test = pd.concat([df_te0,df_te1,df_te2,df_te3,df_te4,df_te5,df_te6,df_te7,df_te8,df_te9,df_te10,df_te12,df_te13],axis=1)\n",
    "\n",
    "del df_te0,df_te1,df_te2,df_te3,df_te4,df_te5,df_te6,df_te7,df_te8,df_te9,df_te10,df_te12,df_te13"
   ]
  },
  {
   "cell_type": "code",
   "execution_count": 3,
   "metadata": {
    "collapsed": false
   },
   "outputs": [
    {
     "data": {
      "text/html": [
       "<div>\n",
       "<table border=\"1\" class=\"dataframe\">\n",
       "  <thead>\n",
       "    <tr style=\"text-align: right;\">\n",
       "      <th></th>\n",
       "      <th>L0_S1_F27_2</th>\n",
       "      <th>L0_S1_F29_1</th>\n",
       "      <th>L0_S1_F31_2</th>\n",
       "      <th>L0_S1_F31_4</th>\n",
       "      <th>L0_S1_F31_5</th>\n",
       "      <th>L0_S2_F33_1</th>\n",
       "      <th>L0_S2_F35_1</th>\n",
       "      <th>L0_S2_F35_2</th>\n",
       "      <th>L0_S2_F35_3</th>\n",
       "      <th>L0_S2_F35_4</th>\n",
       "      <th>...</th>\n",
       "      <th>dd_L3_L1</th>\n",
       "      <th>dd_L3_L0</th>\n",
       "      <th>dd_L2_L1</th>\n",
       "      <th>dd_L2_L0</th>\n",
       "      <th>dd_L1_L0</th>\n",
       "      <th>hash_full_date</th>\n",
       "      <th>hash_full_num</th>\n",
       "      <th>hash_full_cat</th>\n",
       "      <th>hash_full_all</th>\n",
       "      <th>hash_full_num_cat</th>\n",
       "    </tr>\n",
       "  </thead>\n",
       "  <tbody>\n",
       "    <tr>\n",
       "      <th>0</th>\n",
       "      <td>0.0</td>\n",
       "      <td>0.0</td>\n",
       "      <td>0.0</td>\n",
       "      <td>0.0</td>\n",
       "      <td>0.0</td>\n",
       "      <td>0.0</td>\n",
       "      <td>0.0</td>\n",
       "      <td>0.0</td>\n",
       "      <td>0.0</td>\n",
       "      <td>0.0</td>\n",
       "      <td>...</td>\n",
       "      <td>7.880005</td>\n",
       "      <td>NaN</td>\n",
       "      <td>1.949951</td>\n",
       "      <td>NaN</td>\n",
       "      <td>NaN</td>\n",
       "      <td>1568.0</td>\n",
       "      <td>1555.0</td>\n",
       "      <td>1760.0</td>\n",
       "      <td>24794.0</td>\n",
       "      <td>24775.0</td>\n",
       "    </tr>\n",
       "    <tr>\n",
       "      <th>1</th>\n",
       "      <td>0.0</td>\n",
       "      <td>0.0</td>\n",
       "      <td>0.0</td>\n",
       "      <td>0.0</td>\n",
       "      <td>0.0</td>\n",
       "      <td>0.0</td>\n",
       "      <td>0.0</td>\n",
       "      <td>0.0</td>\n",
       "      <td>0.0</td>\n",
       "      <td>0.0</td>\n",
       "      <td>...</td>\n",
       "      <td>34.400024</td>\n",
       "      <td>NaN</td>\n",
       "      <td>20.319946</td>\n",
       "      <td>NaN</td>\n",
       "      <td>NaN</td>\n",
       "      <td>264.0</td>\n",
       "      <td>264.0</td>\n",
       "      <td>1760.0</td>\n",
       "      <td>24795.0</td>\n",
       "      <td>24776.0</td>\n",
       "    </tr>\n",
       "    <tr>\n",
       "      <th>2</th>\n",
       "      <td>0.0</td>\n",
       "      <td>0.0</td>\n",
       "      <td>0.0</td>\n",
       "      <td>0.0</td>\n",
       "      <td>0.0</td>\n",
       "      <td>0.0</td>\n",
       "      <td>0.0</td>\n",
       "      <td>0.0</td>\n",
       "      <td>0.0</td>\n",
       "      <td>0.0</td>\n",
       "      <td>...</td>\n",
       "      <td>38.989990</td>\n",
       "      <td>NaN</td>\n",
       "      <td>32.159973</td>\n",
       "      <td>NaN</td>\n",
       "      <td>NaN</td>\n",
       "      <td>7.0</td>\n",
       "      <td>7.0</td>\n",
       "      <td>1760.0</td>\n",
       "      <td>24796.0</td>\n",
       "      <td>24777.0</td>\n",
       "    </tr>\n",
       "    <tr>\n",
       "      <th>3</th>\n",
       "      <td>0.0</td>\n",
       "      <td>0.0</td>\n",
       "      <td>0.0</td>\n",
       "      <td>0.0</td>\n",
       "      <td>0.0</td>\n",
       "      <td>0.0</td>\n",
       "      <td>0.0</td>\n",
       "      <td>0.0</td>\n",
       "      <td>0.0</td>\n",
       "      <td>0.0</td>\n",
       "      <td>...</td>\n",
       "      <td>NaN</td>\n",
       "      <td>0.759995</td>\n",
       "      <td>NaN</td>\n",
       "      <td>0.009995</td>\n",
       "      <td>NaN</td>\n",
       "      <td>410.0</td>\n",
       "      <td>408.0</td>\n",
       "      <td>1760.0</td>\n",
       "      <td>24797.0</td>\n",
       "      <td>24778.0</td>\n",
       "    </tr>\n",
       "    <tr>\n",
       "      <th>4</th>\n",
       "      <td>0.0</td>\n",
       "      <td>0.0</td>\n",
       "      <td>0.0</td>\n",
       "      <td>0.0</td>\n",
       "      <td>0.0</td>\n",
       "      <td>0.0</td>\n",
       "      <td>0.0</td>\n",
       "      <td>0.0</td>\n",
       "      <td>0.0</td>\n",
       "      <td>0.0</td>\n",
       "      <td>...</td>\n",
       "      <td>26.869995</td>\n",
       "      <td>NaN</td>\n",
       "      <td>17.529968</td>\n",
       "      <td>NaN</td>\n",
       "      <td>NaN</td>\n",
       "      <td>97.0</td>\n",
       "      <td>97.0</td>\n",
       "      <td>1760.0</td>\n",
       "      <td>24798.0</td>\n",
       "      <td>24779.0</td>\n",
       "    </tr>\n",
       "  </tbody>\n",
       "</table>\n",
       "<p>5 rows × 4641 columns</p>\n",
       "</div>"
      ],
      "text/plain": [
       "   L0_S1_F27_2  L0_S1_F29_1  L0_S1_F31_2  L0_S1_F31_4  L0_S1_F31_5  \\\n",
       "0          0.0          0.0          0.0          0.0          0.0   \n",
       "1          0.0          0.0          0.0          0.0          0.0   \n",
       "2          0.0          0.0          0.0          0.0          0.0   \n",
       "3          0.0          0.0          0.0          0.0          0.0   \n",
       "4          0.0          0.0          0.0          0.0          0.0   \n",
       "\n",
       "   L0_S2_F33_1  L0_S2_F35_1  L0_S2_F35_2  L0_S2_F35_3  L0_S2_F35_4  \\\n",
       "0          0.0          0.0          0.0          0.0          0.0   \n",
       "1          0.0          0.0          0.0          0.0          0.0   \n",
       "2          0.0          0.0          0.0          0.0          0.0   \n",
       "3          0.0          0.0          0.0          0.0          0.0   \n",
       "4          0.0          0.0          0.0          0.0          0.0   \n",
       "\n",
       "         ...           dd_L3_L1  dd_L3_L0   dd_L2_L1  dd_L2_L0  dd_L1_L0  \\\n",
       "0        ...           7.880005       NaN   1.949951       NaN       NaN   \n",
       "1        ...          34.400024       NaN  20.319946       NaN       NaN   \n",
       "2        ...          38.989990       NaN  32.159973       NaN       NaN   \n",
       "3        ...                NaN  0.759995        NaN  0.009995       NaN   \n",
       "4        ...          26.869995       NaN  17.529968       NaN       NaN   \n",
       "\n",
       "   hash_full_date  hash_full_num  hash_full_cat  hash_full_all  \\\n",
       "0          1568.0         1555.0         1760.0        24794.0   \n",
       "1           264.0          264.0         1760.0        24795.0   \n",
       "2             7.0            7.0         1760.0        24796.0   \n",
       "3           410.0          408.0         1760.0        24797.0   \n",
       "4            97.0           97.0         1760.0        24798.0   \n",
       "\n",
       "   hash_full_num_cat  \n",
       "0            24775.0  \n",
       "1            24776.0  \n",
       "2            24777.0  \n",
       "3            24778.0  \n",
       "4            24779.0  \n",
       "\n",
       "[5 rows x 4641 columns]"
      ]
     },
     "execution_count": 3,
     "metadata": {},
     "output_type": "execute_result"
    }
   ],
   "source": [
    "df_test.head()"
   ]
  },
  {
   "cell_type": "code",
   "execution_count": 4,
   "metadata": {
    "collapsed": false
   },
   "outputs": [
    {
     "data": {
      "text/plain": [
       "448"
      ]
     },
     "execution_count": 4,
     "metadata": {},
     "output_type": "execute_result"
    }
   ],
   "source": [
    "import gc\n",
    "gc.collect()"
   ]
  },
  {
   "cell_type": "code",
   "execution_count": 5,
   "metadata": {
    "collapsed": true
   },
   "outputs": [],
   "source": [
    "hashed_unq = pd.read_csv('hashed_unq.csv')"
   ]
  },
  {
   "cell_type": "code",
   "execution_count": 6,
   "metadata": {
    "collapsed": false
   },
   "outputs": [],
   "source": [
    "df_test = df_test[hashed_unq.column]"
   ]
  },
  {
   "cell_type": "code",
   "execution_count": 7,
   "metadata": {
    "collapsed": false
   },
   "outputs": [
    {
     "data": {
      "text/html": [
       "<div>\n",
       "<table border=\"1\" class=\"dataframe\">\n",
       "  <thead>\n",
       "    <tr style=\"text-align: right;\">\n",
       "      <th></th>\n",
       "      <th>L0_S1_F27_2</th>\n",
       "      <th>L0_S1_F29_1</th>\n",
       "      <th>L0_S1_F31_4</th>\n",
       "      <th>L0_S1_F31_5</th>\n",
       "      <th>L0_S2_F33_1</th>\n",
       "      <th>L0_S2_F35_1</th>\n",
       "      <th>L0_S2_F35_2</th>\n",
       "      <th>L0_S2_F35_3</th>\n",
       "      <th>L0_S2_F35_4</th>\n",
       "      <th>L0_S2_F35_5</th>\n",
       "      <th>...</th>\n",
       "      <th>dd_L3_L1</th>\n",
       "      <th>dd_L3_L0</th>\n",
       "      <th>dd_L2_L1</th>\n",
       "      <th>dd_L2_L0</th>\n",
       "      <th>dd_L1_L0</th>\n",
       "      <th>hash_full_date</th>\n",
       "      <th>hash_full_num</th>\n",
       "      <th>hash_full_cat</th>\n",
       "      <th>hash_full_all</th>\n",
       "      <th>hash_full_num_cat</th>\n",
       "    </tr>\n",
       "  </thead>\n",
       "  <tbody>\n",
       "    <tr>\n",
       "      <th>0</th>\n",
       "      <td>0.0</td>\n",
       "      <td>0.0</td>\n",
       "      <td>0.0</td>\n",
       "      <td>0.0</td>\n",
       "      <td>0.0</td>\n",
       "      <td>0.0</td>\n",
       "      <td>0.0</td>\n",
       "      <td>0.0</td>\n",
       "      <td>0.0</td>\n",
       "      <td>0.0</td>\n",
       "      <td>...</td>\n",
       "      <td>7.880005</td>\n",
       "      <td>NaN</td>\n",
       "      <td>1.949951</td>\n",
       "      <td>NaN</td>\n",
       "      <td>NaN</td>\n",
       "      <td>1568.0</td>\n",
       "      <td>1555.0</td>\n",
       "      <td>1760.0</td>\n",
       "      <td>24794.0</td>\n",
       "      <td>24775.0</td>\n",
       "    </tr>\n",
       "    <tr>\n",
       "      <th>1</th>\n",
       "      <td>0.0</td>\n",
       "      <td>0.0</td>\n",
       "      <td>0.0</td>\n",
       "      <td>0.0</td>\n",
       "      <td>0.0</td>\n",
       "      <td>0.0</td>\n",
       "      <td>0.0</td>\n",
       "      <td>0.0</td>\n",
       "      <td>0.0</td>\n",
       "      <td>0.0</td>\n",
       "      <td>...</td>\n",
       "      <td>34.400024</td>\n",
       "      <td>NaN</td>\n",
       "      <td>20.319946</td>\n",
       "      <td>NaN</td>\n",
       "      <td>NaN</td>\n",
       "      <td>264.0</td>\n",
       "      <td>264.0</td>\n",
       "      <td>1760.0</td>\n",
       "      <td>24795.0</td>\n",
       "      <td>24776.0</td>\n",
       "    </tr>\n",
       "    <tr>\n",
       "      <th>2</th>\n",
       "      <td>0.0</td>\n",
       "      <td>0.0</td>\n",
       "      <td>0.0</td>\n",
       "      <td>0.0</td>\n",
       "      <td>0.0</td>\n",
       "      <td>0.0</td>\n",
       "      <td>0.0</td>\n",
       "      <td>0.0</td>\n",
       "      <td>0.0</td>\n",
       "      <td>0.0</td>\n",
       "      <td>...</td>\n",
       "      <td>38.989990</td>\n",
       "      <td>NaN</td>\n",
       "      <td>32.159973</td>\n",
       "      <td>NaN</td>\n",
       "      <td>NaN</td>\n",
       "      <td>7.0</td>\n",
       "      <td>7.0</td>\n",
       "      <td>1760.0</td>\n",
       "      <td>24796.0</td>\n",
       "      <td>24777.0</td>\n",
       "    </tr>\n",
       "    <tr>\n",
       "      <th>3</th>\n",
       "      <td>0.0</td>\n",
       "      <td>0.0</td>\n",
       "      <td>0.0</td>\n",
       "      <td>0.0</td>\n",
       "      <td>0.0</td>\n",
       "      <td>0.0</td>\n",
       "      <td>0.0</td>\n",
       "      <td>0.0</td>\n",
       "      <td>0.0</td>\n",
       "      <td>0.0</td>\n",
       "      <td>...</td>\n",
       "      <td>NaN</td>\n",
       "      <td>0.759995</td>\n",
       "      <td>NaN</td>\n",
       "      <td>0.009995</td>\n",
       "      <td>NaN</td>\n",
       "      <td>410.0</td>\n",
       "      <td>408.0</td>\n",
       "      <td>1760.0</td>\n",
       "      <td>24797.0</td>\n",
       "      <td>24778.0</td>\n",
       "    </tr>\n",
       "    <tr>\n",
       "      <th>4</th>\n",
       "      <td>0.0</td>\n",
       "      <td>0.0</td>\n",
       "      <td>0.0</td>\n",
       "      <td>0.0</td>\n",
       "      <td>0.0</td>\n",
       "      <td>0.0</td>\n",
       "      <td>0.0</td>\n",
       "      <td>0.0</td>\n",
       "      <td>0.0</td>\n",
       "      <td>0.0</td>\n",
       "      <td>...</td>\n",
       "      <td>26.869995</td>\n",
       "      <td>NaN</td>\n",
       "      <td>17.529968</td>\n",
       "      <td>NaN</td>\n",
       "      <td>NaN</td>\n",
       "      <td>97.0</td>\n",
       "      <td>97.0</td>\n",
       "      <td>1760.0</td>\n",
       "      <td>24798.0</td>\n",
       "      <td>24779.0</td>\n",
       "    </tr>\n",
       "  </tbody>\n",
       "</table>\n",
       "<p>5 rows × 3237 columns</p>\n",
       "</div>"
      ],
      "text/plain": [
       "   L0_S1_F27_2  L0_S1_F29_1  L0_S1_F31_4  L0_S1_F31_5  L0_S2_F33_1  \\\n",
       "0          0.0          0.0          0.0          0.0          0.0   \n",
       "1          0.0          0.0          0.0          0.0          0.0   \n",
       "2          0.0          0.0          0.0          0.0          0.0   \n",
       "3          0.0          0.0          0.0          0.0          0.0   \n",
       "4          0.0          0.0          0.0          0.0          0.0   \n",
       "\n",
       "   L0_S2_F35_1  L0_S2_F35_2  L0_S2_F35_3  L0_S2_F35_4  L0_S2_F35_5  \\\n",
       "0          0.0          0.0          0.0          0.0          0.0   \n",
       "1          0.0          0.0          0.0          0.0          0.0   \n",
       "2          0.0          0.0          0.0          0.0          0.0   \n",
       "3          0.0          0.0          0.0          0.0          0.0   \n",
       "4          0.0          0.0          0.0          0.0          0.0   \n",
       "\n",
       "         ...           dd_L3_L1  dd_L3_L0   dd_L2_L1  dd_L2_L0  dd_L1_L0  \\\n",
       "0        ...           7.880005       NaN   1.949951       NaN       NaN   \n",
       "1        ...          34.400024       NaN  20.319946       NaN       NaN   \n",
       "2        ...          38.989990       NaN  32.159973       NaN       NaN   \n",
       "3        ...                NaN  0.759995        NaN  0.009995       NaN   \n",
       "4        ...          26.869995       NaN  17.529968       NaN       NaN   \n",
       "\n",
       "   hash_full_date  hash_full_num  hash_full_cat  hash_full_all  \\\n",
       "0          1568.0         1555.0         1760.0        24794.0   \n",
       "1           264.0          264.0         1760.0        24795.0   \n",
       "2             7.0            7.0         1760.0        24796.0   \n",
       "3           410.0          408.0         1760.0        24797.0   \n",
       "4            97.0           97.0         1760.0        24798.0   \n",
       "\n",
       "   hash_full_num_cat  \n",
       "0            24775.0  \n",
       "1            24776.0  \n",
       "2            24777.0  \n",
       "3            24778.0  \n",
       "4            24779.0  \n",
       "\n",
       "[5 rows x 3237 columns]"
      ]
     },
     "execution_count": 7,
     "metadata": {},
     "output_type": "execute_result"
    }
   ],
   "source": [
    "df_test.head()"
   ]
  },
  {
   "cell_type": "code",
   "execution_count": 8,
   "metadata": {
    "collapsed": false
   },
   "outputs": [
    {
     "name": "stdout",
     "output_type": "stream",
     "text": [
      "<class 'pandas.core.frame.DataFrame'>\n",
      "Int64Index: 1183748 entries, 0 to 1183747\n",
      "Columns: 3237 entries, L0_S1_F27_2 to hash_full_num_cat\n",
      "dtypes: float32(3237)\n",
      "memory usage: 14.3 GB\n"
     ]
    }
   ],
   "source": [
    "df_test.info()"
   ]
  },
  {
   "cell_type": "code",
   "execution_count": 9,
   "metadata": {
    "collapsed": false
   },
   "outputs": [
    {
     "data": {
      "text/plain": [
       "19"
      ]
     },
     "execution_count": 9,
     "metadata": {},
     "output_type": "execute_result"
    }
   ],
   "source": [
    "import gc\n",
    "gc.collect()"
   ]
  },
  {
   "cell_type": "code",
   "execution_count": 10,
   "metadata": {
    "collapsed": true
   },
   "outputs": [],
   "source": [
    "df_test.to_hdf('all_feat_folder/full_combined_test_3237cols.hdf5','table')"
   ]
  },
  {
   "cell_type": "code",
   "execution_count": null,
   "metadata": {
    "collapsed": true
   },
   "outputs": [],
   "source": []
  }
 ],
 "metadata": {
  "anaconda-cloud": {},
  "kernelspec": {
   "display_name": "Python [default]",
   "language": "python",
   "name": "python3"
  },
  "language_info": {
   "codemirror_mode": {
    "name": "ipython",
    "version": 3
   },
   "file_extension": ".py",
   "mimetype": "text/x-python",
   "name": "python",
   "nbconvert_exporter": "python",
   "pygments_lexer": "ipython3",
   "version": "3.5.2"
  }
 },
 "nbformat": 4,
 "nbformat_minor": 1
}
