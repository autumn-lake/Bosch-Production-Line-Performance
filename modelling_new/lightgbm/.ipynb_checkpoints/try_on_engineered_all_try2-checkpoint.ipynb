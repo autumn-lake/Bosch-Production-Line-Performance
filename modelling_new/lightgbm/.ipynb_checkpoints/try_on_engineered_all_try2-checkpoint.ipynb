{
 "cells": [
  {
   "cell_type": "code",
   "execution_count": 1,
   "metadata": {
    "collapsed": true
   },
   "outputs": [],
   "source": [
    "import numpy as np\n",
    "from sklearn import datasets, metrics, model_selection\n",
    "from pylightgbm.models import GBMClassifier\n",
    "\n",
    "import pandas as pd\n",
    "import xgboost as xgb\n",
    "import numpy as np\n",
    "from sklearn.metrics import roc_auc_score\n",
    "\n",
    "%matplotlib inline\n",
    "\n",
    "from sklearn.metrics import matthews_corrcoef\n",
    "import matplotlib.pyplot as plt\n",
    "from numba import jit"
   ]
  },
  {
   "cell_type": "code",
   "execution_count": 2,
   "metadata": {
    "collapsed": true
   },
   "outputs": [],
   "source": [
    "df_train = pd.read_hdf('../xgboost/feats_selected/train_engineered_933cols.hdf5','table')\n",
    "\n",
    "y = pd.read_csv('../../input_orig/train_numeric.csv', usecols=['Response'])\n",
    "\n",
    "from sklearn.model_selection import train_test_split\n",
    "X_train, X_test, y_train, y_test = train_test_split(df_train, y, test_size=0.2, random_state=42, stratify=y.values)"
   ]
  },
  {
   "cell_type": "code",
   "execution_count": 3,
   "metadata": {
    "collapsed": false
   },
   "outputs": [
    {
     "data": {
      "text/plain": [
       "9"
      ]
     },
     "execution_count": 3,
     "metadata": {},
     "output_type": "execute_result"
    }
   ],
   "source": [
    "del df_train\n",
    "import gc\n",
    "gc.collect()"
   ]
  },
  {
   "cell_type": "code",
   "execution_count": null,
   "metadata": {
    "collapsed": false
   },
   "outputs": [],
   "source": [
    "#X_train.fillna(-9999999, inplace=1)\n",
    "#X_test.fillna(-9999999, inplace=1)"
   ]
  },
  {
   "cell_type": "code",
   "execution_count": null,
   "metadata": {
    "collapsed": false
   },
   "outputs": [],
   "source": [
    "prior = (np.sum(y) / (1.*len(y))).values[0]\n",
    "lst = [prior]*y_train.shape[0]\n",
    "init_scor = pd.Series(lst, dtype=np.float32)\n",
    "init_scor.to_csv('feats_lightgbm/init_scor.csv', index=False)"
   ]
  },
  {
   "cell_type": "code",
   "execution_count": null,
   "metadata": {
    "collapsed": false
   },
   "outputs": [],
   "source": [
    "X_train['target'] = y_train\n",
    "X_test['target'] = y_test"
   ]
  },
  {
   "cell_type": "code",
   "execution_count": null,
   "metadata": {
    "collapsed": false
   },
   "outputs": [],
   "source": [
    "X_train.shape"
   ]
  },
  {
   "cell_type": "code",
   "execution_count": null,
   "metadata": {
    "collapsed": true
   },
   "outputs": [],
   "source": [
    "X_train.to_csv('feats_lightgbm/X_train.csv',index=False)\n",
    "X_test.to_csv('feats_lightgbm/X_test.csv',index=False)"
   ]
  },
  {
   "cell_type": "code",
   "execution_count": 4,
   "metadata": {
    "collapsed": true
   },
   "outputs": [],
   "source": [
    "X_train = X_train.as_matrix()\n",
    "y_train = y_train.as_matrix().astype(np.float32)\n",
    "X_test = X_test.as_matrix()\n",
    "y_test = y_test.as_matrix().astype(np.float32)"
   ]
  },
  {
   "cell_type": "code",
   "execution_count": null,
   "metadata": {
    "collapsed": false
   },
   "outputs": [
    {
     "name": "stdout",
     "output_type": "stream",
     "text": [
      "pyLightGBM is looking for 'LIGHTGBM_EXEC' environment variable, cannot be found.\n",
      "exec_path will be deprecated in favor of environment variable\n"
     ]
    }
   ],
   "source": [
    "# Parameters\n",
    "seed = 1337\n",
    "path_to_exec = \"lightgbm\"\n",
    "np.random.seed(seed)  # for reproducibility\n",
    "\n",
    "# 'exec_path' is the path to lightgbm executable\n",
    "clf = GBMClassifier(exec_path=path_to_exec,\n",
    "                    num_iterations=10, \n",
    "                    learning_rate=0.1,\n",
    "                    min_data_in_leaf=1, \n",
    "                    num_leaves=255,\n",
    "                    max_bin=255,\n",
    "                    metric='auc',\n",
    "                    early_stopping_round=2)\n",
    "\n",
    "clf.fit(X_train, y_train, test_data=[(X_test, y_test)])\n",
    "\n",
    "y_prob = clf.predict_proba(X_test)\n",
    "y_pred = y_prob.argmax(-1)\n",
    "\n",
    "print(\"Log loss: \", metrics.log_loss(y_test, y_prob))\n",
    "print(\"Accuracy: \", metrics.accuracy_score(y_test, y_pred))\n",
    "print(\"AUC: \", roc_auc_score(y_test, y_pred))\n",
    "print(\"Best round: \", clf.best_round)"
   ]
  },
  {
   "cell_type": "code",
   "execution_count": null,
   "metadata": {
    "collapsed": true
   },
   "outputs": [],
   "source": []
  }
 ],
 "metadata": {
  "anaconda-cloud": {},
  "kernelspec": {
   "display_name": "Python [default]",
   "language": "python",
   "name": "python3"
  },
  "language_info": {
   "codemirror_mode": {
    "name": "ipython",
    "version": 3
   },
   "file_extension": ".py",
   "mimetype": "text/x-python",
   "name": "python",
   "nbconvert_exporter": "python",
   "pygments_lexer": "ipython3",
   "version": "3.5.2"
  }
 },
 "nbformat": 4,
 "nbformat_minor": 1
}
