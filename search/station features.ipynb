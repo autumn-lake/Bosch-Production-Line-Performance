{
 "cells": [
  {
   "cell_type": "code",
   "execution_count": 1,
   "metadata": {
    "collapsed": false
   },
   "outputs": [],
   "source": [
    "import numpy as np # linear algebra\n",
    "import pandas as pd # data processing, CSV file I/O (e.g. pd.read_csv)\n",
    "import matplotlib.pyplot as plt\n",
    "% matplotlib inline\n",
    "\n",
    "numeric = \"../input_orig/train_numeric.csv\"\n",
    "date = \"../input_orig/train_date.csv\""
   ]
  },
  {
   "cell_type": "code",
   "execution_count": 2,
   "metadata": {
    "collapsed": false
   },
   "outputs": [
    {
     "name": "stdout",
     "output_type": "stream",
     "text": [
      "Features in Station 32: ['L3_S32_F3850']\n"
     ]
    }
   ],
   "source": [
    "features = pd.read_csv(numeric, nrows=1).drop(['Response', 'Id'], axis=1).columns.values\n",
    "\n",
    "def orgainize(features):\n",
    "    line_features = {}\n",
    "    station_features = {}\n",
    "    lines = set([f.split('_')[0] for f in features])\n",
    "    stations = set([f.split('_')[1] for f in features])\n",
    "    \n",
    "    for l in lines:\n",
    "        line_features[l] = [f for f in features if l+'_' in f]\n",
    "        \n",
    "    for s in stations:\n",
    "        station_features[s] = [f for f in features if s+'_' in f]\n",
    "        \n",
    "            \n",
    "    return line_features, station_features\n",
    "\n",
    "line_features, station_features = orgainize(features)\n",
    "\n",
    "print(\"Features in Station 32: {}\".format( station_features['S32'] ))"
   ]
  },
  {
   "cell_type": "code",
   "execution_count": 3,
   "metadata": {
    "collapsed": true
   },
   "outputs": [],
   "source": [
    "data_num = pd.read_csv(numeric, nrows=100)\n",
    "data_date = pd.read_csv(date, nrows=100)\n",
    "features_date = pd.read_csv(date, nrows=1).drop(['Id'], axis=1).columns.values"
   ]
  },
  {
   "cell_type": "code",
   "execution_count": 4,
   "metadata": {
    "collapsed": false
   },
   "outputs": [
    {
     "data": {
      "text/plain": [
       "Index(['Id', 'L0_S0_D1', 'L0_S0_D3', 'L0_S0_D5', 'L0_S0_D7', 'L0_S0_D9',\n",
       "       'L0_S0_D11', 'L0_S0_D13', 'L0_S0_D15', 'L0_S0_D17',\n",
       "       ...\n",
       "       'L3_S50_D4246', 'L3_S50_D4248', 'L3_S50_D4250', 'L3_S50_D4252',\n",
       "       'L3_S50_D4254', 'L3_S51_D4255', 'L3_S51_D4257', 'L3_S51_D4259',\n",
       "       'L3_S51_D4261', 'L3_S51_D4263'],\n",
       "      dtype='object', length=1157)"
      ]
     },
     "execution_count": 4,
     "metadata": {},
     "output_type": "execute_result"
    }
   ],
   "source": [
    "data_date.columns"
   ]
  },
  {
   "cell_type": "code",
   "execution_count": 20,
   "metadata": {
    "collapsed": false
   },
   "outputs": [],
   "source": [
    "new_cols = []\n",
    "for col in features_date:\n",
    "    s = col.split('_')\n",
    "    s_num = int(s[2][1:])-1\n",
    "    s[2] = 'F' + str(s_num)\n",
    "    new_cols.append(\"_\".join(s))"
   ]
  },
  {
   "cell_type": "code",
   "execution_count": 21,
   "metadata": {
    "collapsed": false
   },
   "outputs": [
    {
     "data": {
      "text/plain": [
       "366"
      ]
     },
     "execution_count": 21,
     "metadata": {},
     "output_type": "execute_result"
    }
   ],
   "source": [
    "len(set(new_cols)&set(data_num.columns))"
   ]
  },
  {
   "cell_type": "code",
   "execution_count": 7,
   "metadata": {
    "collapsed": false
   },
   "outputs": [],
   "source": [
    "train_num_928_nans = pd.read_hdf('../input_hdf/train_numeric_928cols_NANs.hdf5','table')\n",
    "train_date_162 = pd.read_hdf('../input_hdf/train_date_162cols.hdf5','table')\n",
    "train_cat_205 = pd.read_hdf('../input_hdf/train_categorical_205cols.hdf5','table')"
   ]
  },
  {
   "cell_type": "code",
   "execution_count": 14,
   "metadata": {
    "collapsed": false
   },
   "outputs": [],
   "source": [
    "train_num_928_nans.drop(['Id'],axis=1,inplace=True)"
   ]
  },
  {
   "cell_type": "code",
   "execution_count": 18,
   "metadata": {
    "collapsed": true
   },
   "outputs": [],
   "source": [
    "new_cols1 = []\n",
    "for col in train_num_928_nans.columns:\n",
    "    s = col.split('_')\n",
    "    s1 = s[1:]\n",
    "    new_cols1.append(\"_\".join(s1))"
   ]
  },
  {
   "cell_type": "code",
   "execution_count": 22,
   "metadata": {
    "collapsed": false
   },
   "outputs": [],
   "source": [
    "train_num_928_nans.columns = new_cols1"
   ]
  },
  {
   "cell_type": "code",
   "execution_count": 40,
   "metadata": {
    "collapsed": false
   },
   "outputs": [
    {
     "data": {
      "text/html": [
       "<div>\n",
       "<table border=\"1\" class=\"dataframe\">\n",
       "  <thead>\n",
       "    <tr style=\"text-align: right;\">\n",
       "      <th></th>\n",
       "      <th>L0_S6_F118</th>\n",
       "      <th>L0_S6_F122</th>\n",
       "      <th>L0_S6_F132</th>\n",
       "    </tr>\n",
       "  </thead>\n",
       "  <tbody>\n",
       "    <tr>\n",
       "      <th>1183742</th>\n",
       "      <td>1</td>\n",
       "      <td>1</td>\n",
       "      <td>1</td>\n",
       "    </tr>\n",
       "    <tr>\n",
       "      <th>1183743</th>\n",
       "      <td>0</td>\n",
       "      <td>0</td>\n",
       "      <td>0</td>\n",
       "    </tr>\n",
       "    <tr>\n",
       "      <th>1183744</th>\n",
       "      <td>1</td>\n",
       "      <td>1</td>\n",
       "      <td>1</td>\n",
       "    </tr>\n",
       "    <tr>\n",
       "      <th>1183745</th>\n",
       "      <td>0</td>\n",
       "      <td>0</td>\n",
       "      <td>0</td>\n",
       "    </tr>\n",
       "    <tr>\n",
       "      <th>1183746</th>\n",
       "      <td>0</td>\n",
       "      <td>0</td>\n",
       "      <td>0</td>\n",
       "    </tr>\n",
       "  </tbody>\n",
       "</table>\n",
       "</div>"
      ],
      "text/plain": [
       "         L0_S6_F118  L0_S6_F122  L0_S6_F132\n",
       "1183742           1           1           1\n",
       "1183743           0           0           0\n",
       "1183744           1           1           1\n",
       "1183745           0           0           0\n",
       "1183746           0           0           0"
      ]
     },
     "execution_count": 40,
     "metadata": {},
     "output_type": "execute_result"
    }
   ],
   "source": [
    "train_num_928_nans[station_features['S6']].tail()"
   ]
  },
  {
   "cell_type": "code",
   "execution_count": 53,
   "metadata": {
    "collapsed": false
   },
   "outputs": [
    {
     "data": {
      "text/plain": [
       "array([0, 2, 4, 5])"
      ]
     },
     "execution_count": 53,
     "metadata": {},
     "output_type": "execute_result"
    }
   ],
   "source": [
    "train_cat_205.L0_S1_F31.unique()"
   ]
  },
  {
   "cell_type": "code",
   "execution_count": 55,
   "metadata": {
    "collapsed": false
   },
   "outputs": [
    {
     "data": {
      "text/plain": [
       "Index(['L0_S1_F27', 'L0_S1_F29', 'L0_S1_F31', 'L0_S2_F33', 'L0_S2_F35',\n",
       "       'L0_S4_F105', 'L0_S4_F107', 'L0_S4_F108', 'L0_S4_F110', 'L0_S4_F112',\n",
       "       ...\n",
       "       'L3_S43_F4063', 'L3_S43_F4064', 'L3_S43_F4081', 'L3_S43_F4084',\n",
       "       'L3_S44_F4102', 'L3_S46_F4134', 'L3_S47_F4141', 'L3_S49_F4207',\n",
       "       'L3_S49_F4217', 'L3_S49_F4220'],\n",
       "      dtype='object', length=204)"
      ]
     },
     "execution_count": 55,
     "metadata": {},
     "output_type": "execute_result"
    }
   ],
   "source": [
    "train_cat_205.columns"
   ]
  },
  {
   "cell_type": "code",
   "execution_count": 54,
   "metadata": {
    "collapsed": true
   },
   "outputs": [],
   "source": [
    "train_cat_205.drop(['Id'],axis=1,inplace=True)"
   ]
  },
  {
   "cell_type": "code",
   "execution_count": 57,
   "metadata": {
    "collapsed": true
   },
   "outputs": [],
   "source": [
    "train = pd.concat([train_num_928_nans,train_cat_205],axis=1)"
   ]
  },
  {
   "cell_type": "code",
   "execution_count": 62,
   "metadata": {
    "collapsed": false
   },
   "outputs": [
    {
     "name": "stdout",
     "output_type": "stream",
     "text": [
      "Features in Station 32: ['L3_S32_F3850', 'L3_S32_F3851', 'L3_S32_F3853', 'L3_S32_F3854']\n"
     ]
    }
   ],
   "source": [
    "features = train.columns.values\n",
    "\n",
    "def orgainize(features):\n",
    "    line_features = {}\n",
    "    station_features = {}\n",
    "    lines = set([f.split('_')[0] for f in features])\n",
    "    stations = set([f.split('_')[1] for f in features])\n",
    "    \n",
    "    for l in lines:\n",
    "        line_features[l] = [f for f in features if l+'_' in f]\n",
    "        \n",
    "    for s in stations:\n",
    "        station_features[s] = [f for f in features if s+'_' in f]\n",
    "        \n",
    "            \n",
    "    return line_features, station_features\n",
    "\n",
    "line_features, station_features = orgainize(features)\n",
    "\n",
    "print(\"Features in Station 32: {}\".format( station_features['S32'] ))"
   ]
  },
  {
   "cell_type": "code",
   "execution_count": 58,
   "metadata": {
    "collapsed": false
   },
   "outputs": [
    {
     "data": {
      "text/html": [
       "<div>\n",
       "<table border=\"1\" class=\"dataframe\">\n",
       "  <thead>\n",
       "    <tr style=\"text-align: right;\">\n",
       "      <th></th>\n",
       "      <th>L0_S0_F0</th>\n",
       "      <th>L0_S0_F2</th>\n",
       "      <th>L0_S0_F4</th>\n",
       "      <th>L0_S0_F6</th>\n",
       "      <th>L0_S0_F8</th>\n",
       "      <th>L0_S0_F10</th>\n",
       "      <th>L0_S0_F12</th>\n",
       "      <th>L0_S0_F14</th>\n",
       "      <th>L0_S0_F16</th>\n",
       "      <th>L0_S0_F18</th>\n",
       "      <th>...</th>\n",
       "      <th>L3_S43_F4063</th>\n",
       "      <th>L3_S43_F4064</th>\n",
       "      <th>L3_S43_F4081</th>\n",
       "      <th>L3_S43_F4084</th>\n",
       "      <th>L3_S44_F4102</th>\n",
       "      <th>L3_S46_F4134</th>\n",
       "      <th>L3_S47_F4141</th>\n",
       "      <th>L3_S49_F4207</th>\n",
       "      <th>L3_S49_F4217</th>\n",
       "      <th>L3_S49_F4220</th>\n",
       "    </tr>\n",
       "  </thead>\n",
       "  <tbody>\n",
       "    <tr>\n",
       "      <th>0</th>\n",
       "      <td>1</td>\n",
       "      <td>1</td>\n",
       "      <td>1</td>\n",
       "      <td>1</td>\n",
       "      <td>1</td>\n",
       "      <td>1</td>\n",
       "      <td>1</td>\n",
       "      <td>1</td>\n",
       "      <td>1</td>\n",
       "      <td>1</td>\n",
       "      <td>...</td>\n",
       "      <td>0</td>\n",
       "      <td>0</td>\n",
       "      <td>0</td>\n",
       "      <td>0</td>\n",
       "      <td>0</td>\n",
       "      <td>0</td>\n",
       "      <td>0</td>\n",
       "      <td>0</td>\n",
       "      <td>0</td>\n",
       "      <td>0</td>\n",
       "    </tr>\n",
       "    <tr>\n",
       "      <th>1</th>\n",
       "      <td>0</td>\n",
       "      <td>0</td>\n",
       "      <td>0</td>\n",
       "      <td>0</td>\n",
       "      <td>0</td>\n",
       "      <td>0</td>\n",
       "      <td>0</td>\n",
       "      <td>0</td>\n",
       "      <td>0</td>\n",
       "      <td>0</td>\n",
       "      <td>...</td>\n",
       "      <td>0</td>\n",
       "      <td>0</td>\n",
       "      <td>0</td>\n",
       "      <td>0</td>\n",
       "      <td>0</td>\n",
       "      <td>0</td>\n",
       "      <td>0</td>\n",
       "      <td>0</td>\n",
       "      <td>0</td>\n",
       "      <td>0</td>\n",
       "    </tr>\n",
       "    <tr>\n",
       "      <th>2</th>\n",
       "      <td>1</td>\n",
       "      <td>1</td>\n",
       "      <td>1</td>\n",
       "      <td>1</td>\n",
       "      <td>1</td>\n",
       "      <td>1</td>\n",
       "      <td>1</td>\n",
       "      <td>1</td>\n",
       "      <td>1</td>\n",
       "      <td>1</td>\n",
       "      <td>...</td>\n",
       "      <td>0</td>\n",
       "      <td>0</td>\n",
       "      <td>0</td>\n",
       "      <td>0</td>\n",
       "      <td>0</td>\n",
       "      <td>0</td>\n",
       "      <td>0</td>\n",
       "      <td>0</td>\n",
       "      <td>0</td>\n",
       "      <td>0</td>\n",
       "    </tr>\n",
       "    <tr>\n",
       "      <th>3</th>\n",
       "      <td>1</td>\n",
       "      <td>1</td>\n",
       "      <td>1</td>\n",
       "      <td>1</td>\n",
       "      <td>1</td>\n",
       "      <td>1</td>\n",
       "      <td>1</td>\n",
       "      <td>1</td>\n",
       "      <td>1</td>\n",
       "      <td>1</td>\n",
       "      <td>...</td>\n",
       "      <td>0</td>\n",
       "      <td>0</td>\n",
       "      <td>0</td>\n",
       "      <td>0</td>\n",
       "      <td>0</td>\n",
       "      <td>0</td>\n",
       "      <td>0</td>\n",
       "      <td>0</td>\n",
       "      <td>0</td>\n",
       "      <td>0</td>\n",
       "    </tr>\n",
       "    <tr>\n",
       "      <th>4</th>\n",
       "      <td>1</td>\n",
       "      <td>1</td>\n",
       "      <td>1</td>\n",
       "      <td>1</td>\n",
       "      <td>1</td>\n",
       "      <td>1</td>\n",
       "      <td>1</td>\n",
       "      <td>1</td>\n",
       "      <td>1</td>\n",
       "      <td>1</td>\n",
       "      <td>...</td>\n",
       "      <td>0</td>\n",
       "      <td>0</td>\n",
       "      <td>0</td>\n",
       "      <td>0</td>\n",
       "      <td>0</td>\n",
       "      <td>0</td>\n",
       "      <td>0</td>\n",
       "      <td>0</td>\n",
       "      <td>0</td>\n",
       "      <td>0</td>\n",
       "    </tr>\n",
       "  </tbody>\n",
       "</table>\n",
       "<p>5 rows × 1130 columns</p>\n",
       "</div>"
      ],
      "text/plain": [
       "   L0_S0_F0  L0_S0_F2  L0_S0_F4  L0_S0_F6  L0_S0_F8  L0_S0_F10  L0_S0_F12  \\\n",
       "0         1         1         1         1         1          1          1   \n",
       "1         0         0         0         0         0          0          0   \n",
       "2         1         1         1         1         1          1          1   \n",
       "3         1         1         1         1         1          1          1   \n",
       "4         1         1         1         1         1          1          1   \n",
       "\n",
       "   L0_S0_F14  L0_S0_F16  L0_S0_F18      ...       L3_S43_F4063  L3_S43_F4064  \\\n",
       "0          1          1          1      ...                  0             0   \n",
       "1          0          0          0      ...                  0             0   \n",
       "2          1          1          1      ...                  0             0   \n",
       "3          1          1          1      ...                  0             0   \n",
       "4          1          1          1      ...                  0             0   \n",
       "\n",
       "   L3_S43_F4081  L3_S43_F4084  L3_S44_F4102  L3_S46_F4134  L3_S47_F4141  \\\n",
       "0             0             0             0             0             0   \n",
       "1             0             0             0             0             0   \n",
       "2             0             0             0             0             0   \n",
       "3             0             0             0             0             0   \n",
       "4             0             0             0             0             0   \n",
       "\n",
       "   L3_S49_F4207  L3_S49_F4217  L3_S49_F4220  \n",
       "0             0             0             0  \n",
       "1             0             0             0  \n",
       "2             0             0             0  \n",
       "3             0             0             0  \n",
       "4             0             0             0  \n",
       "\n",
       "[5 rows x 1130 columns]"
      ]
     },
     "execution_count": 58,
     "metadata": {},
     "output_type": "execute_result"
    }
   ],
   "source": [
    "train.head()"
   ]
  },
  {
   "cell_type": "code",
   "execution_count": 63,
   "metadata": {
    "collapsed": false
   },
   "outputs": [
    {
     "data": {
      "text/html": [
       "<div>\n",
       "<table border=\"1\" class=\"dataframe\">\n",
       "  <thead>\n",
       "    <tr style=\"text-align: right;\">\n",
       "      <th></th>\n",
       "      <th>Id</th>\n",
       "      <th>L0_S0_D1</th>\n",
       "      <th>L0_S1_D26</th>\n",
       "      <th>L0_S1_D30</th>\n",
       "      <th>L0_S2_D34</th>\n",
       "      <th>L0_S3_D70</th>\n",
       "      <th>L0_S4_D106</th>\n",
       "      <th>L0_S4_D111</th>\n",
       "      <th>L0_S5_D115</th>\n",
       "      <th>L0_S6_D120</th>\n",
       "      <th>...</th>\n",
       "      <th>L3_S43_D4082</th>\n",
       "      <th>L3_S44_D4101</th>\n",
       "      <th>L3_S45_D4125</th>\n",
       "      <th>L3_S46_D4135</th>\n",
       "      <th>L3_S47_D4140</th>\n",
       "      <th>L3_S48_D4194</th>\n",
       "      <th>L3_S49_D4208</th>\n",
       "      <th>L3_S49_D4218</th>\n",
       "      <th>L3_S50_D4242</th>\n",
       "      <th>L3_S51_D4255</th>\n",
       "    </tr>\n",
       "  </thead>\n",
       "  <tbody>\n",
       "    <tr>\n",
       "      <th>0</th>\n",
       "      <td>4.0</td>\n",
       "      <td>82.239998</td>\n",
       "      <td>82.239998</td>\n",
       "      <td>82.239998</td>\n",
       "      <td>82.239998</td>\n",
       "      <td>-999999.000000</td>\n",
       "      <td>82.260002</td>\n",
       "      <td>82.260002</td>\n",
       "      <td>-999999.000000</td>\n",
       "      <td>-999999.000000</td>\n",
       "      <td>...</td>\n",
       "      <td>-999999.0</td>\n",
       "      <td>-999999.0</td>\n",
       "      <td>-999999.0</td>\n",
       "      <td>-999999.0</td>\n",
       "      <td>-999999.0</td>\n",
       "      <td>-999999.0</td>\n",
       "      <td>-999999.0</td>\n",
       "      <td>-999999.0</td>\n",
       "      <td>-999999.0</td>\n",
       "      <td>-999999.0</td>\n",
       "    </tr>\n",
       "    <tr>\n",
       "      <th>1</th>\n",
       "      <td>6.0</td>\n",
       "      <td>-999999.000000</td>\n",
       "      <td>-999999.000000</td>\n",
       "      <td>-999999.000000</td>\n",
       "      <td>-999999.000000</td>\n",
       "      <td>-999999.000000</td>\n",
       "      <td>-999999.000000</td>\n",
       "      <td>-999999.000000</td>\n",
       "      <td>-999999.000000</td>\n",
       "      <td>-999999.000000</td>\n",
       "      <td>...</td>\n",
       "      <td>-999999.0</td>\n",
       "      <td>-999999.0</td>\n",
       "      <td>-999999.0</td>\n",
       "      <td>-999999.0</td>\n",
       "      <td>-999999.0</td>\n",
       "      <td>-999999.0</td>\n",
       "      <td>-999999.0</td>\n",
       "      <td>-999999.0</td>\n",
       "      <td>-999999.0</td>\n",
       "      <td>-999999.0</td>\n",
       "    </tr>\n",
       "    <tr>\n",
       "      <th>2</th>\n",
       "      <td>7.0</td>\n",
       "      <td>1618.699951</td>\n",
       "      <td>1618.699951</td>\n",
       "      <td>1618.699951</td>\n",
       "      <td>1618.699951</td>\n",
       "      <td>-999999.000000</td>\n",
       "      <td>-999999.000000</td>\n",
       "      <td>-999999.000000</td>\n",
       "      <td>1618.719971</td>\n",
       "      <td>1618.719971</td>\n",
       "      <td>...</td>\n",
       "      <td>-999999.0</td>\n",
       "      <td>-999999.0</td>\n",
       "      <td>-999999.0</td>\n",
       "      <td>-999999.0</td>\n",
       "      <td>-999999.0</td>\n",
       "      <td>-999999.0</td>\n",
       "      <td>-999999.0</td>\n",
       "      <td>-999999.0</td>\n",
       "      <td>-999999.0</td>\n",
       "      <td>-999999.0</td>\n",
       "    </tr>\n",
       "    <tr>\n",
       "      <th>3</th>\n",
       "      <td>9.0</td>\n",
       "      <td>1149.199951</td>\n",
       "      <td>1149.199951</td>\n",
       "      <td>1149.199951</td>\n",
       "      <td>1149.209961</td>\n",
       "      <td>-999999.000000</td>\n",
       "      <td>1149.219971</td>\n",
       "      <td>1149.219971</td>\n",
       "      <td>-999999.000000</td>\n",
       "      <td>-999999.000000</td>\n",
       "      <td>...</td>\n",
       "      <td>-999999.0</td>\n",
       "      <td>-999999.0</td>\n",
       "      <td>-999999.0</td>\n",
       "      <td>-999999.0</td>\n",
       "      <td>-999999.0</td>\n",
       "      <td>-999999.0</td>\n",
       "      <td>-999999.0</td>\n",
       "      <td>-999999.0</td>\n",
       "      <td>-999999.0</td>\n",
       "      <td>-999999.0</td>\n",
       "    </tr>\n",
       "    <tr>\n",
       "      <th>4</th>\n",
       "      <td>11.0</td>\n",
       "      <td>602.640015</td>\n",
       "      <td>602.640015</td>\n",
       "      <td>602.640015</td>\n",
       "      <td>-999999.000000</td>\n",
       "      <td>602.640015</td>\n",
       "      <td>602.659973</td>\n",
       "      <td>602.659973</td>\n",
       "      <td>-999999.000000</td>\n",
       "      <td>-999999.000000</td>\n",
       "      <td>...</td>\n",
       "      <td>-999999.0</td>\n",
       "      <td>-999999.0</td>\n",
       "      <td>-999999.0</td>\n",
       "      <td>-999999.0</td>\n",
       "      <td>-999999.0</td>\n",
       "      <td>-999999.0</td>\n",
       "      <td>-999999.0</td>\n",
       "      <td>-999999.0</td>\n",
       "      <td>-999999.0</td>\n",
       "      <td>-999999.0</td>\n",
       "    </tr>\n",
       "  </tbody>\n",
       "</table>\n",
       "<p>5 rows × 162 columns</p>\n",
       "</div>"
      ],
      "text/plain": [
       "     Id       L0_S0_D1      L0_S1_D26      L0_S1_D30      L0_S2_D34  \\\n",
       "0   4.0      82.239998      82.239998      82.239998      82.239998   \n",
       "1   6.0 -999999.000000 -999999.000000 -999999.000000 -999999.000000   \n",
       "2   7.0    1618.699951    1618.699951    1618.699951    1618.699951   \n",
       "3   9.0    1149.199951    1149.199951    1149.199951    1149.209961   \n",
       "4  11.0     602.640015     602.640015     602.640015 -999999.000000   \n",
       "\n",
       "       L0_S3_D70     L0_S4_D106     L0_S4_D111     L0_S5_D115     L0_S6_D120  \\\n",
       "0 -999999.000000      82.260002      82.260002 -999999.000000 -999999.000000   \n",
       "1 -999999.000000 -999999.000000 -999999.000000 -999999.000000 -999999.000000   \n",
       "2 -999999.000000 -999999.000000 -999999.000000    1618.719971    1618.719971   \n",
       "3 -999999.000000    1149.219971    1149.219971 -999999.000000 -999999.000000   \n",
       "4     602.640015     602.659973     602.659973 -999999.000000 -999999.000000   \n",
       "\n",
       "       ...       L3_S43_D4082  L3_S44_D4101  L3_S45_D4125  L3_S46_D4135  \\\n",
       "0      ...          -999999.0     -999999.0     -999999.0     -999999.0   \n",
       "1      ...          -999999.0     -999999.0     -999999.0     -999999.0   \n",
       "2      ...          -999999.0     -999999.0     -999999.0     -999999.0   \n",
       "3      ...          -999999.0     -999999.0     -999999.0     -999999.0   \n",
       "4      ...          -999999.0     -999999.0     -999999.0     -999999.0   \n",
       "\n",
       "   L3_S47_D4140  L3_S48_D4194  L3_S49_D4208  L3_S49_D4218  L3_S50_D4242  \\\n",
       "0     -999999.0     -999999.0     -999999.0     -999999.0     -999999.0   \n",
       "1     -999999.0     -999999.0     -999999.0     -999999.0     -999999.0   \n",
       "2     -999999.0     -999999.0     -999999.0     -999999.0     -999999.0   \n",
       "3     -999999.0     -999999.0     -999999.0     -999999.0     -999999.0   \n",
       "4     -999999.0     -999999.0     -999999.0     -999999.0     -999999.0   \n",
       "\n",
       "   L3_S51_D4255  \n",
       "0     -999999.0  \n",
       "1     -999999.0  \n",
       "2     -999999.0  \n",
       "3     -999999.0  \n",
       "4     -999999.0  \n",
       "\n",
       "[5 rows x 162 columns]"
      ]
     },
     "execution_count": 63,
     "metadata": {},
     "output_type": "execute_result"
    }
   ],
   "source": [
    "train_date_162.head()"
   ]
  },
  {
   "cell_type": "code",
   "execution_count": 61,
   "metadata": {
    "collapsed": false
   },
   "outputs": [
    {
     "data": {
      "text/plain": [
       "Id                   6.000000\n",
       "L0_S0_D1       -999999.000000\n",
       "L0_S1_D26      -999999.000000\n",
       "L0_S1_D30      -999999.000000\n",
       "L0_S2_D34      -999999.000000\n",
       "L0_S3_D70      -999999.000000\n",
       "L0_S4_D106     -999999.000000\n",
       "L0_S4_D111     -999999.000000\n",
       "L0_S5_D115     -999999.000000\n",
       "L0_S6_D120     -999999.000000\n",
       "L0_S7_D137     -999999.000000\n",
       "L0_S8_D145     -999999.000000\n",
       "L0_S9_D152     -999999.000000\n",
       "L0_S9_D157     -999999.000000\n",
       "L0_S9_D162     -999999.000000\n",
       "L0_S9_D167     -999999.000000\n",
       "L0_S10_D216    -999999.000000\n",
       "L0_S10_D221    -999999.000000\n",
       "L0_S10_D231    -999999.000000\n",
       "L0_S11_D280    -999999.000000\n",
       "L0_S12_D331       1313.119995\n",
       "L0_S13_D355       1313.119995\n",
       "L0_S14_D360       1313.119995\n",
       "L0_S15_D395    -999999.000000\n",
       "L0_S16_D423       1313.140015\n",
       "L0_S17_D432    -999999.000000\n",
       "L0_S18_D437       1313.150024\n",
       "L0_S19_D454    -999999.000000\n",
       "L0_S20_D462       1313.150024\n",
       "L0_S21_D469       1313.150024\n",
       "                    ...      \n",
       "L3_S30_D3566      1315.729980\n",
       "L3_S30_D3726      1315.729980\n",
       "L3_S31_D3836   -999999.000000\n",
       "L3_S32_D3852   -999999.000000\n",
       "L3_S33_D3856      1315.750000\n",
       "L3_S34_D3875      1315.750000\n",
       "L3_S35_D3886      1315.750000\n",
       "L3_S35_D3895      1315.750000\n",
       "L3_S35_D3900      1315.750000\n",
       "L3_S36_D3919   -999999.000000\n",
       "L3_S36_D3928   -999999.000000\n",
       "L3_S37_D3942      1315.750000\n",
       "L3_S38_D3953   -999999.000000\n",
       "L3_S39_D3966   -999999.000000\n",
       "L3_S40_D3981   -999999.000000\n",
       "L3_S40_D3985   -999999.000000\n",
       "L3_S41_D3997   -999999.000000\n",
       "L3_S42_D4029   -999999.000000\n",
       "L3_S42_D4045   -999999.000000\n",
       "L3_S43_D4062   -999999.000000\n",
       "L3_S43_D4082   -999999.000000\n",
       "L3_S44_D4101   -999999.000000\n",
       "L3_S45_D4125   -999999.000000\n",
       "L3_S46_D4135   -999999.000000\n",
       "L3_S47_D4140   -999999.000000\n",
       "L3_S48_D4194   -999999.000000\n",
       "L3_S49_D4208   -999999.000000\n",
       "L3_S49_D4218   -999999.000000\n",
       "L3_S50_D4242   -999999.000000\n",
       "L3_S51_D4255   -999999.000000\n",
       "Name: 1, dtype: float32"
      ]
     },
     "execution_count": 61,
     "metadata": {},
     "output_type": "execute_result"
    }
   ],
   "source": [
    "train_date_162.ix[1]"
   ]
  },
  {
   "cell_type": "code",
   "execution_count": 94,
   "metadata": {
    "collapsed": false,
    "scrolled": true
   },
   "outputs": [
    {
     "data": {
      "text/plain": [
       "L0_S5_F114    0\n",
       "L0_S5_F116    0\n",
       "Name: 1, dtype: int8"
      ]
     },
     "execution_count": 94,
     "metadata": {},
     "output_type": "execute_result"
    }
   ],
   "source": [
    "train[station_features['S5']].ix[1]"
   ]
  },
  {
   "cell_type": "code",
   "execution_count": null,
   "metadata": {
    "collapsed": true
   },
   "outputs": [],
   "source": []
  }
 ],
 "metadata": {
  "anaconda-cloud": {},
  "kernelspec": {
   "display_name": "Python [default]",
   "language": "python",
   "name": "python3"
  },
  "language_info": {
   "codemirror_mode": {
    "name": "ipython",
    "version": 3
   },
   "file_extension": ".py",
   "mimetype": "text/x-python",
   "name": "python",
   "nbconvert_exporter": "python",
   "pygments_lexer": "ipython3",
   "version": "3.5.2"
  }
 },
 "nbformat": 4,
 "nbformat_minor": 1
}
