{
 "cells": [
  {
   "cell_type": "code",
   "execution_count": 1,
   "metadata": {
    "collapsed": true
   },
   "outputs": [],
   "source": [
    "import pandas as pd\n",
    "import numpy as np"
   ]
  },
  {
   "cell_type": "code",
   "execution_count": 2,
   "metadata": {
    "collapsed": true
   },
   "outputs": [],
   "source": [
    "numeric = \"../input_orig/train_numeric.csv\"\n",
    "date = \"../input_orig/train_date.csv\"\n",
    "categorical = \"../input_orig/train_categorical.csv\"\n",
    "\n",
    "numeric_te = \"../input_orig/test_numeric.csv\"\n",
    "date_te = \"../input_orig/test_date.csv\"\n",
    "categorical_te = \"../input_orig/test_categorical.csv\""
   ]
  },
  {
   "cell_type": "code",
   "execution_count": 3,
   "metadata": {
    "collapsed": true
   },
   "outputs": [],
   "source": [
    "def orgainize(features):\n",
    "    line_features = {}\n",
    "    station_features = {}\n",
    "    lines = set([f.split('_')[0] for f in features])\n",
    "    stations = set([f.split('_')[1] for f in features])\n",
    "    \n",
    "    for l in lines:\n",
    "        line_features[l] = [f for f in features if l+'_' in f]\n",
    "        \n",
    "    for s in stations:\n",
    "        station_features[s] = [f for f in features if s+'_' in f]\n",
    "            \n",
    "    return line_features, station_features"
   ]
  },
  {
   "cell_type": "code",
   "execution_count": 4,
   "metadata": {
    "collapsed": false
   },
   "outputs": [
    {
     "name": "stdout",
     "output_type": "stream",
     "text": [
      "Features in Station 32: ['L3_S32_F3850']\n"
     ]
    }
   ],
   "source": [
    "features_num = pd.read_csv(numeric, nrows=1).drop(['Response', 'Id'], axis=1).columns.values\n",
    "line_features_num, station_features_num = orgainize(features_num)\n",
    "print(\"Features in Station 32: {}\".format( station_features_num['S32'] ))"
   ]
  },
  {
   "cell_type": "code",
   "execution_count": 5,
   "metadata": {
    "collapsed": false
   },
   "outputs": [
    {
     "name": "stdout",
     "output_type": "stream",
     "text": [
      "Features in Station 32: ['L3_S32_D3852']\n"
     ]
    }
   ],
   "source": [
    "features_date = pd.read_csv(date, nrows=1).drop(['Id'], axis=1).columns.values\n",
    "line_features_date, station_features_date = orgainize(features_date)\n",
    "print(\"Features in Station 32: {}\".format( station_features_date['S32'] ))"
   ]
  },
  {
   "cell_type": "code",
   "execution_count": 6,
   "metadata": {
    "collapsed": false
   },
   "outputs": [
    {
     "name": "stdout",
     "output_type": "stream",
     "text": [
      "Features in Station 32: ['L3_S32_F3851', 'L3_S32_F3853', 'L3_S32_F3854']\n"
     ]
    }
   ],
   "source": [
    "features_cat = pd.read_csv(categorical, nrows=1).drop(['Id'], axis=1).columns.values\n",
    "line_features_cat, station_features_cat = orgainize(features_cat)\n",
    "print(\"Features in Station 32: {}\".format( station_features_cat['S32'] ))"
   ]
  },
  {
   "cell_type": "code",
   "execution_count": 9,
   "metadata": {
    "collapsed": true
   },
   "outputs": [],
   "source": [
    "tr_stat_pass_num = pd.read_hdf('feats/tr_station_pass_num.hdf5','table')\n",
    "tr_stat_pass_date = pd.read_hdf('feats/tr_station_pass_date.hdf5','table')\n",
    "tr_stat_pass_cat = pd.read_hdf('feats/tr_station_pass_cat.hdf5','table')\n",
    "\n",
    "te_stat_pass_num = pd.read_hdf('feats/te_station_pass_num.hdf5','table')\n",
    "te_stat_pass_date = pd.read_hdf('feats/te_station_pass_date.hdf5','table')\n",
    "te_stat_pass_cat = pd.read_hdf('feats/te_station_pass_cat.hdf5','table')"
   ]
  },
  {
   "cell_type": "code",
   "execution_count": 15,
   "metadata": {
    "collapsed": false
   },
   "outputs": [],
   "source": [
    "tr_number_stations_passed = pd.DataFrame()\n",
    "tr_number_stations_passed['nsp_num'] = tr_stat_pass_num.sum(axis=1)\n",
    "tr_number_stations_passed['nsp_date'] = tr_stat_pass_date.sum(axis=1)\n",
    "tr_number_stations_passed['nsp_cat'] = tr_stat_pass_cat.sum(axis=1)"
   ]
  },
  {
   "cell_type": "code",
   "execution_count": 17,
   "metadata": {
    "collapsed": false
   },
   "outputs": [],
   "source": [
    "tr_number_stations_passed.to_hdf('feats/tr_number_stations_passed.hdf5','table')"
   ]
  },
  {
   "cell_type": "code",
   "execution_count": 18,
   "metadata": {
    "collapsed": true
   },
   "outputs": [],
   "source": [
    "te_number_stations_passed = pd.DataFrame()\n",
    "te_number_stations_passed['nsp_num'] = te_stat_pass_num.sum(axis=1)\n",
    "te_number_stations_passed['nsp_date'] = te_stat_pass_date.sum(axis=1)\n",
    "te_number_stations_passed['nsp_cat'] = te_stat_pass_cat.sum(axis=1)"
   ]
  },
  {
   "cell_type": "code",
   "execution_count": 20,
   "metadata": {
    "collapsed": false
   },
   "outputs": [],
   "source": [
    "te_number_stations_passed.to_hdf('feats/te_number_stations_passed.hdf5','table')"
   ]
  },
  {
   "cell_type": "code",
   "execution_count": null,
   "metadata": {
    "collapsed": true
   },
   "outputs": [],
   "source": []
  }
 ],
 "metadata": {
  "anaconda-cloud": {},
  "kernelspec": {
   "display_name": "Python [default]",
   "language": "python",
   "name": "python3"
  },
  "language_info": {
   "codemirror_mode": {
    "name": "ipython",
    "version": 3
   },
   "file_extension": ".py",
   "mimetype": "text/x-python",
   "name": "python",
   "nbconvert_exporter": "python",
   "pygments_lexer": "ipython3",
   "version": "3.5.2"
  }
 },
 "nbformat": 4,
 "nbformat_minor": 1
}
