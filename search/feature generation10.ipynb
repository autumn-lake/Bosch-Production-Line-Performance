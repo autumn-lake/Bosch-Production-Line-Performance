{
 "cells": [
  {
   "cell_type": "code",
   "execution_count": 1,
   "metadata": {
    "collapsed": true
   },
   "outputs": [],
   "source": [
    "import pandas as pd\n",
    "import numpy as np"
   ]
  },
  {
   "cell_type": "code",
   "execution_count": 2,
   "metadata": {
    "collapsed": true
   },
   "outputs": [],
   "source": [
    "numeric = \"../input_orig/train_numeric.csv\"\n",
    "date = \"../input_orig/train_date.csv\"\n",
    "categorical = \"../input_orig/train_categorical.csv\"\n",
    "\n",
    "numeric_te = \"../input_orig/test_numeric.csv\"\n",
    "date_te = \"../input_orig/test_date.csv\"\n",
    "categorical_te = \"../input_orig/test_categorical.csv\""
   ]
  },
  {
   "cell_type": "code",
   "execution_count": 3,
   "metadata": {
    "collapsed": true
   },
   "outputs": [],
   "source": [
    "#tr_line_station_minmax = pd.read_hdf('feats/tr_line_station_minmax8.hdf5','table')\n",
    "#te_line_station_minmax = pd.read_hdf('feats/te_line_station_minmax8.hdf5','table')"
   ]
  },
  {
   "cell_type": "code",
   "execution_count": 4,
   "metadata": {
    "collapsed": true
   },
   "outputs": [],
   "source": [
    "def orgainize(features):\n",
    "    line_features = {}\n",
    "    station_features = {}\n",
    "    lines = set([f.split('_')[0] for f in features])\n",
    "    stations = set([f.split('_')[1] for f in features])\n",
    "    \n",
    "    for l in lines:\n",
    "        line_features[l] = [f for f in features if l+'_' in f]\n",
    "        \n",
    "    for s in stations:\n",
    "        station_features[s] = [f for f in features if s+'_' in f]\n",
    "            \n",
    "    return line_features, station_features"
   ]
  },
  {
   "cell_type": "code",
   "execution_count": 5,
   "metadata": {
    "collapsed": false
   },
   "outputs": [
    {
     "name": "stdout",
     "output_type": "stream",
     "text": [
      "Features in Station 32: ['L3_S32_F3850']\n"
     ]
    }
   ],
   "source": [
    "features_num = pd.read_csv(numeric, nrows=1).drop(['Response', 'Id'], axis=1).columns.values\n",
    "line_features_num, station_features_num = orgainize(features_num)\n",
    "print(\"Features in Station 32: {}\".format( station_features_num['S32'] ))"
   ]
  },
  {
   "cell_type": "code",
   "execution_count": 6,
   "metadata": {
    "collapsed": false
   },
   "outputs": [
    {
     "name": "stdout",
     "output_type": "stream",
     "text": [
      "Features in Station 32: ['L3_S32_D3852']\n"
     ]
    }
   ],
   "source": [
    "features_date = pd.read_csv(date, nrows=1).drop(['Id'], axis=1).columns.values\n",
    "line_features_date, station_features_date = orgainize(features_date)\n",
    "print(\"Features in Station 32: {}\".format( station_features_date['S32'] ))"
   ]
  },
  {
   "cell_type": "code",
   "execution_count": 7,
   "metadata": {
    "collapsed": false
   },
   "outputs": [
    {
     "name": "stdout",
     "output_type": "stream",
     "text": [
      "Features in Station 32: ['L3_S32_F3851', 'L3_S32_F3853', 'L3_S32_F3854']\n"
     ]
    }
   ],
   "source": [
    "features_cat = pd.read_csv(categorical, nrows=1).drop(['Id'], axis=1).columns.values\n",
    "line_features_cat, station_features_cat = orgainize(features_cat)\n",
    "print(\"Features in Station 32: {}\".format( station_features_cat['S32'] ))"
   ]
  },
  {
   "cell_type": "code",
   "execution_count": 8,
   "metadata": {
    "collapsed": true
   },
   "outputs": [],
   "source": [
    "CHUNKSIZE = 100000\n",
    "NROWS_TR = 1183747\n",
    "nrows_tr = 0\n",
    "NROWS_TE = 1183748\n",
    "nrows_te = 0\n",
    "ID_COLUMN = 'Id'\n",
    "TARGET_COLUMN = 'Response'\n",
    "SEED = 0\n",
    "\n",
    "def make_features_date(df):\n",
    "    new_features = pd.DataFrame({})\n",
    "    for s in station_features_date.keys():\n",
    "        station_data = df[station_features_date[s]]\n",
    "        maxx = station_data.max(axis=1)\n",
    "        minn = station_data.min(axis=1)\n",
    "        col = s+'_diff_date'\n",
    "        new_features[col] = maxx - minn\n",
    "    return new_features\n",
    "\n",
    "tr_station_diff_date = pd.DataFrame()\n",
    "for tr in pd.read_csv(date, chunksize=CHUNKSIZE, dtype=np.float32):\n",
    "    feats = np.setdiff1d(tr.columns, [ID_COLUMN])\n",
    "    chunk_features = make_features_date(tr[feats])\n",
    "    tr_station_diff_date = tr_station_diff_date.append(chunk_features)\n",
    "    \n",
    "    nrows_tr += CHUNKSIZE\n",
    "    if nrows_tr >= NROWS_TR:\n",
    "        break\n",
    "        \n",
    "te_station_diff_date = pd.DataFrame()\n",
    "for te in pd.read_csv(date_te, chunksize=CHUNKSIZE, dtype=np.float32):\n",
    "    feats = np.setdiff1d(te.columns, [ID_COLUMN])\n",
    "    chunk_features = make_features_date(te[feats])\n",
    "    te_station_diff_date = te_station_diff_date.append(chunk_features)\n",
    "    \n",
    "    nrows_te += CHUNKSIZE\n",
    "    if nrows_te >= NROWS_TE:\n",
    "        break"
   ]
  },
  {
   "cell_type": "code",
   "execution_count": 9,
   "metadata": {
    "collapsed": false
   },
   "outputs": [
    {
     "data": {
      "text/html": [
       "<div>\n",
       "<table border=\"1\" class=\"dataframe\">\n",
       "  <thead>\n",
       "    <tr style=\"text-align: right;\">\n",
       "      <th></th>\n",
       "      <th>S28_diff_date</th>\n",
       "      <th>S41_diff_date</th>\n",
       "      <th>S39_diff_date</th>\n",
       "      <th>S2_diff_date</th>\n",
       "      <th>S20_diff_date</th>\n",
       "      <th>S3_diff_date</th>\n",
       "      <th>S27_diff_date</th>\n",
       "      <th>S45_diff_date</th>\n",
       "      <th>S32_diff_date</th>\n",
       "      <th>S8_diff_date</th>\n",
       "      <th>...</th>\n",
       "      <th>S16_diff_date</th>\n",
       "      <th>S35_diff_date</th>\n",
       "      <th>S4_diff_date</th>\n",
       "      <th>S33_diff_date</th>\n",
       "      <th>S7_diff_date</th>\n",
       "      <th>S37_diff_date</th>\n",
       "      <th>S5_diff_date</th>\n",
       "      <th>S19_diff_date</th>\n",
       "      <th>S43_diff_date</th>\n",
       "      <th>S12_diff_date</th>\n",
       "    </tr>\n",
       "  </thead>\n",
       "  <tbody>\n",
       "    <tr>\n",
       "      <th>0</th>\n",
       "      <td>NaN</td>\n",
       "      <td>NaN</td>\n",
       "      <td>NaN</td>\n",
       "      <td>0.0</td>\n",
       "      <td>NaN</td>\n",
       "      <td>NaN</td>\n",
       "      <td>NaN</td>\n",
       "      <td>NaN</td>\n",
       "      <td>NaN</td>\n",
       "      <td>0.0</td>\n",
       "      <td>...</td>\n",
       "      <td>NaN</td>\n",
       "      <td>0.0</td>\n",
       "      <td>0.0</td>\n",
       "      <td>0.0</td>\n",
       "      <td>0.0</td>\n",
       "      <td>0.0</td>\n",
       "      <td>NaN</td>\n",
       "      <td>NaN</td>\n",
       "      <td>NaN</td>\n",
       "      <td>NaN</td>\n",
       "    </tr>\n",
       "    <tr>\n",
       "      <th>1</th>\n",
       "      <td>NaN</td>\n",
       "      <td>NaN</td>\n",
       "      <td>NaN</td>\n",
       "      <td>NaN</td>\n",
       "      <td>0.0</td>\n",
       "      <td>NaN</td>\n",
       "      <td>NaN</td>\n",
       "      <td>NaN</td>\n",
       "      <td>NaN</td>\n",
       "      <td>NaN</td>\n",
       "      <td>...</td>\n",
       "      <td>0.0</td>\n",
       "      <td>0.0</td>\n",
       "      <td>NaN</td>\n",
       "      <td>0.0</td>\n",
       "      <td>NaN</td>\n",
       "      <td>0.0</td>\n",
       "      <td>NaN</td>\n",
       "      <td>NaN</td>\n",
       "      <td>NaN</td>\n",
       "      <td>0.0</td>\n",
       "    </tr>\n",
       "    <tr>\n",
       "      <th>2</th>\n",
       "      <td>NaN</td>\n",
       "      <td>NaN</td>\n",
       "      <td>NaN</td>\n",
       "      <td>0.0</td>\n",
       "      <td>NaN</td>\n",
       "      <td>NaN</td>\n",
       "      <td>NaN</td>\n",
       "      <td>NaN</td>\n",
       "      <td>NaN</td>\n",
       "      <td>0.0</td>\n",
       "      <td>...</td>\n",
       "      <td>NaN</td>\n",
       "      <td>0.0</td>\n",
       "      <td>NaN</td>\n",
       "      <td>0.0</td>\n",
       "      <td>NaN</td>\n",
       "      <td>0.0</td>\n",
       "      <td>0.0</td>\n",
       "      <td>NaN</td>\n",
       "      <td>NaN</td>\n",
       "      <td>NaN</td>\n",
       "    </tr>\n",
       "    <tr>\n",
       "      <th>3</th>\n",
       "      <td>NaN</td>\n",
       "      <td>NaN</td>\n",
       "      <td>NaN</td>\n",
       "      <td>0.0</td>\n",
       "      <td>NaN</td>\n",
       "      <td>NaN</td>\n",
       "      <td>NaN</td>\n",
       "      <td>NaN</td>\n",
       "      <td>NaN</td>\n",
       "      <td>0.0</td>\n",
       "      <td>...</td>\n",
       "      <td>NaN</td>\n",
       "      <td>NaN</td>\n",
       "      <td>0.0</td>\n",
       "      <td>0.0</td>\n",
       "      <td>0.0</td>\n",
       "      <td>0.0</td>\n",
       "      <td>NaN</td>\n",
       "      <td>NaN</td>\n",
       "      <td>NaN</td>\n",
       "      <td>NaN</td>\n",
       "    </tr>\n",
       "    <tr>\n",
       "      <th>4</th>\n",
       "      <td>NaN</td>\n",
       "      <td>NaN</td>\n",
       "      <td>NaN</td>\n",
       "      <td>NaN</td>\n",
       "      <td>NaN</td>\n",
       "      <td>0.0</td>\n",
       "      <td>NaN</td>\n",
       "      <td>NaN</td>\n",
       "      <td>NaN</td>\n",
       "      <td>0.0</td>\n",
       "      <td>...</td>\n",
       "      <td>NaN</td>\n",
       "      <td>NaN</td>\n",
       "      <td>0.0</td>\n",
       "      <td>0.0</td>\n",
       "      <td>0.0</td>\n",
       "      <td>0.0</td>\n",
       "      <td>NaN</td>\n",
       "      <td>NaN</td>\n",
       "      <td>NaN</td>\n",
       "      <td>NaN</td>\n",
       "    </tr>\n",
       "  </tbody>\n",
       "</table>\n",
       "<p>5 rows × 52 columns</p>\n",
       "</div>"
      ],
      "text/plain": [
       "   S28_diff_date  S41_diff_date  S39_diff_date  S2_diff_date  S20_diff_date  \\\n",
       "0            NaN            NaN            NaN           0.0            NaN   \n",
       "1            NaN            NaN            NaN           NaN            0.0   \n",
       "2            NaN            NaN            NaN           0.0            NaN   \n",
       "3            NaN            NaN            NaN           0.0            NaN   \n",
       "4            NaN            NaN            NaN           NaN            NaN   \n",
       "\n",
       "   S3_diff_date  S27_diff_date  S45_diff_date  S32_diff_date  S8_diff_date  \\\n",
       "0           NaN            NaN            NaN            NaN           0.0   \n",
       "1           NaN            NaN            NaN            NaN           NaN   \n",
       "2           NaN            NaN            NaN            NaN           0.0   \n",
       "3           NaN            NaN            NaN            NaN           0.0   \n",
       "4           0.0            NaN            NaN            NaN           0.0   \n",
       "\n",
       "       ...        S16_diff_date  S35_diff_date  S4_diff_date  S33_diff_date  \\\n",
       "0      ...                  NaN            0.0           0.0            0.0   \n",
       "1      ...                  0.0            0.0           NaN            0.0   \n",
       "2      ...                  NaN            0.0           NaN            0.0   \n",
       "3      ...                  NaN            NaN           0.0            0.0   \n",
       "4      ...                  NaN            NaN           0.0            0.0   \n",
       "\n",
       "   S7_diff_date  S37_diff_date  S5_diff_date  S19_diff_date  S43_diff_date  \\\n",
       "0           0.0            0.0           NaN            NaN            NaN   \n",
       "1           NaN            0.0           NaN            NaN            NaN   \n",
       "2           NaN            0.0           0.0            NaN            NaN   \n",
       "3           0.0            0.0           NaN            NaN            NaN   \n",
       "4           0.0            0.0           NaN            NaN            NaN   \n",
       "\n",
       "   S12_diff_date  \n",
       "0            NaN  \n",
       "1            0.0  \n",
       "2            NaN  \n",
       "3            NaN  \n",
       "4            NaN  \n",
       "\n",
       "[5 rows x 52 columns]"
      ]
     },
     "execution_count": 9,
     "metadata": {},
     "output_type": "execute_result"
    }
   ],
   "source": [
    "tr_station_diff_date.head()"
   ]
  },
  {
   "cell_type": "code",
   "execution_count": 10,
   "metadata": {
    "collapsed": false
   },
   "outputs": [
    {
     "data": {
      "text/html": [
       "<div>\n",
       "<table border=\"1\" class=\"dataframe\">\n",
       "  <thead>\n",
       "    <tr style=\"text-align: right;\">\n",
       "      <th></th>\n",
       "      <th>S28_diff_date</th>\n",
       "      <th>S41_diff_date</th>\n",
       "      <th>S39_diff_date</th>\n",
       "      <th>S2_diff_date</th>\n",
       "      <th>S20_diff_date</th>\n",
       "      <th>S3_diff_date</th>\n",
       "      <th>S27_diff_date</th>\n",
       "      <th>S45_diff_date</th>\n",
       "      <th>S32_diff_date</th>\n",
       "      <th>S8_diff_date</th>\n",
       "      <th>...</th>\n",
       "      <th>S16_diff_date</th>\n",
       "      <th>S35_diff_date</th>\n",
       "      <th>S4_diff_date</th>\n",
       "      <th>S33_diff_date</th>\n",
       "      <th>S7_diff_date</th>\n",
       "      <th>S37_diff_date</th>\n",
       "      <th>S5_diff_date</th>\n",
       "      <th>S19_diff_date</th>\n",
       "      <th>S43_diff_date</th>\n",
       "      <th>S12_diff_date</th>\n",
       "    </tr>\n",
       "  </thead>\n",
       "  <tbody>\n",
       "    <tr>\n",
       "      <th>0</th>\n",
       "      <td>NaN</td>\n",
       "      <td>NaN</td>\n",
       "      <td>NaN</td>\n",
       "      <td>NaN</td>\n",
       "      <td>NaN</td>\n",
       "      <td>NaN</td>\n",
       "      <td>0.0</td>\n",
       "      <td>NaN</td>\n",
       "      <td>NaN</td>\n",
       "      <td>NaN</td>\n",
       "      <td>...</td>\n",
       "      <td>NaN</td>\n",
       "      <td>0.0</td>\n",
       "      <td>NaN</td>\n",
       "      <td>0.0</td>\n",
       "      <td>NaN</td>\n",
       "      <td>0.0</td>\n",
       "      <td>NaN</td>\n",
       "      <td>NaN</td>\n",
       "      <td>NaN</td>\n",
       "      <td>NaN</td>\n",
       "    </tr>\n",
       "    <tr>\n",
       "      <th>1</th>\n",
       "      <td>NaN</td>\n",
       "      <td>NaN</td>\n",
       "      <td>NaN</td>\n",
       "      <td>NaN</td>\n",
       "      <td>NaN</td>\n",
       "      <td>NaN</td>\n",
       "      <td>0.0</td>\n",
       "      <td>NaN</td>\n",
       "      <td>NaN</td>\n",
       "      <td>NaN</td>\n",
       "      <td>...</td>\n",
       "      <td>NaN</td>\n",
       "      <td>NaN</td>\n",
       "      <td>NaN</td>\n",
       "      <td>0.0</td>\n",
       "      <td>NaN</td>\n",
       "      <td>0.0</td>\n",
       "      <td>NaN</td>\n",
       "      <td>NaN</td>\n",
       "      <td>NaN</td>\n",
       "      <td>NaN</td>\n",
       "    </tr>\n",
       "    <tr>\n",
       "      <th>2</th>\n",
       "      <td>NaN</td>\n",
       "      <td>NaN</td>\n",
       "      <td>NaN</td>\n",
       "      <td>NaN</td>\n",
       "      <td>NaN</td>\n",
       "      <td>NaN</td>\n",
       "      <td>NaN</td>\n",
       "      <td>NaN</td>\n",
       "      <td>NaN</td>\n",
       "      <td>NaN</td>\n",
       "      <td>...</td>\n",
       "      <td>NaN</td>\n",
       "      <td>0.0</td>\n",
       "      <td>NaN</td>\n",
       "      <td>0.0</td>\n",
       "      <td>NaN</td>\n",
       "      <td>0.0</td>\n",
       "      <td>NaN</td>\n",
       "      <td>NaN</td>\n",
       "      <td>NaN</td>\n",
       "      <td>NaN</td>\n",
       "    </tr>\n",
       "    <tr>\n",
       "      <th>3</th>\n",
       "      <td>NaN</td>\n",
       "      <td>NaN</td>\n",
       "      <td>NaN</td>\n",
       "      <td>0.0</td>\n",
       "      <td>NaN</td>\n",
       "      <td>NaN</td>\n",
       "      <td>NaN</td>\n",
       "      <td>NaN</td>\n",
       "      <td>NaN</td>\n",
       "      <td>0.0</td>\n",
       "      <td>...</td>\n",
       "      <td>NaN</td>\n",
       "      <td>NaN</td>\n",
       "      <td>0.0</td>\n",
       "      <td>0.0</td>\n",
       "      <td>0.0</td>\n",
       "      <td>0.0</td>\n",
       "      <td>NaN</td>\n",
       "      <td>NaN</td>\n",
       "      <td>NaN</td>\n",
       "      <td>NaN</td>\n",
       "    </tr>\n",
       "    <tr>\n",
       "      <th>4</th>\n",
       "      <td>NaN</td>\n",
       "      <td>NaN</td>\n",
       "      <td>NaN</td>\n",
       "      <td>NaN</td>\n",
       "      <td>NaN</td>\n",
       "      <td>NaN</td>\n",
       "      <td>NaN</td>\n",
       "      <td>NaN</td>\n",
       "      <td>NaN</td>\n",
       "      <td>NaN</td>\n",
       "      <td>...</td>\n",
       "      <td>NaN</td>\n",
       "      <td>0.0</td>\n",
       "      <td>NaN</td>\n",
       "      <td>0.0</td>\n",
       "      <td>NaN</td>\n",
       "      <td>0.0</td>\n",
       "      <td>NaN</td>\n",
       "      <td>NaN</td>\n",
       "      <td>NaN</td>\n",
       "      <td>NaN</td>\n",
       "    </tr>\n",
       "  </tbody>\n",
       "</table>\n",
       "<p>5 rows × 52 columns</p>\n",
       "</div>"
      ],
      "text/plain": [
       "   S28_diff_date  S41_diff_date  S39_diff_date  S2_diff_date  S20_diff_date  \\\n",
       "0            NaN            NaN            NaN           NaN            NaN   \n",
       "1            NaN            NaN            NaN           NaN            NaN   \n",
       "2            NaN            NaN            NaN           NaN            NaN   \n",
       "3            NaN            NaN            NaN           0.0            NaN   \n",
       "4            NaN            NaN            NaN           NaN            NaN   \n",
       "\n",
       "   S3_diff_date  S27_diff_date  S45_diff_date  S32_diff_date  S8_diff_date  \\\n",
       "0           NaN            0.0            NaN            NaN           NaN   \n",
       "1           NaN            0.0            NaN            NaN           NaN   \n",
       "2           NaN            NaN            NaN            NaN           NaN   \n",
       "3           NaN            NaN            NaN            NaN           0.0   \n",
       "4           NaN            NaN            NaN            NaN           NaN   \n",
       "\n",
       "       ...        S16_diff_date  S35_diff_date  S4_diff_date  S33_diff_date  \\\n",
       "0      ...                  NaN            0.0           NaN            0.0   \n",
       "1      ...                  NaN            NaN           NaN            0.0   \n",
       "2      ...                  NaN            0.0           NaN            0.0   \n",
       "3      ...                  NaN            NaN           0.0            0.0   \n",
       "4      ...                  NaN            0.0           NaN            0.0   \n",
       "\n",
       "   S7_diff_date  S37_diff_date  S5_diff_date  S19_diff_date  S43_diff_date  \\\n",
       "0           NaN            0.0           NaN            NaN            NaN   \n",
       "1           NaN            0.0           NaN            NaN            NaN   \n",
       "2           NaN            0.0           NaN            NaN            NaN   \n",
       "3           0.0            0.0           NaN            NaN            NaN   \n",
       "4           NaN            0.0           NaN            NaN            NaN   \n",
       "\n",
       "   S12_diff_date  \n",
       "0            NaN  \n",
       "1            NaN  \n",
       "2            NaN  \n",
       "3            NaN  \n",
       "4            NaN  \n",
       "\n",
       "[5 rows x 52 columns]"
      ]
     },
     "execution_count": 10,
     "metadata": {},
     "output_type": "execute_result"
    }
   ],
   "source": [
    "te_station_diff_date.head()"
   ]
  },
  {
   "cell_type": "code",
   "execution_count": 11,
   "metadata": {
    "collapsed": false
   },
   "outputs": [
    {
     "data": {
      "text/plain": [
       "((1183747, 52), (1183748, 52))"
      ]
     },
     "execution_count": 11,
     "metadata": {},
     "output_type": "execute_result"
    }
   ],
   "source": [
    "tr_station_diff_date.shape, te_station_diff_date.shape"
   ]
  },
  {
   "cell_type": "code",
   "execution_count": 12,
   "metadata": {
    "collapsed": true
   },
   "outputs": [],
   "source": [
    "CHUNKSIZE = 100000\n",
    "NROWS_TR = 1183747\n",
    "nrows_tr = 0\n",
    "NROWS_TE = 1183748\n",
    "nrows_te = 0\n",
    "ID_COLUMN = 'Id'\n",
    "TARGET_COLUMN = 'Response'\n",
    "SEED = 0\n",
    "\n",
    "def make_features_date(df):\n",
    "    new_features = pd.DataFrame({})\n",
    "    for s in line_features_date.keys():\n",
    "        line_data = df[line_features_date[s]]\n",
    "        maxx = line_data.max(axis=1)\n",
    "        minn = line_data.min(axis=1)\n",
    "        col = s+'_diff_date'\n",
    "        new_features[col] = maxx - minn\n",
    "    return new_features\n",
    "\n",
    "tr_line_diff_date = pd.DataFrame()\n",
    "for tr in pd.read_csv(date, chunksize=CHUNKSIZE, dtype=np.float32):\n",
    "    feats = np.setdiff1d(tr.columns, [ID_COLUMN])\n",
    "    chunk_features = make_features_date(tr[feats])\n",
    "    tr_line_diff_date = tr_line_diff_date.append(chunk_features)\n",
    "    \n",
    "    nrows_tr += CHUNKSIZE\n",
    "    if nrows_tr >= NROWS_TR:\n",
    "        break\n",
    "        \n",
    "te_line_diff_date = pd.DataFrame()\n",
    "for te in pd.read_csv(date_te, chunksize=CHUNKSIZE, dtype=np.float32):\n",
    "    feats = np.setdiff1d(te.columns, [ID_COLUMN])\n",
    "    chunk_features = make_features_date(te[feats])\n",
    "    te_line_diff_date = te_line_diff_date.append(chunk_features)\n",
    "    \n",
    "    nrows_te += CHUNKSIZE\n",
    "    if nrows_te >= NROWS_TE:\n",
    "        break"
   ]
  },
  {
   "cell_type": "code",
   "execution_count": 13,
   "metadata": {
    "collapsed": false
   },
   "outputs": [
    {
     "data": {
      "text/html": [
       "<div>\n",
       "<table border=\"1\" class=\"dataframe\">\n",
       "  <thead>\n",
       "    <tr style=\"text-align: right;\">\n",
       "      <th></th>\n",
       "      <th>L1_diff_date</th>\n",
       "      <th>L0_diff_date</th>\n",
       "      <th>L3_diff_date</th>\n",
       "      <th>L2_diff_date</th>\n",
       "    </tr>\n",
       "  </thead>\n",
       "  <tbody>\n",
       "    <tr>\n",
       "      <th>0</th>\n",
       "      <td>0.050049</td>\n",
       "      <td>NaN</td>\n",
       "      <td>0.049988</td>\n",
       "      <td>0.0</td>\n",
       "    </tr>\n",
       "    <tr>\n",
       "      <th>1</th>\n",
       "      <td>0.010010</td>\n",
       "      <td>NaN</td>\n",
       "      <td>0.029907</td>\n",
       "      <td>0.0</td>\n",
       "    </tr>\n",
       "    <tr>\n",
       "      <th>2</th>\n",
       "      <td>0.030029</td>\n",
       "      <td>NaN</td>\n",
       "      <td>0.140015</td>\n",
       "      <td>0.0</td>\n",
       "    </tr>\n",
       "    <tr>\n",
       "      <th>3</th>\n",
       "      <td>NaN</td>\n",
       "      <td>0.040009</td>\n",
       "      <td>0.029999</td>\n",
       "      <td>0.0</td>\n",
       "    </tr>\n",
       "    <tr>\n",
       "      <th>4</th>\n",
       "      <td>0.020020</td>\n",
       "      <td>NaN</td>\n",
       "      <td>0.010010</td>\n",
       "      <td>0.0</td>\n",
       "    </tr>\n",
       "  </tbody>\n",
       "</table>\n",
       "</div>"
      ],
      "text/plain": [
       "   L1_diff_date  L0_diff_date  L3_diff_date  L2_diff_date\n",
       "0      0.050049           NaN      0.049988           0.0\n",
       "1      0.010010           NaN      0.029907           0.0\n",
       "2      0.030029           NaN      0.140015           0.0\n",
       "3           NaN      0.040009      0.029999           0.0\n",
       "4      0.020020           NaN      0.010010           0.0"
      ]
     },
     "execution_count": 13,
     "metadata": {},
     "output_type": "execute_result"
    }
   ],
   "source": [
    "te_line_diff_date.head()"
   ]
  },
  {
   "cell_type": "code",
   "execution_count": 14,
   "metadata": {
    "collapsed": false
   },
   "outputs": [
    {
     "data": {
      "text/html": [
       "<div>\n",
       "<table border=\"1\" class=\"dataframe\">\n",
       "  <thead>\n",
       "    <tr style=\"text-align: right;\">\n",
       "      <th></th>\n",
       "      <th>L1_diff_date</th>\n",
       "      <th>L0_diff_date</th>\n",
       "      <th>L3_diff_date</th>\n",
       "      <th>L2_diff_date</th>\n",
       "    </tr>\n",
       "  </thead>\n",
       "  <tbody>\n",
       "    <tr>\n",
       "      <th>0</th>\n",
       "      <td>NaN</td>\n",
       "      <td>0.029999</td>\n",
       "      <td>0.029999</td>\n",
       "      <td>NaN</td>\n",
       "    </tr>\n",
       "    <tr>\n",
       "      <th>1</th>\n",
       "      <td>NaN</td>\n",
       "      <td>0.030029</td>\n",
       "      <td>0.020020</td>\n",
       "      <td>NaN</td>\n",
       "    </tr>\n",
       "    <tr>\n",
       "      <th>2</th>\n",
       "      <td>NaN</td>\n",
       "      <td>0.030029</td>\n",
       "      <td>0.020020</td>\n",
       "      <td>NaN</td>\n",
       "    </tr>\n",
       "    <tr>\n",
       "      <th>3</th>\n",
       "      <td>NaN</td>\n",
       "      <td>0.020020</td>\n",
       "      <td>0.040039</td>\n",
       "      <td>NaN</td>\n",
       "    </tr>\n",
       "    <tr>\n",
       "      <th>4</th>\n",
       "      <td>NaN</td>\n",
       "      <td>0.029968</td>\n",
       "      <td>0.020020</td>\n",
       "      <td>NaN</td>\n",
       "    </tr>\n",
       "  </tbody>\n",
       "</table>\n",
       "</div>"
      ],
      "text/plain": [
       "   L1_diff_date  L0_diff_date  L3_diff_date  L2_diff_date\n",
       "0           NaN      0.029999      0.029999           NaN\n",
       "1           NaN      0.030029      0.020020           NaN\n",
       "2           NaN      0.030029      0.020020           NaN\n",
       "3           NaN      0.020020      0.040039           NaN\n",
       "4           NaN      0.029968      0.020020           NaN"
      ]
     },
     "execution_count": 14,
     "metadata": {},
     "output_type": "execute_result"
    }
   ],
   "source": [
    "tr_line_diff_date.head()"
   ]
  },
  {
   "cell_type": "code",
   "execution_count": 15,
   "metadata": {
    "collapsed": false
   },
   "outputs": [
    {
     "data": {
      "text/plain": [
       "((1183747, 4), (1183748, 4))"
      ]
     },
     "execution_count": 15,
     "metadata": {},
     "output_type": "execute_result"
    }
   ],
   "source": [
    "tr_line_diff_date.shape, te_line_diff_date.shape"
   ]
  },
  {
   "cell_type": "code",
   "execution_count": 16,
   "metadata": {
    "collapsed": false
   },
   "outputs": [],
   "source": [
    "tr_line_station_diff_date = pd.concat([tr_station_diff_date,tr_line_diff_date],axis=1)\n",
    "te_line_station_diff_date = pd.concat([te_station_diff_date,te_line_diff_date],axis=1)"
   ]
  },
  {
   "cell_type": "code",
   "execution_count": 17,
   "metadata": {
    "collapsed": true
   },
   "outputs": [],
   "source": [
    "tr_line_station_diff_date.to_hdf('feats/tr_line_station_diff_date10.hdf5','table')\n",
    "te_line_station_diff_date.to_hdf('feats/te_line_station_diff_date10.hdf5','table')"
   ]
  },
  {
   "cell_type": "code",
   "execution_count": null,
   "metadata": {
    "collapsed": true
   },
   "outputs": [],
   "source": []
  }
 ],
 "metadata": {
  "anaconda-cloud": {},
  "kernelspec": {
   "display_name": "Python [default]",
   "language": "python",
   "name": "python3"
  },
  "language_info": {
   "codemirror_mode": {
    "name": "ipython",
    "version": 3
   },
   "file_extension": ".py",
   "mimetype": "text/x-python",
   "name": "python",
   "nbconvert_exporter": "python",
   "pygments_lexer": "ipython3",
   "version": "3.5.2"
  }
 },
 "nbformat": 4,
 "nbformat_minor": 1
}
