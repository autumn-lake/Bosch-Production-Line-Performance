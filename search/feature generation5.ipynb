{
 "cells": [
  {
   "cell_type": "code",
   "execution_count": 1,
   "metadata": {
    "collapsed": true
   },
   "outputs": [],
   "source": [
    "import pandas as pd\n",
    "import numpy as np"
   ]
  },
  {
   "cell_type": "code",
   "execution_count": 2,
   "metadata": {
    "collapsed": true
   },
   "outputs": [],
   "source": [
    "numeric = \"../input_orig/train_numeric.csv\"\n",
    "date = \"../input_orig/train_date.csv\"\n",
    "categorical = \"../input_orig/train_categorical.csv\"\n",
    "\n",
    "numeric_te = \"../input_orig/test_numeric.csv\"\n",
    "date_te = \"../input_orig/test_date.csv\"\n",
    "categorical_te = \"../input_orig/test_categorical.csv\""
   ]
  },
  {
   "cell_type": "code",
   "execution_count": 3,
   "metadata": {
    "collapsed": true
   },
   "outputs": [],
   "source": [
    "def orgainize(features):\n",
    "    line_features = {}\n",
    "    station_features = {}\n",
    "    lines = set([f.split('_')[0] for f in features])\n",
    "    stations = set([f.split('_')[1] for f in features])\n",
    "    \n",
    "    for l in lines:\n",
    "        line_features[l] = [f for f in features if l+'_' in f]\n",
    "        \n",
    "    for s in stations:\n",
    "        station_features[s] = [f for f in features if s+'_' in f]\n",
    "            \n",
    "    return line_features, station_features"
   ]
  },
  {
   "cell_type": "code",
   "execution_count": 4,
   "metadata": {
    "collapsed": false
   },
   "outputs": [
    {
     "name": "stdout",
     "output_type": "stream",
     "text": [
      "Features in Station 32: ['L3_S32_F3850']\n"
     ]
    }
   ],
   "source": [
    "features_num = pd.read_csv(numeric, nrows=1).drop(['Response', 'Id'], axis=1).columns.values\n",
    "line_features_num, station_features_num = orgainize(features_num)\n",
    "print(\"Features in Station 32: {}\".format( station_features_num['S32'] ))"
   ]
  },
  {
   "cell_type": "code",
   "execution_count": 5,
   "metadata": {
    "collapsed": false
   },
   "outputs": [
    {
     "name": "stdout",
     "output_type": "stream",
     "text": [
      "Features in Station 32: ['L3_S32_D3852']\n"
     ]
    }
   ],
   "source": [
    "features_date = pd.read_csv(date, nrows=1).drop(['Id'], axis=1).columns.values\n",
    "line_features_date, station_features_date = orgainize(features_date)\n",
    "print(\"Features in Station 32: {}\".format( station_features_date['S32'] ))"
   ]
  },
  {
   "cell_type": "code",
   "execution_count": 6,
   "metadata": {
    "collapsed": false
   },
   "outputs": [
    {
     "name": "stdout",
     "output_type": "stream",
     "text": [
      "Features in Station 32: ['L3_S32_F3851', 'L3_S32_F3853', 'L3_S32_F3854']\n"
     ]
    }
   ],
   "source": [
    "features_cat = pd.read_csv(categorical, nrows=1).drop(['Id'], axis=1).columns.values\n",
    "line_features_cat, station_features_cat = orgainize(features_cat)\n",
    "print(\"Features in Station 32: {}\".format( station_features_cat['S32'] ))"
   ]
  },
  {
   "cell_type": "code",
   "execution_count": 7,
   "metadata": {
    "collapsed": false
   },
   "outputs": [],
   "source": [
    "CHUNKSIZE = 200000\n",
    "NROWS_TR = 1183747\n",
    "nrows_tr = 0\n",
    "NROWS_TE = 1183748\n",
    "nrows_te = 0\n",
    "ID_COLUMN = 'Id'\n",
    "TARGET_COLUMN = 'Response'\n",
    "SEED = 0\n",
    "\n",
    "tr_sum_full_num = pd.DataFrame()\n",
    "for tr in pd.read_csv(numeric, chunksize=CHUNKSIZE, dtype=np.float32):\n",
    "    tmp1 = pd.DataFrame()\n",
    "    feats = np.setdiff1d(tr.columns, [ID_COLUMN, TARGET_COLUMN])\n",
    "    tmp1['sum_full_num'] = tr[feats].sum(axis=1)\n",
    "    tr_sum_full_num = tr_sum_full_num.append(tmp1)\n",
    "\n",
    "    nrows_tr += CHUNKSIZE\n",
    "    if nrows_tr >= NROWS_TR:\n",
    "        break\n",
    "        \n",
    "te_sum_full_num = pd.DataFrame()\n",
    "for te in pd.read_csv(numeric_te, chunksize=CHUNKSIZE, dtype=np.float32):\n",
    "    tmp2 = pd.DataFrame()\n",
    "    feats = np.setdiff1d(te.columns, [ID_COLUMN, TARGET_COLUMN])\n",
    "    tmp2['sum_full_num'] = te[feats].sum(axis=1)\n",
    "    te_sum_full_num = te_sum_full_num.append(tmp2)\n",
    "    \n",
    "    nrows_te += CHUNKSIZE\n",
    "    if nrows_te >= NROWS_TE:\n",
    "        break"
   ]
  },
  {
   "cell_type": "code",
   "execution_count": 11,
   "metadata": {
    "collapsed": true
   },
   "outputs": [],
   "source": [
    "CHUNKSIZE = 200000\n",
    "NROWS_TR = 1183747\n",
    "nrows_tr = 0\n",
    "NROWS_TE = 1183748\n",
    "nrows_te = 0\n",
    "ID_COLUMN = 'Id'\n",
    "TARGET_COLUMN = 'Response'\n",
    "SEED = 0\n",
    "\n",
    "tr_sum_full_date = pd.DataFrame()\n",
    "for tr in pd.read_csv(date, chunksize=CHUNKSIZE, dtype=np.float32):\n",
    "    tmp1 = pd.DataFrame()\n",
    "    feats = np.setdiff1d(tr.columns, [ID_COLUMN])\n",
    "    tmp1['sum_full_date'] = tr[feats].sum(axis=1)\n",
    "    tr_sum_full_date = tr_sum_full_date.append(tmp1)\n",
    "\n",
    "    nrows_tr += CHUNKSIZE\n",
    "    if nrows_tr >= NROWS_TR:\n",
    "        break\n",
    "        \n",
    "te_sum_full_date = pd.DataFrame()\n",
    "for te in pd.read_csv(date_te, chunksize=CHUNKSIZE, dtype=np.float32):\n",
    "    tmp2 = pd.DataFrame()\n",
    "    feats = np.setdiff1d(te.columns, [ID_COLUMN])\n",
    "    tmp2['sum_full_date'] = te[feats].sum(axis=1)\n",
    "    te_sum_full_date = te_sum_full_date.append(tmp2)\n",
    "    \n",
    "    nrows_te += CHUNKSIZE\n",
    "    if nrows_te >= NROWS_TE:\n",
    "        break"
   ]
  },
  {
   "cell_type": "code",
   "execution_count": 16,
   "metadata": {
    "collapsed": false
   },
   "outputs": [
    {
     "data": {
      "text/plain": [
       "((1183747, 1), (1183748, 1))"
      ]
     },
     "execution_count": 16,
     "metadata": {},
     "output_type": "execute_result"
    }
   ],
   "source": [
    "tr_sum_full_date.shape, te_sum_full_date.shape"
   ]
  },
  {
   "cell_type": "code",
   "execution_count": 12,
   "metadata": {
    "collapsed": false
   },
   "outputs": [],
   "source": [
    "tr_sum_full = pd.concat([tr_sum_full_num,tr_sum_full_date],axis=1)\n",
    "te_sum_full = pd.concat([te_sum_full_num,te_sum_full_date],axis=1)"
   ]
  },
  {
   "cell_type": "code",
   "execution_count": 17,
   "metadata": {
    "collapsed": false
   },
   "outputs": [
    {
     "data": {
      "text/html": [
       "<div>\n",
       "<table border=\"1\" class=\"dataframe\">\n",
       "  <thead>\n",
       "    <tr style=\"text-align: right;\">\n",
       "      <th></th>\n",
       "      <th>sum_full_num</th>\n",
       "      <th>sum_full_date</th>\n",
       "    </tr>\n",
       "  </thead>\n",
       "  <tbody>\n",
       "    <tr>\n",
       "      <th>0</th>\n",
       "      <td>-3.215</td>\n",
       "      <td>15385.011719</td>\n",
       "    </tr>\n",
       "    <tr>\n",
       "      <th>1</th>\n",
       "      <td>0.451</td>\n",
       "      <td>274861.000000</td>\n",
       "    </tr>\n",
       "    <tr>\n",
       "      <th>2</th>\n",
       "      <td>-0.130</td>\n",
       "      <td>335984.812500</td>\n",
       "    </tr>\n",
       "    <tr>\n",
       "      <th>3</th>\n",
       "      <td>-0.123</td>\n",
       "      <td>238673.750000</td>\n",
       "    </tr>\n",
       "    <tr>\n",
       "      <th>4</th>\n",
       "      <td>-1.453</td>\n",
       "      <td>125285.210938</td>\n",
       "    </tr>\n",
       "  </tbody>\n",
       "</table>\n",
       "</div>"
      ],
      "text/plain": [
       "   sum_full_num  sum_full_date\n",
       "0        -3.215   15385.011719\n",
       "1         0.451  274861.000000\n",
       "2        -0.130  335984.812500\n",
       "3        -0.123  238673.750000\n",
       "4        -1.453  125285.210938"
      ]
     },
     "execution_count": 17,
     "metadata": {},
     "output_type": "execute_result"
    }
   ],
   "source": [
    "tr_sum_full.head()"
   ]
  },
  {
   "cell_type": "code",
   "execution_count": 18,
   "metadata": {
    "collapsed": false
   },
   "outputs": [
    {
     "data": {
      "text/html": [
       "<div>\n",
       "<table border=\"1\" class=\"dataframe\">\n",
       "  <thead>\n",
       "    <tr style=\"text-align: right;\">\n",
       "      <th></th>\n",
       "      <th>sum_full_num</th>\n",
       "      <th>sum_full_date</th>\n",
       "    </tr>\n",
       "  </thead>\n",
       "  <tbody>\n",
       "    <tr>\n",
       "      <th>0</th>\n",
       "      <td>-1.366</td>\n",
       "      <td>196310.265625</td>\n",
       "    </tr>\n",
       "    <tr>\n",
       "      <th>1</th>\n",
       "      <td>-3.401</td>\n",
       "      <td>274750.187500</td>\n",
       "    </tr>\n",
       "    <tr>\n",
       "      <th>2</th>\n",
       "      <td>3.215</td>\n",
       "      <td>174394.093750</td>\n",
       "    </tr>\n",
       "    <tr>\n",
       "      <th>3</th>\n",
       "      <td>-1.776</td>\n",
       "      <td>51450.808594</td>\n",
       "    </tr>\n",
       "    <tr>\n",
       "      <th>4</th>\n",
       "      <td>1.463</td>\n",
       "      <td>189861.421875</td>\n",
       "    </tr>\n",
       "  </tbody>\n",
       "</table>\n",
       "</div>"
      ],
      "text/plain": [
       "   sum_full_num  sum_full_date\n",
       "0        -1.366  196310.265625\n",
       "1        -3.401  274750.187500\n",
       "2         3.215  174394.093750\n",
       "3        -1.776   51450.808594\n",
       "4         1.463  189861.421875"
      ]
     },
     "execution_count": 18,
     "metadata": {},
     "output_type": "execute_result"
    }
   ],
   "source": [
    "te_sum_full.head()"
   ]
  },
  {
   "cell_type": "code",
   "execution_count": 13,
   "metadata": {
    "collapsed": false
   },
   "outputs": [],
   "source": [
    "tr_sum_full.to_hdf('tr_sum_full5.hdf5','table')\n",
    "te_sum_full.to_hdf('te_sum_full5.hdf5','table')"
   ]
  },
  {
   "cell_type": "code",
   "execution_count": null,
   "metadata": {
    "collapsed": true
   },
   "outputs": [],
   "source": []
  }
 ],
 "metadata": {
  "anaconda-cloud": {},
  "kernelspec": {
   "display_name": "Python [default]",
   "language": "python",
   "name": "python3"
  },
  "language_info": {
   "codemirror_mode": {
    "name": "ipython",
    "version": 3
   },
   "file_extension": ".py",
   "mimetype": "text/x-python",
   "name": "python",
   "nbconvert_exporter": "python",
   "pygments_lexer": "ipython3",
   "version": "3.5.2"
  }
 },
 "nbformat": 4,
 "nbformat_minor": 1
}
