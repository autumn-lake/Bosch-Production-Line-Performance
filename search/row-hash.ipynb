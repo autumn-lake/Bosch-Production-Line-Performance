{
 "cells": [
  {
   "cell_type": "code",
   "execution_count": 1,
   "metadata": {
    "collapsed": true
   },
   "outputs": [],
   "source": [
    "import pandas as pd\n",
    "import numpy as np"
   ]
  },
  {
   "cell_type": "code",
   "execution_count": 2,
   "metadata": {
    "collapsed": true
   },
   "outputs": [],
   "source": [
    "#df_tr = pd.read_hdf('../input_hdf/df_tr_with_faron.hdf5','table')\n",
    "df_te = pd.read_hdf('../input_hdf/df_te_with_faron.hdf5','table')"
   ]
  },
  {
   "cell_type": "code",
   "execution_count": 3,
   "metadata": {
    "collapsed": true
   },
   "outputs": [],
   "source": [
    "#y = pd.read_csv('../input_orig/train_numeric.csv', usecols=['Response'])\n",
    "\n",
    "#df_tr['Response'] = y\n",
    "df_te['Response'] = -1\n",
    "torm = ['StartTime','magic1','magic2','magic3','magic4','Response']\n",
    "#df = df[df.Response==1]"
   ]
  },
  {
   "cell_type": "code",
   "execution_count": 4,
   "metadata": {
    "collapsed": false
   },
   "outputs": [
    {
     "data": {
      "text/plain": [
       "7"
      ]
     },
     "execution_count": 4,
     "metadata": {},
     "output_type": "execute_result"
    }
   ],
   "source": [
    "import gc\n",
    "gc.collect()"
   ]
  },
  {
   "cell_type": "code",
   "execution_count": 5,
   "metadata": {
    "collapsed": true
   },
   "outputs": [],
   "source": [
    "#ind_tr = pd.read_csv('../input_orig/train_numeric.csv', usecols=['Id'])\n",
    "ind_te = pd.read_csv('../input_orig/test_numeric.csv', usecols=['Id'])"
   ]
  },
  {
   "cell_type": "code",
   "execution_count": 6,
   "metadata": {
    "collapsed": true
   },
   "outputs": [],
   "source": [
    "#df_tr.index = ind_tr.Id\n",
    "df_te.index = ind_te.Id"
   ]
  },
  {
   "cell_type": "code",
   "execution_count": 7,
   "metadata": {
    "collapsed": true
   },
   "outputs": [],
   "source": [
    "#df_all = pd.concat([df_tr,df_te],axis=0)\n",
    "df_te.fillna(-999999.0,inplace=True)"
   ]
  },
  {
   "cell_type": "code",
   "execution_count": 11,
   "metadata": {
    "collapsed": false
   },
   "outputs": [
    {
     "data": {
      "text/html": [
       "<div>\n",
       "<table border=\"1\" class=\"dataframe\">\n",
       "  <thead>\n",
       "    <tr style=\"text-align: right;\">\n",
       "      <th></th>\n",
       "      <th>L0_S1_F27_2</th>\n",
       "      <th>L0_S1_F29_1</th>\n",
       "      <th>L0_S1_F31_2</th>\n",
       "      <th>L0_S1_F31_4</th>\n",
       "      <th>L0_S1_F31_5</th>\n",
       "      <th>L0_S2_F33_1</th>\n",
       "      <th>L0_S2_F35_1</th>\n",
       "      <th>L0_S2_F35_2</th>\n",
       "      <th>L0_S2_F35_3</th>\n",
       "      <th>L0_S2_F35_4</th>\n",
       "      <th>...</th>\n",
       "      <th>L3_S51_F4256</th>\n",
       "      <th>L3_S51_F4258</th>\n",
       "      <th>L3_S51_F4260</th>\n",
       "      <th>L3_S51_F4262</th>\n",
       "      <th>StartTime</th>\n",
       "      <th>magic1</th>\n",
       "      <th>magic2</th>\n",
       "      <th>magic3</th>\n",
       "      <th>magic4</th>\n",
       "      <th>Response</th>\n",
       "    </tr>\n",
       "    <tr>\n",
       "      <th>Id</th>\n",
       "      <th></th>\n",
       "      <th></th>\n",
       "      <th></th>\n",
       "      <th></th>\n",
       "      <th></th>\n",
       "      <th></th>\n",
       "      <th></th>\n",
       "      <th></th>\n",
       "      <th></th>\n",
       "      <th></th>\n",
       "      <th></th>\n",
       "      <th></th>\n",
       "      <th></th>\n",
       "      <th></th>\n",
       "      <th></th>\n",
       "      <th></th>\n",
       "      <th></th>\n",
       "      <th></th>\n",
       "      <th></th>\n",
       "      <th></th>\n",
       "      <th></th>\n",
       "    </tr>\n",
       "  </thead>\n",
       "  <tbody>\n",
       "    <tr>\n",
       "      <th>1</th>\n",
       "      <td>0</td>\n",
       "      <td>0</td>\n",
       "      <td>0</td>\n",
       "      <td>0</td>\n",
       "      <td>0</td>\n",
       "      <td>0</td>\n",
       "      <td>0</td>\n",
       "      <td>0</td>\n",
       "      <td>0</td>\n",
       "      <td>0</td>\n",
       "      <td>...</td>\n",
       "      <td>-999999.0</td>\n",
       "      <td>-999999.0</td>\n",
       "      <td>-999999.0</td>\n",
       "      <td>-999999.0</td>\n",
       "      <td>792.719971</td>\n",
       "      <td>-2367494</td>\n",
       "      <td>-1</td>\n",
       "      <td>-2324187</td>\n",
       "      <td>-3232</td>\n",
       "      <td>-1</td>\n",
       "    </tr>\n",
       "    <tr>\n",
       "      <th>2</th>\n",
       "      <td>0</td>\n",
       "      <td>0</td>\n",
       "      <td>0</td>\n",
       "      <td>0</td>\n",
       "      <td>0</td>\n",
       "      <td>0</td>\n",
       "      <td>0</td>\n",
       "      <td>0</td>\n",
       "      <td>0</td>\n",
       "      <td>0</td>\n",
       "      <td>...</td>\n",
       "      <td>-999999.0</td>\n",
       "      <td>-999999.0</td>\n",
       "      <td>-999999.0</td>\n",
       "      <td>-999999.0</td>\n",
       "      <td>1025.630005</td>\n",
       "      <td>1</td>\n",
       "      <td>-1</td>\n",
       "      <td>-2353739</td>\n",
       "      <td>-5943</td>\n",
       "      <td>-1</td>\n",
       "    </tr>\n",
       "    <tr>\n",
       "      <th>3</th>\n",
       "      <td>0</td>\n",
       "      <td>0</td>\n",
       "      <td>0</td>\n",
       "      <td>0</td>\n",
       "      <td>0</td>\n",
       "      <td>0</td>\n",
       "      <td>0</td>\n",
       "      <td>0</td>\n",
       "      <td>0</td>\n",
       "      <td>0</td>\n",
       "      <td>...</td>\n",
       "      <td>-999999.0</td>\n",
       "      <td>-999999.0</td>\n",
       "      <td>-999999.0</td>\n",
       "      <td>-999999.0</td>\n",
       "      <td>671.919983</td>\n",
       "      <td>1</td>\n",
       "      <td>-2</td>\n",
       "      <td>-2357112</td>\n",
       "      <td>-17769</td>\n",
       "      <td>-1</td>\n",
       "    </tr>\n",
       "    <tr>\n",
       "      <th>5</th>\n",
       "      <td>0</td>\n",
       "      <td>0</td>\n",
       "      <td>0</td>\n",
       "      <td>0</td>\n",
       "      <td>0</td>\n",
       "      <td>0</td>\n",
       "      <td>0</td>\n",
       "      <td>0</td>\n",
       "      <td>0</td>\n",
       "      <td>0</td>\n",
       "      <td>...</td>\n",
       "      <td>-999999.0</td>\n",
       "      <td>-999999.0</td>\n",
       "      <td>-999999.0</td>\n",
       "      <td>-999999.0</td>\n",
       "      <td>255.449997</td>\n",
       "      <td>2</td>\n",
       "      <td>-3</td>\n",
       "      <td>-2364005</td>\n",
       "      <td>-33948</td>\n",
       "      <td>-1</td>\n",
       "    </tr>\n",
       "    <tr>\n",
       "      <th>8</th>\n",
       "      <td>0</td>\n",
       "      <td>0</td>\n",
       "      <td>0</td>\n",
       "      <td>0</td>\n",
       "      <td>0</td>\n",
       "      <td>0</td>\n",
       "      <td>0</td>\n",
       "      <td>0</td>\n",
       "      <td>0</td>\n",
       "      <td>0</td>\n",
       "      <td>...</td>\n",
       "      <td>-999999.0</td>\n",
       "      <td>-999999.0</td>\n",
       "      <td>-999999.0</td>\n",
       "      <td>-999999.0</td>\n",
       "      <td>743.380005</td>\n",
       "      <td>3</td>\n",
       "      <td>-2</td>\n",
       "      <td>-1856001</td>\n",
       "      <td>-132849</td>\n",
       "      <td>-1</td>\n",
       "    </tr>\n",
       "  </tbody>\n",
       "</table>\n",
       "<p>5 rows × 2775 columns</p>\n",
       "</div>"
      ],
      "text/plain": [
       "    L0_S1_F27_2  L0_S1_F29_1  L0_S1_F31_2  L0_S1_F31_4  L0_S1_F31_5  \\\n",
       "Id                                                                    \n",
       "1             0            0            0            0            0   \n",
       "2             0            0            0            0            0   \n",
       "3             0            0            0            0            0   \n",
       "5             0            0            0            0            0   \n",
       "8             0            0            0            0            0   \n",
       "\n",
       "    L0_S2_F33_1  L0_S2_F35_1  L0_S2_F35_2  L0_S2_F35_3  L0_S2_F35_4    ...     \\\n",
       "Id                                                                     ...      \n",
       "1             0            0            0            0            0    ...      \n",
       "2             0            0            0            0            0    ...      \n",
       "3             0            0            0            0            0    ...      \n",
       "5             0            0            0            0            0    ...      \n",
       "8             0            0            0            0            0    ...      \n",
       "\n",
       "    L3_S51_F4256  L3_S51_F4258  L3_S51_F4260  L3_S51_F4262    StartTime  \\\n",
       "Id                                                                        \n",
       "1      -999999.0     -999999.0     -999999.0     -999999.0   792.719971   \n",
       "2      -999999.0     -999999.0     -999999.0     -999999.0  1025.630005   \n",
       "3      -999999.0     -999999.0     -999999.0     -999999.0   671.919983   \n",
       "5      -999999.0     -999999.0     -999999.0     -999999.0   255.449997   \n",
       "8      -999999.0     -999999.0     -999999.0     -999999.0   743.380005   \n",
       "\n",
       "     magic1  magic2   magic3  magic4  Response  \n",
       "Id                                              \n",
       "1  -2367494      -1 -2324187   -3232        -1  \n",
       "2         1      -1 -2353739   -5943        -1  \n",
       "3         1      -2 -2357112  -17769        -1  \n",
       "5         2      -3 -2364005  -33948        -1  \n",
       "8         3      -2 -1856001 -132849        -1  \n",
       "\n",
       "[5 rows x 2775 columns]"
      ]
     },
     "execution_count": 11,
     "metadata": {},
     "output_type": "execute_result"
    }
   ],
   "source": [
    "df_te.head()"
   ]
  },
  {
   "cell_type": "code",
   "execution_count": 12,
   "metadata": {
    "collapsed": false
   },
   "outputs": [],
   "source": [
    "#hashes = df_all.apply(lambda x: hash(tuple(x)), axis=0)\n",
    "hashes = df_te[np.setdiff1d(df_te.columns,torm)].apply(lambda x: hash(tuple(x)), axis=1)"
   ]
  },
  {
   "cell_type": "code",
   "execution_count": 13,
   "metadata": {
    "collapsed": false
   },
   "outputs": [
    {
     "data": {
      "text/plain": [
       "Id\n",
       "1   -5020424425443146591\n",
       "2   -5509747424065139029\n",
       "3    -415276250881699173\n",
       "5    2042171446426316135\n",
       "8   -5743254445300768103\n",
       "dtype: int64"
      ]
     },
     "execution_count": 13,
     "metadata": {},
     "output_type": "execute_result"
    }
   ],
   "source": [
    "hashes.head()"
   ]
  },
  {
   "cell_type": "code",
   "execution_count": 14,
   "metadata": {
    "collapsed": false
   },
   "outputs": [],
   "source": [
    "hashes_df = pd.DataFrame(hashes)"
   ]
  },
  {
   "cell_type": "code",
   "execution_count": 15,
   "metadata": {
    "collapsed": true
   },
   "outputs": [],
   "source": [
    "hashes_df.to_csv('hash_te.csv',index_label='Id')"
   ]
  },
  {
   "cell_type": "code",
   "execution_count": null,
   "metadata": {
    "collapsed": false
   },
   "outputs": [],
   "source": [
    "#df_dup = df_tr.loc[hashes.duplicated()]"
   ]
  },
  {
   "cell_type": "code",
   "execution_count": null,
   "metadata": {
    "collapsed": false
   },
   "outputs": [],
   "source": [
    "#df_dup[df_dup.Response==1]"
   ]
  },
  {
   "cell_type": "code",
   "execution_count": null,
   "metadata": {
    "collapsed": false
   },
   "outputs": [],
   "source": [
    "#df_dup = df_all[df_all.duplicated(subset=np.setdiff1d(df_all.columns,torm),keep=False)]\n",
    "#df_dup.head()"
   ]
  }
 ],
 "metadata": {
  "anaconda-cloud": {},
  "kernelspec": {
   "display_name": "Python [default]",
   "language": "python",
   "name": "python3"
  },
  "language_info": {
   "codemirror_mode": {
    "name": "ipython",
    "version": 3
   },
   "file_extension": ".py",
   "mimetype": "text/x-python",
   "name": "python",
   "nbconvert_exporter": "python",
   "pygments_lexer": "ipython3",
   "version": "3.5.2"
  }
 },
 "nbformat": 4,
 "nbformat_minor": 1
}
