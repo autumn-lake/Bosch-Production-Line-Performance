{
 "cells": [
  {
   "cell_type": "code",
   "execution_count": 1,
   "metadata": {
    "collapsed": true
   },
   "outputs": [],
   "source": [
    "import pandas as pd\n",
    "import numpy as np"
   ]
  },
  {
   "cell_type": "code",
   "execution_count": 2,
   "metadata": {
    "collapsed": true
   },
   "outputs": [],
   "source": [
    "numeric = \"../input_orig/train_numeric.csv\"\n",
    "date = \"../input_orig/train_date.csv\"\n",
    "categorical = \"../input_orig/train_categorical.csv\"\n",
    "\n",
    "numeric_te = \"../input_orig/test_numeric.csv\"\n",
    "date_te = \"../input_orig/test_date.csv\"\n",
    "categorical_te = \"../input_orig/test_categorical.csv\""
   ]
  },
  {
   "cell_type": "code",
   "execution_count": 3,
   "metadata": {
    "collapsed": true
   },
   "outputs": [],
   "source": [
    "def orgainize(features):\n",
    "    line_features = {}\n",
    "    station_features = {}\n",
    "    lines = set([f.split('_')[0] for f in features])\n",
    "    stations = set([f.split('_')[1] for f in features])\n",
    "    \n",
    "    for l in lines:\n",
    "        line_features[l] = [f for f in features if l+'_' in f]\n",
    "        \n",
    "    for s in stations:\n",
    "        station_features[s] = [f for f in features if s+'_' in f]\n",
    "            \n",
    "    return line_features, station_features"
   ]
  },
  {
   "cell_type": "code",
   "execution_count": 4,
   "metadata": {
    "collapsed": false
   },
   "outputs": [
    {
     "name": "stdout",
     "output_type": "stream",
     "text": [
      "Features in Station 32: ['L3_S32_F3850']\n"
     ]
    }
   ],
   "source": [
    "features_num = pd.read_csv(numeric, nrows=1).drop(['Response', 'Id'], axis=1).columns.values\n",
    "line_features_num, station_features_num = orgainize(features_num)\n",
    "print(\"Features in Station 32: {}\".format( station_features_num['S32'] ))"
   ]
  },
  {
   "cell_type": "code",
   "execution_count": 5,
   "metadata": {
    "collapsed": false
   },
   "outputs": [
    {
     "name": "stdout",
     "output_type": "stream",
     "text": [
      "Features in Station 32: ['L3_S32_D3852']\n"
     ]
    }
   ],
   "source": [
    "features_date = pd.read_csv(date, nrows=1).drop(['Id'], axis=1).columns.values\n",
    "line_features_date, station_features_date = orgainize(features_date)\n",
    "print(\"Features in Station 32: {}\".format( station_features_date['S32'] ))"
   ]
  },
  {
   "cell_type": "code",
   "execution_count": 7,
   "metadata": {
    "collapsed": false
   },
   "outputs": [
    {
     "name": "stdout",
     "output_type": "stream",
     "text": [
      "Features in Station 32: ['L3_S32_F3851', 'L3_S32_F3853', 'L3_S32_F3854']\n"
     ]
    }
   ],
   "source": [
    "features_cat = pd.read_csv(categorical, nrows=1).drop(['Id'], axis=1).columns.values\n",
    "line_features_cat, station_features_cat = orgainize(features_cat)\n",
    "print(\"Features in Station 32: {}\".format( station_features_cat['S32'] ))"
   ]
  },
  {
   "cell_type": "code",
   "execution_count": 8,
   "metadata": {
    "collapsed": true
   },
   "outputs": [],
   "source": [
    "CHUNKSIZE = 200000\n",
    "NROWS_TR = 1183747\n",
    "nrows_tr = 0\n",
    "NROWS_TE = 1183748\n",
    "nrows_te = 0\n",
    "ID_COLUMN = 'Id'\n",
    "TARGET_COLUMN = 'Response'\n",
    "SEED = 0\n",
    "\n",
    "tr_minmaxdiff_full_date = pd.DataFrame()\n",
    "for tr in pd.read_csv(date, chunksize=CHUNKSIZE, dtype=np.float32):\n",
    "    tmp1 = pd.DataFrame()\n",
    "    feats = np.setdiff1d(tr.columns, [ID_COLUMN])\n",
    "    tmp1['date_max_full'] = tr[feats].max(axis=1)\n",
    "    tmp1['date_min_full'] = tr[feats].min(axis=1)\n",
    "    tmp1['date_diff_full'] = tmp1['date_max_full'] - tmp1['date_min_full']\n",
    "    tr_minmaxdiff_full_date = tr_minmaxdiff_full_date.append(tmp1)\n",
    "\n",
    "    nrows_tr += CHUNKSIZE\n",
    "    if nrows_tr >= NROWS_TR:\n",
    "        break\n",
    "        \n",
    "te_minmaxdiff_full_date = pd.DataFrame()\n",
    "for te in pd.read_csv(date_te, chunksize=CHUNKSIZE, dtype=np.float32):\n",
    "    tmp2 = pd.DataFrame()\n",
    "    feats = np.setdiff1d(te.columns, [ID_COLUMN])\n",
    "    tmp2['date_max_full'] = te[feats].max(axis=1)\n",
    "    tmp2['date_min_full'] = te[feats].min(axis=1)\n",
    "    tmp2['date_diff_full'] = tmp2['date_max_full'] - tmp2['date_min_full']\n",
    "    te_minmaxdiff_full_date = te_minmaxdiff_full_date.append(tmp2)\n",
    "    \n",
    "    nrows_te += CHUNKSIZE\n",
    "    if nrows_te >= NROWS_TE:\n",
    "        break"
   ]
  },
  {
   "cell_type": "code",
   "execution_count": 9,
   "metadata": {
    "collapsed": false
   },
   "outputs": [
    {
     "data": {
      "text/plain": [
       "((1183747, 3), (1183748, 3))"
      ]
     },
     "execution_count": 9,
     "metadata": {},
     "output_type": "execute_result"
    }
   ],
   "source": [
    "tr_minmaxdiff_full_date.shape, te_minmaxdiff_full_date.shape"
   ]
  },
  {
   "cell_type": "code",
   "execution_count": 10,
   "metadata": {
    "collapsed": false
   },
   "outputs": [
    {
     "data": {
      "text/html": [
       "<div>\n",
       "<table border=\"1\" class=\"dataframe\">\n",
       "  <thead>\n",
       "    <tr style=\"text-align: right;\">\n",
       "      <th></th>\n",
       "      <th>date_max_full</th>\n",
       "      <th>date_min_full</th>\n",
       "      <th>date_diff_full</th>\n",
       "    </tr>\n",
       "  </thead>\n",
       "  <tbody>\n",
       "    <tr>\n",
       "      <th>0</th>\n",
       "      <td>800.700012</td>\n",
       "      <td>792.719971</td>\n",
       "      <td>7.980042</td>\n",
       "    </tr>\n",
       "    <tr>\n",
       "      <th>1</th>\n",
       "      <td>1060.069946</td>\n",
       "      <td>1025.630005</td>\n",
       "      <td>34.439941</td>\n",
       "    </tr>\n",
       "    <tr>\n",
       "      <th>2</th>\n",
       "      <td>711.080017</td>\n",
       "      <td>671.919983</td>\n",
       "      <td>39.160034</td>\n",
       "    </tr>\n",
       "    <tr>\n",
       "      <th>3</th>\n",
       "      <td>256.279999</td>\n",
       "      <td>255.449997</td>\n",
       "      <td>0.830002</td>\n",
       "    </tr>\n",
       "    <tr>\n",
       "      <th>4</th>\n",
       "      <td>770.280029</td>\n",
       "      <td>743.380005</td>\n",
       "      <td>26.900024</td>\n",
       "    </tr>\n",
       "  </tbody>\n",
       "</table>\n",
       "</div>"
      ],
      "text/plain": [
       "   date_max_full  date_min_full  date_diff_full\n",
       "0     800.700012     792.719971        7.980042\n",
       "1    1060.069946    1025.630005       34.439941\n",
       "2     711.080017     671.919983       39.160034\n",
       "3     256.279999     255.449997        0.830002\n",
       "4     770.280029     743.380005       26.900024"
      ]
     },
     "execution_count": 10,
     "metadata": {},
     "output_type": "execute_result"
    }
   ],
   "source": [
    "te_minmaxdiff_full_date.head()"
   ]
  },
  {
   "cell_type": "code",
   "execution_count": 11,
   "metadata": {
    "collapsed": false
   },
   "outputs": [
    {
     "data": {
      "text/html": [
       "<div>\n",
       "<table border=\"1\" class=\"dataframe\">\n",
       "  <thead>\n",
       "    <tr style=\"text-align: right;\">\n",
       "      <th></th>\n",
       "      <th>date_max_full</th>\n",
       "      <th>date_min_full</th>\n",
       "      <th>date_diff_full</th>\n",
       "    </tr>\n",
       "  </thead>\n",
       "  <tbody>\n",
       "    <tr>\n",
       "      <th>0</th>\n",
       "      <td>87.290001</td>\n",
       "      <td>82.239998</td>\n",
       "      <td>5.050003</td>\n",
       "    </tr>\n",
       "    <tr>\n",
       "      <th>1</th>\n",
       "      <td>1315.750000</td>\n",
       "      <td>1313.119995</td>\n",
       "      <td>2.630005</td>\n",
       "    </tr>\n",
       "    <tr>\n",
       "      <th>2</th>\n",
       "      <td>1624.420044</td>\n",
       "      <td>1618.699951</td>\n",
       "      <td>5.720093</td>\n",
       "    </tr>\n",
       "    <tr>\n",
       "      <th>3</th>\n",
       "      <td>1154.160034</td>\n",
       "      <td>1149.199951</td>\n",
       "      <td>4.960083</td>\n",
       "    </tr>\n",
       "    <tr>\n",
       "      <th>4</th>\n",
       "      <td>606.020020</td>\n",
       "      <td>602.640015</td>\n",
       "      <td>3.380005</td>\n",
       "    </tr>\n",
       "  </tbody>\n",
       "</table>\n",
       "</div>"
      ],
      "text/plain": [
       "   date_max_full  date_min_full  date_diff_full\n",
       "0      87.290001      82.239998        5.050003\n",
       "1    1315.750000    1313.119995        2.630005\n",
       "2    1624.420044    1618.699951        5.720093\n",
       "3    1154.160034    1149.199951        4.960083\n",
       "4     606.020020     602.640015        3.380005"
      ]
     },
     "execution_count": 11,
     "metadata": {},
     "output_type": "execute_result"
    }
   ],
   "source": [
    "tr_minmaxdiff_full_date.head()"
   ]
  },
  {
   "cell_type": "code",
   "execution_count": 12,
   "metadata": {
    "collapsed": true
   },
   "outputs": [],
   "source": [
    "tr_minmaxdiff_full_date.to_hdf('feats/tr_minmaxdiff_full_date9.hdf5','table')\n",
    "te_minmaxdiff_full_date.to_hdf('feats/te_minmaxdiff_full_date9.hdf5','table')"
   ]
  },
  {
   "cell_type": "code",
   "execution_count": null,
   "metadata": {
    "collapsed": true
   },
   "outputs": [],
   "source": []
  }
 ],
 "metadata": {
  "anaconda-cloud": {},
  "kernelspec": {
   "display_name": "Python [default]",
   "language": "python",
   "name": "python3"
  },
  "language_info": {
   "codemirror_mode": {
    "name": "ipython",
    "version": 3
   },
   "file_extension": ".py",
   "mimetype": "text/x-python",
   "name": "python",
   "nbconvert_exporter": "python",
   "pygments_lexer": "ipython3",
   "version": "3.5.2"
  }
 },
 "nbformat": 4,
 "nbformat_minor": 1
}
