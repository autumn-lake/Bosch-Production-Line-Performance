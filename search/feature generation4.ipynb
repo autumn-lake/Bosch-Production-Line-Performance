{
 "cells": [
  {
   "cell_type": "code",
   "execution_count": 1,
   "metadata": {
    "collapsed": true
   },
   "outputs": [],
   "source": [
    "import pandas as pd\n",
    "import numpy as np"
   ]
  },
  {
   "cell_type": "code",
   "execution_count": 2,
   "metadata": {
    "collapsed": true
   },
   "outputs": [],
   "source": [
    "numeric = \"../input_orig/train_numeric.csv\"\n",
    "date = \"../input_orig/train_date.csv\"\n",
    "categorical = \"../input_orig/train_categorical.csv\"\n",
    "\n",
    "numeric_te = \"../input_orig/test_numeric.csv\"\n",
    "date_te = \"../input_orig/test_date.csv\"\n",
    "categorical_te = \"../input_orig/test_categorical.csv\""
   ]
  },
  {
   "cell_type": "code",
   "execution_count": 3,
   "metadata": {
    "collapsed": true
   },
   "outputs": [],
   "source": [
    "def orgainize(features):\n",
    "    line_features = {}\n",
    "    station_features = {}\n",
    "    lines = set([f.split('_')[0] for f in features])\n",
    "    stations = set([f.split('_')[1] for f in features])\n",
    "    \n",
    "    for l in lines:\n",
    "        line_features[l] = [f for f in features if l+'_' in f]\n",
    "        \n",
    "    for s in stations:\n",
    "        station_features[s] = [f for f in features if s+'_' in f]\n",
    "            \n",
    "    return line_features, station_features"
   ]
  },
  {
   "cell_type": "code",
   "execution_count": 4,
   "metadata": {
    "collapsed": false
   },
   "outputs": [
    {
     "name": "stdout",
     "output_type": "stream",
     "text": [
      "Features in Station 32: ['L3_S32_F3850']\n"
     ]
    }
   ],
   "source": [
    "features_num = pd.read_csv(numeric, nrows=1).drop(['Response', 'Id'], axis=1).columns.values\n",
    "line_features_num, station_features_num = orgainize(features_num)\n",
    "print(\"Features in Station 32: {}\".format( station_features_num['S32'] ))"
   ]
  },
  {
   "cell_type": "code",
   "execution_count": 5,
   "metadata": {
    "collapsed": false
   },
   "outputs": [
    {
     "name": "stdout",
     "output_type": "stream",
     "text": [
      "Features in Station 32: ['L3_S32_D3852']\n"
     ]
    }
   ],
   "source": [
    "features_date = pd.read_csv(date, nrows=1).drop(['Id'], axis=1).columns.values\n",
    "line_features_date, station_features_date = orgainize(features_date)\n",
    "print(\"Features in Station 32: {}\".format( station_features_date['S32'] ))"
   ]
  },
  {
   "cell_type": "code",
   "execution_count": 6,
   "metadata": {
    "collapsed": false
   },
   "outputs": [
    {
     "name": "stdout",
     "output_type": "stream",
     "text": [
      "Features in Station 32: ['L3_S32_F3851', 'L3_S32_F3853', 'L3_S32_F3854']\n"
     ]
    }
   ],
   "source": [
    "features_cat = pd.read_csv(categorical, nrows=1).drop(['Id'], axis=1).columns.values\n",
    "line_features_cat, station_features_cat = orgainize(features_cat)\n",
    "print(\"Features in Station 32: {}\".format( station_features_cat['S32'] ))"
   ]
  },
  {
   "cell_type": "code",
   "execution_count": 7,
   "metadata": {
    "collapsed": false
   },
   "outputs": [],
   "source": [
    "CHUNKSIZE = 200000\n",
    "NROWS_TR = 1183747\n",
    "nrows_tr = 0\n",
    "NROWS_TE = 1183748\n",
    "nrows_te = 0\n",
    "ID_COLUMN = 'Id'\n",
    "TARGET_COLUMN = 'Response'\n",
    "SEED = 0\n",
    "\n",
    "tr_nonNaN_full_num = pd.DataFrame()\n",
    "for tr in pd.read_csv(numeric, chunksize=CHUNKSIZE, dtype=np.float32):\n",
    "    tmp1 = pd.DataFrame()\n",
    "    feats = np.setdiff1d(tr.columns, [ID_COLUMN, TARGET_COLUMN])\n",
    "    tmp1['nonNaN_full_num'] = tr[feats].count(axis=1).astype(np.int16)\n",
    "    tr_nonNaN_full_num = tr_nonNaN_full_num.append(tmp1)\n",
    "\n",
    "    nrows_tr += CHUNKSIZE\n",
    "    if nrows_tr >= NROWS_TR:\n",
    "        break\n",
    "        \n",
    "te_nonNaN_full_num = pd.DataFrame()\n",
    "for te in pd.read_csv(numeric_te, chunksize=CHUNKSIZE, dtype=np.float32):\n",
    "    tmp2 = pd.DataFrame()\n",
    "    feats = np.setdiff1d(te.columns, [ID_COLUMN, TARGET_COLUMN])\n",
    "    tmp2['nonNaN_full_num'] = te[feats].count(axis=1).astype(np.int16)\n",
    "    te_nonNaN_full_num = te_nonNaN_full_num.append(tmp2)\n",
    "    \n",
    "    nrows_te += CHUNKSIZE\n",
    "    if nrows_te >= NROWS_TE:\n",
    "        break"
   ]
  },
  {
   "cell_type": "code",
   "execution_count": 11,
   "metadata": {
    "collapsed": true
   },
   "outputs": [],
   "source": [
    "CHUNKSIZE = 200000\n",
    "NROWS_TR = 1183747\n",
    "nrows_tr = 0\n",
    "NROWS_TE = 1183748\n",
    "nrows_te = 0\n",
    "ID_COLUMN = 'Id'\n",
    "TARGET_COLUMN = 'Response'\n",
    "SEED = 0\n",
    "\n",
    "tr_nonNaN_full_date = pd.DataFrame()\n",
    "for tr in pd.read_csv(date, chunksize=CHUNKSIZE, dtype=np.float32):\n",
    "    tmp1 = pd.DataFrame()\n",
    "    feats = np.setdiff1d(tr.columns, [ID_COLUMN])\n",
    "    tmp1['nonNaN_full_date'] = tr[feats].count(axis=1).astype(np.int16)\n",
    "    tr_nonNaN_full_date = tr_nonNaN_full_date.append(tmp1)\n",
    "\n",
    "    nrows_tr += CHUNKSIZE\n",
    "    if nrows_tr >= NROWS_TR:\n",
    "        break\n",
    "        \n",
    "te_nonNaN_full_date = pd.DataFrame()\n",
    "for te in pd.read_csv(date_te, chunksize=CHUNKSIZE, dtype=np.float32):\n",
    "    tmp2 = pd.DataFrame()\n",
    "    feats = np.setdiff1d(te.columns, [ID_COLUMN])\n",
    "    tmp2['nonNaN_full_date'] = te[feats].count(axis=1).astype(np.int16)\n",
    "    te_nonNaN_full_date = te_nonNaN_full_date.append(tmp2)\n",
    "    \n",
    "    nrows_te += CHUNKSIZE\n",
    "    if nrows_te >= NROWS_TE:\n",
    "        break"
   ]
  },
  {
   "cell_type": "code",
   "execution_count": 15,
   "metadata": {
    "collapsed": true
   },
   "outputs": [],
   "source": [
    "import warnings\n",
    "warnings.filterwarnings('ignore')\n",
    "\n",
    "CHUNKSIZE = 50000\n",
    "NROWS_TR = 1183747\n",
    "nrows_tr = 0\n",
    "NROWS_TE = 1183748\n",
    "nrows_te = 0\n",
    "ID_COLUMN = 'Id'\n",
    "TARGET_COLUMN = 'Response'\n",
    "SEED = 0\n",
    "\n",
    "tr_nonNaN_full_cat = pd.DataFrame()\n",
    "for tr in pd.read_csv(categorical, chunksize=CHUNKSIZE):\n",
    "    tmp1 = pd.DataFrame()\n",
    "    feats = np.setdiff1d(tr.columns, [ID_COLUMN])\n",
    "    tmp1['nonNaN_full_cat'] = tr[feats].count(axis=1).astype(np.int16)\n",
    "    tr_nonNaN_full_cat = tr_nonNaN_full_cat.append(tmp1)\n",
    "\n",
    "    nrows_tr += CHUNKSIZE\n",
    "    if nrows_tr >= NROWS_TR:\n",
    "        break\n",
    "        \n",
    "te_nonNaN_full_cat = pd.DataFrame()\n",
    "for te in pd.read_csv(categorical_te, chunksize=CHUNKSIZE):\n",
    "    tmp2 = pd.DataFrame()\n",
    "    feats = np.setdiff1d(te.columns, [ID_COLUMN])\n",
    "    tmp2['nonNaN_full_cat'] = te[feats].count(axis=1).astype(np.int16)\n",
    "    te_nonNaN_full_cat = te_nonNaN_full_cat.append(tmp2)\n",
    "    \n",
    "    nrows_te += CHUNKSIZE\n",
    "    if nrows_te >= NROWS_TE:\n",
    "        break"
   ]
  },
  {
   "cell_type": "code",
   "execution_count": 16,
   "metadata": {
    "collapsed": false
   },
   "outputs": [
    {
     "data": {
      "text/html": [
       "<div>\n",
       "<table border=\"1\" class=\"dataframe\">\n",
       "  <thead>\n",
       "    <tr style=\"text-align: right;\">\n",
       "      <th></th>\n",
       "      <th>nonNaN_full_cat</th>\n",
       "    </tr>\n",
       "  </thead>\n",
       "  <tbody>\n",
       "    <tr>\n",
       "      <th>0</th>\n",
       "      <td>0</td>\n",
       "    </tr>\n",
       "    <tr>\n",
       "      <th>1</th>\n",
       "      <td>0</td>\n",
       "    </tr>\n",
       "    <tr>\n",
       "      <th>2</th>\n",
       "      <td>63</td>\n",
       "    </tr>\n",
       "    <tr>\n",
       "      <th>3</th>\n",
       "      <td>63</td>\n",
       "    </tr>\n",
       "    <tr>\n",
       "      <th>4</th>\n",
       "      <td>63</td>\n",
       "    </tr>\n",
       "  </tbody>\n",
       "</table>\n",
       "</div>"
      ],
      "text/plain": [
       "   nonNaN_full_cat\n",
       "0                0\n",
       "1                0\n",
       "2               63\n",
       "3               63\n",
       "4               63"
      ]
     },
     "execution_count": 16,
     "metadata": {},
     "output_type": "execute_result"
    }
   ],
   "source": [
    "tr_nonNaN_full_cat.head()"
   ]
  },
  {
   "cell_type": "code",
   "execution_count": 17,
   "metadata": {
    "collapsed": false
   },
   "outputs": [
    {
     "data": {
      "text/html": [
       "<div>\n",
       "<table border=\"1\" class=\"dataframe\">\n",
       "  <thead>\n",
       "    <tr style=\"text-align: right;\">\n",
       "      <th></th>\n",
       "      <th>nonNaN_full_cat</th>\n",
       "    </tr>\n",
       "  </thead>\n",
       "  <tbody>\n",
       "    <tr>\n",
       "      <th>0</th>\n",
       "      <td>59</td>\n",
       "    </tr>\n",
       "    <tr>\n",
       "      <th>1</th>\n",
       "      <td>135</td>\n",
       "    </tr>\n",
       "    <tr>\n",
       "      <th>2</th>\n",
       "      <td>59</td>\n",
       "    </tr>\n",
       "    <tr>\n",
       "      <th>3</th>\n",
       "      <td>90</td>\n",
       "    </tr>\n",
       "    <tr>\n",
       "      <th>4</th>\n",
       "      <td>59</td>\n",
       "    </tr>\n",
       "  </tbody>\n",
       "</table>\n",
       "</div>"
      ],
      "text/plain": [
       "   nonNaN_full_cat\n",
       "0               59\n",
       "1              135\n",
       "2               59\n",
       "3               90\n",
       "4               59"
      ]
     },
     "execution_count": 17,
     "metadata": {},
     "output_type": "execute_result"
    }
   ],
   "source": [
    "te_nonNaN_full_cat.head()"
   ]
  },
  {
   "cell_type": "code",
   "execution_count": 18,
   "metadata": {
    "collapsed": false
   },
   "outputs": [
    {
     "data": {
      "text/plain": [
       "((1183747, 1), (1183748, 1))"
      ]
     },
     "execution_count": 18,
     "metadata": {},
     "output_type": "execute_result"
    }
   ],
   "source": [
    "tr_nonNaN_full_cat.shape, te_nonNaN_full_cat.shape"
   ]
  },
  {
   "cell_type": "code",
   "execution_count": 20,
   "metadata": {
    "collapsed": false
   },
   "outputs": [],
   "source": [
    "tr_nonNaN_full = pd.concat([tr_nonNaN_full_num,tr_nonNaN_full_date,tr_nonNaN_full_cat],axis=1)\n",
    "te_nonNaN_full = pd.concat([te_nonNaN_full_num,te_nonNaN_full_date,te_nonNaN_full_cat],axis=1)"
   ]
  },
  {
   "cell_type": "code",
   "execution_count": 28,
   "metadata": {
    "collapsed": false
   },
   "outputs": [],
   "source": [
    "tr_nonNaN_full.to_hdf('tr_nonNaN_full.hdf5','table')\n",
    "te_nonNaN_full.to_hdf('te_nonNaN_full.hdf5','table')"
   ]
  },
  {
   "cell_type": "code",
   "execution_count": null,
   "metadata": {
    "collapsed": true
   },
   "outputs": [],
   "source": []
  }
 ],
 "metadata": {
  "anaconda-cloud": {},
  "kernelspec": {
   "display_name": "Python [default]",
   "language": "python",
   "name": "python3"
  },
  "language_info": {
   "codemirror_mode": {
    "name": "ipython",
    "version": 3
   },
   "file_extension": ".py",
   "mimetype": "text/x-python",
   "name": "python",
   "nbconvert_exporter": "python",
   "pygments_lexer": "ipython3",
   "version": "3.5.2"
  }
 },
 "nbformat": 4,
 "nbformat_minor": 1
}
