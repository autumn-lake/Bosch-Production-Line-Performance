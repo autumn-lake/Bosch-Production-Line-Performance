{
 "cells": [
  {
   "cell_type": "code",
   "execution_count": 1,
   "metadata": {
    "collapsed": true
   },
   "outputs": [],
   "source": [
    "import pandas as pd\n",
    "import numpy as np"
   ]
  },
  {
   "cell_type": "code",
   "execution_count": 2,
   "metadata": {
    "collapsed": true
   },
   "outputs": [],
   "source": [
    "cmdu = pd.read_csv('../input_hdf/corr_matrix_date_unique.csv')"
   ]
  },
  {
   "cell_type": "code",
   "execution_count": 3,
   "metadata": {
    "collapsed": false
   },
   "outputs": [
    {
     "data": {
      "text/html": [
       "<div>\n",
       "<table border=\"1\" class=\"dataframe\">\n",
       "  <thead>\n",
       "    <tr style=\"text-align: right;\">\n",
       "      <th></th>\n",
       "      <th>Unnamed: 0</th>\n",
       "      <th>Id</th>\n",
       "      <th>L0_S0_D1</th>\n",
       "      <th>L0_S1_D26</th>\n",
       "      <th>L0_S1_D30</th>\n",
       "      <th>L0_S2_D34</th>\n",
       "      <th>L0_S3_D70</th>\n",
       "      <th>L0_S4_D106</th>\n",
       "      <th>L0_S4_D111</th>\n",
       "      <th>L0_S5_D115</th>\n",
       "      <th>...</th>\n",
       "      <th>L3_S43_D4082</th>\n",
       "      <th>L3_S44_D4101</th>\n",
       "      <th>L3_S45_D4125</th>\n",
       "      <th>L3_S46_D4135</th>\n",
       "      <th>L3_S47_D4140</th>\n",
       "      <th>L3_S48_D4194</th>\n",
       "      <th>L3_S49_D4208</th>\n",
       "      <th>L3_S49_D4218</th>\n",
       "      <th>L3_S50_D4242</th>\n",
       "      <th>L3_S51_D4255</th>\n",
       "    </tr>\n",
       "  </thead>\n",
       "  <tbody>\n",
       "    <tr>\n",
       "      <th>0</th>\n",
       "      <td>Id</td>\n",
       "      <td>1.000000</td>\n",
       "      <td>-0.009326</td>\n",
       "      <td>-0.009364</td>\n",
       "      <td>-0.009359</td>\n",
       "      <td>-0.005165</td>\n",
       "      <td>-0.005016</td>\n",
       "      <td>-0.004892</td>\n",
       "      <td>-0.004903</td>\n",
       "      <td>-0.005320</td>\n",
       "      <td>...</td>\n",
       "      <td>-0.003365</td>\n",
       "      <td>-0.003067</td>\n",
       "      <td>-0.004465</td>\n",
       "      <td>0.001558</td>\n",
       "      <td>-0.004532</td>\n",
       "      <td>-0.004527</td>\n",
       "      <td>-0.002974</td>\n",
       "      <td>-0.003008</td>\n",
       "      <td>-0.003320</td>\n",
       "      <td>-0.004811</td>\n",
       "    </tr>\n",
       "    <tr>\n",
       "      <th>1</th>\n",
       "      <td>L0_S0_D1</td>\n",
       "      <td>-0.009326</td>\n",
       "      <td>1.000000</td>\n",
       "      <td>0.997171</td>\n",
       "      <td>0.997175</td>\n",
       "      <td>0.550374</td>\n",
       "      <td>0.544523</td>\n",
       "      <td>0.545208</td>\n",
       "      <td>0.545149</td>\n",
       "      <td>0.550020</td>\n",
       "      <td>...</td>\n",
       "      <td>0.011837</td>\n",
       "      <td>0.012978</td>\n",
       "      <td>0.018172</td>\n",
       "      <td>0.000799</td>\n",
       "      <td>0.018145</td>\n",
       "      <td>0.018112</td>\n",
       "      <td>0.013220</td>\n",
       "      <td>0.013232</td>\n",
       "      <td>0.012042</td>\n",
       "      <td>0.018626</td>\n",
       "    </tr>\n",
       "    <tr>\n",
       "      <th>2</th>\n",
       "      <td>L0_S1_D26</td>\n",
       "      <td>-0.009364</td>\n",
       "      <td>0.997171</td>\n",
       "      <td>1.000000</td>\n",
       "      <td>0.999997</td>\n",
       "      <td>0.550264</td>\n",
       "      <td>0.544709</td>\n",
       "      <td>0.545277</td>\n",
       "      <td>0.545217</td>\n",
       "      <td>0.550028</td>\n",
       "      <td>...</td>\n",
       "      <td>0.011869</td>\n",
       "      <td>0.013076</td>\n",
       "      <td>0.018257</td>\n",
       "      <td>0.000799</td>\n",
       "      <td>0.018230</td>\n",
       "      <td>0.018197</td>\n",
       "      <td>0.013220</td>\n",
       "      <td>0.013232</td>\n",
       "      <td>0.012161</td>\n",
       "      <td>0.018712</td>\n",
       "    </tr>\n",
       "    <tr>\n",
       "      <th>3</th>\n",
       "      <td>L0_S1_D30</td>\n",
       "      <td>-0.009359</td>\n",
       "      <td>0.997175</td>\n",
       "      <td>0.999997</td>\n",
       "      <td>1.000000</td>\n",
       "      <td>0.550270</td>\n",
       "      <td>0.544707</td>\n",
       "      <td>0.545278</td>\n",
       "      <td>0.545219</td>\n",
       "      <td>0.550029</td>\n",
       "      <td>...</td>\n",
       "      <td>0.011869</td>\n",
       "      <td>0.013076</td>\n",
       "      <td>0.018257</td>\n",
       "      <td>0.000799</td>\n",
       "      <td>0.018229</td>\n",
       "      <td>0.018197</td>\n",
       "      <td>0.013220</td>\n",
       "      <td>0.013232</td>\n",
       "      <td>0.012160</td>\n",
       "      <td>0.018711</td>\n",
       "    </tr>\n",
       "    <tr>\n",
       "      <th>4</th>\n",
       "      <td>L0_S2_D34</td>\n",
       "      <td>-0.005165</td>\n",
       "      <td>0.550374</td>\n",
       "      <td>0.550264</td>\n",
       "      <td>0.550270</td>\n",
       "      <td>1.000000</td>\n",
       "      <td>-0.397217</td>\n",
       "      <td>0.301303</td>\n",
       "      <td>0.301272</td>\n",
       "      <td>0.303177</td>\n",
       "      <td>...</td>\n",
       "      <td>0.009369</td>\n",
       "      <td>0.009225</td>\n",
       "      <td>0.013518</td>\n",
       "      <td>0.001448</td>\n",
       "      <td>0.013476</td>\n",
       "      <td>0.013447</td>\n",
       "      <td>0.010556</td>\n",
       "      <td>0.010580</td>\n",
       "      <td>0.008265</td>\n",
       "      <td>0.013770</td>\n",
       "    </tr>\n",
       "  </tbody>\n",
       "</table>\n",
       "<p>5 rows × 163 columns</p>\n",
       "</div>"
      ],
      "text/plain": [
       "  Unnamed: 0        Id  L0_S0_D1  L0_S1_D26  L0_S1_D30  L0_S2_D34  L0_S3_D70  \\\n",
       "0         Id  1.000000 -0.009326  -0.009364  -0.009359  -0.005165  -0.005016   \n",
       "1   L0_S0_D1 -0.009326  1.000000   0.997171   0.997175   0.550374   0.544523   \n",
       "2  L0_S1_D26 -0.009364  0.997171   1.000000   0.999997   0.550264   0.544709   \n",
       "3  L0_S1_D30 -0.009359  0.997175   0.999997   1.000000   0.550270   0.544707   \n",
       "4  L0_S2_D34 -0.005165  0.550374   0.550264   0.550270   1.000000  -0.397217   \n",
       "\n",
       "   L0_S4_D106  L0_S4_D111  L0_S5_D115      ...       L3_S43_D4082  \\\n",
       "0   -0.004892   -0.004903   -0.005320      ...          -0.003365   \n",
       "1    0.545208    0.545149    0.550020      ...           0.011837   \n",
       "2    0.545277    0.545217    0.550028      ...           0.011869   \n",
       "3    0.545278    0.545219    0.550029      ...           0.011869   \n",
       "4    0.301303    0.301272    0.303177      ...           0.009369   \n",
       "\n",
       "   L3_S44_D4101  L3_S45_D4125  L3_S46_D4135  L3_S47_D4140  L3_S48_D4194  \\\n",
       "0     -0.003067     -0.004465      0.001558     -0.004532     -0.004527   \n",
       "1      0.012978      0.018172      0.000799      0.018145      0.018112   \n",
       "2      0.013076      0.018257      0.000799      0.018230      0.018197   \n",
       "3      0.013076      0.018257      0.000799      0.018229      0.018197   \n",
       "4      0.009225      0.013518      0.001448      0.013476      0.013447   \n",
       "\n",
       "   L3_S49_D4208  L3_S49_D4218  L3_S50_D4242  L3_S51_D4255  \n",
       "0     -0.002974     -0.003008     -0.003320     -0.004811  \n",
       "1      0.013220      0.013232      0.012042      0.018626  \n",
       "2      0.013220      0.013232      0.012161      0.018712  \n",
       "3      0.013220      0.013232      0.012160      0.018711  \n",
       "4      0.010556      0.010580      0.008265      0.013770  \n",
       "\n",
       "[5 rows x 163 columns]"
      ]
     },
     "execution_count": 3,
     "metadata": {},
     "output_type": "execute_result"
    }
   ],
   "source": [
    "cmdu.head()"
   ]
  },
  {
   "cell_type": "code",
   "execution_count": 4,
   "metadata": {
    "collapsed": true
   },
   "outputs": [],
   "source": [
    "tr_date162 = pd.read_hdf('../input_hdf/train_date_162cols.hdf5','table')"
   ]
  },
  {
   "cell_type": "code",
   "execution_count": 5,
   "metadata": {
    "collapsed": false
   },
   "outputs": [],
   "source": [
    "tr_date162.replace(-999999.0, np.nan, inplace=True)"
   ]
  },
  {
   "cell_type": "code",
   "execution_count": 6,
   "metadata": {
    "collapsed": false
   },
   "outputs": [
    {
     "data": {
      "text/html": [
       "<div>\n",
       "<table border=\"1\" class=\"dataframe\">\n",
       "  <thead>\n",
       "    <tr style=\"text-align: right;\">\n",
       "      <th></th>\n",
       "      <th>Id</th>\n",
       "      <th>L0_S0_D1</th>\n",
       "      <th>L0_S1_D26</th>\n",
       "      <th>L0_S1_D30</th>\n",
       "      <th>L0_S2_D34</th>\n",
       "      <th>L0_S3_D70</th>\n",
       "      <th>L0_S4_D106</th>\n",
       "      <th>L0_S4_D111</th>\n",
       "      <th>L0_S5_D115</th>\n",
       "      <th>L0_S6_D120</th>\n",
       "      <th>...</th>\n",
       "      <th>L3_S43_D4082</th>\n",
       "      <th>L3_S44_D4101</th>\n",
       "      <th>L3_S45_D4125</th>\n",
       "      <th>L3_S46_D4135</th>\n",
       "      <th>L3_S47_D4140</th>\n",
       "      <th>L3_S48_D4194</th>\n",
       "      <th>L3_S49_D4208</th>\n",
       "      <th>L3_S49_D4218</th>\n",
       "      <th>L3_S50_D4242</th>\n",
       "      <th>L3_S51_D4255</th>\n",
       "    </tr>\n",
       "  </thead>\n",
       "  <tbody>\n",
       "    <tr>\n",
       "      <th>0</th>\n",
       "      <td>4.0</td>\n",
       "      <td>82.239998</td>\n",
       "      <td>82.239998</td>\n",
       "      <td>82.239998</td>\n",
       "      <td>82.239998</td>\n",
       "      <td>NaN</td>\n",
       "      <td>82.260002</td>\n",
       "      <td>82.260002</td>\n",
       "      <td>NaN</td>\n",
       "      <td>NaN</td>\n",
       "      <td>...</td>\n",
       "      <td>NaN</td>\n",
       "      <td>NaN</td>\n",
       "      <td>NaN</td>\n",
       "      <td>NaN</td>\n",
       "      <td>NaN</td>\n",
       "      <td>NaN</td>\n",
       "      <td>NaN</td>\n",
       "      <td>NaN</td>\n",
       "      <td>NaN</td>\n",
       "      <td>NaN</td>\n",
       "    </tr>\n",
       "    <tr>\n",
       "      <th>1</th>\n",
       "      <td>6.0</td>\n",
       "      <td>NaN</td>\n",
       "      <td>NaN</td>\n",
       "      <td>NaN</td>\n",
       "      <td>NaN</td>\n",
       "      <td>NaN</td>\n",
       "      <td>NaN</td>\n",
       "      <td>NaN</td>\n",
       "      <td>NaN</td>\n",
       "      <td>NaN</td>\n",
       "      <td>...</td>\n",
       "      <td>NaN</td>\n",
       "      <td>NaN</td>\n",
       "      <td>NaN</td>\n",
       "      <td>NaN</td>\n",
       "      <td>NaN</td>\n",
       "      <td>NaN</td>\n",
       "      <td>NaN</td>\n",
       "      <td>NaN</td>\n",
       "      <td>NaN</td>\n",
       "      <td>NaN</td>\n",
       "    </tr>\n",
       "    <tr>\n",
       "      <th>2</th>\n",
       "      <td>7.0</td>\n",
       "      <td>1618.699951</td>\n",
       "      <td>1618.699951</td>\n",
       "      <td>1618.699951</td>\n",
       "      <td>1618.699951</td>\n",
       "      <td>NaN</td>\n",
       "      <td>NaN</td>\n",
       "      <td>NaN</td>\n",
       "      <td>1618.719971</td>\n",
       "      <td>1618.719971</td>\n",
       "      <td>...</td>\n",
       "      <td>NaN</td>\n",
       "      <td>NaN</td>\n",
       "      <td>NaN</td>\n",
       "      <td>NaN</td>\n",
       "      <td>NaN</td>\n",
       "      <td>NaN</td>\n",
       "      <td>NaN</td>\n",
       "      <td>NaN</td>\n",
       "      <td>NaN</td>\n",
       "      <td>NaN</td>\n",
       "    </tr>\n",
       "    <tr>\n",
       "      <th>3</th>\n",
       "      <td>9.0</td>\n",
       "      <td>1149.199951</td>\n",
       "      <td>1149.199951</td>\n",
       "      <td>1149.199951</td>\n",
       "      <td>1149.209961</td>\n",
       "      <td>NaN</td>\n",
       "      <td>1149.219971</td>\n",
       "      <td>1149.219971</td>\n",
       "      <td>NaN</td>\n",
       "      <td>NaN</td>\n",
       "      <td>...</td>\n",
       "      <td>NaN</td>\n",
       "      <td>NaN</td>\n",
       "      <td>NaN</td>\n",
       "      <td>NaN</td>\n",
       "      <td>NaN</td>\n",
       "      <td>NaN</td>\n",
       "      <td>NaN</td>\n",
       "      <td>NaN</td>\n",
       "      <td>NaN</td>\n",
       "      <td>NaN</td>\n",
       "    </tr>\n",
       "    <tr>\n",
       "      <th>4</th>\n",
       "      <td>11.0</td>\n",
       "      <td>602.640015</td>\n",
       "      <td>602.640015</td>\n",
       "      <td>602.640015</td>\n",
       "      <td>NaN</td>\n",
       "      <td>602.640015</td>\n",
       "      <td>602.659973</td>\n",
       "      <td>602.659973</td>\n",
       "      <td>NaN</td>\n",
       "      <td>NaN</td>\n",
       "      <td>...</td>\n",
       "      <td>NaN</td>\n",
       "      <td>NaN</td>\n",
       "      <td>NaN</td>\n",
       "      <td>NaN</td>\n",
       "      <td>NaN</td>\n",
       "      <td>NaN</td>\n",
       "      <td>NaN</td>\n",
       "      <td>NaN</td>\n",
       "      <td>NaN</td>\n",
       "      <td>NaN</td>\n",
       "    </tr>\n",
       "  </tbody>\n",
       "</table>\n",
       "<p>5 rows × 162 columns</p>\n",
       "</div>"
      ],
      "text/plain": [
       "     Id     L0_S0_D1    L0_S1_D26    L0_S1_D30    L0_S2_D34   L0_S3_D70  \\\n",
       "0   4.0    82.239998    82.239998    82.239998    82.239998         NaN   \n",
       "1   6.0          NaN          NaN          NaN          NaN         NaN   \n",
       "2   7.0  1618.699951  1618.699951  1618.699951  1618.699951         NaN   \n",
       "3   9.0  1149.199951  1149.199951  1149.199951  1149.209961         NaN   \n",
       "4  11.0   602.640015   602.640015   602.640015          NaN  602.640015   \n",
       "\n",
       "    L0_S4_D106   L0_S4_D111   L0_S5_D115   L0_S6_D120      ...       \\\n",
       "0    82.260002    82.260002          NaN          NaN      ...        \n",
       "1          NaN          NaN          NaN          NaN      ...        \n",
       "2          NaN          NaN  1618.719971  1618.719971      ...        \n",
       "3  1149.219971  1149.219971          NaN          NaN      ...        \n",
       "4   602.659973   602.659973          NaN          NaN      ...        \n",
       "\n",
       "   L3_S43_D4082  L3_S44_D4101  L3_S45_D4125  L3_S46_D4135  L3_S47_D4140  \\\n",
       "0           NaN           NaN           NaN           NaN           NaN   \n",
       "1           NaN           NaN           NaN           NaN           NaN   \n",
       "2           NaN           NaN           NaN           NaN           NaN   \n",
       "3           NaN           NaN           NaN           NaN           NaN   \n",
       "4           NaN           NaN           NaN           NaN           NaN   \n",
       "\n",
       "   L3_S48_D4194  L3_S49_D4208  L3_S49_D4218  L3_S50_D4242  L3_S51_D4255  \n",
       "0           NaN           NaN           NaN           NaN           NaN  \n",
       "1           NaN           NaN           NaN           NaN           NaN  \n",
       "2           NaN           NaN           NaN           NaN           NaN  \n",
       "3           NaN           NaN           NaN           NaN           NaN  \n",
       "4           NaN           NaN           NaN           NaN           NaN  \n",
       "\n",
       "[5 rows x 162 columns]"
      ]
     },
     "execution_count": 6,
     "metadata": {},
     "output_type": "execute_result"
    }
   ],
   "source": [
    "tr_date162.head()"
   ]
  },
  {
   "cell_type": "code",
   "execution_count": 7,
   "metadata": {
    "collapsed": true
   },
   "outputs": [],
   "source": [
    "resp = pd.read_csv('../input_orig/train_numeric.csv', usecols=['Id','Response'])"
   ]
  },
  {
   "cell_type": "code",
   "execution_count": 8,
   "metadata": {
    "collapsed": false
   },
   "outputs": [],
   "source": [
    "tr_date162.insert(1, 'Response', resp.Response.values)"
   ]
  },
  {
   "cell_type": "code",
   "execution_count": 9,
   "metadata": {
    "collapsed": true
   },
   "outputs": [],
   "source": [
    "tr_resp1 = tr_date162[tr_date162.Response==1]"
   ]
  },
  {
   "cell_type": "code",
   "execution_count": 10,
   "metadata": {
    "collapsed": false
   },
   "outputs": [],
   "source": [
    "tr_resp1.reset_index(drop=True, inplace=True)"
   ]
  },
  {
   "cell_type": "code",
   "execution_count": 11,
   "metadata": {
    "collapsed": false
   },
   "outputs": [],
   "source": [
    "#tr_resp1.to_csv('tr_resp1_date.csv', index=False)"
   ]
  },
  {
   "cell_type": "code",
   "execution_count": 12,
   "metadata": {
    "collapsed": false
   },
   "outputs": [
    {
     "data": {
      "text/html": [
       "<div>\n",
       "<table border=\"1\" class=\"dataframe\">\n",
       "  <thead>\n",
       "    <tr style=\"text-align: right;\">\n",
       "      <th></th>\n",
       "      <th>Id</th>\n",
       "      <th>Response</th>\n",
       "      <th>L0_S0_D1</th>\n",
       "      <th>L0_S1_D26</th>\n",
       "      <th>L0_S1_D30</th>\n",
       "      <th>L0_S2_D34</th>\n",
       "      <th>L0_S3_D70</th>\n",
       "      <th>L0_S4_D106</th>\n",
       "      <th>L0_S4_D111</th>\n",
       "      <th>L0_S5_D115</th>\n",
       "      <th>...</th>\n",
       "      <th>L3_S43_D4082</th>\n",
       "      <th>L3_S44_D4101</th>\n",
       "      <th>L3_S45_D4125</th>\n",
       "      <th>L3_S46_D4135</th>\n",
       "      <th>L3_S47_D4140</th>\n",
       "      <th>L3_S48_D4194</th>\n",
       "      <th>L3_S49_D4208</th>\n",
       "      <th>L3_S49_D4218</th>\n",
       "      <th>L3_S50_D4242</th>\n",
       "      <th>L3_S51_D4255</th>\n",
       "    </tr>\n",
       "  </thead>\n",
       "  <tbody>\n",
       "    <tr>\n",
       "      <th>0</th>\n",
       "      <td>4.0</td>\n",
       "      <td>0</td>\n",
       "      <td>82.239998</td>\n",
       "      <td>82.239998</td>\n",
       "      <td>82.239998</td>\n",
       "      <td>82.239998</td>\n",
       "      <td>NaN</td>\n",
       "      <td>82.260002</td>\n",
       "      <td>82.260002</td>\n",
       "      <td>NaN</td>\n",
       "      <td>...</td>\n",
       "      <td>NaN</td>\n",
       "      <td>NaN</td>\n",
       "      <td>NaN</td>\n",
       "      <td>NaN</td>\n",
       "      <td>NaN</td>\n",
       "      <td>NaN</td>\n",
       "      <td>NaN</td>\n",
       "      <td>NaN</td>\n",
       "      <td>NaN</td>\n",
       "      <td>NaN</td>\n",
       "    </tr>\n",
       "    <tr>\n",
       "      <th>1</th>\n",
       "      <td>6.0</td>\n",
       "      <td>0</td>\n",
       "      <td>NaN</td>\n",
       "      <td>NaN</td>\n",
       "      <td>NaN</td>\n",
       "      <td>NaN</td>\n",
       "      <td>NaN</td>\n",
       "      <td>NaN</td>\n",
       "      <td>NaN</td>\n",
       "      <td>NaN</td>\n",
       "      <td>...</td>\n",
       "      <td>NaN</td>\n",
       "      <td>NaN</td>\n",
       "      <td>NaN</td>\n",
       "      <td>NaN</td>\n",
       "      <td>NaN</td>\n",
       "      <td>NaN</td>\n",
       "      <td>NaN</td>\n",
       "      <td>NaN</td>\n",
       "      <td>NaN</td>\n",
       "      <td>NaN</td>\n",
       "    </tr>\n",
       "    <tr>\n",
       "      <th>2</th>\n",
       "      <td>7.0</td>\n",
       "      <td>0</td>\n",
       "      <td>1618.699951</td>\n",
       "      <td>1618.699951</td>\n",
       "      <td>1618.699951</td>\n",
       "      <td>1618.699951</td>\n",
       "      <td>NaN</td>\n",
       "      <td>NaN</td>\n",
       "      <td>NaN</td>\n",
       "      <td>1618.719971</td>\n",
       "      <td>...</td>\n",
       "      <td>NaN</td>\n",
       "      <td>NaN</td>\n",
       "      <td>NaN</td>\n",
       "      <td>NaN</td>\n",
       "      <td>NaN</td>\n",
       "      <td>NaN</td>\n",
       "      <td>NaN</td>\n",
       "      <td>NaN</td>\n",
       "      <td>NaN</td>\n",
       "      <td>NaN</td>\n",
       "    </tr>\n",
       "    <tr>\n",
       "      <th>3</th>\n",
       "      <td>9.0</td>\n",
       "      <td>0</td>\n",
       "      <td>1149.199951</td>\n",
       "      <td>1149.199951</td>\n",
       "      <td>1149.199951</td>\n",
       "      <td>1149.209961</td>\n",
       "      <td>NaN</td>\n",
       "      <td>1149.219971</td>\n",
       "      <td>1149.219971</td>\n",
       "      <td>NaN</td>\n",
       "      <td>...</td>\n",
       "      <td>NaN</td>\n",
       "      <td>NaN</td>\n",
       "      <td>NaN</td>\n",
       "      <td>NaN</td>\n",
       "      <td>NaN</td>\n",
       "      <td>NaN</td>\n",
       "      <td>NaN</td>\n",
       "      <td>NaN</td>\n",
       "      <td>NaN</td>\n",
       "      <td>NaN</td>\n",
       "    </tr>\n",
       "    <tr>\n",
       "      <th>4</th>\n",
       "      <td>11.0</td>\n",
       "      <td>0</td>\n",
       "      <td>602.640015</td>\n",
       "      <td>602.640015</td>\n",
       "      <td>602.640015</td>\n",
       "      <td>NaN</td>\n",
       "      <td>602.640015</td>\n",
       "      <td>602.659973</td>\n",
       "      <td>602.659973</td>\n",
       "      <td>NaN</td>\n",
       "      <td>...</td>\n",
       "      <td>NaN</td>\n",
       "      <td>NaN</td>\n",
       "      <td>NaN</td>\n",
       "      <td>NaN</td>\n",
       "      <td>NaN</td>\n",
       "      <td>NaN</td>\n",
       "      <td>NaN</td>\n",
       "      <td>NaN</td>\n",
       "      <td>NaN</td>\n",
       "      <td>NaN</td>\n",
       "    </tr>\n",
       "  </tbody>\n",
       "</table>\n",
       "<p>5 rows × 163 columns</p>\n",
       "</div>"
      ],
      "text/plain": [
       "     Id  Response     L0_S0_D1    L0_S1_D26    L0_S1_D30    L0_S2_D34  \\\n",
       "0   4.0         0    82.239998    82.239998    82.239998    82.239998   \n",
       "1   6.0         0          NaN          NaN          NaN          NaN   \n",
       "2   7.0         0  1618.699951  1618.699951  1618.699951  1618.699951   \n",
       "3   9.0         0  1149.199951  1149.199951  1149.199951  1149.209961   \n",
       "4  11.0         0   602.640015   602.640015   602.640015          NaN   \n",
       "\n",
       "    L0_S3_D70   L0_S4_D106   L0_S4_D111   L0_S5_D115      ...       \\\n",
       "0         NaN    82.260002    82.260002          NaN      ...        \n",
       "1         NaN          NaN          NaN          NaN      ...        \n",
       "2         NaN          NaN          NaN  1618.719971      ...        \n",
       "3         NaN  1149.219971  1149.219971          NaN      ...        \n",
       "4  602.640015   602.659973   602.659973          NaN      ...        \n",
       "\n",
       "   L3_S43_D4082  L3_S44_D4101  L3_S45_D4125  L3_S46_D4135  L3_S47_D4140  \\\n",
       "0           NaN           NaN           NaN           NaN           NaN   \n",
       "1           NaN           NaN           NaN           NaN           NaN   \n",
       "2           NaN           NaN           NaN           NaN           NaN   \n",
       "3           NaN           NaN           NaN           NaN           NaN   \n",
       "4           NaN           NaN           NaN           NaN           NaN   \n",
       "\n",
       "   L3_S48_D4194  L3_S49_D4208  L3_S49_D4218  L3_S50_D4242  L3_S51_D4255  \n",
       "0           NaN           NaN           NaN           NaN           NaN  \n",
       "1           NaN           NaN           NaN           NaN           NaN  \n",
       "2           NaN           NaN           NaN           NaN           NaN  \n",
       "3           NaN           NaN           NaN           NaN           NaN  \n",
       "4           NaN           NaN           NaN           NaN           NaN  \n",
       "\n",
       "[5 rows x 163 columns]"
      ]
     },
     "execution_count": 12,
     "metadata": {},
     "output_type": "execute_result"
    }
   ],
   "source": [
    "tr_date162.head()"
   ]
  },
  {
   "cell_type": "code",
   "execution_count": 13,
   "metadata": {
    "collapsed": false
   },
   "outputs": [],
   "source": [
    "non_null = tr_date162.count(axis=0).sort_values(ascending=False)"
   ]
  },
  {
   "cell_type": "code",
   "execution_count": 14,
   "metadata": {
    "collapsed": false
   },
   "outputs": [
    {
     "data": {
      "text/plain": [
       "Id              1183747\n",
       "Response        1183747\n",
       "L3_S37_D3942    1120394\n",
       "L3_S30_D3726    1119811\n",
       "L3_S30_D3496    1119805\n",
       "dtype: int64"
      ]
     },
     "execution_count": 14,
     "metadata": {},
     "output_type": "execute_result"
    }
   ],
   "source": [
    "non_null.head()"
   ]
  },
  {
   "cell_type": "code",
   "execution_count": 15,
   "metadata": {
    "collapsed": false
   },
   "outputs": [],
   "source": [
    "#tr_162_sorted = tr_date162.sort_values(by='L3_S37_D3942')"
   ]
  },
  {
   "cell_type": "code",
   "execution_count": 16,
   "metadata": {
    "collapsed": false
   },
   "outputs": [],
   "source": [
    "#tr_resp2 = tr_162_sorted[tr_162_sorted.Response==1]"
   ]
  },
  {
   "cell_type": "code",
   "execution_count": 17,
   "metadata": {
    "collapsed": false
   },
   "outputs": [],
   "source": [
    "#tr_resp2.reset_index(drop=True, inplace=True)"
   ]
  },
  {
   "cell_type": "code",
   "execution_count": 18,
   "metadata": {
    "collapsed": false
   },
   "outputs": [],
   "source": [
    "#tr_resp2.to_csv('tr_resp2_date.csv', index=False)"
   ]
  },
  {
   "cell_type": "code",
   "execution_count": 25,
   "metadata": {
    "collapsed": false
   },
   "outputs": [],
   "source": [
    "feats = np.setdiff1d(tr_date162.columns, ['Id','Response'])"
   ]
  },
  {
   "cell_type": "code",
   "execution_count": 28,
   "metadata": {
    "collapsed": false
   },
   "outputs": [],
   "source": [
    "feats_min = tr_date162[feats].min(axis=1)"
   ]
  },
  {
   "cell_type": "code",
   "execution_count": 29,
   "metadata": {
    "collapsed": true
   },
   "outputs": [],
   "source": [
    "tr_date162.insert(2, 'StartTime', feats_min)"
   ]
  },
  {
   "cell_type": "code",
   "execution_count": 33,
   "metadata": {
    "collapsed": false
   },
   "outputs": [],
   "source": [
    "tr_1 = tr_date162.sort_values('StartTime')"
   ]
  },
  {
   "cell_type": "code",
   "execution_count": 38,
   "metadata": {
    "collapsed": false
   },
   "outputs": [],
   "source": [
    "tr2 = tr_date162.sort_values(['StartTime', 'Id'])"
   ]
  },
  {
   "cell_type": "code",
   "execution_count": 40,
   "metadata": {
    "collapsed": false
   },
   "outputs": [],
   "source": [
    "tr2.reset_index(drop=True, inplace=True)"
   ]
  },
  {
   "cell_type": "code",
   "execution_count": 43,
   "metadata": {
    "collapsed": false
   },
   "outputs": [],
   "source": [
    "grp2 = tr2.groupby('StartTime')"
   ]
  },
  {
   "cell_type": "code",
   "execution_count": 47,
   "metadata": {
    "collapsed": false
   },
   "outputs": [
    {
     "data": {
      "text/plain": [
       "StartTime\n",
       "1160.939941    74\n",
       "368.029999     74\n",
       "974.669983     75\n",
       "676.710022     76\n",
       "993.590027     80\n",
       "dtype: int64"
      ]
     },
     "execution_count": 47,
     "metadata": {},
     "output_type": "execute_result"
    }
   ],
   "source": [
    "grp2.size().sort_values().tail()"
   ]
  },
  {
   "cell_type": "code",
   "execution_count": 54,
   "metadata": {
    "collapsed": false
   },
   "outputs": [
    {
     "data": {
      "text/plain": [
       "64357"
      ]
     },
     "execution_count": 54,
     "metadata": {},
     "output_type": "execute_result"
    }
   ],
   "source": [
    "len(grp2.groups)"
   ]
  },
  {
   "cell_type": "code",
   "execution_count": 60,
   "metadata": {
    "collapsed": false
   },
   "outputs": [
    {
     "data": {
      "text/plain": [
       "(5500,)"
      ]
     },
     "execution_count": 60,
     "metadata": {},
     "output_type": "execute_result"
    }
   ],
   "source": [
    "tr2[tr2.Response==1].StartTime.unique().shape"
   ]
  },
  {
   "cell_type": "code",
   "execution_count": 66,
   "metadata": {
    "collapsed": false
   },
   "outputs": [
    {
     "data": {
      "text/plain": [
       "(5084,)"
      ]
     },
     "execution_count": 66,
     "metadata": {},
     "output_type": "execute_result"
    }
   ],
   "source": [
    "tr2[tr2.Response==1].L3_S37_D3942.unique().shape"
   ]
  },
  {
   "cell_type": "code",
   "execution_count": null,
   "metadata": {
    "collapsed": true
   },
   "outputs": [],
   "source": []
  }
 ],
 "metadata": {
  "anaconda-cloud": {},
  "kernelspec": {
   "display_name": "Python [default]",
   "language": "python",
   "name": "python3"
  },
  "language_info": {
   "codemirror_mode": {
    "name": "ipython",
    "version": 3
   },
   "file_extension": ".py",
   "mimetype": "text/x-python",
   "name": "python",
   "nbconvert_exporter": "python",
   "pygments_lexer": "ipython3",
   "version": "3.5.2"
  }
 },
 "nbformat": 4,
 "nbformat_minor": 1
}
