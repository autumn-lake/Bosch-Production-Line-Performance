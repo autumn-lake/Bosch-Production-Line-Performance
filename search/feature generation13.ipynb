{
 "cells": [
  {
   "cell_type": "code",
   "execution_count": 1,
   "metadata": {
    "collapsed": true
   },
   "outputs": [],
   "source": [
    "import pandas as pd\n",
    "import numpy as np"
   ]
  },
  {
   "cell_type": "code",
   "execution_count": 2,
   "metadata": {
    "collapsed": false
   },
   "outputs": [],
   "source": [
    "df111 = pd.read_hdf('../input_hdf/train_date_162cols.hdf5','table')"
   ]
  },
  {
   "cell_type": "code",
   "execution_count": 3,
   "metadata": {
    "collapsed": false
   },
   "outputs": [],
   "source": [
    "usecol = df111.columns.drop(['Id'])"
   ]
  },
  {
   "cell_type": "code",
   "execution_count": 4,
   "metadata": {
    "collapsed": true
   },
   "outputs": [],
   "source": [
    "numeric = \"../input_orig/train_numeric.csv\"\n",
    "date = \"../input_orig/train_date.csv\"\n",
    "categorical = \"../input_orig/train_categorical.csv\"\n",
    "\n",
    "numeric_te = \"../input_orig/test_numeric.csv\"\n",
    "date_te = \"../input_orig/test_date.csv\"\n",
    "categorical_te = \"../input_orig/test_categorical.csv\""
   ]
  },
  {
   "cell_type": "code",
   "execution_count": 5,
   "metadata": {
    "collapsed": true
   },
   "outputs": [],
   "source": [
    "def orgainize(features):\n",
    "    line_features = {}\n",
    "    station_features = {}\n",
    "    lines = set([f.split('_')[0] for f in features])\n",
    "    stations = set([f.split('_')[1] for f in features])\n",
    "    \n",
    "    for l in lines:\n",
    "        line_features[l] = [f for f in features if l+'_' in f]\n",
    "        \n",
    "    for s in stations:\n",
    "        station_features[s] = [f for f in features if s+'_' in f]\n",
    "            \n",
    "    return line_features, station_features"
   ]
  },
  {
   "cell_type": "code",
   "execution_count": 6,
   "metadata": {
    "collapsed": false
   },
   "outputs": [
    {
     "name": "stdout",
     "output_type": "stream",
     "text": [
      "Features in Station 32: ['L3_S32_F3850']\n"
     ]
    }
   ],
   "source": [
    "features_num = pd.read_csv(numeric, nrows=1).drop(['Response', 'Id'], axis=1).columns.values\n",
    "line_features_num, station_features_num = orgainize(features_num)\n",
    "print(\"Features in Station 32: {}\".format( station_features_num['S32'] ))"
   ]
  },
  {
   "cell_type": "code",
   "execution_count": 7,
   "metadata": {
    "collapsed": false
   },
   "outputs": [
    {
     "name": "stdout",
     "output_type": "stream",
     "text": [
      "Features in Station 32: ['L3_S32_D3852']\n"
     ]
    }
   ],
   "source": [
    "features_date = pd.read_csv(date, nrows=1).drop(['Id'], axis=1).columns.values\n",
    "line_features_date, station_features_date = orgainize(features_date)\n",
    "print(\"Features in Station 32: {}\".format( station_features_date['S32'] ))"
   ]
  },
  {
   "cell_type": "code",
   "execution_count": 8,
   "metadata": {
    "collapsed": false
   },
   "outputs": [
    {
     "name": "stdout",
     "output_type": "stream",
     "text": [
      "Features in Station 32: ['L3_S32_F3851', 'L3_S32_F3853', 'L3_S32_F3854']\n"
     ]
    }
   ],
   "source": [
    "features_cat = pd.read_csv(categorical, nrows=1).drop(['Id'], axis=1).columns.values\n",
    "line_features_cat, station_features_cat = orgainize(features_cat)\n",
    "print(\"Features in Station 32: {}\".format( station_features_cat['S32'] ))"
   ]
  },
  {
   "cell_type": "code",
   "execution_count": 9,
   "metadata": {
    "collapsed": false
   },
   "outputs": [],
   "source": [
    "CHUNKSIZE = 200000\n",
    "NROWS_TR = 1183747\n",
    "nrows_tr = 0\n",
    "NROWS_TE = 1183748\n",
    "nrows_te = 0\n",
    "ID_COLUMN = 'Id'\n",
    "TARGET_COLUMN = 'Response'\n",
    "SEED = 0\n",
    "\n",
    "tr_hash_full_date = pd.DataFrame()\n",
    "for df_tr in pd.read_csv(date, chunksize=CHUNKSIZE, dtype=np.float32, usecols=usecol):\n",
    "    tmp1 = pd.DataFrame()\n",
    "    df_tr.fillna(-1, inplace=True)\n",
    "    cols = df_tr.columns\n",
    "    for col in cols:\n",
    "        df_tr[col] = (1 * (df_tr[col] != -1)).astype(np.int8)\n",
    "    tmp1['hash_full'] = df_tr.apply(lambda x: hash(tuple(x)), axis = 1)\n",
    "    tr_hash_full_date = tr_hash_full_date.append(tmp1)\n",
    "\n",
    "    nrows_tr += CHUNKSIZE\n",
    "    if nrows_tr >= NROWS_TR:\n",
    "        break"
   ]
  },
  {
   "cell_type": "code",
   "execution_count": 10,
   "metadata": {
    "collapsed": false
   },
   "outputs": [],
   "source": [
    "te_hash_full_date = pd.DataFrame()\n",
    "for df_te in pd.read_csv(date_te, chunksize=CHUNKSIZE, dtype=np.float32, usecols=usecol):\n",
    "    tmp2 = pd.DataFrame()\n",
    "    df_te.fillna(-1, inplace=True)\n",
    "    cols = df_te.columns\n",
    "    for col in cols:\n",
    "        df_te[col] = (1 * (df_te[col] != -1)).astype(np.int8)\n",
    "    tmp2['hash_full'] = df_te.apply(lambda x: hash(tuple(x)), axis = 1)\n",
    "    te_hash_full_date = te_hash_full_date.append(tmp2)\n",
    "    \n",
    "    nrows_te += CHUNKSIZE\n",
    "    if nrows_te >= NROWS_TE:\n",
    "        break"
   ]
  },
  {
   "cell_type": "code",
   "execution_count": 11,
   "metadata": {
    "collapsed": false
   },
   "outputs": [
    {
     "data": {
      "text/plain": [
       "((1183747, 1), (1183748, 1))"
      ]
     },
     "execution_count": 11,
     "metadata": {},
     "output_type": "execute_result"
    }
   ],
   "source": [
    "tr_hash_full_date.shape, te_hash_full_date.shape"
   ]
  },
  {
   "cell_type": "code",
   "execution_count": 12,
   "metadata": {
    "collapsed": false
   },
   "outputs": [
    {
     "data": {
      "text/plain": [
       "(17017,)"
      ]
     },
     "execution_count": 12,
     "metadata": {},
     "output_type": "execute_result"
    }
   ],
   "source": [
    "tr_hash_full_date.hash_full.unique().shape"
   ]
  },
  {
   "cell_type": "code",
   "execution_count": 35,
   "metadata": {
    "collapsed": false
   },
   "outputs": [
    {
     "data": {
      "text/html": [
       "<div>\n",
       "<table border=\"1\" class=\"dataframe\">\n",
       "  <thead>\n",
       "    <tr style=\"text-align: right;\">\n",
       "      <th></th>\n",
       "      <th>hash_full_date</th>\n",
       "    </tr>\n",
       "  </thead>\n",
       "  <tbody>\n",
       "    <tr>\n",
       "      <th>0</th>\n",
       "      <td>0</td>\n",
       "    </tr>\n",
       "    <tr>\n",
       "      <th>1</th>\n",
       "      <td>1</td>\n",
       "    </tr>\n",
       "    <tr>\n",
       "      <th>2</th>\n",
       "      <td>2</td>\n",
       "    </tr>\n",
       "    <tr>\n",
       "      <th>3</th>\n",
       "      <td>3</td>\n",
       "    </tr>\n",
       "    <tr>\n",
       "      <th>4</th>\n",
       "      <td>4</td>\n",
       "    </tr>\n",
       "  </tbody>\n",
       "</table>\n",
       "</div>"
      ],
      "text/plain": [
       "   hash_full_date\n",
       "0               0\n",
       "1               1\n",
       "2               2\n",
       "3               3\n",
       "4               4"
      ]
     },
     "execution_count": 35,
     "metadata": {},
     "output_type": "execute_result"
    }
   ],
   "source": [
    "tr_hash_full_date.head()"
   ]
  },
  {
   "cell_type": "code",
   "execution_count": 33,
   "metadata": {
    "collapsed": true
   },
   "outputs": [],
   "source": [
    "tr_hash_full_date.columns = ['hash_full_date']\n",
    "te_hash_full_date.columns = ['hash_full_date']"
   ]
  },
  {
   "cell_type": "code",
   "execution_count": 14,
   "metadata": {
    "collapsed": true
   },
   "outputs": [],
   "source": [
    "hash_full_date = pd.concat([tr_hash_full_date,te_hash_full_date],axis=0,ignore_index=True)"
   ]
  },
  {
   "cell_type": "code",
   "execution_count": 22,
   "metadata": {
    "collapsed": false
   },
   "outputs": [],
   "source": [
    "hash_full_date['hash_full'] = pd.factorize(hash_full_date['hash_full'])[0]"
   ]
  },
  {
   "cell_type": "code",
   "execution_count": 24,
   "metadata": {
    "collapsed": false
   },
   "outputs": [
    {
     "data": {
      "text/plain": [
       "23173"
      ]
     },
     "execution_count": 24,
     "metadata": {},
     "output_type": "execute_result"
    }
   ],
   "source": [
    "hash_full_date.hash_full.max()"
   ]
  },
  {
   "cell_type": "code",
   "execution_count": 25,
   "metadata": {
    "collapsed": false
   },
   "outputs": [],
   "source": [
    "tr_hash_full_date = hash_full_date.ix[0:tr_hash_full_date.shape[0]-1]\n",
    "te_hash_full_date = hash_full_date.ix[tr_hash_full_date.shape[0]:]"
   ]
  },
  {
   "cell_type": "code",
   "execution_count": 26,
   "metadata": {
    "collapsed": false
   },
   "outputs": [],
   "source": [
    "te_hash_full_date.reset_index(drop=1,inplace=1)"
   ]
  },
  {
   "cell_type": "code",
   "execution_count": 27,
   "metadata": {
    "collapsed": false
   },
   "outputs": [],
   "source": [
    "tr_hash_full_date = tr_hash_full_date.astype(np.int32)\n",
    "te_hash_full_date = te_hash_full_date.astype(np.int32)"
   ]
  },
  {
   "cell_type": "code",
   "execution_count": 36,
   "metadata": {
    "collapsed": true
   },
   "outputs": [],
   "source": [
    "tr_hash_full_date.to_hdf('feats/tr_hash_full_date13.hdf5','table')\n",
    "te_hash_full_date.to_hdf('feats/te_hash_full_date13.hdf5','table')"
   ]
  },
  {
   "cell_type": "code",
   "execution_count": 37,
   "metadata": {
    "collapsed": true
   },
   "outputs": [],
   "source": [
    "tr_num_nan = pd.read_hdf('../input_hdf/train_numeric_928cols_NANs.hdf5','table')\n",
    "te_num_nan = pd.read_hdf('../input_hdf/test_numeric_928cols_NANs.hdf5','table')"
   ]
  },
  {
   "cell_type": "code",
   "execution_count": 40,
   "metadata": {
    "collapsed": false
   },
   "outputs": [],
   "source": [
    "tr_num_nan.drop(['Id'],axis=1,inplace=1)\n",
    "te_num_nan.drop(['Id'],axis=1,inplace=1)"
   ]
  },
  {
   "cell_type": "code",
   "execution_count": 41,
   "metadata": {
    "collapsed": true
   },
   "outputs": [],
   "source": [
    "tr_hash_full_num = tr_num_nan.apply(lambda x: hash(tuple(x)), axis = 1)"
   ]
  },
  {
   "cell_type": "code",
   "execution_count": 42,
   "metadata": {
    "collapsed": true
   },
   "outputs": [],
   "source": [
    "te_hash_full_num = te_num_nan.apply(lambda x: hash(tuple(x)), axis = 1)"
   ]
  },
  {
   "cell_type": "code",
   "execution_count": 45,
   "metadata": {
    "collapsed": false
   },
   "outputs": [],
   "source": [
    "tr_hash_full_num = pd.DataFrame(tr_hash_full_num, columns=['hash_full_num'])\n",
    "te_hash_full_num = pd.DataFrame(te_hash_full_num, columns=['hash_full_num'])"
   ]
  },
  {
   "cell_type": "code",
   "execution_count": 51,
   "metadata": {
    "collapsed": false
   },
   "outputs": [],
   "source": [
    "hash_full_num = pd.concat([tr_hash_full_num,te_hash_full_num],axis=0,ignore_index=True)"
   ]
  },
  {
   "cell_type": "code",
   "execution_count": 54,
   "metadata": {
    "collapsed": false
   },
   "outputs": [
    {
     "data": {
      "text/plain": [
       "(22717,)"
      ]
     },
     "execution_count": 54,
     "metadata": {},
     "output_type": "execute_result"
    }
   ],
   "source": [
    "hash_full_num.hash_full_num.unique().shape"
   ]
  },
  {
   "cell_type": "code",
   "execution_count": 55,
   "metadata": {
    "collapsed": true
   },
   "outputs": [],
   "source": [
    "hash_full_num['hash_full_num'] = pd.factorize(hash_full_num['hash_full_num'])[0]"
   ]
  },
  {
   "cell_type": "code",
   "execution_count": 58,
   "metadata": {
    "collapsed": false
   },
   "outputs": [],
   "source": [
    "tr_hash_full_num = hash_full_num.ix[0:tr_hash_full_num.shape[0]-1]\n",
    "te_hash_full_num = hash_full_num.ix[tr_hash_full_num.shape[0]:]"
   ]
  },
  {
   "cell_type": "code",
   "execution_count": 63,
   "metadata": {
    "collapsed": false
   },
   "outputs": [],
   "source": [
    "te_hash_full_num.reset_index(drop=1,inplace=1)"
   ]
  },
  {
   "cell_type": "code",
   "execution_count": 66,
   "metadata": {
    "collapsed": false
   },
   "outputs": [],
   "source": [
    "tr_hash_full_num = tr_hash_full_num.astype(np.int32)\n",
    "te_hash_full_num = te_hash_full_num.astype(np.int32)"
   ]
  },
  {
   "cell_type": "code",
   "execution_count": 67,
   "metadata": {
    "collapsed": true
   },
   "outputs": [],
   "source": [
    "tr_hash_full_num.to_hdf('feats/tr_hash_full_num13.hdf5','table')\n",
    "te_hash_full_num.to_hdf('feats/te_hash_full_num13.hdf5','table')"
   ]
  },
  {
   "cell_type": "code",
   "execution_count": 68,
   "metadata": {
    "collapsed": true
   },
   "outputs": [],
   "source": [
    "tr_cat_205 = pd.read_hdf('../input_hdf/train_categorical_205cols.hdf5','table')"
   ]
  },
  {
   "cell_type": "code",
   "execution_count": 70,
   "metadata": {
    "collapsed": false
   },
   "outputs": [],
   "source": [
    "usecol = tr_cat_205.columns.drop(['Id'])"
   ]
  },
  {
   "cell_type": "code",
   "execution_count": 87,
   "metadata": {
    "collapsed": false
   },
   "outputs": [],
   "source": [
    "import warnings\n",
    "warnings.filterwarnings('ignore')\n",
    "\n",
    "CHUNKSIZE = 50000\n",
    "NROWS_TR = 1183747\n",
    "nrows_tr = 0\n",
    "NROWS_TE = 1183748\n",
    "nrows_te = 0\n",
    "ID_COLUMN = 'Id'\n",
    "TARGET_COLUMN = 'Response'\n",
    "SEED = 0\n",
    "\n",
    "tr_hash_full_cat = pd.DataFrame()\n",
    "for df_tr in pd.read_csv(categorical, chunksize=CHUNKSIZE, usecols=usecol):\n",
    "    tmp1 = pd.DataFrame()\n",
    "    df_tr.fillna(-1, inplace=True)\n",
    "    cols = df_tr.columns\n",
    "    for col in cols:\n",
    "        df_tr[col] = (1 * (df_tr[col] != -1)).astype(np.int8)\n",
    "    tmp1['hash_full_cat'] = df_tr.apply(lambda x: hash(tuple(x)), axis = 1)\n",
    "    tr_hash_full_cat = tr_hash_full_cat.append(tmp1)\n",
    "\n",
    "    nrows_tr += CHUNKSIZE\n",
    "    if nrows_tr >= NROWS_TR:\n",
    "        break"
   ]
  },
  {
   "cell_type": "code",
   "execution_count": 88,
   "metadata": {
    "collapsed": true
   },
   "outputs": [],
   "source": [
    "te_hash_full_cat = pd.DataFrame()\n",
    "for df_te in pd.read_csv(categorical_te, chunksize=CHUNKSIZE, usecols=usecol):\n",
    "    tmp2 = pd.DataFrame()\n",
    "    df_te.fillna(-1, inplace=True)\n",
    "    cols = df_te.columns\n",
    "    for col in cols:\n",
    "        df_te[col] = (1 * (df_te[col] != 0)).astype(np.int8)\n",
    "    tmp2['hash_full_cat'] = df_te.apply(lambda x: hash(tuple(x)), axis = 1)\n",
    "    te_hash_full_cat = te_hash_full_cat.append(tmp2)\n",
    "    \n",
    "    nrows_te += CHUNKSIZE\n",
    "    if nrows_te >= NROWS_TE:\n",
    "        break"
   ]
  },
  {
   "cell_type": "code",
   "execution_count": 89,
   "metadata": {
    "collapsed": true
   },
   "outputs": [],
   "source": [
    "hash_full_cat = pd.concat([tr_hash_full_cat,te_hash_full_cat],axis=0,ignore_index=True)"
   ]
  },
  {
   "cell_type": "code",
   "execution_count": 90,
   "metadata": {
    "collapsed": true
   },
   "outputs": [],
   "source": [
    "hash_full_cat['hash_full_cat'] = pd.factorize(hash_full_cat['hash_full_cat'])[0]"
   ]
  },
  {
   "cell_type": "code",
   "execution_count": 91,
   "metadata": {
    "collapsed": true
   },
   "outputs": [],
   "source": [
    "tr_hash_full_cat = hash_full_cat.ix[0:tr_hash_full_cat.shape[0]-1]\n",
    "te_hash_full_cat = hash_full_cat.ix[tr_hash_full_cat.shape[0]:]"
   ]
  },
  {
   "cell_type": "code",
   "execution_count": 92,
   "metadata": {
    "collapsed": true
   },
   "outputs": [],
   "source": [
    "te_hash_full_cat.reset_index(drop=1,inplace=1)"
   ]
  },
  {
   "cell_type": "code",
   "execution_count": 93,
   "metadata": {
    "collapsed": true
   },
   "outputs": [],
   "source": [
    "tr_hash_full_cat = tr_hash_full_cat.astype(np.int32)\n",
    "te_hash_full_cat = te_hash_full_cat.astype(np.int32)"
   ]
  },
  {
   "cell_type": "code",
   "execution_count": 94,
   "metadata": {
    "collapsed": true
   },
   "outputs": [],
   "source": [
    "tr_hash_full_cat.to_hdf('feats/tr_hash_full_cat13.hdf5','table')\n",
    "te_hash_full_cat.to_hdf('feats/te_hash_full_cat13.hdf5','table')"
   ]
  },
  {
   "cell_type": "code",
   "execution_count": 95,
   "metadata": {
    "collapsed": true
   },
   "outputs": [],
   "source": [
    "tr_hash_full_date_num_cat = pd.concat([tr_hash_full_date,tr_hash_full_num,tr_hash_full_cat],axis=1)\n",
    "te_hash_full_date_num_cat = pd.concat([te_hash_full_date,te_hash_full_num,te_hash_full_cat],axis=1)"
   ]
  },
  {
   "cell_type": "code",
   "execution_count": 96,
   "metadata": {
    "collapsed": false
   },
   "outputs": [
    {
     "data": {
      "text/plain": [
       "array([   0,    1,    2, ..., 1757, 1758, 1759])"
      ]
     },
     "execution_count": 96,
     "metadata": {},
     "output_type": "execute_result"
    }
   ],
   "source": [
    "tr_hash_full_cat.hash_full_cat.unique()"
   ]
  },
  {
   "cell_type": "code",
   "execution_count": 97,
   "metadata": {
    "collapsed": false
   },
   "outputs": [],
   "source": [
    "tr_hash_full_date_num_cat.to_hdf('feats/tr_hash_full_date_num_cat13.hdf5','table')\n",
    "te_hash_full_date_num_cat.to_hdf('feats/te_hash_full_date_num_cat13.hdf5','table')"
   ]
  },
  {
   "cell_type": "code",
   "execution_count": 110,
   "metadata": {
    "collapsed": true
   },
   "outputs": [],
   "source": [
    "tr_hash_full_date_num_cat['hash_full_all'] = tr_hash_full_date_num_cat.apply(lambda x: hash(tuple(x)), axis = 1)\n",
    "te_hash_full_date_num_cat['hash_full_all'] = te_hash_full_date_num_cat.apply(lambda x: hash(tuple(x)), axis = 1)"
   ]
  },
  {
   "cell_type": "code",
   "execution_count": 118,
   "metadata": {
    "collapsed": false
   },
   "outputs": [],
   "source": [
    "tr_hash_full_date_num_cat['hash_full_num_cat'] = tr_hash_full_date_num_cat[['hash_full_num','hash_full_cat']].apply(lambda x: hash(tuple(x)), axis = 1)\n",
    "te_hash_full_date_num_cat['hash_full_num_cat'] = te_hash_full_date_num_cat[['hash_full_num','hash_full_cat']].apply(lambda x: hash(tuple(x)), axis = 1)"
   ]
  },
  {
   "cell_type": "code",
   "execution_count": 119,
   "metadata": {
    "collapsed": true
   },
   "outputs": [],
   "source": [
    "hash_full_all = pd.concat([tr_hash_full_date_num_cat,te_hash_full_date_num_cat],axis=0,ignore_index=True)"
   ]
  },
  {
   "cell_type": "code",
   "execution_count": 124,
   "metadata": {
    "collapsed": false
   },
   "outputs": [],
   "source": [
    "hash_full_all['hash_full_all'] = pd.factorize(hash_full_all['hash_full_all'])[0]"
   ]
  },
  {
   "cell_type": "code",
   "execution_count": 131,
   "metadata": {
    "collapsed": true
   },
   "outputs": [],
   "source": [
    "hash_full_all['hash_full_num_cat'] = pd.factorize(hash_full_all['hash_full_num_cat'])[0]"
   ]
  },
  {
   "cell_type": "code",
   "execution_count": 135,
   "metadata": {
    "collapsed": false
   },
   "outputs": [],
   "source": [
    "tr_hash_full_date_num_cat = hash_full_all.ix[0:tr_hash_full_date_num_cat.shape[0]-1]\n",
    "te_hash_full_date_num_cat = hash_full_all.ix[tr_hash_full_date_num_cat.shape[0]:]"
   ]
  },
  {
   "cell_type": "code",
   "execution_count": 141,
   "metadata": {
    "collapsed": false
   },
   "outputs": [],
   "source": [
    "te_hash_full_date_num_cat.reset_index(drop=1,inplace=1)"
   ]
  },
  {
   "cell_type": "code",
   "execution_count": 142,
   "metadata": {
    "collapsed": true
   },
   "outputs": [],
   "source": [
    "tr_hash_full_date_num_cat = tr_hash_full_date_num_cat.astype(np.int32)\n",
    "te_hash_full_date_num_cat = te_hash_full_date_num_cat.astype(np.int32)"
   ]
  },
  {
   "cell_type": "code",
   "execution_count": 144,
   "metadata": {
    "collapsed": false
   },
   "outputs": [],
   "source": [
    "tr_hash_full_date_num_cat.to_hdf('feats/tr_hash_full_date_num_cat13.hdf5','table')\n",
    "te_hash_full_date_num_cat.to_hdf('feats/te_hash_full_date_num_cat13.hdf5','table')"
   ]
  },
  {
   "cell_type": "code",
   "execution_count": null,
   "metadata": {
    "collapsed": true
   },
   "outputs": [],
   "source": []
  }
 ],
 "metadata": {
  "anaconda-cloud": {},
  "kernelspec": {
   "display_name": "Python [default]",
   "language": "python",
   "name": "python3"
  },
  "language_info": {
   "codemirror_mode": {
    "name": "ipython",
    "version": 3
   },
   "file_extension": ".py",
   "mimetype": "text/x-python",
   "name": "python",
   "nbconvert_exporter": "python",
   "pygments_lexer": "ipython3",
   "version": "3.5.2"
  }
 },
 "nbformat": 4,
 "nbformat_minor": 1
}
