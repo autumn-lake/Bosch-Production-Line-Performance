{
 "cells": [
  {
   "cell_type": "code",
   "execution_count": 1,
   "metadata": {
    "collapsed": true
   },
   "outputs": [],
   "source": [
    "# -*- coding: utf-8 -*-\n",
    "\"\"\"\n",
    "@author: Faron\n",
    "\"\"\"\n",
    "import pandas as pd\n",
    "import numpy as np\n",
    "import xgboost as xgb\n",
    "\n",
    "DATA_DIR = \"input_orig\"\n",
    "\n",
    "ID_COLUMN = 'Id'\n",
    "TARGET_COLUMN = 'Response'\n",
    "\n",
    "SEED = 0\n",
    "\n",
    "TRAIN_NUMERIC = \"{0}/train_numeric.csv\".format(DATA_DIR)\n",
    "TRAIN_DATE = \"{0}/train_date.csv\".format(DATA_DIR)\n",
    "\n",
    "TEST_NUMERIC = \"{0}/test_numeric.csv\".format(DATA_DIR)\n",
    "TEST_DATE = \"{0}/test_date.csv\".format(DATA_DIR)\n",
    "\n",
    "FILENAME = \"etimelhoods\"\n",
    "\n",
    "train = pd.read_csv(TRAIN_NUMERIC, usecols=[ID_COLUMN, TARGET_COLUMN])\n",
    "test = pd.read_csv(TEST_NUMERIC, usecols=[ID_COLUMN])\n",
    "\n",
    "train[\"StartTime\"] = -1\n",
    "test[\"StartTime\"] = -1"
   ]
  },
  {
   "cell_type": "code",
   "execution_count": 2,
   "metadata": {
    "collapsed": false
   },
   "outputs": [
    {
     "data": {
      "text/plain": [
       "((1183747, 3), (1183748, 2))"
      ]
     },
     "execution_count": 2,
     "metadata": {},
     "output_type": "execute_result"
    }
   ],
   "source": [
    "train.shape, test.shape"
   ]
  },
  {
   "cell_type": "code",
   "execution_count": null,
   "metadata": {
    "collapsed": true
   },
   "outputs": [],
   "source": [
    "'''\n",
    "tr = pd.read_csv(TRAIN_DATE, dtype=np.float32) \n",
    "te = pd.read_csv(TEST_DATE, dtype=np.float32)\n",
    "\n",
    "feats = np.setdiff1d(tr.columns, [ID_COLUMN])\n",
    "\n",
    "stime_tr = tr[feats].min(axis=1).values\n",
    "stime_te = te[feats].min(axis=1).values\n",
    "\n",
    "train.loc[train.Id.isin(tr.Id), 'StartTime'] = stime_tr\n",
    "test.loc[test.Id.isin(te.Id), 'StartTime'] = stime_te"
   ]
  },
  {
   "cell_type": "code",
   "execution_count": 3,
   "metadata": {
    "collapsed": false
   },
   "outputs": [],
   "source": [
    "CHUNKSIZE = 250000\n",
    "NROWS_TR = train.shape[0]\n",
    "NROWS_TE = test.shape[0]\n",
    "nrows_tr = 0\n",
    "nrows_te = 0\n",
    "\n",
    "for tr in (pd.read_csv(TRAIN_DATE, chunksize=CHUNKSIZE, dtype=np.float32)):\n",
    "    feats = np.setdiff1d(tr.columns, [ID_COLUMN])\n",
    "\n",
    "    stime_tr = tr[feats].min(axis=1).values\n",
    "\n",
    "    train.loc[train.Id.isin(tr.Id), 'StartTime'] = stime_tr\n",
    "\n",
    "    nrows_tr += CHUNKSIZE\n",
    "    if nrows_tr >= NROWS_TR:\n",
    "        break\n",
    "\n",
    "for te in (pd.read_csv(TEST_DATE, chunksize=CHUNKSIZE, dtype=np.float32)):\n",
    "    feats = np.setdiff1d(te.columns, [ID_COLUMN])\n",
    "\n",
    "    stime_te = te[feats].min(axis=1).values\n",
    "\n",
    "    test.loc[test.Id.isin(te.Id), 'StartTime'] = stime_te\n",
    "\n",
    "    nrows_te += CHUNKSIZE\n",
    "    if nrows_te >= NROWS_TE:\n",
    "        break"
   ]
  },
  {
   "cell_type": "code",
   "execution_count": 7,
   "metadata": {
    "collapsed": false
   },
   "outputs": [
    {
     "data": {
      "text/html": [
       "<div>\n",
       "<table border=\"1\" class=\"dataframe\">\n",
       "  <thead>\n",
       "    <tr style=\"text-align: right;\">\n",
       "      <th></th>\n",
       "      <th>Id</th>\n",
       "      <th>StartTime</th>\n",
       "    </tr>\n",
       "  </thead>\n",
       "  <tbody>\n",
       "    <tr>\n",
       "      <th>1183743</th>\n",
       "      <td>2367483</td>\n",
       "      <td>653.849976</td>\n",
       "    </tr>\n",
       "    <tr>\n",
       "      <th>1183744</th>\n",
       "      <td>2367485</td>\n",
       "      <td>907.340027</td>\n",
       "    </tr>\n",
       "    <tr>\n",
       "      <th>1183745</th>\n",
       "      <td>2367486</td>\n",
       "      <td>185.919998</td>\n",
       "    </tr>\n",
       "    <tr>\n",
       "      <th>1183746</th>\n",
       "      <td>2367489</td>\n",
       "      <td>570.849976</td>\n",
       "    </tr>\n",
       "    <tr>\n",
       "      <th>1183747</th>\n",
       "      <td>2367494</td>\n",
       "      <td>1412.800049</td>\n",
       "    </tr>\n",
       "  </tbody>\n",
       "</table>\n",
       "</div>"
      ],
      "text/plain": [
       "              Id    StartTime\n",
       "1183743  2367483   653.849976\n",
       "1183744  2367485   907.340027\n",
       "1183745  2367486   185.919998\n",
       "1183746  2367489   570.849976\n",
       "1183747  2367494  1412.800049"
      ]
     },
     "execution_count": 7,
     "metadata": {},
     "output_type": "execute_result"
    }
   ],
   "source": [
    "test.tail()"
   ]
  },
  {
   "cell_type": "code",
   "execution_count": 8,
   "metadata": {
    "collapsed": false
   },
   "outputs": [],
   "source": [
    "ntrain = train.shape[0]\n",
    "train_test = pd.concat((train, test), ignore_index=True).reset_index(drop=False)"
   ]
  },
  {
   "cell_type": "code",
   "execution_count": 11,
   "metadata": {
    "collapsed": false
   },
   "outputs": [
    {
     "data": {
      "text/html": [
       "<div>\n",
       "<table border=\"1\" class=\"dataframe\">\n",
       "  <thead>\n",
       "    <tr style=\"text-align: right;\">\n",
       "      <th></th>\n",
       "      <th>index</th>\n",
       "      <th>Id</th>\n",
       "      <th>Response</th>\n",
       "      <th>StartTime</th>\n",
       "    </tr>\n",
       "  </thead>\n",
       "  <tbody>\n",
       "    <tr>\n",
       "      <th>0</th>\n",
       "      <td>0</td>\n",
       "      <td>4</td>\n",
       "      <td>0.0</td>\n",
       "      <td>82.239998</td>\n",
       "    </tr>\n",
       "    <tr>\n",
       "      <th>1</th>\n",
       "      <td>1</td>\n",
       "      <td>6</td>\n",
       "      <td>0.0</td>\n",
       "      <td>1313.119995</td>\n",
       "    </tr>\n",
       "    <tr>\n",
       "      <th>2</th>\n",
       "      <td>2</td>\n",
       "      <td>7</td>\n",
       "      <td>0.0</td>\n",
       "      <td>1618.699951</td>\n",
       "    </tr>\n",
       "    <tr>\n",
       "      <th>3</th>\n",
       "      <td>3</td>\n",
       "      <td>9</td>\n",
       "      <td>0.0</td>\n",
       "      <td>1149.199951</td>\n",
       "    </tr>\n",
       "    <tr>\n",
       "      <th>4</th>\n",
       "      <td>4</td>\n",
       "      <td>11</td>\n",
       "      <td>0.0</td>\n",
       "      <td>602.640015</td>\n",
       "    </tr>\n",
       "  </tbody>\n",
       "</table>\n",
       "</div>"
      ],
      "text/plain": [
       "   index  Id  Response    StartTime\n",
       "0      0   4       0.0    82.239998\n",
       "1      1   6       0.0  1313.119995\n",
       "2      2   7       0.0  1618.699951\n",
       "3      3   9       0.0  1149.199951\n",
       "4      4  11       0.0   602.640015"
      ]
     },
     "execution_count": 11,
     "metadata": {},
     "output_type": "execute_result"
    }
   ],
   "source": [
    "train_test.head()"
   ]
  },
  {
   "cell_type": "code",
   "execution_count": 12,
   "metadata": {
    "collapsed": true
   },
   "outputs": [],
   "source": [
    "train_test['magic1'] = train_test[ID_COLUMN].diff().fillna(9999999).astype(int)\n",
    "train_test['magic2'] = train_test[ID_COLUMN].iloc[::-1].diff().fillna(9999999).astype(int)\n",
    "train_test = train_test.sort_values(by=['StartTime', 'Id'], ascending=True)\n",
    "\n",
    "train_test['magic3'] = train_test[ID_COLUMN].diff().fillna(9999999).astype(int)\n",
    "train_test['magic4'] = train_test[ID_COLUMN].iloc[::-1].diff().fillna(9999999).astype(int)\n",
    "train_test = train_test.sort_values(by=['index']).drop(['index'], axis=1)"
   ]
  },
  {
   "cell_type": "code",
   "execution_count": 18,
   "metadata": {
    "collapsed": false
   },
   "outputs": [
    {
     "data": {
      "text/html": [
       "<div>\n",
       "<table border=\"1\" class=\"dataframe\">\n",
       "  <thead>\n",
       "    <tr style=\"text-align: right;\">\n",
       "      <th></th>\n",
       "      <th>Id</th>\n",
       "      <th>Response</th>\n",
       "      <th>StartTime</th>\n",
       "      <th>magic1</th>\n",
       "      <th>magic2</th>\n",
       "      <th>magic3</th>\n",
       "      <th>magic4</th>\n",
       "    </tr>\n",
       "  </thead>\n",
       "  <tbody>\n",
       "    <tr>\n",
       "      <th>2367490</th>\n",
       "      <td>2367483</td>\n",
       "      <td>NaN</td>\n",
       "      <td>653.849976</td>\n",
       "      <td>1</td>\n",
       "      <td>-2</td>\n",
       "      <td>7590</td>\n",
       "      <td>2042322</td>\n",
       "    </tr>\n",
       "    <tr>\n",
       "      <th>2367491</th>\n",
       "      <td>2367485</td>\n",
       "      <td>NaN</td>\n",
       "      <td>907.340027</td>\n",
       "      <td>2</td>\n",
       "      <td>-1</td>\n",
       "      <td>3483</td>\n",
       "      <td>2318983</td>\n",
       "    </tr>\n",
       "    <tr>\n",
       "      <th>2367492</th>\n",
       "      <td>2367486</td>\n",
       "      <td>NaN</td>\n",
       "      <td>185.919998</td>\n",
       "      <td>1</td>\n",
       "      <td>-3</td>\n",
       "      <td>4732</td>\n",
       "      <td>2316034</td>\n",
       "    </tr>\n",
       "    <tr>\n",
       "      <th>2367493</th>\n",
       "      <td>2367489</td>\n",
       "      <td>NaN</td>\n",
       "      <td>570.849976</td>\n",
       "      <td>3</td>\n",
       "      <td>-5</td>\n",
       "      <td>10503</td>\n",
       "      <td>2351203</td>\n",
       "    </tr>\n",
       "    <tr>\n",
       "      <th>2367494</th>\n",
       "      <td>2367494</td>\n",
       "      <td>NaN</td>\n",
       "      <td>1412.800049</td>\n",
       "      <td>5</td>\n",
       "      <td>9999999</td>\n",
       "      <td>35783</td>\n",
       "      <td>2362123</td>\n",
       "    </tr>\n",
       "  </tbody>\n",
       "</table>\n",
       "</div>"
      ],
      "text/plain": [
       "              Id  Response    StartTime  magic1   magic2  magic3   magic4\n",
       "2367490  2367483       NaN   653.849976       1       -2    7590  2042322\n",
       "2367491  2367485       NaN   907.340027       2       -1    3483  2318983\n",
       "2367492  2367486       NaN   185.919998       1       -3    4732  2316034\n",
       "2367493  2367489       NaN   570.849976       3       -5   10503  2351203\n",
       "2367494  2367494       NaN  1412.800049       5  9999999   35783  2362123"
      ]
     },
     "execution_count": 18,
     "metadata": {},
     "output_type": "execute_result"
    }
   ],
   "source": [
    "train_test.tail()"
   ]
  },
  {
   "cell_type": "code",
   "execution_count": 19,
   "metadata": {
    "collapsed": true
   },
   "outputs": [],
   "source": [
    "train = train_test.iloc[:ntrain, :]\n",
    "test = train_test.iloc[ntrain:, :]\n",
    "features = np.setdiff1d(list(train.columns), [TARGET_COLUMN, ID_COLUMN])"
   ]
  },
  {
   "cell_type": "code",
   "execution_count": 23,
   "metadata": {
    "collapsed": false
   },
   "outputs": [
    {
     "name": "stderr",
     "output_type": "stream",
     "text": [
      "/home/choudharyk0408/anaconda3/lib/python3.5/site-packages/ipykernel/__main__.py:1: SettingWithCopyWarning: \n",
      "A value is trying to be set on a copy of a slice from a DataFrame\n",
      "\n",
      "See the caveats in the documentation: http://pandas.pydata.org/pandas-docs/stable/indexing.html#indexing-view-versus-copy\n",
      "  if __name__ == '__main__':\n",
      "/home/choudharyk0408/anaconda3/lib/python3.5/site-packages/ipykernel/__main__.py:2: SettingWithCopyWarning: \n",
      "A value is trying to be set on a copy of a slice from a DataFrame\n",
      "\n",
      "See the caveats in the documentation: http://pandas.pydata.org/pandas-docs/stable/indexing.html#indexing-view-versus-copy\n",
      "  from ipykernel import kernelapp as app\n"
     ]
    }
   ],
   "source": [
    "train.drop(['Response'], axis=1, inplace=True)\n",
    "test.drop(['Response'], axis=1, inplace=True)"
   ]
  },
  {
   "cell_type": "code",
   "execution_count": 28,
   "metadata": {
    "collapsed": false
   },
   "outputs": [],
   "source": [
    "train.to_csv('faron_train.csv', index=False)\n",
    "test.to_csv('faron_test.csv', index=False)"
   ]
  },
  {
   "cell_type": "code",
   "execution_count": null,
   "metadata": {
    "collapsed": false
   },
   "outputs": [],
   "source": [
    "#train.replace(9999999, np.nan, inplace=True)\n",
    "#train.dropna(inplace=True)"
   ]
  },
  {
   "cell_type": "code",
   "execution_count": null,
   "metadata": {
    "collapsed": false
   },
   "outputs": [],
   "source": [
    "y = train.Response.ravel()\n",
    "train = np.array(train[features])\n",
    "print('train: {0}'.format(train.shape))"
   ]
  },
  {
   "cell_type": "code",
   "execution_count": null,
   "metadata": {
    "collapsed": true
   },
   "outputs": [],
   "source": [
    "%matplotlib inline\n",
    "\n",
    "from sklearn.metrics import matthews_corrcoef\n",
    "import matplotlib.pyplot as plt\n",
    "from numba import jit\n",
    "\n",
    "@jit\n",
    "def mcc(tp, tn, fp, fn):\n",
    "    sup = tp * tn - fp * fn\n",
    "    inf = (tp + fp) * (tp + fn) * (tn + fp) * (tn + fn)\n",
    "    if inf==0:\n",
    "        return 0\n",
    "    else:\n",
    "        return sup / np.sqrt(inf)\n",
    "\n",
    "@jit\n",
    "def eval_mcc(y_true, y_prob, show=False):\n",
    "    idx = np.argsort(y_prob)\n",
    "    y_true_sort = y_true[idx]\n",
    "    n = y_true.shape[0]\n",
    "    nump = 1.0 * np.sum(y_true) # number of positive\n",
    "    numn = n - nump # number of negative\n",
    "    tp = nump\n",
    "    tn = 0.0\n",
    "    fp = numn\n",
    "    fn = 0.0\n",
    "    best_mcc = 0.0\n",
    "    best_id = -1\n",
    "    prev_proba = -1\n",
    "    best_proba = -1\n",
    "    mccs = np.zeros(n)\n",
    "    for i in range(n):\n",
    "        # all items with idx < i are predicted negative while others are predicted positive\n",
    "        # only evaluate mcc when probability changes\n",
    "        proba = y_prob[idx[i]]\n",
    "        if proba != prev_proba:\n",
    "            prev_proba = proba\n",
    "            new_mcc = mcc(tp, tn, fp, fn)\n",
    "            if new_mcc >= best_mcc:\n",
    "                best_mcc = new_mcc\n",
    "                best_id = i\n",
    "                best_proba = proba\n",
    "        mccs[i] = new_mcc\n",
    "        if y_true_sort[i] == 1:\n",
    "            tp -= 1.0\n",
    "            fn += 1.0\n",
    "        else:\n",
    "            fp -= 1.0\n",
    "            tn += 1.0\n",
    "    if show:\n",
    "        y_pred = (y_prob >= best_proba).astype(int)\n",
    "        score = matthews_corrcoef(y_true, y_pred)\n",
    "        print(score, best_mcc)\n",
    "        plt.plot(mccs)\n",
    "        return best_proba, best_mcc, y_pred\n",
    "    else:\n",
    "        return best_mcc\n",
    "\n",
    "def mcc_eval(y_prob, dtrain):\n",
    "    y_true = dtrain.get_label()\n",
    "    best_mcc = eval_mcc(y_true, y_prob)\n",
    "    return 'MCC', best_mcc"
   ]
  },
  {
   "cell_type": "code",
   "execution_count": null,
   "metadata": {
    "collapsed": false
   },
   "outputs": [],
   "source": [
    "prior = np.sum(y) / (1.*len(y))\n",
    "\n",
    "xgb_params = {\n",
    "    'seed': 0,\n",
    "    'colsample_bytree': 1,\n",
    "    'silent': 0,\n",
    "    'subsample': 1,\n",
    "    'learning_rate': 0.02,\n",
    "    'objective': 'binary:logistic',\n",
    "    'max_depth': 5,\n",
    "    'min_child_weight': 1,\n",
    "    'eval_metric': 'auc',\n",
    "    'base_score': prior\n",
    "}\n",
    "\n",
    "dtrain = xgb.DMatrix(train, label=y)\n",
    "res = xgb.cv(xgb_params, dtrain, num_boost_round=500, nfold=5, seed=0, stratified=True,\n",
    "             early_stopping_rounds=10, verbose_eval=1, show_stdv=True, feval=mcc_eval, maximize=True)"
   ]
  },
  {
   "cell_type": "code",
   "execution_count": null,
   "metadata": {
    "collapsed": true
   },
   "outputs": [],
   "source": [
    "cv_mean = res.iloc[-1, 0]\n",
    "cv_std = res.iloc[-1, 1]\n",
    "\n",
    "print('CV-Mean: {0}+{1}'.format(cv_mean, cv_std))"
   ]
  }
 ],
 "metadata": {
  "anaconda-cloud": {},
  "kernelspec": {
   "display_name": "Python [default]",
   "language": "python",
   "name": "python3"
  },
  "language_info": {
   "codemirror_mode": {
    "name": "ipython",
    "version": 3
   },
   "file_extension": ".py",
   "mimetype": "text/x-python",
   "name": "python",
   "nbconvert_exporter": "python",
   "pygments_lexer": "ipython3",
   "version": "3.5.2"
  }
 },
 "nbformat": 4,
 "nbformat_minor": 1
}
