{
 "cells": [
  {
   "cell_type": "code",
   "execution_count": 1,
   "metadata": {
    "collapsed": true
   },
   "outputs": [],
   "source": [
    "import pandas as pd\n",
    "import numpy as np\n",
    "import xgboost as xgb\n",
    "\n",
    "%matplotlib inline\n",
    "\n",
    "from sklearn.metrics import matthews_corrcoef\n",
    "import matplotlib.pyplot as plt\n",
    "from numba import jit\n",
    "\n",
    "@jit\n",
    "def mcc(tp, tn, fp, fn):\n",
    "    sup = tp * tn - fp * fn\n",
    "    inf = (tp + fp) * (tp + fn) * (tn + fp) * (tn + fn)\n",
    "    if inf==0:\n",
    "        return 0\n",
    "    else:\n",
    "        return sup / np.sqrt(inf)\n",
    "\n",
    "@jit\n",
    "def eval_mcc(y_true, y_prob, show=False):\n",
    "    idx = np.argsort(y_prob)\n",
    "    y_true_sort = y_true[idx]\n",
    "    n = y_true.shape[0]\n",
    "    nump = 1.0 * np.sum(y_true) # number of positive\n",
    "    numn = n - nump # number of negative\n",
    "    tp = nump\n",
    "    tn = 0.0\n",
    "    fp = numn\n",
    "    fn = 0.0\n",
    "    best_mcc = 0.0\n",
    "    best_id = -1\n",
    "    prev_proba = -1\n",
    "    best_proba = -1\n",
    "    mccs = np.zeros(n)\n",
    "    for i in range(n):\n",
    "        # all items with idx < i are predicted negative while others are predicted positive\n",
    "        # only evaluate mcc when probability changes\n",
    "        proba = y_prob[idx[i]]\n",
    "        if proba != prev_proba:\n",
    "            prev_proba = proba\n",
    "            new_mcc = mcc(tp, tn, fp, fn)\n",
    "            if new_mcc >= best_mcc:\n",
    "                best_mcc = new_mcc\n",
    "                best_id = i\n",
    "                best_proba = proba\n",
    "        mccs[i] = new_mcc\n",
    "        if y_true_sort[i] == 1:\n",
    "            tp -= 1.0\n",
    "            fn += 1.0\n",
    "        else:\n",
    "            fp -= 1.0\n",
    "            tn += 1.0\n",
    "    if show:\n",
    "        y_pred = (y_prob >= best_proba).astype(int)\n",
    "        score = matthews_corrcoef(y_true, y_pred)\n",
    "        print(score, best_mcc)\n",
    "        plt.plot(mccs)\n",
    "        return best_proba, best_mcc, y_pred\n",
    "    else:\n",
    "        return best_mcc\n",
    "\n",
    "def mcc_eval(y_prob, dtrain):\n",
    "    y_true = dtrain.get_label()\n",
    "    best_mcc = eval_mcc(y_true, y_prob)\n",
    "    return 'MCC', best_mcc"
   ]
  },
  {
   "cell_type": "code",
   "execution_count": 2,
   "metadata": {
    "collapsed": true
   },
   "outputs": [],
   "source": [
    "dtrain = xgb.DMatrix('../input_hdf/train_with_faron_sel.buffer')"
   ]
  },
  {
   "cell_type": "code",
   "execution_count": 3,
   "metadata": {
    "collapsed": true
   },
   "outputs": [],
   "source": [
    "y = dtrain.get_label()\n",
    "prior = np.sum(y) / (1.*len(y))"
   ]
  },
  {
   "cell_type": "code",
   "execution_count": 6,
   "metadata": {
    "collapsed": false
   },
   "outputs": [
    {
     "name": "stdout",
     "output_type": "stream",
     "text": [
      "[0]\ttrain-MCC:0.349939\n",
      "[2]\ttrain-MCC:0.473154\n",
      "[4]\ttrain-MCC:0.556565\n",
      "[6]\ttrain-MCC:0.628336\n",
      "[8]\ttrain-MCC:0.70539\n",
      "[10]\ttrain-MCC:0.757008\n",
      "[12]\ttrain-MCC:0.79259\n",
      "[14]\ttrain-MCC:0.818238\n",
      "[16]\ttrain-MCC:0.834695\n",
      "[18]\ttrain-MCC:0.849717\n",
      "[20]\ttrain-MCC:0.871542\n",
      "[22]\ttrain-MCC:0.891927\n",
      "[24]\ttrain-MCC:0.909823\n",
      "[26]\ttrain-MCC:0.927451\n",
      "[28]\ttrain-MCC:0.942184\n",
      "[30]\ttrain-MCC:0.953322\n",
      "[32]\ttrain-MCC:0.962653\n",
      "[34]\ttrain-MCC:0.971831\n",
      "[36]\ttrain-MCC:0.97793\n",
      "[38]\ttrain-MCC:0.980547\n",
      "[40]\ttrain-MCC:0.985143\n",
      "[42]\ttrain-MCC:0.986468\n",
      "[44]\ttrain-MCC:0.989185\n",
      "[46]\ttrain-MCC:0.990859\n",
      "[48]\ttrain-MCC:0.991873\n",
      "[50]\ttrain-MCC:0.992535\n",
      "[52]\ttrain-MCC:0.993562\n",
      "[54]\ttrain-MCC:0.995253\n",
      "[56]\ttrain-MCC:0.996421\n",
      "[58]\ttrain-MCC:0.996927\n",
      "[60]\ttrain-MCC:0.997734\n",
      "[62]\ttrain-MCC:0.998245\n",
      "[64]\ttrain-MCC:0.998539\n",
      "[66]\ttrain-MCC:0.998904\n",
      "[68]\ttrain-MCC:0.999122\n",
      "[70]\ttrain-MCC:0.999342\n",
      "[72]\ttrain-MCC:0.999488\n",
      "[74]\ttrain-MCC:0.999561\n",
      "[76]\ttrain-MCC:0.999561\n",
      "[78]\ttrain-MCC:0.999561\n",
      "[80]\ttrain-MCC:0.999561\n",
      "[82]\ttrain-MCC:0.999561\n",
      "[84]\ttrain-MCC:0.999561\n",
      "[86]\ttrain-MCC:0.999561\n",
      "[88]\ttrain-MCC:0.999561\n",
      "[90]\ttrain-MCC:0.999561\n",
      "[92]\ttrain-MCC:0.999561\n",
      "[94]\ttrain-MCC:0.999561\n",
      "[96]\ttrain-MCC:0.999561\n",
      "[98]\ttrain-MCC:0.999561\n"
     ]
    }
   ],
   "source": [
    "xgb_params1 = {\n",
    "    'colsample_bytree': 1,\n",
    "    'colsample_bylevel': 1,\n",
    "    'subsample': 1,\n",
    "    'learning_rate': 0.1,\n",
    "    'max_depth': 48,\n",
    "    'min_child_weight': 1,\n",
    "    'gamma': 0,\n",
    "    'base_score': prior,\n",
    "    'tree_method': 'exact',\n",
    "    'objective': 'binary:logistic',\n",
    "    'silent': 0,\n",
    "    'seed': 12,\n",
    "    'nthread': 22\n",
    "}\n",
    "#'tree_method': 'exact',\n",
    "evals  = [(dtrain,'train')]\n",
    "bst1 = xgb.train(xgb_params1, dtrain, num_boost_round=100, evals=evals, verbose_eval=2, feval=mcc_eval, maximize=True)"
   ]
  },
  {
   "cell_type": "code",
   "execution_count": 14,
   "metadata": {
    "collapsed": false
   },
   "outputs": [
    {
     "name": "stdout",
     "output_type": "stream",
     "text": [
      "[0]\ttrain-MCC:0.999561\n",
      "[1]\ttrain-MCC:0.999561\n",
      "[2]\ttrain-MCC:0.999561\n",
      "[3]\ttrain-MCC:0.999561\n",
      "[4]\ttrain-MCC:0.999561\n",
      "[5]\ttrain-MCC:0.999561\n",
      "[6]\ttrain-MCC:0.999561\n",
      "[7]\ttrain-MCC:0.999561\n",
      "[8]\ttrain-MCC:0.999561\n",
      "[9]\ttrain-MCC:0.999561\n"
     ]
    }
   ],
   "source": [
    "bst2 = xgb.train(xgb_params1, dtrain, xgb_model=bst1, num_boost_round=10, evals=evals, verbose_eval=1, feval=mcc_eval, maximize=True)"
   ]
  },
  {
   "cell_type": "code",
   "execution_count": 18,
   "metadata": {
    "collapsed": false
   },
   "outputs": [
    {
     "name": "stdout",
     "output_type": "stream",
     "text": [
      "[0]\ttrain-MCC:0.999561\n",
      "[1]\ttrain-MCC:0.999561\n",
      "[2]\ttrain-MCC:0.999561\n",
      "[3]\ttrain-MCC:0.999561\n",
      "[4]\ttrain-MCC:0.999561\n",
      "[5]\ttrain-MCC:0.999561\n",
      "[6]\ttrain-MCC:0.999561\n",
      "[7]\ttrain-MCC:0.999561\n",
      "[8]\ttrain-MCC:0.999562\n",
      "[9]\ttrain-MCC:0.999635\n"
     ]
    }
   ],
   "source": [
    "bst3 = xgb.train(xgb_params1, dtrain, xgb_model=bst2, num_boost_round=10, evals=evals, verbose_eval=1, feval=mcc_eval, maximize=True)"
   ]
  },
  {
   "cell_type": "code",
   "execution_count": 7,
   "metadata": {
    "collapsed": true
   },
   "outputs": [],
   "source": [
    "bst1.dump_model('427646mcc_pred.dump', fmap='xgb1.fmap', with_stats=True)\n",
    "bst1.save_model('427646_pred.model')"
   ]
  },
  {
   "cell_type": "code",
   "execution_count": 8,
   "metadata": {
    "collapsed": false
   },
   "outputs": [],
   "source": [
    "dtest = xgb.DMatrix('../input_hdf/test_with_faron_sel.buffer')"
   ]
  },
  {
   "cell_type": "code",
   "execution_count": 9,
   "metadata": {
    "collapsed": true
   },
   "outputs": [],
   "source": [
    "best_proba = 0.29268866777420044"
   ]
  },
  {
   "cell_type": "code",
   "execution_count": 19,
   "metadata": {
    "collapsed": true
   },
   "outputs": [],
   "source": [
    "# generate predictions at the chosen threshold\n",
    "preds = (bst3.predict(dtest) > best_proba).astype(np.int8)"
   ]
  },
  {
   "cell_type": "code",
   "execution_count": 20,
   "metadata": {
    "collapsed": true
   },
   "outputs": [],
   "source": [
    "# and submit\n",
    "sub = pd.read_csv(\"../input_orig/sample_submission.csv\", index_col=0)\n",
    "sub[\"Response\"] = preds\n",
    "sub.to_csv(\"427646_pred_bst3_submission.csv.gz\", compression=\"gzip\")"
   ]
  },
  {
   "cell_type": "code",
   "execution_count": 21,
   "metadata": {
    "collapsed": false
   },
   "outputs": [
    {
     "data": {
      "text/plain": [
       "2185"
      ]
     },
     "execution_count": 21,
     "metadata": {},
     "output_type": "execute_result"
    }
   ],
   "source": [
    "preds.sum()"
   ]
  },
  {
   "cell_type": "code",
   "execution_count": null,
   "metadata": {
    "collapsed": true
   },
   "outputs": [],
   "source": []
  }
 ],
 "metadata": {
  "anaconda-cloud": {},
  "kernelspec": {
   "display_name": "Python [default]",
   "language": "python",
   "name": "python3"
  },
  "language_info": {
   "codemirror_mode": {
    "name": "ipython",
    "version": 3
   },
   "file_extension": ".py",
   "mimetype": "text/x-python",
   "name": "python",
   "nbconvert_exporter": "python",
   "pygments_lexer": "ipython3",
   "version": "3.5.2"
  }
 },
 "nbformat": 4,
 "nbformat_minor": 1
}
