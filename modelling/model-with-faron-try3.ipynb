{
 "cells": [
  {
   "cell_type": "code",
   "execution_count": 1,
   "metadata": {
    "collapsed": true
   },
   "outputs": [],
   "source": [
    "import pandas as pd\n",
    "import numpy as np\n",
    "import xgboost as xgb\n",
    "\n",
    "%matplotlib inline\n",
    "\n",
    "from sklearn.metrics import matthews_corrcoef\n",
    "import matplotlib.pyplot as plt\n",
    "from numba import jit\n",
    "\n",
    "@jit\n",
    "def mcc(tp, tn, fp, fn):\n",
    "    sup = tp * tn - fp * fn\n",
    "    inf = (tp + fp) * (tp + fn) * (tn + fp) * (tn + fn)\n",
    "    if inf==0:\n",
    "        return 0\n",
    "    else:\n",
    "        return sup / np.sqrt(inf)\n",
    "\n",
    "@jit\n",
    "def eval_mcc(y_true, y_prob, show=False):\n",
    "    idx = np.argsort(y_prob)\n",
    "    y_true_sort = y_true[idx]\n",
    "    n = y_true.shape[0]\n",
    "    nump = 1.0 * np.sum(y_true) # number of positive\n",
    "    numn = n - nump # number of negative\n",
    "    tp = nump\n",
    "    tn = 0.0\n",
    "    fp = numn\n",
    "    fn = 0.0\n",
    "    best_mcc = 0.0\n",
    "    best_id = -1\n",
    "    prev_proba = -1\n",
    "    best_proba = -1\n",
    "    mccs = np.zeros(n)\n",
    "    for i in range(n):\n",
    "        # all items with idx < i are predicted negative while others are predicted positive\n",
    "        # only evaluate mcc when probability changes\n",
    "        proba = y_prob[idx[i]]\n",
    "        if proba != prev_proba:\n",
    "            prev_proba = proba\n",
    "            new_mcc = mcc(tp, tn, fp, fn)\n",
    "            if new_mcc >= best_mcc:\n",
    "                best_mcc = new_mcc\n",
    "                best_id = i\n",
    "                best_proba = proba\n",
    "        mccs[i] = new_mcc\n",
    "        if y_true_sort[i] == 1:\n",
    "            tp -= 1.0\n",
    "            fn += 1.0\n",
    "        else:\n",
    "            fp -= 1.0\n",
    "            tn += 1.0\n",
    "    if show:\n",
    "        y_pred = (y_prob >= best_proba).astype(int)\n",
    "        score = matthews_corrcoef(y_true, y_pred)\n",
    "        print(score, best_mcc)\n",
    "        plt.plot(mccs)\n",
    "        return best_proba, best_mcc, y_pred\n",
    "    else:\n",
    "        return best_mcc\n",
    "\n",
    "def mcc_eval(y_prob, dtrain):\n",
    "    y_true = dtrain.get_label()\n",
    "    best_mcc = eval_mcc(y_true, y_prob)\n",
    "    return 'MCC', best_mcc"
   ]
  },
  {
   "cell_type": "code",
   "execution_count": 2,
   "metadata": {
    "collapsed": false
   },
   "outputs": [],
   "source": [
    "dtrain = xgb.DMatrix('dtrain.buffer')\n",
    "dvalid = xgb.DMatrix('dvalid.buffer')"
   ]
  },
  {
   "cell_type": "code",
   "execution_count": 9,
   "metadata": {
    "collapsed": false
   },
   "outputs": [
    {
     "data": {
      "text/plain": [
       "6879.0"
      ]
     },
     "execution_count": 9,
     "metadata": {},
     "output_type": "execute_result"
    }
   ],
   "source": [
    "dtrain.get_label().sum()+dvalid.get_label().sum()"
   ]
  },
  {
   "cell_type": "code",
   "execution_count": 23,
   "metadata": {
    "collapsed": false
   },
   "outputs": [
    {
     "data": {
      "text/plain": [
       "1183747"
      ]
     },
     "execution_count": 23,
     "metadata": {},
     "output_type": "execute_result"
    }
   ],
   "source": [
    "dtrain.num_row()+dvalid.num_row()"
   ]
  },
  {
   "cell_type": "code",
   "execution_count": 8,
   "metadata": {
    "collapsed": false
   },
   "outputs": [],
   "source": [
    "'''\n",
    "df1 = pd.read_csv('../input_orig/train_numeric.csv', usecols=['Id','Response'])\n",
    "\n",
    "from sklearn.cross_validation import train_test_split\n",
    "X_train, X_test, y_train, y_test = train_test_split(df1, df1.Response.values, test_size=0.1, random_state=42, stratify=df1.Response.values)\n",
    "\n",
    "dvalid = dtrain.slice(X_test.index)\n",
    "dvalid.num_row(), X_test.shape\n",
    "dtrain = dtrain.slice(X_train.index)\n",
    "dtrain.num_row(), X_train.shape\n",
    "\n",
    "#dtrain.save_binary('dtrain.buffer')\n",
    "#dvalid.save_binary('dvalid.buffer')"
   ]
  },
  {
   "cell_type": "code",
   "execution_count": 3,
   "metadata": {
    "collapsed": true
   },
   "outputs": [],
   "source": [
    "y = dtrain.get_label()\n",
    "prior = np.sum(y) / (1.*len(y))"
   ]
  },
  {
   "cell_type": "code",
   "execution_count": 12,
   "metadata": {
    "collapsed": false
   },
   "outputs": [],
   "source": [
    "spw = 1176868/6879.0"
   ]
  },
  {
   "cell_type": "code",
   "execution_count": 3,
   "metadata": {
    "collapsed": true
   },
   "outputs": [],
   "source": [
    "prior1 = 6879.0/1183747"
   ]
  },
  {
   "cell_type": "code",
   "execution_count": 45,
   "metadata": {
    "collapsed": false
   },
   "outputs": [
    {
     "name": "stdout",
     "output_type": "stream",
     "text": [
      "[0]\ttrain-MCC:0.355146\teval-MCC:0.348413\n",
      "Multiple eval metrics have been passed: 'eval-MCC' will be used for early stopping.\n",
      "\n",
      "Will train until eval-MCC hasn't improved in 20 rounds.\n",
      "[2]\ttrain-MCC:0.484383\teval-MCC:0.371012\n",
      "[4]\ttrain-MCC:0.583445\teval-MCC:0.375004\n",
      "[6]\ttrain-MCC:0.658002\teval-MCC:0.377493\n",
      "[8]\ttrain-MCC:0.705838\teval-MCC:0.377832\n",
      "[10]\ttrain-MCC:0.748906\teval-MCC:0.386352\n",
      "[12]\ttrain-MCC:0.776275\teval-MCC:0.389083\n",
      "[14]\ttrain-MCC:0.804552\teval-MCC:0.389944\n",
      "[16]\ttrain-MCC:0.828734\teval-MCC:0.392822\n",
      "[18]\ttrain-MCC:0.846736\teval-MCC:0.396244\n",
      "[20]\ttrain-MCC:0.871849\teval-MCC:0.3975\n",
      "[22]\ttrain-MCC:0.892911\teval-MCC:0.401023\n",
      "[24]\ttrain-MCC:0.911961\teval-MCC:0.402252\n",
      "[26]\ttrain-MCC:0.926082\teval-MCC:0.404861\n",
      "[28]\ttrain-MCC:0.940644\teval-MCC:0.405019\n",
      "[30]\ttrain-MCC:0.952514\teval-MCC:0.406231\n",
      "[32]\ttrain-MCC:0.962722\teval-MCC:0.403818\n",
      "[34]\ttrain-MCC:0.970961\teval-MCC:0.408123\n",
      "[36]\ttrain-MCC:0.976502\teval-MCC:0.407528\n",
      "[38]\ttrain-MCC:0.98046\teval-MCC:0.410174\n",
      "[40]\ttrain-MCC:0.985909\teval-MCC:0.411537\n",
      "[42]\ttrain-MCC:0.988754\teval-MCC:0.412054\n",
      "[44]\ttrain-MCC:0.990597\teval-MCC:0.41422\n",
      "[46]\ttrain-MCC:0.992501\teval-MCC:0.414489\n",
      "[48]\ttrain-MCC:0.993505\teval-MCC:0.414794\n",
      "[50]\ttrain-MCC:0.994875\teval-MCC:0.415899\n",
      "[52]\ttrain-MCC:0.996158\teval-MCC:0.415313\n",
      "[54]\ttrain-MCC:0.997442\teval-MCC:0.414745\n",
      "[56]\ttrain-MCC:0.998173\teval-MCC:0.415579\n",
      "[58]\ttrain-MCC:0.998539\teval-MCC:0.415328\n",
      "[60]\ttrain-MCC:0.998995\teval-MCC:0.415899\n",
      "[62]\ttrain-MCC:0.999178\teval-MCC:0.415155\n",
      "[64]\ttrain-MCC:0.99936\teval-MCC:0.415597\n",
      "[66]\ttrain-MCC:0.999543\teval-MCC:0.416473\n",
      "[68]\ttrain-MCC:0.999634\teval-MCC:0.417538\n",
      "[70]\ttrain-MCC:0.999634\teval-MCC:0.41867\n",
      "[72]\ttrain-MCC:0.999634\teval-MCC:0.417805\n",
      "[74]\ttrain-MCC:0.999634\teval-MCC:0.41891\n",
      "[76]\ttrain-MCC:0.999634\teval-MCC:0.417524\n",
      "[78]\ttrain-MCC:0.999634\teval-MCC:0.418639\n",
      "[80]\ttrain-MCC:0.999634\teval-MCC:0.42001\n",
      "[82]\ttrain-MCC:0.999634\teval-MCC:0.41867\n",
      "[84]\ttrain-MCC:0.999634\teval-MCC:0.419469\n",
      "[86]\ttrain-MCC:0.999634\teval-MCC:0.42001\n",
      "[88]\ttrain-MCC:0.999634\teval-MCC:0.420298\n",
      "[90]\ttrain-MCC:0.999634\teval-MCC:0.420836\n",
      "[92]\ttrain-MCC:0.999634\teval-MCC:0.421423\n",
      "[94]\ttrain-MCC:0.999634\teval-MCC:0.421665\n",
      "[96]\ttrain-MCC:0.999634\teval-MCC:0.421978\n",
      "[98]\ttrain-MCC:0.999634\teval-MCC:0.422511\n",
      "[100]\ttrain-MCC:0.999634\teval-MCC:0.423845\n",
      "[102]\ttrain-MCC:0.999634\teval-MCC:0.423575\n",
      "[104]\ttrain-MCC:0.999634\teval-MCC:0.423598\n",
      "[106]\ttrain-MCC:0.999634\teval-MCC:0.423448\n",
      "[108]\ttrain-MCC:0.999635\teval-MCC:0.423779\n",
      "[110]\ttrain-MCC:0.999635\teval-MCC:0.425188\n",
      "[112]\ttrain-MCC:0.999635\teval-MCC:0.423789\n",
      "[114]\ttrain-MCC:0.999635\teval-MCC:0.423952\n",
      "[116]\ttrain-MCC:0.999635\teval-MCC:0.424121\n",
      "[118]\ttrain-MCC:0.999635\teval-MCC:0.425481\n",
      "[120]\ttrain-MCC:0.999726\teval-MCC:0.425213\n",
      "[122]\ttrain-MCC:0.999726\teval-MCC:0.42577\n",
      "[124]\ttrain-MCC:0.999726\teval-MCC:0.426143\n",
      "[126]\ttrain-MCC:0.999726\teval-MCC:0.426058\n",
      "[128]\ttrain-MCC:0.999726\teval-MCC:0.425854\n",
      "[130]\ttrain-MCC:0.999726\teval-MCC:0.426662\n",
      "[132]\ttrain-MCC:0.999726\teval-MCC:0.426506\n",
      "[134]\ttrain-MCC:0.999726\teval-MCC:0.426725\n",
      "[136]\ttrain-MCC:0.999726\teval-MCC:0.427529\n",
      "[138]\ttrain-MCC:0.999726\teval-MCC:0.427468\n",
      "[140]\ttrain-MCC:0.999817\teval-MCC:0.427468\n",
      "[142]\ttrain-MCC:0.999817\teval-MCC:0.427705\n",
      "[144]\ttrain-MCC:0.999817\teval-MCC:0.427141\n",
      "[146]\ttrain-MCC:0.999817\teval-MCC:0.427949\n",
      "[148]\ttrain-MCC:0.999817\teval-MCC:0.428477\n",
      "[150]\ttrain-MCC:0.999817\teval-MCC:0.429007\n",
      "[152]\ttrain-MCC:0.999817\teval-MCC:0.429267\n",
      "[154]\ttrain-MCC:0.999817\teval-MCC:0.429535\n",
      "[156]\ttrain-MCC:0.999817\teval-MCC:0.428996\n",
      "[158]\ttrain-MCC:0.999817\teval-MCC:0.429007\n",
      "[160]\ttrain-MCC:0.999817\teval-MCC:0.428187\n",
      "[162]\ttrain-MCC:0.999817\teval-MCC:0.429267\n",
      "[164]\ttrain-MCC:0.999817\teval-MCC:0.429267\n",
      "[166]\ttrain-MCC:0.999817\teval-MCC:0.428211\n",
      "[168]\ttrain-MCC:0.999817\teval-MCC:0.428056\n",
      "[170]\ttrain-MCC:0.999817\teval-MCC:0.428381\n",
      "[172]\ttrain-MCC:0.999817\teval-MCC:0.428056\n",
      "[174]\ttrain-MCC:0.999817\teval-MCC:0.4282\n",
      "Stopping. Best iteration:\n",
      "[154]\ttrain-MCC:0.999817\teval-MCC:0.429535\n",
      "\n"
     ]
    }
   ],
   "source": [
    "xgb_params1 = {\n",
    "    'colsample_bytree': 1,\n",
    "    'colsample_bylevel': 1,\n",
    "    'subsample': 1,\n",
    "    'learning_rate': 0.1,\n",
    "    'max_depth': 48,\n",
    "    'min_child_weight': 1,\n",
    "    'gamma': 0.05,\n",
    "    'base_score': prior1,\n",
    "    'tree_method': 'exact',\n",
    "    'objective': 'binary:logistic',\n",
    "    'silent': 0,\n",
    "    'seed': 12,\n",
    "    'nthread': 22\n",
    "}\n",
    "#'tree_method': 'exact',\n",
    "evals  = [(dtrain,'train'), (dvalid,'eval')]\n",
    "bst1 = xgb.train(xgb_params1, dtrain, num_boost_round=500, \n",
    "          evals=evals, early_stopping_rounds=20, \n",
    "          verbose_eval=2, feval=mcc_eval, maximize=True)"
   ]
  },
  {
   "cell_type": "code",
   "execution_count": 46,
   "metadata": {
    "collapsed": true
   },
   "outputs": [],
   "source": [
    "import operator\n",
    "importance = bst1.get_fscore(fmap='xgb1.fmap')\n",
    "importance = sorted(importance.items(), key=operator.itemgetter(1), reverse=True)"
   ]
  },
  {
   "cell_type": "code",
   "execution_count": 47,
   "metadata": {
    "collapsed": false
   },
   "outputs": [
    {
     "data": {
      "text/plain": [
       "725"
      ]
     },
     "execution_count": 47,
     "metadata": {},
     "output_type": "execute_result"
    }
   ],
   "source": [
    "len(importance)"
   ]
  },
  {
   "cell_type": "code",
   "execution_count": 48,
   "metadata": {
    "collapsed": true
   },
   "outputs": [],
   "source": [
    "bst1.dump_model('429535mcc.dump', fmap='xgb1.fmap', with_stats=True)"
   ]
  },
  {
   "cell_type": "code",
   "execution_count": 49,
   "metadata": {
    "collapsed": true
   },
   "outputs": [],
   "source": [
    "bst1.save_model('429535.model')"
   ]
  },
  {
   "cell_type": "code",
   "execution_count": 4,
   "metadata": {
    "collapsed": true
   },
   "outputs": [],
   "source": [
    "bst1 = xgb.Booster()\n",
    "bst1.load_model('429535.model')"
   ]
  },
  {
   "cell_type": "code",
   "execution_count": 15,
   "metadata": {
    "collapsed": false
   },
   "outputs": [],
   "source": [
    "pred_valid = bst1.predict(dvalid, ntree_limit=155)"
   ]
  },
  {
   "cell_type": "code",
   "execution_count": 16,
   "metadata": {
    "collapsed": false
   },
   "outputs": [
    {
     "name": "stdout",
     "output_type": "stream",
     "text": [
      "0.429534884036 0.4295348840357449\n"
     ]
    },
    {
     "data": {
      "image/png": "[encoded data removed]",
      "text/plain": [
       "<matplotlib.figure.Figure at 0x7f5f8c4d19b0>"
      ]
     },
     "metadata": {},
     "output_type": "display_data"
    }
   ],
   "source": [
    "best_proba, best_mcc, y_pred = eval_mcc(dvalid.get_label(), pred_valid, show=True)"
   ]
  },
  {
   "cell_type": "code",
   "execution_count": 17,
   "metadata": {
    "collapsed": false
   },
   "outputs": [
    {
     "data": {
      "text/plain": [
       "0.29268866777420044"
      ]
     },
     "execution_count": 17,
     "metadata": {},
     "output_type": "execute_result"
    }
   ],
   "source": [
    "best_proba"
   ]
  },
  {
   "cell_type": "code",
   "execution_count": 10,
   "metadata": {
    "collapsed": false
   },
   "outputs": [],
   "source": [
    "dtest = xgb.DMatrix('../input_hdf/test_with_faron_sel.buffer')"
   ]
  },
  {
   "cell_type": "code",
   "execution_count": 11,
   "metadata": {
    "collapsed": true
   },
   "outputs": [],
   "source": [
    "# generate predictions at the chosen threshold\n",
    "preds = (bst1.predict(dtest, ntree_limit=155) > best_proba).astype(np.int8)"
   ]
  },
  {
   "cell_type": "code",
   "execution_count": 12,
   "metadata": {
    "collapsed": true
   },
   "outputs": [],
   "source": [
    "# and submit\n",
    "sub = pd.read_csv(\"../input_orig/sample_submission.csv\", index_col=0)\n",
    "sub[\"Response\"] = preds\n",
    "sub.to_csv(\"429535_submission.csv.gz\", compression=\"gzip\")"
   ]
  },
  {
   "cell_type": "code",
   "execution_count": null,
   "metadata": {
    "collapsed": true
   },
   "outputs": [],
   "source": []
  }
 ],
 "metadata": {
  "anaconda-cloud": {},
  "kernelspec": {
   "display_name": "Python [default]",
   "language": "python",
   "name": "python3"
  },
  "language_info": {
   "codemirror_mode": {
    "name": "ipython",
    "version": 3
   },
   "file_extension": ".py",
   "mimetype": "text/x-python",
   "name": "python",
   "nbconvert_exporter": "python",
   "pygments_lexer": "ipython3",
   "version": "3.5.2"
  }
 },
 "nbformat": 4,
 "nbformat_minor": 1
}
