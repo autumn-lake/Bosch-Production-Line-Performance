{
 "cells": [
  {
   "cell_type": "code",
   "execution_count": 1,
   "metadata": {
    "collapsed": true
   },
   "outputs": [],
   "source": [
    "import pandas as pd\n",
    "import numpy as np\n",
    "import xgboost as xgb\n",
    "\n",
    "%matplotlib inline\n",
    "\n",
    "from sklearn.metrics import matthews_corrcoef\n",
    "import matplotlib.pyplot as plt\n",
    "from numba import jit\n",
    "\n",
    "@jit\n",
    "def mcc(tp, tn, fp, fn):\n",
    "    sup = tp * tn - fp * fn\n",
    "    inf = (tp + fp) * (tp + fn) * (tn + fp) * (tn + fn)\n",
    "    if inf==0:\n",
    "        return 0\n",
    "    else:\n",
    "        return sup / np.sqrt(inf)\n",
    "\n",
    "@jit\n",
    "def eval_mcc(y_true, y_prob, show=False):\n",
    "    idx = np.argsort(y_prob)\n",
    "    y_true_sort = y_true[idx]\n",
    "    n = y_true.shape[0]\n",
    "    nump = 1.0 * np.sum(y_true) # number of positive\n",
    "    numn = n - nump # number of negative\n",
    "    tp = nump\n",
    "    tn = 0.0\n",
    "    fp = numn\n",
    "    fn = 0.0\n",
    "    best_mcc = 0.0\n",
    "    best_id = -1\n",
    "    prev_proba = -1\n",
    "    best_proba = -1\n",
    "    mccs = np.zeros(n)\n",
    "    for i in range(n):\n",
    "        # all items with idx < i are predicted negative while others are predicted positive\n",
    "        # only evaluate mcc when probability changes\n",
    "        proba = y_prob[idx[i]]\n",
    "        if proba != prev_proba:\n",
    "            prev_proba = proba\n",
    "            new_mcc = mcc(tp, tn, fp, fn)\n",
    "            if new_mcc >= best_mcc:\n",
    "                best_mcc = new_mcc\n",
    "                best_id = i\n",
    "                best_proba = proba\n",
    "        mccs[i] = new_mcc\n",
    "        if y_true_sort[i] == 1:\n",
    "            tp -= 1.0\n",
    "            fn += 1.0\n",
    "        else:\n",
    "            fp -= 1.0\n",
    "            tn += 1.0\n",
    "    if show:\n",
    "        y_pred = (y_prob >= best_proba).astype(int)\n",
    "        score = matthews_corrcoef(y_true, y_pred)\n",
    "        print(score, best_mcc)\n",
    "        plt.plot(mccs)\n",
    "        return best_proba, best_mcc, y_pred\n",
    "    else:\n",
    "        return best_mcc\n",
    "\n",
    "def mcc_eval(y_prob, dtrain):\n",
    "    y_true = dtrain.get_label()\n",
    "    best_mcc = eval_mcc(y_true, y_prob)\n",
    "    return 'MCC', best_mcc"
   ]
  },
  {
   "cell_type": "code",
   "execution_count": 2,
   "metadata": {
    "collapsed": false
   },
   "outputs": [],
   "source": [
    "dtrain = xgb.DMatrix('dtrain.buffer')\n",
    "dvalid = xgb.DMatrix('dvalid.buffer')"
   ]
  },
  {
   "cell_type": "code",
   "execution_count": 8,
   "metadata": {
    "collapsed": false
   },
   "outputs": [],
   "source": [
    "'''\n",
    "df1 = pd.read_csv('../input_orig/train_numeric.csv', usecols=['Id','Response'])\n",
    "\n",
    "from sklearn.cross_validation import train_test_split\n",
    "X_train, X_test, y_train, y_test = train_test_split(df1, df1.Response.values, test_size=0.1, random_state=42, stratify=df1.Response.values)\n",
    "\n",
    "dvalid = dtrain.slice(X_test.index)\n",
    "dvalid.num_row(), X_test.shape\n",
    "dtrain = dtrain.slice(X_train.index)\n",
    "dtrain.num_row(), X_train.shape\n",
    "\n",
    "#dtrain.save_binary('dtrain.buffer')\n",
    "#dvalid.save_binary('dvalid.buffer')"
   ]
  },
  {
   "cell_type": "code",
   "execution_count": 4,
   "metadata": {
    "collapsed": true
   },
   "outputs": [],
   "source": [
    "y = dtrain.get_label()\n",
    "prior = np.sum(y) / (1.*len(y))"
   ]
  },
  {
   "cell_type": "code",
   "execution_count": null,
   "metadata": {
    "collapsed": false
   },
   "outputs": [
    {
     "name": "stdout",
     "output_type": "stream",
     "text": [
      "[0]\ttrain-MCC:0.218893\teval-MCC:0.21866\n",
      "Multiple eval metrics have been passed: 'eval-MCC' will be used for early stopping.\n",
      "\n",
      "Will train until eval-MCC hasn't improved in 20 rounds.\n",
      "[1]\ttrain-MCC:0.229707\teval-MCC:0.228893\n",
      "[2]\ttrain-MCC:0.232787\teval-MCC:0.231124\n",
      "[3]\ttrain-MCC:0.235374\teval-MCC:0.234819\n",
      "[4]\ttrain-MCC:0.24111\teval-MCC:0.235924\n",
      "[5]\ttrain-MCC:0.249881\teval-MCC:0.234709\n",
      "[6]\ttrain-MCC:0.270045\teval-MCC:0.240381\n",
      "[7]\ttrain-MCC:0.308998\teval-MCC:0.247096\n",
      "[8]\ttrain-MCC:0.337688\teval-MCC:0.247189\n",
      "[9]\ttrain-MCC:0.380758\teval-MCC:0.258673\n",
      "[10]\ttrain-MCC:0.403505\teval-MCC:0.308829\n",
      "[11]\ttrain-MCC:0.437408\teval-MCC:0.347576\n",
      "[12]\ttrain-MCC:0.453834\teval-MCC:0.366061\n",
      "[13]\ttrain-MCC:0.464793\teval-MCC:0.371669\n",
      "[14]\ttrain-MCC:0.479322\teval-MCC:0.385175\n",
      "[15]\ttrain-MCC:0.489875\teval-MCC:0.392204\n",
      "[16]\ttrain-MCC:0.503415\teval-MCC:0.399443\n",
      "[17]\ttrain-MCC:0.512577\teval-MCC:0.40334\n",
      "[18]\ttrain-MCC:0.518609\teval-MCC:0.402241\n",
      "[19]\ttrain-MCC:0.5414\teval-MCC:0.400263\n",
      "[20]\ttrain-MCC:0.551987\teval-MCC:0.401549\n",
      "[21]\ttrain-MCC:0.568728\teval-MCC:0.404356\n",
      "[22]\ttrain-MCC:0.580586\teval-MCC:0.401747\n",
      "[23]\ttrain-MCC:0.59047\teval-MCC:0.402085\n",
      "[24]\ttrain-MCC:0.601196\teval-MCC:0.406862\n",
      "[25]\ttrain-MCC:0.609709\teval-MCC:0.40261\n",
      "[26]\ttrain-MCC:0.618945\teval-MCC:0.403795\n",
      "[27]\ttrain-MCC:0.62875\teval-MCC:0.403795\n",
      "[28]\ttrain-MCC:0.639134\teval-MCC:0.409175\n",
      "[29]\ttrain-MCC:0.647436\teval-MCC:0.412019\n",
      "[30]\ttrain-MCC:0.655465\teval-MCC:0.408209\n",
      "[31]\ttrain-MCC:0.671257\teval-MCC:0.405966\n",
      "[32]\ttrain-MCC:0.678367\teval-MCC:0.400504\n",
      "[33]\ttrain-MCC:0.689114\teval-MCC:0.39852\n",
      "[34]\ttrain-MCC:0.694837\teval-MCC:0.401221\n",
      "[35]\ttrain-MCC:0.695135\teval-MCC:0.399847\n",
      "[36]\ttrain-MCC:0.702005\teval-MCC:0.402033\n",
      "[37]\ttrain-MCC:0.711653\teval-MCC:0.401429\n",
      "[38]\ttrain-MCC:0.713194\teval-MCC:0.400835\n",
      "[39]\ttrain-MCC:0.721978\teval-MCC:0.404744\n",
      "[40]\ttrain-MCC:0.729286\teval-MCC:0.401023\n",
      "[41]\ttrain-MCC:0.736106\teval-MCC:0.401747\n"
     ]
    }
   ],
   "source": [
    "xgb_params1 = {\n",
    "    'colsample_bytree': 1,\n",
    "    'colsample_bylevel': 1,\n",
    "    'subsample': 0.7,\n",
    "    'learning_rate': 0.3,\n",
    "    'max_depth': 18,\n",
    "    'min_child_weight': 3,\n",
    "    'gamma': 0.3, \n",
    "    'max_delta_step': 1,\n",
    "    'base_score': prior,\n",
    "    'tree_method': 'exact',\n",
    "    'objective': 'binary:logistic',\n",
    "    'silent': 0,\n",
    "    'seed': 12,\n",
    "    'nthread': 22\n",
    "}\n",
    "#'tree_method': 'exact',\n",
    "evals  = [(dtrain,'train'), (dvalid,'eval')]\n",
    "bst1 = xgb.train(xgb_params1, dtrain, num_boost_round=500, \n",
    "          evals=evals, early_stopping_rounds=20, \n",
    "          verbose_eval=1, feval=mcc_eval, maximize=True)"
   ]
  },
  {
   "cell_type": "code",
   "execution_count": 27,
   "metadata": {
    "collapsed": true
   },
   "outputs": [],
   "source": [
    "import operator\n",
    "importance = bst1.get_fscore(fmap='xgb.fmap')\n",
    "importance = sorted(importance.items(), key=operator.itemgetter(1), reverse=True)"
   ]
  },
  {
   "cell_type": "code",
   "execution_count": 29,
   "metadata": {
    "collapsed": false
   },
   "outputs": [
    {
     "data": {
      "text/plain": [
       "761"
      ]
     },
     "execution_count": 29,
     "metadata": {},
     "output_type": "execute_result"
    }
   ],
   "source": [
    "len(importance)"
   ]
  },
  {
   "cell_type": "code",
   "execution_count": 30,
   "metadata": {
    "collapsed": true
   },
   "outputs": [],
   "source": [
    "bst1.save_model('435461.model')"
   ]
  },
  {
   "cell_type": "code",
   "execution_count": 34,
   "metadata": {
    "collapsed": false
   },
   "outputs": [],
   "source": [
    "pred_valid = bst1.predict(dvalid, ntree_limit=bst1.best_ntree_limit)"
   ]
  },
  {
   "cell_type": "code",
   "execution_count": 35,
   "metadata": {
    "collapsed": false
   },
   "outputs": [
    {
     "name": "stdout",
     "output_type": "stream",
     "text": [
      "0.435461051629 0.4354610516292058\n"
     ]
    },
    {
     "data": {
      "image/png": "[encoded data removed]",
      "text/plain": [
       "<matplotlib.figure.Figure at 0x7fb5a4390ef0>"
      ]
     },
     "metadata": {},
     "output_type": "display_data"
    }
   ],
   "source": [
    "best_proba, best_mcc, y_pred = eval_mcc(dvalid.get_label(), pred_valid, show=True)"
   ]
  },
  {
   "cell_type": "code",
   "execution_count": 40,
   "metadata": {
    "collapsed": false
   },
   "outputs": [],
   "source": [
    "dtest = xgb.DMatrix('input_hdf/test_with_faron.buffer')"
   ]
  },
  {
   "cell_type": "code",
   "execution_count": 41,
   "metadata": {
    "collapsed": true
   },
   "outputs": [],
   "source": [
    "# generate predictions at the chosen threshold\n",
    "preds = (bst1.predict(dtest, ntree_limit=bst1.best_ntree_limit) > best_proba).astype(np.int8)"
   ]
  },
  {
   "cell_type": "code",
   "execution_count": 44,
   "metadata": {
    "collapsed": true
   },
   "outputs": [],
   "source": [
    "# and submit\n",
    "sub = pd.read_csv(\"input_orig/sample_submission.csv\", index_col=0)\n",
    "sub[\"Response\"] = preds\n",
    "sub.to_csv(\"435461_submission.csv.gz\", compression=\"gzip\")"
   ]
  }
 ],
 "metadata": {
  "anaconda-cloud": {},
  "kernelspec": {
   "display_name": "Python [default]",
   "language": "python",
   "name": "python3"
  },
  "language_info": {
   "codemirror_mode": {
    "name": "ipython",
    "version": 3
   },
   "file_extension": ".py",
   "mimetype": "text/x-python",
   "name": "python",
   "nbconvert_exporter": "python",
   "pygments_lexer": "ipython3",
   "version": "3.5.2"
  }
 },
 "nbformat": 4,
 "nbformat_minor": 1
}
