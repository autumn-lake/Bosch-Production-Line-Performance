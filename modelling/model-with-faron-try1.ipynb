{
 "cells": [
  {
   "cell_type": "code",
   "execution_count": 1,
   "metadata": {
    "collapsed": true
   },
   "outputs": [],
   "source": [
    "import pandas as pd\n",
    "import numpy as np\n",
    "import xgboost as xgb\n",
    "\n",
    "%matplotlib inline\n",
    "\n",
    "from sklearn.metrics import matthews_corrcoef\n",
    "import matplotlib.pyplot as plt\n",
    "from numba import jit\n",
    "\n",
    "@jit\n",
    "def mcc(tp, tn, fp, fn):\n",
    "    sup = tp * tn - fp * fn\n",
    "    inf = (tp + fp) * (tp + fn) * (tn + fp) * (tn + fn)\n",
    "    if inf==0:\n",
    "        return 0\n",
    "    else:\n",
    "        return sup / np.sqrt(inf)\n",
    "\n",
    "@jit\n",
    "def eval_mcc(y_true, y_prob, show=False):\n",
    "    idx = np.argsort(y_prob)\n",
    "    y_true_sort = y_true[idx]\n",
    "    n = y_true.shape[0]\n",
    "    nump = 1.0 * np.sum(y_true) # number of positive\n",
    "    numn = n - nump # number of negative\n",
    "    tp = nump\n",
    "    tn = 0.0\n",
    "    fp = numn\n",
    "    fn = 0.0\n",
    "    best_mcc = 0.0\n",
    "    best_id = -1\n",
    "    prev_proba = -1\n",
    "    best_proba = -1\n",
    "    mccs = np.zeros(n)\n",
    "    for i in range(n):\n",
    "        # all items with idx < i are predicted negative while others are predicted positive\n",
    "        # only evaluate mcc when probability changes\n",
    "        proba = y_prob[idx[i]]\n",
    "        if proba != prev_proba:\n",
    "            prev_proba = proba\n",
    "            new_mcc = mcc(tp, tn, fp, fn)\n",
    "            if new_mcc >= best_mcc:\n",
    "                best_mcc = new_mcc\n",
    "                best_id = i\n",
    "                best_proba = proba\n",
    "        mccs[i] = new_mcc\n",
    "        if y_true_sort[i] == 1:\n",
    "            tp -= 1.0\n",
    "            fn += 1.0\n",
    "        else:\n",
    "            fp -= 1.0\n",
    "            tn += 1.0\n",
    "    if show:\n",
    "        y_pred = (y_prob >= best_proba).astype(int)\n",
    "        score = matthews_corrcoef(y_true, y_pred)\n",
    "        print(score, best_mcc)\n",
    "        plt.plot(mccs)\n",
    "        return best_proba, best_mcc, y_pred\n",
    "    else:\n",
    "        return best_mcc\n",
    "\n",
    "def mcc_eval(y_prob, dtrain):\n",
    "    y_true = dtrain.get_label()\n",
    "    best_mcc = eval_mcc(y_true, y_prob)\n",
    "    return 'MCC', best_mcc"
   ]
  },
  {
   "cell_type": "code",
   "execution_count": 45,
   "metadata": {
    "collapsed": true
   },
   "outputs": [],
   "source": [
    "dtrain = xgb.DMatrix('input_hdf/train_with_faron.buffer')"
   ]
  },
  {
   "cell_type": "code",
   "execution_count": 3,
   "metadata": {
    "collapsed": false
   },
   "outputs": [
    {
     "data": {
      "text/plain": [
       "2774"
      ]
     },
     "execution_count": 3,
     "metadata": {},
     "output_type": "execute_result"
    }
   ],
   "source": [
    "dtrain.num_col()"
   ]
  },
  {
   "cell_type": "code",
   "execution_count": 4,
   "metadata": {
    "collapsed": true
   },
   "outputs": [],
   "source": [
    "df1 = pd.read_csv('input_orig/train_numeric.csv', usecols=['Id','Response'])"
   ]
  },
  {
   "cell_type": "code",
   "execution_count": 5,
   "metadata": {
    "collapsed": false
   },
   "outputs": [],
   "source": [
    "from sklearn.cross_validation import train_test_split\n",
    "X_train, X_test, y_train, y_test = train_test_split(df1, df1.Response.values, test_size=0.1, random_state=42, stratify=df1.Response.values)"
   ]
  },
  {
   "cell_type": "code",
   "execution_count": 6,
   "metadata": {
    "collapsed": true
   },
   "outputs": [],
   "source": [
    "y = dtrain.get_label()\n",
    "prior = np.sum(y) / (1.*len(y))"
   ]
  },
  {
   "cell_type": "code",
   "execution_count": 7,
   "metadata": {
    "collapsed": true
   },
   "outputs": [],
   "source": [
    "dvalid = dtrain.slice(X_test.index)"
   ]
  },
  {
   "cell_type": "code",
   "execution_count": 8,
   "metadata": {
    "collapsed": false
   },
   "outputs": [
    {
     "data": {
      "text/plain": [
       "(118375, (118375, 2))"
      ]
     },
     "execution_count": 8,
     "metadata": {},
     "output_type": "execute_result"
    }
   ],
   "source": [
    "dvalid.num_row(), X_test.shape"
   ]
  },
  {
   "cell_type": "code",
   "execution_count": 9,
   "metadata": {
    "collapsed": true
   },
   "outputs": [],
   "source": [
    "dtrain = dtrain.slice(X_train.index)"
   ]
  },
  {
   "cell_type": "code",
   "execution_count": 10,
   "metadata": {
    "collapsed": false
   },
   "outputs": [
    {
     "data": {
      "text/plain": [
       "(1065372, (1065372, 2))"
      ]
     },
     "execution_count": 10,
     "metadata": {},
     "output_type": "execute_result"
    }
   ],
   "source": [
    "dtrain.num_row(), X_train.shape"
   ]
  },
  {
   "cell_type": "code",
   "execution_count": 11,
   "metadata": {
    "collapsed": false
   },
   "outputs": [],
   "source": [
    "#spw = (y.shape[0]-y.sum())/y.sum()"
   ]
  },
  {
   "cell_type": "code",
   "execution_count": 26,
   "metadata": {
    "collapsed": false
   },
   "outputs": [
    {
     "name": "stdout",
     "output_type": "stream",
     "text": [
      "[0]\ttrain-MCC:0.224465\teval-MCC:0.212381\n",
      "Multiple eval metrics have been passed: 'eval-MCC' will be used for early stopping.\n",
      "\n",
      "Will train until eval-MCC hasn't improved in 20 rounds.\n",
      "[1]\ttrain-MCC:0.234591\teval-MCC:0.222568\n",
      "[2]\ttrain-MCC:0.239831\teval-MCC:0.225888\n",
      "[3]\ttrain-MCC:0.242801\teval-MCC:0.229293\n",
      "[4]\ttrain-MCC:0.24494\teval-MCC:0.230438\n",
      "[5]\ttrain-MCC:0.247138\teval-MCC:0.230853\n",
      "[6]\ttrain-MCC:0.248845\teval-MCC:0.232395\n",
      "[7]\ttrain-MCC:0.253032\teval-MCC:0.234811\n",
      "[8]\ttrain-MCC:0.256231\teval-MCC:0.233854\n",
      "[9]\ttrain-MCC:0.258953\teval-MCC:0.235166\n",
      "[10]\ttrain-MCC:0.2739\teval-MCC:0.238376\n",
      "[11]\ttrain-MCC:0.298027\teval-MCC:0.241546\n",
      "[12]\ttrain-MCC:0.328841\teval-MCC:0.244269\n",
      "[13]\ttrain-MCC:0.356351\teval-MCC:0.246568\n",
      "[14]\ttrain-MCC:0.396924\teval-MCC:0.251956\n",
      "[15]\ttrain-MCC:0.436439\teval-MCC:0.261143\n",
      "[16]\ttrain-MCC:0.473435\teval-MCC:0.260632\n",
      "[17]\ttrain-MCC:0.51518\teval-MCC:0.26367\n",
      "[18]\ttrain-MCC:0.550943\teval-MCC:0.28526\n",
      "[19]\ttrain-MCC:0.564085\teval-MCC:0.322822\n",
      "[20]\ttrain-MCC:0.56197\teval-MCC:0.342604\n",
      "[21]\ttrain-MCC:0.567172\teval-MCC:0.356488\n",
      "[22]\ttrain-MCC:0.576922\teval-MCC:0.364247\n",
      "[23]\ttrain-MCC:0.583416\teval-MCC:0.364699\n",
      "[24]\ttrain-MCC:0.586606\teval-MCC:0.380805\n",
      "[25]\ttrain-MCC:0.589566\teval-MCC:0.3863\n",
      "[26]\ttrain-MCC:0.597502\teval-MCC:0.392218\n",
      "[27]\ttrain-MCC:0.602148\teval-MCC:0.402046\n",
      "[28]\ttrain-MCC:0.60571\teval-MCC:0.407954\n",
      "[29]\ttrain-MCC:0.609853\teval-MCC:0.409013\n",
      "[30]\ttrain-MCC:0.613722\teval-MCC:0.411178\n",
      "[31]\ttrain-MCC:0.617655\teval-MCC:0.416328\n",
      "[32]\ttrain-MCC:0.621245\teval-MCC:0.413837\n",
      "[33]\ttrain-MCC:0.621524\teval-MCC:0.41757\n",
      "[34]\ttrain-MCC:0.622595\teval-MCC:0.41631\n",
      "[35]\ttrain-MCC:0.623777\teval-MCC:0.417643\n",
      "[36]\ttrain-MCC:0.62766\teval-MCC:0.418449\n",
      "[37]\ttrain-MCC:0.634304\teval-MCC:0.423103\n",
      "[38]\ttrain-MCC:0.639961\teval-MCC:0.421419\n",
      "[39]\ttrain-MCC:0.644899\teval-MCC:0.423103\n",
      "[40]\ttrain-MCC:0.646334\teval-MCC:0.423103\n",
      "[41]\ttrain-MCC:0.649937\teval-MCC:0.422725\n",
      "[42]\ttrain-MCC:0.660758\teval-MCC:0.422359\n",
      "[43]\ttrain-MCC:0.662647\teval-MCC:0.420124\n",
      "[44]\ttrain-MCC:0.66731\teval-MCC:0.421811\n",
      "[45]\ttrain-MCC:0.668807\teval-MCC:0.42271\n",
      "[46]\ttrain-MCC:0.670149\teval-MCC:0.423103\n",
      "[47]\ttrain-MCC:0.679322\teval-MCC:0.425038\n",
      "[48]\ttrain-MCC:0.683643\teval-MCC:0.426808\n",
      "[49]\ttrain-MCC:0.687814\teval-MCC:0.428885\n",
      "[50]\ttrain-MCC:0.698313\teval-MCC:0.429061\n",
      "[51]\ttrain-MCC:0.703035\teval-MCC:0.429414\n",
      "[52]\ttrain-MCC:0.710362\teval-MCC:0.428497\n",
      "[53]\ttrain-MCC:0.713417\teval-MCC:0.428118\n",
      "[54]\ttrain-MCC:0.726268\teval-MCC:0.429742\n",
      "[55]\ttrain-MCC:0.738681\teval-MCC:0.428073\n",
      "[56]\ttrain-MCC:0.74643\teval-MCC:0.427629\n",
      "[57]\ttrain-MCC:0.751178\teval-MCC:0.42839\n",
      "[58]\ttrain-MCC:0.754742\teval-MCC:0.428892\n",
      "[59]\ttrain-MCC:0.757248\teval-MCC:0.428719\n",
      "[60]\ttrain-MCC:0.759862\teval-MCC:0.428719\n",
      "[61]\ttrain-MCC:0.764046\teval-MCC:0.428892\n",
      "[62]\ttrain-MCC:0.76596\teval-MCC:0.429284\n",
      "[63]\ttrain-MCC:0.768859\teval-MCC:0.430933\n",
      "[64]\ttrain-MCC:0.7731\teval-MCC:0.432577\n",
      "[65]\ttrain-MCC:0.780298\teval-MCC:0.431338\n",
      "[66]\ttrain-MCC:0.780879\teval-MCC:0.431338\n",
      "[67]\ttrain-MCC:0.788036\teval-MCC:0.430538\n",
      "[68]\ttrain-MCC:0.789696\teval-MCC:0.432185\n",
      "[69]\ttrain-MCC:0.798396\teval-MCC:0.432185\n",
      "[70]\ttrain-MCC:0.804122\teval-MCC:0.43011\n",
      "[71]\ttrain-MCC:0.806928\teval-MCC:0.432721\n",
      "[72]\ttrain-MCC:0.808551\teval-MCC:0.432721\n",
      "[73]\ttrain-MCC:0.810241\teval-MCC:0.432721\n",
      "[74]\ttrain-MCC:0.812637\teval-MCC:0.43107\n",
      "[75]\ttrain-MCC:0.814704\teval-MCC:0.431431\n",
      "[76]\ttrain-MCC:0.823299\teval-MCC:0.433388\n",
      "[77]\ttrain-MCC:0.824701\teval-MCC:0.433388\n",
      "[78]\ttrain-MCC:0.825561\teval-MCC:0.433388\n",
      "[79]\ttrain-MCC:0.831694\teval-MCC:0.434612\n",
      "[80]\ttrain-MCC:0.836349\teval-MCC:0.434612\n",
      "[81]\ttrain-MCC:0.837919\teval-MCC:0.434721\n",
      "[82]\ttrain-MCC:0.839191\teval-MCC:0.434721\n",
      "[83]\ttrain-MCC:0.839921\teval-MCC:0.433388\n",
      "[84]\ttrain-MCC:0.841107\teval-MCC:0.433388\n",
      "[85]\ttrain-MCC:0.841662\teval-MCC:0.433388\n",
      "[86]\ttrain-MCC:0.842247\teval-MCC:0.434612\n",
      "[87]\ttrain-MCC:0.842649\teval-MCC:0.434721\n",
      "[88]\ttrain-MCC:0.846883\teval-MCC:0.435461\n",
      "[89]\ttrain-MCC:0.84912\teval-MCC:0.434214\n",
      "[90]\ttrain-MCC:0.850115\teval-MCC:0.434721\n",
      "[91]\ttrain-MCC:0.850817\teval-MCC:0.434721\n",
      "[92]\ttrain-MCC:0.851701\teval-MCC:0.434612\n",
      "[93]\ttrain-MCC:0.852574\teval-MCC:0.434612\n",
      "[94]\ttrain-MCC:0.854755\teval-MCC:0.433388\n",
      "[95]\ttrain-MCC:0.855737\teval-MCC:0.433388\n",
      "[96]\ttrain-MCC:0.857463\teval-MCC:0.433388\n",
      "[97]\ttrain-MCC:0.864185\teval-MCC:0.434612\n",
      "[98]\ttrain-MCC:0.868019\teval-MCC:0.434612\n",
      "[99]\ttrain-MCC:0.868508\teval-MCC:0.434612\n",
      "[100]\ttrain-MCC:0.869832\teval-MCC:0.434612\n",
      "[101]\ttrain-MCC:0.870493\teval-MCC:0.434612\n",
      "[102]\ttrain-MCC:0.871203\teval-MCC:0.434612\n",
      "[103]\ttrain-MCC:0.872332\teval-MCC:0.434612\n",
      "[104]\ttrain-MCC:0.872983\teval-MCC:0.430971\n",
      "[105]\ttrain-MCC:0.874575\teval-MCC:0.430971\n",
      "[106]\ttrain-MCC:0.876248\teval-MCC:0.432175\n",
      "[107]\ttrain-MCC:0.876708\teval-MCC:0.432175\n",
      "[108]\ttrain-MCC:0.878009\teval-MCC:0.430971\n",
      "Stopping. Best iteration:\n",
      "[88]\ttrain-MCC:0.846883\teval-MCC:0.435461\n",
      "\n"
     ]
    }
   ],
   "source": [
    "xgb_params1 = {\n",
    "    'colsample_bytree': 1,\n",
    "    'colsample_bylevel': 1,\n",
    "    'subsample': 1,\n",
    "    'learning_rate': 0.15,\n",
    "    'max_depth': 15,\n",
    "    'min_child_weight': 1,\n",
    "    'gamma': 0, \n",
    "    'max_delta_step': 1,\n",
    "    'base_score': prior,\n",
    "    'tree_method': 'exact',\n",
    "    'objective': 'binary:logistic',\n",
    "    'silent': 0,\n",
    "    'seed': 12,\n",
    "    'nthread': 16\n",
    "}\n",
    "#'tree_method': 'exact',\n",
    "evals  = [(dtrain,'train'), (dvalid,'eval')]\n",
    "bst1 = xgb.train(xgb_params1, dtrain, num_boost_round=500, \n",
    "          evals=evals, early_stopping_rounds=20, \n",
    "          verbose_eval=1, feval=mcc_eval, maximize=True)"
   ]
  },
  {
   "cell_type": "code",
   "execution_count": 27,
   "metadata": {
    "collapsed": true
   },
   "outputs": [],
   "source": [
    "import operator\n",
    "importance = bst1.get_fscore(fmap='xgb.fmap')\n",
    "importance = sorted(importance.items(), key=operator.itemgetter(1), reverse=True)"
   ]
  },
  {
   "cell_type": "code",
   "execution_count": 29,
   "metadata": {
    "collapsed": false
   },
   "outputs": [
    {
     "data": {
      "text/plain": [
       "761"
      ]
     },
     "execution_count": 29,
     "metadata": {},
     "output_type": "execute_result"
    }
   ],
   "source": [
    "len(importance)"
   ]
  },
  {
   "cell_type": "code",
   "execution_count": 30,
   "metadata": {
    "collapsed": true
   },
   "outputs": [],
   "source": [
    "bst1.save_model('435461.model')"
   ]
  },
  {
   "cell_type": "code",
   "execution_count": 34,
   "metadata": {
    "collapsed": false
   },
   "outputs": [],
   "source": [
    "pred_valid = bst1.predict(dvalid, ntree_limit=bst1.best_ntree_limit)"
   ]
  },
  {
   "cell_type": "code",
   "execution_count": 35,
   "metadata": {
    "collapsed": false
   },
   "outputs": [
    {
     "name": "stdout",
     "output_type": "stream",
     "text": [
      "0.435461051629 0.4354610516292058\n"
     ]
    },
    {
     "data": {
      "image/png": "[encoded data removed]",
      "text/plain": [
       "<matplotlib.figure.Figure at 0x7fb5a4390ef0>"
      ]
     },
     "metadata": {},
     "output_type": "display_data"
    }
   ],
   "source": [
    "best_proba, best_mcc, y_pred = eval_mcc(dvalid.get_label(), pred_valid, show=True)"
   ]
  },
  {
   "cell_type": "code",
   "execution_count": 40,
   "metadata": {
    "collapsed": false
   },
   "outputs": [],
   "source": [
    "dtest = xgb.DMatrix('input_hdf/test_with_faron.buffer')"
   ]
  },
  {
   "cell_type": "code",
   "execution_count": 41,
   "metadata": {
    "collapsed": true
   },
   "outputs": [],
   "source": [
    "# generate predictions at the chosen threshold\n",
    "preds = (bst1.predict(dtest, ntree_limit=bst1.best_ntree_limit) > best_proba).astype(np.int8)"
   ]
  },
  {
   "cell_type": "code",
   "execution_count": 44,
   "metadata": {
    "collapsed": true
   },
   "outputs": [],
   "source": [
    "# and submit\n",
    "sub = pd.read_csv(\"input_orig/sample_submission.csv\", index_col=0)\n",
    "sub[\"Response\"] = preds\n",
    "sub.to_csv(\"435461_submission.csv.gz\", compression=\"gzip\")"
   ]
  }
 ],
 "metadata": {
  "anaconda-cloud": {},
  "kernelspec": {
   "display_name": "Python [default]",
   "language": "python",
   "name": "python3"
  },
  "language_info": {
   "codemirror_mode": {
    "name": "ipython",
    "version": 3
   },
   "file_extension": ".py",
   "mimetype": "text/x-python",
   "name": "python",
   "nbconvert_exporter": "python",
   "pygments_lexer": "ipython3",
   "version": "3.5.2"
  }
 },
 "nbformat": 4,
 "nbformat_minor": 1
}
