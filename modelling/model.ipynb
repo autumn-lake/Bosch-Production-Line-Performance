{
 "cells": [
  {
   "cell_type": "code",
   "execution_count": 1,
   "metadata": {
    "collapsed": true
   },
   "outputs": [],
   "source": [
    "import pandas as pd\n",
    "import numpy as np\n",
    "import xgboost as xgb\n",
    "\n",
    "%matplotlib inline\n",
    "\n",
    "from sklearn.metrics import matthews_corrcoef\n",
    "import matplotlib.pyplot as plt\n",
    "from numba import jit\n",
    "\n",
    "@jit\n",
    "def mcc(tp, tn, fp, fn):\n",
    "    sup = tp * tn - fp * fn\n",
    "    inf = (tp + fp) * (tp + fn) * (tn + fp) * (tn + fn)\n",
    "    if inf==0:\n",
    "        return 0\n",
    "    else:\n",
    "        return sup / np.sqrt(inf)\n",
    "\n",
    "@jit\n",
    "def eval_mcc(y_true, y_prob, show=False):\n",
    "    idx = np.argsort(y_prob)\n",
    "    y_true_sort = y_true[idx]\n",
    "    n = y_true.shape[0]\n",
    "    nump = 1.0 * np.sum(y_true) # number of positive\n",
    "    numn = n - nump # number of negative\n",
    "    tp = nump\n",
    "    tn = 0.0\n",
    "    fp = numn\n",
    "    fn = 0.0\n",
    "    best_mcc = 0.0\n",
    "    best_id = -1\n",
    "    prev_proba = -1\n",
    "    best_proba = -1\n",
    "    mccs = np.zeros(n)\n",
    "    for i in range(n):\n",
    "        # all items with idx < i are predicted negative while others are predicted positive\n",
    "        # only evaluate mcc when probability changes\n",
    "        proba = y_prob[idx[i]]\n",
    "        if proba != prev_proba:\n",
    "            prev_proba = proba\n",
    "            new_mcc = mcc(tp, tn, fp, fn)\n",
    "            if new_mcc >= best_mcc:\n",
    "                best_mcc = new_mcc\n",
    "                best_id = i\n",
    "                best_proba = proba\n",
    "        mccs[i] = new_mcc\n",
    "        if y_true_sort[i] == 1:\n",
    "            tp -= 1.0\n",
    "            fn += 1.0\n",
    "        else:\n",
    "            fp -= 1.0\n",
    "            tn += 1.0\n",
    "    if show:\n",
    "        y_pred = (y_prob >= best_proba).astype(int)\n",
    "        score = matthews_corrcoef(y_true, y_pred)\n",
    "        print(score, best_mcc)\n",
    "        plt.plot(mccs)\n",
    "        return best_proba, best_mcc, y_pred\n",
    "    else:\n",
    "        return best_mcc\n",
    "\n",
    "def mcc_eval(y_prob, dtrain):\n",
    "    y_true = dtrain.get_label()\n",
    "    best_mcc = eval_mcc(y_true, y_prob)\n",
    "    return 'MCC', best_mcc"
   ]
  },
  {
   "cell_type": "code",
   "execution_count": null,
   "metadata": {
    "collapsed": true
   },
   "outputs": [],
   "source": [
    "dtrain = xgb.DMatrix('input_hdf/train_with_faron.buffer')"
   ]
  },
  {
   "cell_type": "code",
   "execution_count": 3,
   "metadata": {
    "collapsed": true
   },
   "outputs": [],
   "source": [
    "df1 = pd.read_csv('input_orig/train_numeric.csv', usecols=['Id','Response'])"
   ]
  },
  {
   "cell_type": "code",
   "execution_count": 4,
   "metadata": {
    "collapsed": false
   },
   "outputs": [],
   "source": [
    "from sklearn.cross_validation import train_test_split\n",
    "X_train, X_test, y_train, y_test = train_test_split(df1, df1.Response.values, test_size=0.1, random_state=42, stratify=df1.Response.values)"
   ]
  },
  {
   "cell_type": "code",
   "execution_count": 5,
   "metadata": {
    "collapsed": true
   },
   "outputs": [],
   "source": [
    "y = dtrain.get_label()\n",
    "prior = np.sum(y) / (1.*len(y))"
   ]
  },
  {
   "cell_type": "code",
   "execution_count": 6,
   "metadata": {
    "collapsed": true
   },
   "outputs": [],
   "source": [
    "dvalid = dtrain.slice(X_test.index)"
   ]
  },
  {
   "cell_type": "code",
   "execution_count": 7,
   "metadata": {
    "collapsed": false
   },
   "outputs": [
    {
     "data": {
      "text/plain": [
       "(118375, (118375, 2))"
      ]
     },
     "execution_count": 7,
     "metadata": {},
     "output_type": "execute_result"
    }
   ],
   "source": [
    "dvalid.num_row(), X_test.shape"
   ]
  },
  {
   "cell_type": "code",
   "execution_count": 8,
   "metadata": {
    "collapsed": true
   },
   "outputs": [],
   "source": [
    "dtrain = dtrain.slice(X_train.index)"
   ]
  },
  {
   "cell_type": "code",
   "execution_count": 9,
   "metadata": {
    "collapsed": false
   },
   "outputs": [
    {
     "data": {
      "text/plain": [
       "(1065372, (1065372, 2))"
      ]
     },
     "execution_count": 9,
     "metadata": {},
     "output_type": "execute_result"
    }
   ],
   "source": [
    "dtrain.num_row(), X_train.shape"
   ]
  },
  {
   "cell_type": "code",
   "execution_count": 14,
   "metadata": {
    "collapsed": false
   },
   "outputs": [],
   "source": [
    "spw = (y.shape[0]-y.sum())/y.sum()"
   ]
  },
  {
   "cell_type": "code",
   "execution_count": 28,
   "metadata": {
    "collapsed": false
   },
   "outputs": [
    {
     "name": "stdout",
     "output_type": "stream",
     "text": [
      "[0]\ttrain-MCC:0.101656\teval-MCC:0.074093\n",
      "Multiple eval metrics have been passed: 'eval-MCC' will be used for early stopping.\n",
      "\n",
      "Will train until eval-MCC hasn't improved in 20 rounds.\n",
      "[1]\ttrain-MCC:0.147531\teval-MCC:0.114974\n",
      "[2]\ttrain-MCC:0.156966\teval-MCC:0.125581\n",
      "[3]\ttrain-MCC:0.200676\teval-MCC:0.169536\n",
      "[4]\ttrain-MCC:0.215927\teval-MCC:0.188348\n",
      "[5]\ttrain-MCC:0.224383\teval-MCC:0.203386\n",
      "[6]\ttrain-MCC:0.226055\teval-MCC:0.204349\n",
      "[7]\ttrain-MCC:0.233152\teval-MCC:0.210605\n",
      "[8]\ttrain-MCC:0.237714\teval-MCC:0.216841\n",
      "[9]\ttrain-MCC:0.240379\teval-MCC:0.219236\n",
      "[10]\ttrain-MCC:0.241404\teval-MCC:0.221061\n",
      "[11]\ttrain-MCC:0.246147\teval-MCC:0.223414\n",
      "[12]\ttrain-MCC:0.249211\teval-MCC:0.22447\n",
      "[13]\ttrain-MCC:0.252353\teval-MCC:0.225822\n",
      "[14]\ttrain-MCC:0.254265\teval-MCC:0.226966\n",
      "[15]\ttrain-MCC:0.255546\teval-MCC:0.229781\n",
      "[16]\ttrain-MCC:0.257099\teval-MCC:0.22923\n",
      "[17]\ttrain-MCC:0.258208\teval-MCC:0.230459\n",
      "[18]\ttrain-MCC:0.259757\teval-MCC:0.232465\n",
      "[19]\ttrain-MCC:0.259909\teval-MCC:0.23308\n",
      "[20]\ttrain-MCC:0.262731\teval-MCC:0.234455\n",
      "[21]\ttrain-MCC:0.264368\teval-MCC:0.234183\n",
      "[22]\ttrain-MCC:0.266\teval-MCC:0.234675\n",
      "[23]\ttrain-MCC:0.276025\teval-MCC:0.242334\n",
      "[24]\ttrain-MCC:0.278545\teval-MCC:0.247932\n",
      "[25]\ttrain-MCC:0.283991\teval-MCC:0.248063\n",
      "[26]\ttrain-MCC:0.295284\teval-MCC:0.250232\n",
      "[27]\ttrain-MCC:0.297012\teval-MCC:0.251931\n",
      "[28]\ttrain-MCC:0.301766\teval-MCC:0.252545\n",
      "[29]\ttrain-MCC:0.31001\teval-MCC:0.253473\n",
      "[30]\ttrain-MCC:0.314619\teval-MCC:0.259692\n",
      "[31]\ttrain-MCC:0.320152\teval-MCC:0.26062\n",
      "[32]\ttrain-MCC:0.324472\teval-MCC:0.261886\n",
      "[33]\ttrain-MCC:0.329649\teval-MCC:0.265356\n",
      "[34]\ttrain-MCC:0.333123\teval-MCC:0.266563\n",
      "[35]\ttrain-MCC:0.338001\teval-MCC:0.263563\n",
      "[36]\ttrain-MCC:0.341759\teval-MCC:0.267752\n",
      "[37]\ttrain-MCC:0.350303\teval-MCC:0.272311\n",
      "[38]\ttrain-MCC:0.356455\teval-MCC:0.274065\n",
      "[39]\ttrain-MCC:0.364897\teval-MCC:0.273673\n",
      "[40]\ttrain-MCC:0.361656\teval-MCC:0.270353\n",
      "[41]\ttrain-MCC:0.366581\teval-MCC:0.271441\n",
      "[42]\ttrain-MCC:0.36999\teval-MCC:0.274738\n",
      "[43]\ttrain-MCC:0.375793\teval-MCC:0.274651\n",
      "[44]\ttrain-MCC:0.379586\teval-MCC:0.273014\n",
      "[45]\ttrain-MCC:0.380373\teval-MCC:0.274268\n",
      "[46]\ttrain-MCC:0.385055\teval-MCC:0.274178\n",
      "[47]\ttrain-MCC:0.386914\teval-MCC:0.280922\n",
      "[48]\ttrain-MCC:0.392006\teval-MCC:0.27626\n",
      "[49]\ttrain-MCC:0.394298\teval-MCC:0.276141\n",
      "[50]\ttrain-MCC:0.395905\teval-MCC:0.27544\n",
      "[51]\ttrain-MCC:0.397318\teval-MCC:0.274143\n",
      "[52]\ttrain-MCC:0.400575\teval-MCC:0.27529\n",
      "[53]\ttrain-MCC:0.402042\teval-MCC:0.276584\n",
      "[54]\ttrain-MCC:0.40351\teval-MCC:0.27626\n",
      "[55]\ttrain-MCC:0.40507\teval-MCC:0.276789\n",
      "[56]\ttrain-MCC:0.407249\teval-MCC:0.276253\n",
      "[57]\ttrain-MCC:0.408227\teval-MCC:0.276253\n",
      "[58]\ttrain-MCC:0.40938\teval-MCC:0.27509\n",
      "[59]\ttrain-MCC:0.409722\teval-MCC:0.275448\n",
      "[60]\ttrain-MCC:0.409958\teval-MCC:0.278005\n",
      "[61]\ttrain-MCC:0.410427\teval-MCC:0.278005\n",
      "[62]\ttrain-MCC:0.410581\teval-MCC:0.275017\n",
      "[63]\ttrain-MCC:0.411407\teval-MCC:0.275876\n",
      "[64]\ttrain-MCC:0.412257\teval-MCC:0.275876\n",
      "[65]\ttrain-MCC:0.412254\teval-MCC:0.273736\n",
      "[66]\ttrain-MCC:0.412597\teval-MCC:0.273815\n",
      "[67]\ttrain-MCC:0.412826\teval-MCC:0.273405\n",
      "Stopping. Best iteration:\n",
      "[47]\ttrain-MCC:0.386914\teval-MCC:0.280922\n",
      "\n"
     ]
    }
   ],
   "source": [
    "xgb_params5 = {\n",
    "    'seed': 12,\n",
    "    'colsample_bytree': 1,\n",
    "    'gamma': 0.2,\n",
    "    'silent': 0,\n",
    "    'subsample': 1,\n",
    "    'learning_rate': 0.1,\n",
    "    'objective': 'binary:logistic',\n",
    "    'max_depth': 9,\n",
    "    'min_child_weight': 1,\n",
    "    'eval_metric': 'auc',\n",
    "    'max_delta_step': 1,\n",
    "    'base_score': prior,\n",
    "    'nthread': 16\n",
    "}\n",
    "evals5  = [(dtrain,'train'), (dvalid,'eval')]\n",
    "bst5 = xgb.train(xgb_params5, dtrain, num_boost_round=500, \n",
    "          evals=evals5, early_stopping_rounds=20, \n",
    "          verbose_eval=1, feval=mcc_eval, maximize=True)"
   ]
  },
  {
   "cell_type": "code",
   "execution_count": 29,
   "metadata": {
    "collapsed": false
   },
   "outputs": [
    {
     "data": {
      "text/plain": [
       "509"
      ]
     },
     "execution_count": 29,
     "metadata": {},
     "output_type": "execute_result"
    }
   ],
   "source": [
    "import operator\n",
    "importance = bst5.get_fscore()\n",
    "importance = sorted(importance.items(), key=operator.itemgetter(1))\n",
    "\n",
    "len(importance)"
   ]
  },
  {
   "cell_type": "code",
   "execution_count": 30,
   "metadata": {
    "collapsed": true
   },
   "outputs": [],
   "source": [
    "bst5.save_model('0001.model')"
   ]
  },
  {
   "cell_type": "code",
   "execution_count": 27,
   "metadata": {
    "collapsed": false
   },
   "outputs": [
    {
     "name": "stdout",
     "output_type": "stream",
     "text": [
      "[0]\ttrain-MCC:0.144084\teval-MCC:0.132538\n",
      "Multiple eval metrics have been passed: 'eval-MCC' will be used for early stopping.\n",
      "\n",
      "Will train until eval-MCC hasn't improved in 20 rounds.\n",
      "[1]\ttrain-MCC:0.187442\teval-MCC:0.180184\n",
      "[2]\ttrain-MCC:0.189108\teval-MCC:0.184737\n",
      "[3]\ttrain-MCC:0.195746\teval-MCC:0.191437\n",
      "[4]\ttrain-MCC:0.198772\teval-MCC:0.1933\n",
      "[5]\ttrain-MCC:0.208298\teval-MCC:0.204426\n",
      "[6]\ttrain-MCC:0.208369\teval-MCC:0.204613\n",
      "[7]\ttrain-MCC:0.20871\teval-MCC:0.204613\n",
      "[8]\ttrain-MCC:0.211193\teval-MCC:0.207869\n",
      "[9]\ttrain-MCC:0.211882\teval-MCC:0.210031\n",
      "[10]\ttrain-MCC:0.211882\teval-MCC:0.210031\n",
      "[11]\ttrain-MCC:0.215175\teval-MCC:0.214675\n",
      "[12]\ttrain-MCC:0.215658\teval-MCC:0.214675\n",
      "[13]\ttrain-MCC:0.220175\teval-MCC:0.216512\n",
      "[14]\ttrain-MCC:0.220175\teval-MCC:0.216512\n",
      "[15]\ttrain-MCC:0.221749\teval-MCC:0.217925\n",
      "[16]\ttrain-MCC:0.221749\teval-MCC:0.217925\n",
      "[17]\ttrain-MCC:0.221749\teval-MCC:0.218163\n",
      "[18]\ttrain-MCC:0.221776\teval-MCC:0.218402\n",
      "[19]\ttrain-MCC:0.221776\teval-MCC:0.219202\n",
      "[20]\ttrain-MCC:0.223836\teval-MCC:0.218882\n",
      "[21]\ttrain-MCC:0.223808\teval-MCC:0.218255\n",
      "[22]\ttrain-MCC:0.224867\teval-MCC:0.221375\n",
      "[23]\ttrain-MCC:0.225225\teval-MCC:0.22236\n",
      "[24]\ttrain-MCC:0.240393\teval-MCC:0.236325\n",
      "[25]\ttrain-MCC:0.244912\teval-MCC:0.242204\n",
      "[26]\ttrain-MCC:0.246394\teval-MCC:0.234947\n",
      "[27]\ttrain-MCC:0.246487\teval-MCC:0.237362\n",
      "[28]\ttrain-MCC:0.24895\teval-MCC:0.239278\n",
      "[29]\ttrain-MCC:0.25321\teval-MCC:0.241661\n",
      "[30]\ttrain-MCC:0.257246\teval-MCC:0.246233\n",
      "[31]\ttrain-MCC:0.259612\teval-MCC:0.249303\n",
      "[32]\ttrain-MCC:0.258021\teval-MCC:0.247273\n",
      "[33]\ttrain-MCC:0.258659\teval-MCC:0.246413\n",
      "[34]\ttrain-MCC:0.264747\teval-MCC:0.247841\n",
      "[35]\ttrain-MCC:0.263563\teval-MCC:0.248412\n",
      "[36]\ttrain-MCC:0.264552\teval-MCC:0.251362\n",
      "[37]\ttrain-MCC:0.265863\teval-MCC:0.249792\n",
      "[38]\ttrain-MCC:0.266124\teval-MCC:0.250515\n",
      "[39]\ttrain-MCC:0.265689\teval-MCC:0.251488\n",
      "[40]\ttrain-MCC:0.265744\teval-MCC:0.247778\n",
      "[41]\ttrain-MCC:0.266356\teval-MCC:0.251431\n",
      "[42]\ttrain-MCC:0.265999\teval-MCC:0.251939\n",
      "[43]\ttrain-MCC:0.267242\teval-MCC:0.249788\n",
      "[44]\ttrain-MCC:0.267388\teval-MCC:0.252035\n",
      "[45]\ttrain-MCC:0.267118\teval-MCC:0.252455\n",
      "[46]\ttrain-MCC:0.266865\teval-MCC:0.252052\n",
      "[47]\ttrain-MCC:0.267095\teval-MCC:0.252348\n",
      "[48]\ttrain-MCC:0.267063\teval-MCC:0.251531\n",
      "[49]\ttrain-MCC:0.267809\teval-MCC:0.251156\n",
      "[50]\ttrain-MCC:0.267701\teval-MCC:0.251598\n",
      "[51]\ttrain-MCC:0.267888\teval-MCC:0.251598\n",
      "[52]\ttrain-MCC:0.268184\teval-MCC:0.254491\n",
      "[53]\ttrain-MCC:0.268318\teval-MCC:0.254491\n",
      "[54]\ttrain-MCC:0.268051\teval-MCC:0.253018\n",
      "[55]\ttrain-MCC:0.268251\teval-MCC:0.253018\n",
      "[56]\ttrain-MCC:0.26806\teval-MCC:0.250913\n",
      "[57]\ttrain-MCC:0.268504\teval-MCC:0.250913\n",
      "[58]\ttrain-MCC:0.268652\teval-MCC:0.250913\n",
      "[59]\ttrain-MCC:0.268638\teval-MCC:0.253493\n",
      "[60]\ttrain-MCC:0.268871\teval-MCC:0.254681\n",
      "[61]\ttrain-MCC:0.26875\teval-MCC:0.254681\n",
      "[62]\ttrain-MCC:0.268826\teval-MCC:0.255938\n",
      "[63]\ttrain-MCC:0.269471\teval-MCC:0.255938\n",
      "[64]\ttrain-MCC:0.269768\teval-MCC:0.255581\n",
      "[65]\ttrain-MCC:0.269768\teval-MCC:0.255699\n",
      "[66]\ttrain-MCC:0.269696\teval-MCC:0.255699\n",
      "[67]\ttrain-MCC:0.2689\teval-MCC:0.255938\n",
      "[68]\ttrain-MCC:0.268561\teval-MCC:0.255938\n",
      "[69]\ttrain-MCC:0.268572\teval-MCC:0.256225\n",
      "[70]\ttrain-MCC:0.268561\teval-MCC:0.256225\n",
      "[71]\ttrain-MCC:0.268405\teval-MCC:0.256956\n",
      "[72]\ttrain-MCC:0.268833\teval-MCC:0.256956\n",
      "[73]\ttrain-MCC:0.26864\teval-MCC:0.257894\n",
      "[74]\ttrain-MCC:0.268266\teval-MCC:0.257894\n",
      "[75]\ttrain-MCC:0.268771\teval-MCC:0.257894\n",
      "[76]\ttrain-MCC:0.268771\teval-MCC:0.257894\n",
      "[77]\ttrain-MCC:0.269023\teval-MCC:0.259219\n",
      "[78]\ttrain-MCC:0.269243\teval-MCC:0.259308\n",
      "[79]\ttrain-MCC:0.269456\teval-MCC:0.259308\n",
      "[80]\ttrain-MCC:0.270966\teval-MCC:0.259308\n",
      "[81]\ttrain-MCC:0.271083\teval-MCC:0.258474\n",
      "[82]\ttrain-MCC:0.271009\teval-MCC:0.258474\n",
      "[83]\ttrain-MCC:0.271083\teval-MCC:0.258173\n",
      "[84]\ttrain-MCC:0.271128\teval-MCC:0.258173\n",
      "[85]\ttrain-MCC:0.27164\teval-MCC:0.258982\n",
      "[86]\ttrain-MCC:0.271873\teval-MCC:0.258982\n",
      "[87]\ttrain-MCC:0.272714\teval-MCC:0.258982\n",
      "[88]\ttrain-MCC:0.272558\teval-MCC:0.258982\n",
      "[89]\ttrain-MCC:0.272672\teval-MCC:0.258982\n",
      "[90]\ttrain-MCC:0.272703\teval-MCC:0.258982\n",
      "[91]\ttrain-MCC:0.273275\teval-MCC:0.258982\n",
      "[92]\ttrain-MCC:0.273346\teval-MCC:0.26035\n",
      "[93]\ttrain-MCC:0.273193\teval-MCC:0.26067\n",
      "[94]\ttrain-MCC:0.273127\teval-MCC:0.26067\n",
      "[95]\ttrain-MCC:0.274394\teval-MCC:0.26067\n",
      "[96]\ttrain-MCC:0.274001\teval-MCC:0.26067\n",
      "[97]\ttrain-MCC:0.274817\teval-MCC:0.26067\n",
      "[98]\ttrain-MCC:0.274724\teval-MCC:0.26067\n",
      "[99]\ttrain-MCC:0.274738\teval-MCC:0.26067\n",
      "[100]\ttrain-MCC:0.274818\teval-MCC:0.26067\n",
      "[101]\ttrain-MCC:0.275486\teval-MCC:0.261184\n",
      "[102]\ttrain-MCC:0.275417\teval-MCC:0.261184\n",
      "[103]\ttrain-MCC:0.275885\teval-MCC:0.260171\n",
      "[104]\ttrain-MCC:0.276593\teval-MCC:0.260082\n",
      "[105]\ttrain-MCC:0.276801\teval-MCC:0.260509\n",
      "[106]\ttrain-MCC:0.277163\teval-MCC:0.260509\n",
      "[107]\ttrain-MCC:0.27745\teval-MCC:0.260082\n",
      "[108]\ttrain-MCC:0.277301\teval-MCC:0.260509\n",
      "[109]\ttrain-MCC:0.277232\teval-MCC:0.260509\n",
      "[110]\ttrain-MCC:0.277099\teval-MCC:0.260509\n",
      "[111]\ttrain-MCC:0.277099\teval-MCC:0.260082\n",
      "[112]\ttrain-MCC:0.277207\teval-MCC:0.259656\n",
      "[113]\ttrain-MCC:0.27745\teval-MCC:0.260519\n",
      "[114]\ttrain-MCC:0.277699\teval-MCC:0.26007\n",
      "[115]\ttrain-MCC:0.278052\teval-MCC:0.259623\n",
      "[116]\ttrain-MCC:0.278052\teval-MCC:0.259308\n",
      "[117]\ttrain-MCC:0.27817\teval-MCC:0.261922\n",
      "[118]\ttrain-MCC:0.278263\teval-MCC:0.262811\n",
      "[119]\ttrain-MCC:0.278325\teval-MCC:0.259972\n",
      "[120]\ttrain-MCC:0.278213\teval-MCC:0.26035\n",
      "[121]\ttrain-MCC:0.278283\teval-MCC:0.26035\n",
      "[122]\ttrain-MCC:0.278436\teval-MCC:0.26035\n",
      "[123]\ttrain-MCC:0.278832\teval-MCC:0.261373\n",
      "[124]\ttrain-MCC:0.278627\teval-MCC:0.263518\n",
      "[125]\ttrain-MCC:0.279202\teval-MCC:0.263518\n",
      "[126]\ttrain-MCC:0.279275\teval-MCC:0.263518\n",
      "[127]\ttrain-MCC:0.279188\teval-MCC:0.263518\n",
      "[128]\ttrain-MCC:0.278848\teval-MCC:0.264977\n",
      "[129]\ttrain-MCC:0.278906\teval-MCC:0.264977\n",
      "[130]\ttrain-MCC:0.279587\teval-MCC:0.264977\n",
      "[131]\ttrain-MCC:0.280067\teval-MCC:0.267058\n",
      "[132]\ttrain-MCC:0.2801\teval-MCC:0.269129\n",
      "[133]\ttrain-MCC:0.2801\teval-MCC:0.269871\n",
      "[134]\ttrain-MCC:0.280246\teval-MCC:0.269871\n",
      "[135]\ttrain-MCC:0.280384\teval-MCC:0.269871\n",
      "[136]\ttrain-MCC:0.280384\teval-MCC:0.269871\n",
      "[137]\ttrain-MCC:0.280699\teval-MCC:0.268394\n",
      "[138]\ttrain-MCC:0.281026\teval-MCC:0.268394\n",
      "[139]\ttrain-MCC:0.281439\teval-MCC:0.267664\n",
      "[140]\ttrain-MCC:0.28144\teval-MCC:0.268997\n",
      "[141]\ttrain-MCC:0.281233\teval-MCC:0.267664\n",
      "[142]\ttrain-MCC:0.281686\teval-MCC:0.26694\n",
      "[143]\ttrain-MCC:0.281617\teval-MCC:0.26694\n",
      "[144]\ttrain-MCC:0.281648\teval-MCC:0.26694\n",
      "[145]\ttrain-MCC:0.281782\teval-MCC:0.26694\n",
      "[146]\ttrain-MCC:0.281715\teval-MCC:0.26694\n",
      "[147]\ttrain-MCC:0.281648\teval-MCC:0.268997\n",
      "[148]\ttrain-MCC:0.281819\teval-MCC:0.26694\n",
      "[149]\ttrain-MCC:0.281411\teval-MCC:0.264801\n",
      "[150]\ttrain-MCC:0.281312\teval-MCC:0.266459\n",
      "[151]\ttrain-MCC:0.281239\teval-MCC:0.266459\n",
      "[152]\ttrain-MCC:0.281553\teval-MCC:0.266459\n",
      "[153]\ttrain-MCC:0.282035\teval-MCC:0.264977\n",
      "Stopping. Best iteration:\n",
      "[133]\ttrain-MCC:0.2801\teval-MCC:0.269871\n",
      "\n"
     ]
    }
   ],
   "source": [
    "xgb_params4 = {\n",
    "    'seed': 12,\n",
    "    'colsample_bytree': 0.7,\n",
    "    'silent': 0,\n",
    "    'subsample': 0.7,\n",
    "    'learning_rate': 0.1,\n",
    "    'objective': 'binary:logistic',\n",
    "    'max_depth': 4,\n",
    "    'min_child_weight': 1,\n",
    "    'eval_metric': 'auc',\n",
    "    'max_delta_step': 1,\n",
    "    'base_score': prior,\n",
    "    'nthread': 16\n",
    "}\n",
    "evals4  = [(dtrain,'train'), (dvalid,'eval')]\n",
    "bst4 = xgb.train(xgb_params4, dtrain, num_boost_round=500, \n",
    "          evals=evals4, early_stopping_rounds=20, \n",
    "          verbose_eval=1, feval=mcc_eval, maximize=True)"
   ]
  },
  {
   "cell_type": "code",
   "execution_count": 24,
   "metadata": {
    "collapsed": false
   },
   "outputs": [
    {
     "name": "stdout",
     "output_type": "stream",
     "text": [
      "[0]\ttrain-MCC:0.103177\teval-MCC:0.081876\n",
      "Multiple eval metrics have been passed: 'eval-MCC' will be used for early stopping.\n",
      "\n",
      "Will train until eval-MCC hasn't improved in 20 rounds.\n",
      "[1]\ttrain-MCC:0.182421\teval-MCC:0.160426\n",
      "[2]\ttrain-MCC:0.197017\teval-MCC:0.179417\n",
      "[3]\ttrain-MCC:0.209835\teval-MCC:0.19641\n",
      "[4]\ttrain-MCC:0.210657\teval-MCC:0.19955\n",
      "[5]\ttrain-MCC:0.214396\teval-MCC:0.20313\n",
      "[6]\ttrain-MCC:0.215537\teval-MCC:0.205143\n",
      "[7]\ttrain-MCC:0.219624\teval-MCC:0.209549\n",
      "[8]\ttrain-MCC:0.221824\teval-MCC:0.216904\n",
      "[9]\ttrain-MCC:0.22407\teval-MCC:0.218846\n",
      "[10]\ttrain-MCC:0.226918\teval-MCC:0.219914\n",
      "[11]\ttrain-MCC:0.227383\teval-MCC:0.220761\n",
      "[12]\ttrain-MCC:0.228241\teval-MCC:0.223141\n",
      "[13]\ttrain-MCC:0.230206\teval-MCC:0.224955\n",
      "[14]\ttrain-MCC:0.231882\teval-MCC:0.229305\n",
      "[15]\ttrain-MCC:0.23181\teval-MCC:0.227301\n",
      "[16]\ttrain-MCC:0.233107\teval-MCC:0.226944\n",
      "[17]\ttrain-MCC:0.234163\teval-MCC:0.226425\n",
      "[18]\ttrain-MCC:0.235145\teval-MCC:0.228305\n",
      "[19]\ttrain-MCC:0.235975\teval-MCC:0.230719\n",
      "[20]\ttrain-MCC:0.238121\teval-MCC:0.230719\n",
      "[21]\ttrain-MCC:0.237286\teval-MCC:0.230205\n",
      "[22]\ttrain-MCC:0.2386\teval-MCC:0.229459\n",
      "[23]\ttrain-MCC:0.238761\teval-MCC:0.231268\n",
      "[24]\ttrain-MCC:0.24749\teval-MCC:0.23153\n",
      "[25]\ttrain-MCC:0.268236\teval-MCC:0.232448\n",
      "[26]\ttrain-MCC:0.27575\teval-MCC:0.237662\n",
      "[27]\ttrain-MCC:0.274942\teval-MCC:0.239001\n",
      "[28]\ttrain-MCC:0.275612\teval-MCC:0.24448\n",
      "[29]\ttrain-MCC:0.276349\teval-MCC:0.245837\n",
      "[30]\ttrain-MCC:0.281854\teval-MCC:0.246996\n",
      "[31]\ttrain-MCC:0.281805\teval-MCC:0.244131\n",
      "[32]\ttrain-MCC:0.284637\teval-MCC:0.248678\n",
      "[33]\ttrain-MCC:0.289558\teval-MCC:0.249123\n",
      "[34]\ttrain-MCC:0.291013\teval-MCC:0.252674\n",
      "[35]\ttrain-MCC:0.293125\teval-MCC:0.255038\n",
      "[36]\ttrain-MCC:0.297962\teval-MCC:0.254757\n",
      "[37]\ttrain-MCC:0.29777\teval-MCC:0.257486\n",
      "[38]\ttrain-MCC:0.30155\teval-MCC:0.25618\n",
      "[39]\ttrain-MCC:0.304419\teval-MCC:0.258018\n",
      "[40]\ttrain-MCC:0.307535\teval-MCC:0.261502\n",
      "[41]\ttrain-MCC:0.311765\teval-MCC:0.262242\n",
      "[42]\ttrain-MCC:0.312329\teval-MCC:0.262246\n",
      "[43]\ttrain-MCC:0.316516\teval-MCC:0.267012\n",
      "[44]\ttrain-MCC:0.321299\teval-MCC:0.269552\n",
      "[45]\ttrain-MCC:0.324604\teval-MCC:0.266726\n",
      "[46]\ttrain-MCC:0.328122\teval-MCC:0.267843\n",
      "[47]\ttrain-MCC:0.332419\teval-MCC:0.266726\n",
      "[48]\ttrain-MCC:0.339116\teval-MCC:0.265056\n",
      "[49]\ttrain-MCC:0.339339\teval-MCC:0.26539\n",
      "[50]\ttrain-MCC:0.340615\teval-MCC:0.2683\n",
      "[51]\ttrain-MCC:0.340659\teval-MCC:0.268714\n",
      "[52]\ttrain-MCC:0.346452\teval-MCC:0.269077\n",
      "[53]\ttrain-MCC:0.348818\teval-MCC:0.265883\n",
      "[54]\ttrain-MCC:0.351341\teval-MCC:0.266393\n",
      "[55]\ttrain-MCC:0.353929\teval-MCC:0.267037\n",
      "[56]\ttrain-MCC:0.353763\teval-MCC:0.269673\n",
      "[57]\ttrain-MCC:0.355495\teval-MCC:0.269507\n",
      "[58]\ttrain-MCC:0.356242\teval-MCC:0.268716\n",
      "[59]\ttrain-MCC:0.356835\teval-MCC:0.268716\n",
      "[60]\ttrain-MCC:0.35814\teval-MCC:0.270209\n",
      "[61]\ttrain-MCC:0.359446\teval-MCC:0.270209\n",
      "[62]\ttrain-MCC:0.360295\teval-MCC:0.270479\n",
      "[63]\ttrain-MCC:0.360918\teval-MCC:0.270839\n",
      "[64]\ttrain-MCC:0.360125\teval-MCC:0.270721\n",
      "[65]\ttrain-MCC:0.36021\teval-MCC:0.270721\n",
      "[66]\ttrain-MCC:0.361099\teval-MCC:0.270209\n",
      "[67]\ttrain-MCC:0.362499\teval-MCC:0.270627\n",
      "[68]\ttrain-MCC:0.36324\teval-MCC:0.270627\n",
      "[69]\ttrain-MCC:0.364637\teval-MCC:0.271115\n",
      "[70]\ttrain-MCC:0.364593\teval-MCC:0.272895\n",
      "[71]\ttrain-MCC:0.364633\teval-MCC:0.271434\n",
      "[72]\ttrain-MCC:0.365831\teval-MCC:0.270952\n",
      "[73]\ttrain-MCC:0.365991\teval-MCC:0.270952\n",
      "[74]\ttrain-MCC:0.366094\teval-MCC:0.273086\n",
      "[75]\ttrain-MCC:0.36651\teval-MCC:0.272363\n",
      "[76]\ttrain-MCC:0.366672\teval-MCC:0.271645\n",
      "[77]\ttrain-MCC:0.367735\teval-MCC:0.270325\n",
      "[78]\ttrain-MCC:0.368216\teval-MCC:0.271607\n",
      "[79]\ttrain-MCC:0.369534\teval-MCC:0.272224\n",
      "[80]\ttrain-MCC:0.36958\teval-MCC:0.272684\n",
      "[81]\ttrain-MCC:0.369548\teval-MCC:0.273535\n",
      "[82]\ttrain-MCC:0.369832\teval-MCC:0.273535\n",
      "[83]\ttrain-MCC:0.370037\teval-MCC:0.274776\n",
      "[84]\ttrain-MCC:0.370282\teval-MCC:0.274776\n",
      "[85]\ttrain-MCC:0.370448\teval-MCC:0.274153\n",
      "[86]\ttrain-MCC:0.371508\teval-MCC:0.273535\n",
      "[87]\ttrain-MCC:0.372312\teval-MCC:0.273673\n",
      "[88]\ttrain-MCC:0.372398\teval-MCC:0.27399\n",
      "[89]\ttrain-MCC:0.374106\teval-MCC:0.275369\n",
      "[90]\ttrain-MCC:0.374386\teval-MCC:0.275369\n",
      "[91]\ttrain-MCC:0.374959\teval-MCC:0.275742\n",
      "[92]\ttrain-MCC:0.375347\teval-MCC:0.276523\n",
      "[93]\ttrain-MCC:0.375021\teval-MCC:0.276523\n",
      "[94]\ttrain-MCC:0.375395\teval-MCC:0.276523\n",
      "[95]\ttrain-MCC:0.374991\teval-MCC:0.276523\n",
      "[96]\ttrain-MCC:0.375799\teval-MCC:0.276523\n",
      "[97]\ttrain-MCC:0.37544\teval-MCC:0.275498\n",
      "[98]\ttrain-MCC:0.377313\teval-MCC:0.274741\n",
      "[99]\ttrain-MCC:0.377715\teval-MCC:0.27626\n",
      "[100]\ttrain-MCC:0.377857\teval-MCC:0.27626\n",
      "[101]\ttrain-MCC:0.378068\teval-MCC:0.275742\n",
      "[102]\ttrain-MCC:0.378669\teval-MCC:0.274968\n",
      "[103]\ttrain-MCC:0.378993\teval-MCC:0.272684\n",
      "[104]\ttrain-MCC:0.379035\teval-MCC:0.274201\n",
      "[105]\ttrain-MCC:0.379566\teval-MCC:0.273439\n",
      "[106]\ttrain-MCC:0.380044\teval-MCC:0.273321\n",
      "[107]\ttrain-MCC:0.381115\teval-MCC:0.272684\n",
      "[108]\ttrain-MCC:0.382093\teval-MCC:0.273535\n",
      "[109]\ttrain-MCC:0.382142\teval-MCC:0.273535\n",
      "[110]\ttrain-MCC:0.382261\teval-MCC:0.273535\n",
      "[111]\ttrain-MCC:0.382134\teval-MCC:0.273535\n",
      "[112]\ttrain-MCC:0.382728\teval-MCC:0.274776\n",
      "Stopping. Best iteration:\n",
      "[92]\ttrain-MCC:0.375347\teval-MCC:0.276523\n",
      "\n"
     ]
    }
   ],
   "source": [
    "xgb_params3 = {\n",
    "    'seed': 12,\n",
    "    'colsample_bytree': 0.7,\n",
    "    'silent': 0,\n",
    "    'subsample': 0.7,\n",
    "    'learning_rate': 0.1,\n",
    "    'objective': 'binary:logistic',\n",
    "    'max_depth': 9,\n",
    "    'min_child_weight': 1,\n",
    "    'eval_metric': 'auc',\n",
    "    'max_delta_step': 1,\n",
    "    'base_score': prior,\n",
    "    'nthread': 16\n",
    "}\n",
    "evals3  = [(dtrain,'train'), (dvalid,'eval')]\n",
    "bst3 = xgb.train(xgb_params3, dtrain, num_boost_round=500, \n",
    "          evals=evals3, early_stopping_rounds=20, \n",
    "          verbose_eval=1, feval=mcc_eval, maximize=True)"
   ]
  },
  {
   "cell_type": "code",
   "execution_count": 25,
   "metadata": {
    "collapsed": false
   },
   "outputs": [
    {
     "data": {
      "text/plain": [
       "694"
      ]
     },
     "execution_count": 25,
     "metadata": {},
     "output_type": "execute_result"
    }
   ],
   "source": [
    "import operator\n",
    "importance = bst3.get_fscore()\n",
    "importance = sorted(importance.items(), key=operator.itemgetter(1))\n",
    "\n",
    "len(importance)"
   ]
  },
  {
   "cell_type": "code",
   "execution_count": 21,
   "metadata": {
    "collapsed": false
   },
   "outputs": [
    {
     "name": "stdout",
     "output_type": "stream",
     "text": [
      "[0]\ttrain-MCC:0.101656\teval-MCC:0.074093\n",
      "Multiple eval metrics have been passed: 'eval-MCC' will be used for early stopping.\n",
      "\n",
      "Will train until eval-MCC hasn't improved in 10 rounds.\n",
      "[1]\ttrain-MCC:0.147531\teval-MCC:0.114974\n",
      "[2]\ttrain-MCC:0.156966\teval-MCC:0.125581\n",
      "[3]\ttrain-MCC:0.202549\teval-MCC:0.172481\n",
      "[4]\ttrain-MCC:0.215927\teval-MCC:0.188477\n",
      "[5]\ttrain-MCC:0.224383\teval-MCC:0.203386\n",
      "[6]\ttrain-MCC:0.226112\teval-MCC:0.204349\n",
      "[7]\ttrain-MCC:0.233421\teval-MCC:0.211701\n",
      "[8]\ttrain-MCC:0.238044\teval-MCC:0.216841\n",
      "[9]\ttrain-MCC:0.240607\teval-MCC:0.219236\n",
      "[10]\ttrain-MCC:0.241677\teval-MCC:0.221061\n",
      "[11]\ttrain-MCC:0.245943\teval-MCC:0.223414\n",
      "[12]\ttrain-MCC:0.249157\teval-MCC:0.224918\n",
      "[13]\ttrain-MCC:0.251824\teval-MCC:0.225822\n",
      "[14]\ttrain-MCC:0.254092\teval-MCC:0.227197\n",
      "[15]\ttrain-MCC:0.254845\teval-MCC:0.227661\n",
      "[16]\ttrain-MCC:0.256775\teval-MCC:0.227391\n",
      "[17]\ttrain-MCC:0.257856\teval-MCC:0.229457\n",
      "[18]\ttrain-MCC:0.258837\teval-MCC:0.230342\n",
      "[19]\ttrain-MCC:0.260623\teval-MCC:0.231514\n",
      "[20]\ttrain-MCC:0.261112\teval-MCC:0.231514\n",
      "[21]\ttrain-MCC:0.262878\teval-MCC:0.233779\n",
      "[22]\ttrain-MCC:0.265471\teval-MCC:0.234436\n",
      "[23]\ttrain-MCC:0.275695\teval-MCC:0.242217\n",
      "[24]\ttrain-MCC:0.282121\teval-MCC:0.246304\n",
      "[25]\ttrain-MCC:0.284104\teval-MCC:0.249964\n",
      "[26]\ttrain-MCC:0.288855\teval-MCC:0.252435\n",
      "[27]\ttrain-MCC:0.298335\teval-MCC:0.253071\n",
      "[28]\ttrain-MCC:0.303052\teval-MCC:0.254078\n",
      "[29]\ttrain-MCC:0.306004\teval-MCC:0.254026\n",
      "[30]\ttrain-MCC:0.312438\teval-MCC:0.256079\n",
      "[31]\ttrain-MCC:0.322132\teval-MCC:0.257023\n",
      "[32]\ttrain-MCC:0.322939\teval-MCC:0.256385\n",
      "[33]\ttrain-MCC:0.326032\teval-MCC:0.259232\n",
      "[34]\ttrain-MCC:0.331614\teval-MCC:0.260086\n",
      "[35]\ttrain-MCC:0.335787\teval-MCC:0.263045\n",
      "[36]\ttrain-MCC:0.339724\teval-MCC:0.263577\n",
      "[37]\ttrain-MCC:0.34274\teval-MCC:0.263179\n",
      "[38]\ttrain-MCC:0.355079\teval-MCC:0.264904\n",
      "[39]\ttrain-MCC:0.36104\teval-MCC:0.268111\n",
      "[40]\ttrain-MCC:0.366261\teval-MCC:0.272367\n",
      "[41]\ttrain-MCC:0.368762\teval-MCC:0.272879\n",
      "[42]\ttrain-MCC:0.372676\teval-MCC:0.271589\n",
      "[43]\ttrain-MCC:0.377608\teval-MCC:0.270455\n",
      "[44]\ttrain-MCC:0.381564\teval-MCC:0.268732\n",
      "[45]\ttrain-MCC:0.385934\teval-MCC:0.271589\n",
      "[46]\ttrain-MCC:0.388175\teval-MCC:0.268394\n",
      "[47]\ttrain-MCC:0.390234\teval-MCC:0.269049\n",
      "[48]\ttrain-MCC:0.393331\teval-MCC:0.26891\n",
      "[49]\ttrain-MCC:0.395637\teval-MCC:0.271372\n",
      "[50]\ttrain-MCC:0.398424\teval-MCC:0.271303\n",
      "[51]\ttrain-MCC:0.39888\teval-MCC:0.274342\n",
      "[52]\ttrain-MCC:0.401921\teval-MCC:0.274858\n",
      "[53]\ttrain-MCC:0.404454\teval-MCC:0.270806\n",
      "[54]\ttrain-MCC:0.404955\teval-MCC:0.270974\n",
      "[55]\ttrain-MCC:0.405706\teval-MCC:0.270974\n",
      "[56]\ttrain-MCC:0.40821\teval-MCC:0.270974\n",
      "[57]\ttrain-MCC:0.409035\teval-MCC:0.270627\n",
      "[58]\ttrain-MCC:0.40966\teval-MCC:0.269782\n",
      "[59]\ttrain-MCC:0.41033\teval-MCC:0.269181\n",
      "[60]\ttrain-MCC:0.410955\teval-MCC:0.270116\n",
      "[61]\ttrain-MCC:0.41191\teval-MCC:0.269467\n",
      "[62]\ttrain-MCC:0.411767\teval-MCC:0.269467\n",
      "Stopping. Best iteration:\n",
      "[52]\ttrain-MCC:0.401921\teval-MCC:0.274858\n",
      "\n"
     ]
    }
   ],
   "source": [
    "xgb_params2 = {\n",
    "    'seed': 12,\n",
    "    'colsample_bytree': 1,\n",
    "    'silent': 0,\n",
    "    'subsample': 1,\n",
    "    'learning_rate': 0.1,\n",
    "    'objective': 'binary:logistic',\n",
    "    'max_depth': 9,\n",
    "    'min_child_weight': 1,\n",
    "    'eval_metric': 'auc',\n",
    "    'max_delta_step': 1,\n",
    "    'base_score': prior,\n",
    "    'nthread': 16\n",
    "}\n",
    "evals2  = [(dtrain,'train'), (dvalid,'eval')]\n",
    "bst2 = xgb.train(xgb_params2, dtrain, num_boost_round=500, \n",
    "          evals=evals2, early_stopping_rounds=10, \n",
    "          verbose_eval=1, feval=mcc_eval, maximize=True)"
   ]
  },
  {
   "cell_type": "code",
   "execution_count": 22,
   "metadata": {
    "collapsed": false
   },
   "outputs": [
    {
     "data": {
      "text/plain": [
       "487"
      ]
     },
     "execution_count": 22,
     "metadata": {},
     "output_type": "execute_result"
    }
   ],
   "source": [
    "import operator\n",
    "importance = bst2.get_fscore()\n",
    "importance = sorted(importance.items(), key=operator.itemgetter(1))\n",
    "\n",
    "len(importance)"
   ]
  },
  {
   "cell_type": "code",
   "execution_count": 18,
   "metadata": {
    "collapsed": false
   },
   "outputs": [
    {
     "name": "stdout",
     "output_type": "stream",
     "text": [
      "[0]\ttrain-MCC:0.158945\teval-MCC:0.140281\n",
      "Multiple eval metrics have been passed: 'eval-MCC' will be used for early stopping.\n",
      "\n",
      "Will train until eval-MCC hasn't improved in 10 rounds.\n",
      "[1]\ttrain-MCC:0.185775\teval-MCC:0.169967\n",
      "[2]\ttrain-MCC:0.200763\teval-MCC:0.183731\n",
      "[3]\ttrain-MCC:0.205663\teval-MCC:0.190944\n",
      "[4]\ttrain-MCC:0.212093\teval-MCC:0.197412\n",
      "[5]\ttrain-MCC:0.216434\teval-MCC:0.20162\n",
      "[6]\ttrain-MCC:0.218415\teval-MCC:0.202657\n",
      "[7]\ttrain-MCC:0.219836\teval-MCC:0.209805\n",
      "[8]\ttrain-MCC:0.223189\teval-MCC:0.214376\n",
      "[9]\ttrain-MCC:0.224532\teval-MCC:0.216003\n",
      "[10]\ttrain-MCC:0.226384\teval-MCC:0.218062\n",
      "[11]\ttrain-MCC:0.22895\teval-MCC:0.218062\n",
      "[12]\ttrain-MCC:0.229841\teval-MCC:0.219536\n",
      "[13]\ttrain-MCC:0.229854\teval-MCC:0.219749\n",
      "[14]\ttrain-MCC:0.230071\teval-MCC:0.22068\n",
      "[15]\ttrain-MCC:0.23023\teval-MCC:0.220102\n",
      "[16]\ttrain-MCC:0.231573\teval-MCC:0.222234\n",
      "[17]\ttrain-MCC:0.231351\teval-MCC:0.223159\n",
      "[18]\ttrain-MCC:0.233571\teval-MCC:0.225959\n",
      "[19]\ttrain-MCC:0.234366\teval-MCC:0.226972\n",
      "[20]\ttrain-MCC:0.235227\teval-MCC:0.226728\n",
      "[21]\ttrain-MCC:0.236766\teval-MCC:0.226927\n",
      "[22]\ttrain-MCC:0.236805\teval-MCC:0.226177\n",
      "[23]\ttrain-MCC:0.244109\teval-MCC:0.238909\n",
      "[24]\ttrain-MCC:0.251257\teval-MCC:0.239294\n",
      "[25]\ttrain-MCC:0.256168\teval-MCC:0.239927\n",
      "[26]\ttrain-MCC:0.261856\teval-MCC:0.237022\n",
      "[27]\ttrain-MCC:0.26455\teval-MCC:0.237978\n",
      "[28]\ttrain-MCC:0.264738\teval-MCC:0.23636\n",
      "[29]\ttrain-MCC:0.275991\teval-MCC:0.246128\n",
      "[30]\ttrain-MCC:0.279863\teval-MCC:0.245148\n",
      "[31]\ttrain-MCC:0.282451\teval-MCC:0.243405\n",
      "[32]\ttrain-MCC:0.281966\teval-MCC:0.244158\n",
      "[33]\ttrain-MCC:0.284218\teval-MCC:0.246468\n",
      "[34]\ttrain-MCC:0.285465\teval-MCC:0.250734\n",
      "[35]\ttrain-MCC:0.291965\teval-MCC:0.246979\n",
      "[36]\ttrain-MCC:0.296449\teval-MCC:0.248439\n",
      "[37]\ttrain-MCC:0.297426\teval-MCC:0.255158\n",
      "[38]\ttrain-MCC:0.295338\teval-MCC:0.258886\n",
      "[39]\ttrain-MCC:0.295409\teval-MCC:0.259308\n",
      "[40]\ttrain-MCC:0.299613\teval-MCC:0.259036\n",
      "[41]\ttrain-MCC:0.302657\teval-MCC:0.256064\n",
      "[42]\ttrain-MCC:0.304591\teval-MCC:0.256294\n",
      "[43]\ttrain-MCC:0.304023\teval-MCC:0.255168\n",
      "[44]\ttrain-MCC:0.305831\teval-MCC:0.256035\n",
      "[45]\ttrain-MCC:0.309431\teval-MCC:0.255839\n",
      "[46]\ttrain-MCC:0.309046\teval-MCC:0.254303\n",
      "[47]\ttrain-MCC:0.312293\teval-MCC:0.255324\n",
      "[48]\ttrain-MCC:0.312934\teval-MCC:0.258453\n",
      "[49]\ttrain-MCC:0.314016\teval-MCC:0.260574\n",
      "[50]\ttrain-MCC:0.315197\teval-MCC:0.260574\n",
      "[51]\ttrain-MCC:0.316871\teval-MCC:0.263708\n",
      "[52]\ttrain-MCC:0.316992\teval-MCC:0.262811\n",
      "[53]\ttrain-MCC:0.316811\teval-MCC:0.261042\n",
      "[54]\ttrain-MCC:0.318359\teval-MCC:0.259687\n",
      "[55]\ttrain-MCC:0.319279\teval-MCC:0.259219\n",
      "[56]\ttrain-MCC:0.319706\teval-MCC:0.259219\n",
      "[57]\ttrain-MCC:0.32011\teval-MCC:0.259822\n",
      "[58]\ttrain-MCC:0.320199\teval-MCC:0.260171\n",
      "[59]\ttrain-MCC:0.320435\teval-MCC:0.260171\n",
      "[60]\ttrain-MCC:0.321104\teval-MCC:0.260171\n",
      "[61]\ttrain-MCC:0.321436\teval-MCC:0.259308\n",
      "Stopping. Best iteration:\n",
      "[51]\ttrain-MCC:0.316871\teval-MCC:0.263708\n",
      "\n"
     ]
    }
   ],
   "source": [
    "xgb_params1 = {\n",
    "    'seed': 12,\n",
    "    'colsample_bytree': 1,\n",
    "    'silent': 0,\n",
    "    'subsample': 1,\n",
    "    'learning_rate': 0.1,\n",
    "    'objective': 'binary:logistic',\n",
    "    'max_depth': 6,\n",
    "    'min_child_weight': 1,\n",
    "    'eval_metric': 'auc',\n",
    "    'max_delta_step': 1,\n",
    "    'base_score': prior,\n",
    "    'nthread': 16\n",
    "}\n",
    "evals1  = [(dtrain,'train'), (dvalid,'eval')]\n",
    "bst1 = xgb.train(xgb_params1, dtrain, num_boost_round=500, \n",
    "          evals=evals1, early_stopping_rounds=10, \n",
    "          verbose_eval=1, feval=mcc_eval, maximize=True)"
   ]
  },
  {
   "cell_type": "code",
   "execution_count": 19,
   "metadata": {
    "collapsed": false
   },
   "outputs": [
    {
     "data": {
      "text/plain": [
       "350"
      ]
     },
     "execution_count": 19,
     "metadata": {},
     "output_type": "execute_result"
    }
   ],
   "source": [
    "import operator\n",
    "importance = bst1.get_fscore()\n",
    "importance = sorted(importance.items(), key=operator.itemgetter(1))\n",
    "\n",
    "len(importance)"
   ]
  },
  {
   "cell_type": "code",
   "execution_count": 18,
   "metadata": {
    "collapsed": false
   },
   "outputs": [
    {
     "name": "stdout",
     "output_type": "stream",
     "text": [
      "[0]\ttrain-MCC:0.227742\teval-MCC:0.214714\n",
      "Multiple eval metrics have been passed: 'eval-MCC' will be used for early stopping.\n",
      "\n",
      "Will train until eval-MCC hasn't improved in 5 rounds.\n",
      "[1]\ttrain-MCC:0.228179\teval-MCC:0.218644\n",
      "[2]\ttrain-MCC:0.236488\teval-MCC:0.22626\n",
      "[3]\ttrain-MCC:0.237394\teval-MCC:0.22762\n",
      "[4]\ttrain-MCC:0.242003\teval-MCC:0.22974\n",
      "[5]\ttrain-MCC:0.245214\teval-MCC:0.232234\n",
      "[6]\ttrain-MCC:0.248151\teval-MCC:0.234204\n",
      "[7]\ttrain-MCC:0.2492\teval-MCC:0.234689\n",
      "[8]\ttrain-MCC:0.253065\teval-MCC:0.2352\n",
      "[9]\ttrain-MCC:0.255618\teval-MCC:0.23766\n",
      "[10]\ttrain-MCC:0.25734\teval-MCC:0.236629\n",
      "[11]\ttrain-MCC:0.259203\teval-MCC:0.238108\n",
      "[12]\ttrain-MCC:0.262757\teval-MCC:0.238861\n",
      "[13]\ttrain-MCC:0.266244\teval-MCC:0.243309\n",
      "[14]\ttrain-MCC:0.268314\teval-MCC:0.244251\n",
      "[15]\ttrain-MCC:0.272012\teval-MCC:0.244229\n",
      "[16]\ttrain-MCC:0.273699\teval-MCC:0.242851\n",
      "[17]\ttrain-MCC:0.275936\teval-MCC:0.245157\n",
      "[18]\ttrain-MCC:0.27842\teval-MCC:0.246093\n",
      "[19]\ttrain-MCC:0.27852\teval-MCC:0.249438\n",
      "[20]\ttrain-MCC:0.281149\teval-MCC:0.249768\n",
      "[21]\ttrain-MCC:0.282658\teval-MCC:0.249857\n",
      "[22]\ttrain-MCC:0.282913\teval-MCC:0.251139\n",
      "[23]\ttrain-MCC:0.283937\teval-MCC:0.251139\n",
      "[24]\ttrain-MCC:0.284677\teval-MCC:0.251604\n",
      "[25]\ttrain-MCC:0.285609\teval-MCC:0.253244\n",
      "[26]\ttrain-MCC:0.286386\teval-MCC:0.254168\n",
      "[27]\ttrain-MCC:0.28644\teval-MCC:0.254556\n",
      "[28]\ttrain-MCC:0.286204\teval-MCC:0.254168\n",
      "[29]\ttrain-MCC:0.287038\teval-MCC:0.254168\n",
      "[30]\ttrain-MCC:0.287609\teval-MCC:0.256892\n",
      "[31]\ttrain-MCC:0.287777\teval-MCC:0.256892\n",
      "[32]\ttrain-MCC:0.288046\teval-MCC:0.258741\n",
      "[33]\ttrain-MCC:0.288328\teval-MCC:0.258245\n",
      "[34]\ttrain-MCC:0.288873\teval-MCC:0.257752\n",
      "[35]\ttrain-MCC:0.289035\teval-MCC:0.257752\n",
      "[36]\ttrain-MCC:0.2899\teval-MCC:0.258245\n",
      "[37]\ttrain-MCC:0.289809\teval-MCC:0.257389\n",
      "Stopping. Best iteration:\n",
      "[32]\ttrain-MCC:0.288046\teval-MCC:0.258741\n",
      "\n"
     ]
    }
   ],
   "source": [
    "xgb_params = {\n",
    "    'seed': 12,\n",
    "    'colsample_bytree': 1,\n",
    "    'silent': 0,\n",
    "    'subsample': 1,\n",
    "    'learning_rate': 0.1,\n",
    "    'objective': 'binary:logistic',\n",
    "    'max_depth': 6,\n",
    "    'min_child_weight': 1,\n",
    "    'eval_metric': 'auc',\n",
    "    'max_delta_step': 1,\n",
    "    'base_score': prior, \n",
    "    'nthread': 16\n",
    "}\n",
    "evals  = [(dtrain,'train'), (dvalid,'eval')]\n",
    "bst = xgb.train(xgb_params, dtrain, num_boost_round=500, \n",
    "          evals=evals, early_stopping_rounds=10, \n",
    "          verbose_eval=1, feval=mcc_eval, maximize=True)"
   ]
  },
  {
   "cell_type": "code",
   "execution_count": 20,
   "metadata": {
    "collapsed": false
   },
   "outputs": [],
   "source": [
    "import operator\n",
    "importance = bst.get_fscore()\n",
    "importance = sorted(importance.items(), key=operator.itemgetter(1))\n",
    "\n",
    "len(importance)"
   ]
  },
  {
   "cell_type": "code",
   "execution_count": 26,
   "metadata": {
    "collapsed": true
   },
   "outputs": [],
   "source": [
    "bst.save_model('0001.model')"
   ]
  },
  {
   "cell_type": "code",
   "execution_count": null,
   "metadata": {
    "collapsed": true
   },
   "outputs": [],
   "source": []
  }
 ],
 "metadata": {
  "anaconda-cloud": {},
  "kernelspec": {
   "display_name": "Python [default]",
   "language": "python",
   "name": "python3"
  },
  "language_info": {
   "codemirror_mode": {
    "name": "ipython",
    "version": 3
   },
   "file_extension": ".py",
   "mimetype": "text/x-python",
   "name": "python",
   "nbconvert_exporter": "python",
   "pygments_lexer": "ipython3",
   "version": "3.5.2"
  }
 },
 "nbformat": 4,
 "nbformat_minor": 1
}
