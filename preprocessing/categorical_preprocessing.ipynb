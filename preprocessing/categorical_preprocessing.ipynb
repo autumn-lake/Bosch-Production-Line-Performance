{
 "cells": [
  {
   "cell_type": "code",
   "execution_count": 1,
   "metadata": {
    "collapsed": true
   },
   "outputs": [],
   "source": [
    "import pandas as pd\n",
    "import numpy as np\n",
    "import xgboost as xgb"
   ]
  },
  {
   "cell_type": "code",
   "execution_count": 2,
   "metadata": {
    "collapsed": true
   },
   "outputs": [],
   "source": [
    "cat_train = pd.read_csv('input/train_categorical.csv', dtype=np.float32)\n",
    "cat_test = pd.read_csv('input/test_categorical.csv', dtype=np.float32)"
   ]
  },
  {
   "cell_type": "code",
   "execution_count": 3,
   "metadata": {
    "collapsed": false
   },
   "outputs": [],
   "source": [
    "cat_train.fillna(value=-1, inplace=True)\n",
    "cat_test.fillna(value=-1, inplace=True)"
   ]
  },
  {
   "cell_type": "code",
   "execution_count": 4,
   "metadata": {
    "collapsed": true
   },
   "outputs": [],
   "source": [
    "tr_id = cat_train.Id\n",
    "te_id = cat_test.Id\n",
    "cat_train.drop(['Id'],axis=1,inplace=True)\n",
    "cat_test.drop(['Id'],axis=1,inplace=True)"
   ]
  },
  {
   "cell_type": "code",
   "execution_count": 6,
   "metadata": {
    "collapsed": false
   },
   "outputs": [],
   "source": [
    "result = pd.concat([cat_train,cat_test], copy=False, ignore_index=True)"
   ]
  },
  {
   "cell_type": "code",
   "execution_count": 7,
   "metadata": {
    "collapsed": true
   },
   "outputs": [],
   "source": [
    "#df1 = cat_train.ix[:,0:10]\n",
    "#df1.L0_S2_F35.unique()\n",
    "#from sklearn.preprocessing import LabelEncoder\n",
    "#for c in result.columns:\n",
    "#    le = LabelEncoder()\n",
    "#    result[c] = le.fit_transform(result[c])"
   ]
  },
  {
   "cell_type": "code",
   "execution_count": 8,
   "metadata": {
    "collapsed": false
   },
   "outputs": [],
   "source": [
    "from sklearn.preprocessing import LabelEncoder\n",
    "result1 = result.apply(LabelEncoder().fit_transform)"
   ]
  },
  {
   "cell_type": "code",
   "execution_count": 60,
   "metadata": {
    "collapsed": false
   },
   "outputs": [],
   "source": [
    "tr = result1.ix[:(tr_id.shape[0]-1),:].astype(np.int8)\n",
    "te = result1.ix[tr_id.shape[0]:,:].astype(np.int8)\n",
    "tr.reset_index(drop=True,inplace=True)\n",
    "te.reset_index(drop=True,inplace=True)\n",
    "tr.insert(0, 'Id', tr_id)\n",
    "te.insert(0, 'Id', te_id)\n",
    "tr.Id = tr.Id.astype(np.int32)\n",
    "te.Id = te.Id.astype(np.int32)"
   ]
  },
  {
   "cell_type": "code",
   "execution_count": 67,
   "metadata": {
    "collapsed": false
   },
   "outputs": [],
   "source": [
    "tr.to_hdf('train_categorical_try1.hdf5','table')\n",
    "te.to_hdf('test_categorical_try1.hdf5','table')"
   ]
  },
  {
   "cell_type": "code",
   "execution_count": null,
   "metadata": {
    "collapsed": true
   },
   "outputs": [],
   "source": []
  }
 ],
 "metadata": {
  "anaconda-cloud": {},
  "kernelspec": {
   "display_name": "Python [default]",
   "language": "python",
   "name": "python3"
  },
  "language_info": {
   "codemirror_mode": {
    "name": "ipython",
    "version": 3
   },
   "file_extension": ".py",
   "mimetype": "text/x-python",
   "name": "python",
   "nbconvert_exporter": "python",
   "pygments_lexer": "ipython3",
   "version": "3.5.2"
  }
 },
 "nbformat": 4,
 "nbformat_minor": 1
}
