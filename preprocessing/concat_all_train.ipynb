{
 "cells": [
  {
   "cell_type": "code",
   "execution_count": 1,
   "metadata": {
    "collapsed": true
   },
   "outputs": [],
   "source": [
    "import pandas as pd\n",
    "import numpy as np\n",
    "import xgboost as xgb\n",
    "from scipy.sparse import csr_matrix, hstack"
   ]
  },
  {
   "cell_type": "code",
   "execution_count": 2,
   "metadata": {
    "collapsed": true
   },
   "outputs": [],
   "source": [
    "df_num = pd.read_hdf('input_hdf/train_numeric_928cols.hdf5','table')\n",
    "df_num_nan = pd.read_hdf('input_hdf/train_numeric_928cols_NANs.hdf5','table')\n",
    "df_date = pd.read_hdf('input_hdf/train_date_162cols.hdf5','table')\n",
    "df_date_nan = pd.read_hdf('input_hdf/train_date_162cols_NANs.hdf5','table')\n",
    "df_cat = pd.read_hdf('input_hdf/train_categorical_205cols_596_OHE.hdf5','table')"
   ]
  },
  {
   "cell_type": "code",
   "execution_count": 3,
   "metadata": {
    "collapsed": false
   },
   "outputs": [],
   "source": [
    "#df_num.Id = df_num.Id.astype(np.int32, copy=False)\n",
    "#df_date.Id = df_date.Id.astype(np.int32, copy=False)"
   ]
  },
  {
   "cell_type": "code",
   "execution_count": 4,
   "metadata": {
    "collapsed": true
   },
   "outputs": [],
   "source": [
    "#label = df_num.Response.values\n",
    "df_num.drop(['Id'],axis=1,inplace=True)\n",
    "df_num_nan.drop(['Id'],axis=1,inplace=True)\n",
    "df_date.drop(['Id'],axis=1,inplace=True)\n",
    "df_date_nan.drop(['Id'],axis=1,inplace=True)"
   ]
  },
  {
   "cell_type": "code",
   "execution_count": 5,
   "metadata": {
    "collapsed": false
   },
   "outputs": [],
   "source": [
    "df_train = pd.concat([df_cat,df_date_nan,df_date,df_num_nan,df_num], axis=1)"
   ]
  },
  {
   "cell_type": "code",
   "execution_count": 7,
   "metadata": {
    "collapsed": false
   },
   "outputs": [],
   "source": [
    "df_train.to_hdf('df_train.hdf5','table')"
   ]
  },
  {
   "cell_type": "code",
   "execution_count": null,
   "metadata": {
    "collapsed": false
   },
   "outputs": [],
   "source": [
    "#dtrain = xgb.DMatrix(df_train, label=label, missing=-999999.0)\n",
    "#df_train_csr = csr_matrix(df_train)\n",
    "'''\n",
    "df_num = csr_matrix(df_num)\n",
    "\n",
    "df_num_nan = csr_matrix(df_num_nan)\n",
    "\n",
    "df_date = csr_matrix(df_date)\n",
    "\n",
    "df_date_nan = csr_matrix(df_date_nan)\n",
    "\n",
    "df_cat = csr_matrix(df_cat)\n",
    "\n",
    "df_train = hstack([df_cat,df_date_nan,df_date,df_num_nan,df_num], format='csr')\n",
    "\n",
    "def save_sparse_csr(filename,array):\n",
    "    np.savez(filename,data = array.data ,indices=array.indices,\n",
    "             indptr =array.indptr, shape=array.shape )\n",
    "\n",
    "def load_sparse_csr(filename):\n",
    "    loader = np.load(filename)\n",
    "    return csr_matrix((  loader['data'], loader['indices'], loader['indptr']),\n",
    "                         shape = loader['shape'])\n",
    "'''"
   ]
  }
 ],
 "metadata": {
  "anaconda-cloud": {},
  "kernelspec": {
   "display_name": "Python [default]",
   "language": "python",
   "name": "python3"
  },
  "language_info": {
   "codemirror_mode": {
    "name": "ipython",
    "version": 3
   },
   "file_extension": ".py",
   "mimetype": "text/x-python",
   "name": "python",
   "nbconvert_exporter": "python",
   "pygments_lexer": "ipython3",
   "version": "3.5.2"
  }
 },
 "nbformat": 4,
 "nbformat_minor": 1
}
