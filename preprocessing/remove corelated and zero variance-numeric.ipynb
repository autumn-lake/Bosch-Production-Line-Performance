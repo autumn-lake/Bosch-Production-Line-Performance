{
 "cells": [
  {
   "cell_type": "code",
   "execution_count": 1,
   "metadata": {
    "collapsed": true
   },
   "outputs": [],
   "source": [
    "import pandas as pd\n",
    "import numpy as np\n",
    "import numpy"
   ]
  },
  {
   "cell_type": "code",
   "execution_count": 2,
   "metadata": {
    "collapsed": true
   },
   "outputs": [],
   "source": [
    "num_unq = pd.read_csv('input_hdf/num_unq.csv')\n",
    "cat_unq = pd.read_csv('input_hdf/cat_unq.csv')\n",
    "date_unq = pd.read_csv('input_hdf/date_unq.csv')"
   ]
  },
  {
   "cell_type": "code",
   "execution_count": null,
   "metadata": {
    "collapsed": true
   },
   "outputs": [],
   "source": [
    "num_train = pd.read_csv('input_orig/train_numeric.csv', dtype=np.float32)"
   ]
  },
  {
   "cell_type": "code",
   "execution_count": null,
   "metadata": {
    "collapsed": true
   },
   "outputs": [],
   "source": [
    "num_train.fillna(-999999,inplace=True)"
   ]
  },
  {
   "cell_type": "code",
   "execution_count": null,
   "metadata": {
    "collapsed": false
   },
   "outputs": [],
   "source": [
    "num_train.shape"
   ]
  },
  {
   "cell_type": "code",
   "execution_count": null,
   "metadata": {
    "collapsed": true
   },
   "outputs": [],
   "source": [
    "#now, let's find features with no variance \n",
    "toKeep = []\n",
    "toDelete = []\n",
    "## loop through the DataFrame's columns\n",
    "for col in num_train:\n",
    "    ## if the value_counts method returns more than one uniqe entity,\n",
    "    ## append the column name to 'toKeep'\n",
    "    if len(num_train[col].value_counts()) > 1:\n",
    "        toKeep.append(col)\n",
    "    ## if not, append to 'toDelete'.\n",
    "    else:\n",
    "        toDelete.append(col)"
   ]
  },
  {
   "cell_type": "code",
   "execution_count": null,
   "metadata": {
    "collapsed": false
   },
   "outputs": [],
   "source": [
    "num_train.drop(toDelete, 1, inplace = True)"
   ]
  },
  {
   "cell_type": "code",
   "execution_count": null,
   "metadata": {
    "collapsed": false
   },
   "outputs": [],
   "source": [
    "num_train.shape"
   ]
  },
  {
   "cell_type": "code",
   "execution_count": null,
   "metadata": {
    "collapsed": true
   },
   "outputs": [],
   "source": [
    "corr_matrix = num_train.corr()\n",
    "corr_matrix.to_csv('corr_matrix_numeric_unique.csv')\n",
    "# substitude the entire matrix for a triangular matrix for faster\n",
    "# computation\n",
    "corr_matrix.ix[:,:] =  numpy.tril(corr_matrix.values, k = -1)\n",
    "## create catcher objects to find lists of what is perfectly correlated\n",
    "already_in = set()\n",
    "result = []\n",
    "for col in corr_matrix:\n",
    "    perfect_corr = corr_matrix[col][abs(numpy.round(corr_matrix[col],10)) == 1.00].index.tolist()\n",
    "    if perfect_corr and col not in already_in:\n",
    "        already_in.update(set(perfect_corr))\n",
    "        perfect_corr.append(col)\n",
    "        result.append(perfect_corr)\n",
    "\n",
    "toRemove = []\n",
    "for item in result:\n",
    "    toRemove.append(item[1:(len(item)+1)])\n",
    "# flattenign the list of lists\n",
    "toRemove = sum(toRemove, [])"
   ]
  },
  {
   "cell_type": "code",
   "execution_count": null,
   "metadata": {
    "collapsed": true
   },
   "outputs": [],
   "source": [
    "num_train.drop(toRemove, 1, inplace = True)"
   ]
  },
  {
   "cell_type": "code",
   "execution_count": null,
   "metadata": {
    "collapsed": false
   },
   "outputs": [],
   "source": [
    "num_train.shape"
   ]
  },
  {
   "cell_type": "code",
   "execution_count": null,
   "metadata": {
    "collapsed": true
   },
   "outputs": [],
   "source": [
    "num_train.to_hdf('train_numeric_20cols.hdf5','table')"
   ]
  },
  {
   "cell_type": "code",
   "execution_count": null,
   "metadata": {
    "collapsed": false
   },
   "outputs": [],
   "source": [
    "num_test = pd.read_csv('input_orig/test_numeric.csv', usecols=num_train.columns.values[0:-1], dtype=np.float32)"
   ]
  },
  {
   "cell_type": "code",
   "execution_count": null,
   "metadata": {
    "collapsed": false
   },
   "outputs": [],
   "source": [
    "num_test.shape"
   ]
  },
  {
   "cell_type": "code",
   "execution_count": null,
   "metadata": {
    "collapsed": true
   },
   "outputs": [],
   "source": [
    "num_test.to_hdf('test_numeric_20cols.hdf5','table')"
   ]
  },
  {
   "cell_type": "code",
   "execution_count": null,
   "metadata": {
    "collapsed": true
   },
   "outputs": [],
   "source": [
    "corr_matrix = pd.read_csv('input_hdf/corr_matrix_numeric_unique.csv')\n",
    "\n",
    "indd = corr_matrix['Unnamed: 0']\n",
    "corr_matrix.drop(['Unnamed: 0'],axis=1,inplace=True)\n",
    "\n",
    "corr_matrix.index = indd\n",
    "\n",
    "corr_matrix.index.name = None"
   ]
  },
  {
   "cell_type": "code",
   "execution_count": null,
   "metadata": {
    "collapsed": true
   },
   "outputs": [],
   "source": [
    "# substitude the entire matrix for a triangular matrix for faster\n",
    "# computation\n",
    "corr_matrix.ix[:,:] =  numpy.tril(corr_matrix.values, k = -1)\n",
    "## create catcher objects to find lists of what is perfectly correlated\n",
    "already_in = set()\n",
    "result = []\n",
    "for col in corr_matrix:\n",
    "    perfect_corr = corr_matrix[col][abs(corr_matrix[col]) == 1.00].index.tolist()\n",
    "    #perfect_corr = corr_matrix[col][abs(numpy.round(corr_matrix[col],1)) == 1.00].index.tolist()\n",
    "    if perfect_corr and col not in already_in:\n",
    "        already_in.update(set(perfect_corr))\n",
    "        perfect_corr.append(col)\n",
    "        result.append(perfect_corr)"
   ]
  },
  {
   "cell_type": "code",
   "execution_count": null,
   "metadata": {
    "collapsed": true
   },
   "outputs": [],
   "source": [
    "toRemove = []\n",
    "for item in result:\n",
    "    toRemove.append(item[1:(len(item)+1)])\n",
    "# flattenign the list of lists\n",
    "toRemove = sum(toRemove, [])"
   ]
  },
  {
   "cell_type": "code",
   "execution_count": null,
   "metadata": {
    "collapsed": true
   },
   "outputs": [],
   "source": [
    "num_train = pd.read_csv('input_orig/train_numeric.csv', dtype=np.float32)\n",
    "num_train.fillna(-999999,inplace=True)"
   ]
  },
  {
   "cell_type": "code",
   "execution_count": null,
   "metadata": {
    "collapsed": false
   },
   "outputs": [],
   "source": [
    "num_train.drop(toRemove, 1, inplace = True)\n",
    "num_train.shape"
   ]
  },
  {
   "cell_type": "code",
   "execution_count": null,
   "metadata": {
    "collapsed": true
   },
   "outputs": [],
   "source": [
    "num_train.to_hdf('train_numeric_928cols.hdf5','table')"
   ]
  },
  {
   "cell_type": "code",
   "execution_count": null,
   "metadata": {
    "collapsed": true
   },
   "outputs": [],
   "source": [
    "num_test = pd.read_csv('input_orig/test_numeric.csv', usecols=num_train.columns.values[0:-1], dtype=np.float32)"
   ]
  },
  {
   "cell_type": "code",
   "execution_count": null,
   "metadata": {
    "collapsed": false
   },
   "outputs": [],
   "source": [
    "num_test.shape"
   ]
  },
  {
   "cell_type": "code",
   "execution_count": null,
   "metadata": {
    "collapsed": false
   },
   "outputs": [],
   "source": [
    "num_test.to_hdf('test_numeric_928cols.hdf5','table')"
   ]
  },
  {
   "cell_type": "code",
   "execution_count": 3,
   "metadata": {
    "collapsed": true
   },
   "outputs": [],
   "source": [
    "num_train = pd.read_hdf('train_numeric_928cols.hdf5','table')\n",
    "#num_train.fillna(-999999,inplace=True)"
   ]
  },
  {
   "cell_type": "code",
   "execution_count": 4,
   "metadata": {
    "collapsed": false
   },
   "outputs": [
    {
     "data": {
      "text/html": [
       "<div>\n",
       "<table border=\"1\" class=\"dataframe\">\n",
       "  <thead>\n",
       "    <tr style=\"text-align: right;\">\n",
       "      <th></th>\n",
       "      <th>Id</th>\n",
       "      <th>L0_S0_F0</th>\n",
       "      <th>L0_S0_F2</th>\n",
       "      <th>L0_S0_F4</th>\n",
       "      <th>L0_S0_F6</th>\n",
       "      <th>L0_S0_F8</th>\n",
       "      <th>L0_S0_F10</th>\n",
       "      <th>L0_S0_F12</th>\n",
       "      <th>L0_S0_F14</th>\n",
       "      <th>L0_S0_F16</th>\n",
       "      <th>...</th>\n",
       "      <th>L3_S50_F4245</th>\n",
       "      <th>L3_S50_F4247</th>\n",
       "      <th>L3_S50_F4249</th>\n",
       "      <th>L3_S50_F4251</th>\n",
       "      <th>L3_S50_F4253</th>\n",
       "      <th>L3_S51_F4256</th>\n",
       "      <th>L3_S51_F4258</th>\n",
       "      <th>L3_S51_F4260</th>\n",
       "      <th>L3_S51_F4262</th>\n",
       "      <th>Response</th>\n",
       "    </tr>\n",
       "  </thead>\n",
       "  <tbody>\n",
       "    <tr>\n",
       "      <th>0</th>\n",
       "      <td>4.0</td>\n",
       "      <td>0.030</td>\n",
       "      <td>-0.034</td>\n",
       "      <td>-0.197</td>\n",
       "      <td>-0.179</td>\n",
       "      <td>0.118</td>\n",
       "      <td>0.116</td>\n",
       "      <td>-0.015</td>\n",
       "      <td>-0.032</td>\n",
       "      <td>0.020</td>\n",
       "      <td>...</td>\n",
       "      <td>-999999.0</td>\n",
       "      <td>-999999.0</td>\n",
       "      <td>-999999.0</td>\n",
       "      <td>-999999.0</td>\n",
       "      <td>-999999.0</td>\n",
       "      <td>-999999.0</td>\n",
       "      <td>-999999.0</td>\n",
       "      <td>-999999.0</td>\n",
       "      <td>-999999.0</td>\n",
       "      <td>0.0</td>\n",
       "    </tr>\n",
       "    <tr>\n",
       "      <th>1</th>\n",
       "      <td>6.0</td>\n",
       "      <td>-999999.000</td>\n",
       "      <td>-999999.000</td>\n",
       "      <td>-999999.000</td>\n",
       "      <td>-999999.000</td>\n",
       "      <td>-999999.000</td>\n",
       "      <td>-999999.000</td>\n",
       "      <td>-999999.000</td>\n",
       "      <td>-999999.000</td>\n",
       "      <td>-999999.000</td>\n",
       "      <td>...</td>\n",
       "      <td>-999999.0</td>\n",
       "      <td>-999999.0</td>\n",
       "      <td>-999999.0</td>\n",
       "      <td>-999999.0</td>\n",
       "      <td>-999999.0</td>\n",
       "      <td>-999999.0</td>\n",
       "      <td>-999999.0</td>\n",
       "      <td>-999999.0</td>\n",
       "      <td>-999999.0</td>\n",
       "      <td>0.0</td>\n",
       "    </tr>\n",
       "    <tr>\n",
       "      <th>2</th>\n",
       "      <td>7.0</td>\n",
       "      <td>0.088</td>\n",
       "      <td>0.086</td>\n",
       "      <td>0.003</td>\n",
       "      <td>-0.052</td>\n",
       "      <td>0.161</td>\n",
       "      <td>0.025</td>\n",
       "      <td>-0.015</td>\n",
       "      <td>-0.072</td>\n",
       "      <td>-0.225</td>\n",
       "      <td>...</td>\n",
       "      <td>-999999.0</td>\n",
       "      <td>-999999.0</td>\n",
       "      <td>-999999.0</td>\n",
       "      <td>-999999.0</td>\n",
       "      <td>-999999.0</td>\n",
       "      <td>-999999.0</td>\n",
       "      <td>-999999.0</td>\n",
       "      <td>-999999.0</td>\n",
       "      <td>-999999.0</td>\n",
       "      <td>0.0</td>\n",
       "    </tr>\n",
       "    <tr>\n",
       "      <th>3</th>\n",
       "      <td>9.0</td>\n",
       "      <td>-0.036</td>\n",
       "      <td>-0.064</td>\n",
       "      <td>0.294</td>\n",
       "      <td>0.330</td>\n",
       "      <td>0.074</td>\n",
       "      <td>0.161</td>\n",
       "      <td>0.022</td>\n",
       "      <td>0.128</td>\n",
       "      <td>-0.026</td>\n",
       "      <td>...</td>\n",
       "      <td>-999999.0</td>\n",
       "      <td>-999999.0</td>\n",
       "      <td>-999999.0</td>\n",
       "      <td>-999999.0</td>\n",
       "      <td>-999999.0</td>\n",
       "      <td>-999999.0</td>\n",
       "      <td>-999999.0</td>\n",
       "      <td>-999999.0</td>\n",
       "      <td>-999999.0</td>\n",
       "      <td>0.0</td>\n",
       "    </tr>\n",
       "    <tr>\n",
       "      <th>4</th>\n",
       "      <td>11.0</td>\n",
       "      <td>-0.055</td>\n",
       "      <td>-0.086</td>\n",
       "      <td>0.294</td>\n",
       "      <td>0.330</td>\n",
       "      <td>0.118</td>\n",
       "      <td>0.025</td>\n",
       "      <td>0.030</td>\n",
       "      <td>0.168</td>\n",
       "      <td>-0.169</td>\n",
       "      <td>...</td>\n",
       "      <td>-999999.0</td>\n",
       "      <td>-999999.0</td>\n",
       "      <td>-999999.0</td>\n",
       "      <td>-999999.0</td>\n",
       "      <td>-999999.0</td>\n",
       "      <td>-999999.0</td>\n",
       "      <td>-999999.0</td>\n",
       "      <td>-999999.0</td>\n",
       "      <td>-999999.0</td>\n",
       "      <td>0.0</td>\n",
       "    </tr>\n",
       "  </tbody>\n",
       "</table>\n",
       "<p>5 rows × 928 columns</p>\n",
       "</div>"
      ],
      "text/plain": [
       "     Id    L0_S0_F0    L0_S0_F2    L0_S0_F4    L0_S0_F6    L0_S0_F8  \\\n",
       "0   4.0       0.030      -0.034      -0.197      -0.179       0.118   \n",
       "1   6.0 -999999.000 -999999.000 -999999.000 -999999.000 -999999.000   \n",
       "2   7.0       0.088       0.086       0.003      -0.052       0.161   \n",
       "3   9.0      -0.036      -0.064       0.294       0.330       0.074   \n",
       "4  11.0      -0.055      -0.086       0.294       0.330       0.118   \n",
       "\n",
       "    L0_S0_F10   L0_S0_F12   L0_S0_F14   L0_S0_F16    ...     L3_S50_F4245  \\\n",
       "0       0.116      -0.015      -0.032       0.020    ...        -999999.0   \n",
       "1 -999999.000 -999999.000 -999999.000 -999999.000    ...        -999999.0   \n",
       "2       0.025      -0.015      -0.072      -0.225    ...        -999999.0   \n",
       "3       0.161       0.022       0.128      -0.026    ...        -999999.0   \n",
       "4       0.025       0.030       0.168      -0.169    ...        -999999.0   \n",
       "\n",
       "   L3_S50_F4247  L3_S50_F4249  L3_S50_F4251  L3_S50_F4253  L3_S51_F4256  \\\n",
       "0     -999999.0     -999999.0     -999999.0     -999999.0     -999999.0   \n",
       "1     -999999.0     -999999.0     -999999.0     -999999.0     -999999.0   \n",
       "2     -999999.0     -999999.0     -999999.0     -999999.0     -999999.0   \n",
       "3     -999999.0     -999999.0     -999999.0     -999999.0     -999999.0   \n",
       "4     -999999.0     -999999.0     -999999.0     -999999.0     -999999.0   \n",
       "\n",
       "   L3_S51_F4258  L3_S51_F4260  L3_S51_F4262  Response  \n",
       "0     -999999.0     -999999.0     -999999.0       0.0  \n",
       "1     -999999.0     -999999.0     -999999.0       0.0  \n",
       "2     -999999.0     -999999.0     -999999.0       0.0  \n",
       "3     -999999.0     -999999.0     -999999.0       0.0  \n",
       "4     -999999.0     -999999.0     -999999.0       0.0  \n",
       "\n",
       "[5 rows x 928 columns]"
      ]
     },
     "execution_count": 4,
     "metadata": {},
     "output_type": "execute_result"
    }
   ],
   "source": [
    "num_train.head()"
   ]
  },
  {
   "cell_type": "code",
   "execution_count": 5,
   "metadata": {
    "collapsed": true
   },
   "outputs": [],
   "source": [
    "num_test = pd.read_csv('input_orig/test_numeric.csv', usecols=num_train.columns.values[0:-1], dtype=np.float32)"
   ]
  },
  {
   "cell_type": "code",
   "execution_count": 8,
   "metadata": {
    "collapsed": false
   },
   "outputs": [
    {
     "data": {
      "text/html": [
       "<div>\n",
       "<table border=\"1\" class=\"dataframe\">\n",
       "  <thead>\n",
       "    <tr style=\"text-align: right;\">\n",
       "      <th></th>\n",
       "      <th>Id</th>\n",
       "      <th>L0_S0_F0</th>\n",
       "      <th>L0_S0_F2</th>\n",
       "      <th>L0_S0_F4</th>\n",
       "      <th>L0_S0_F6</th>\n",
       "      <th>L0_S0_F8</th>\n",
       "      <th>L0_S0_F10</th>\n",
       "      <th>L0_S0_F12</th>\n",
       "      <th>L0_S0_F14</th>\n",
       "      <th>L0_S0_F16</th>\n",
       "      <th>...</th>\n",
       "      <th>L3_S50_F4243</th>\n",
       "      <th>L3_S50_F4245</th>\n",
       "      <th>L3_S50_F4247</th>\n",
       "      <th>L3_S50_F4249</th>\n",
       "      <th>L3_S50_F4251</th>\n",
       "      <th>L3_S50_F4253</th>\n",
       "      <th>L3_S51_F4256</th>\n",
       "      <th>L3_S51_F4258</th>\n",
       "      <th>L3_S51_F4260</th>\n",
       "      <th>L3_S51_F4262</th>\n",
       "    </tr>\n",
       "  </thead>\n",
       "  <tbody>\n",
       "    <tr>\n",
       "      <th>0</th>\n",
       "      <td>1.0</td>\n",
       "      <td>-999999.000</td>\n",
       "      <td>-999999.000</td>\n",
       "      <td>-999999.000</td>\n",
       "      <td>-999999.000</td>\n",
       "      <td>-999999.000</td>\n",
       "      <td>-999999.000</td>\n",
       "      <td>-999999.0</td>\n",
       "      <td>-999999.000</td>\n",
       "      <td>-999999.000</td>\n",
       "      <td>...</td>\n",
       "      <td>-999999.0</td>\n",
       "      <td>-999999.0</td>\n",
       "      <td>-999999.0</td>\n",
       "      <td>-999999.0</td>\n",
       "      <td>-999999.0</td>\n",
       "      <td>-999999.0</td>\n",
       "      <td>-999999.0</td>\n",
       "      <td>-999999.0</td>\n",
       "      <td>-999999.0</td>\n",
       "      <td>-999999.0</td>\n",
       "    </tr>\n",
       "    <tr>\n",
       "      <th>1</th>\n",
       "      <td>2.0</td>\n",
       "      <td>-999999.000</td>\n",
       "      <td>-999999.000</td>\n",
       "      <td>-999999.000</td>\n",
       "      <td>-999999.000</td>\n",
       "      <td>-999999.000</td>\n",
       "      <td>-999999.000</td>\n",
       "      <td>-999999.0</td>\n",
       "      <td>-999999.000</td>\n",
       "      <td>-999999.000</td>\n",
       "      <td>...</td>\n",
       "      <td>-999999.0</td>\n",
       "      <td>-999999.0</td>\n",
       "      <td>-999999.0</td>\n",
       "      <td>-999999.0</td>\n",
       "      <td>-999999.0</td>\n",
       "      <td>-999999.0</td>\n",
       "      <td>-999999.0</td>\n",
       "      <td>-999999.0</td>\n",
       "      <td>-999999.0</td>\n",
       "      <td>-999999.0</td>\n",
       "    </tr>\n",
       "    <tr>\n",
       "      <th>2</th>\n",
       "      <td>3.0</td>\n",
       "      <td>-999999.000</td>\n",
       "      <td>-999999.000</td>\n",
       "      <td>-999999.000</td>\n",
       "      <td>-999999.000</td>\n",
       "      <td>-999999.000</td>\n",
       "      <td>-999999.000</td>\n",
       "      <td>-999999.0</td>\n",
       "      <td>-999999.000</td>\n",
       "      <td>-999999.000</td>\n",
       "      <td>...</td>\n",
       "      <td>-999999.0</td>\n",
       "      <td>-999999.0</td>\n",
       "      <td>-999999.0</td>\n",
       "      <td>-999999.0</td>\n",
       "      <td>-999999.0</td>\n",
       "      <td>-999999.0</td>\n",
       "      <td>-999999.0</td>\n",
       "      <td>-999999.0</td>\n",
       "      <td>-999999.0</td>\n",
       "      <td>-999999.0</td>\n",
       "    </tr>\n",
       "    <tr>\n",
       "      <th>3</th>\n",
       "      <td>5.0</td>\n",
       "      <td>-0.016</td>\n",
       "      <td>-0.026</td>\n",
       "      <td>-0.033</td>\n",
       "      <td>-0.016</td>\n",
       "      <td>0.205</td>\n",
       "      <td>-0.157</td>\n",
       "      <td>0.0</td>\n",
       "      <td>0.008</td>\n",
       "      <td>0.087</td>\n",
       "      <td>...</td>\n",
       "      <td>-999999.0</td>\n",
       "      <td>-999999.0</td>\n",
       "      <td>-999999.0</td>\n",
       "      <td>-999999.0</td>\n",
       "      <td>-999999.0</td>\n",
       "      <td>-999999.0</td>\n",
       "      <td>-999999.0</td>\n",
       "      <td>-999999.0</td>\n",
       "      <td>-999999.0</td>\n",
       "      <td>-999999.0</td>\n",
       "    </tr>\n",
       "    <tr>\n",
       "      <th>4</th>\n",
       "      <td>8.0</td>\n",
       "      <td>-999999.000</td>\n",
       "      <td>-999999.000</td>\n",
       "      <td>-999999.000</td>\n",
       "      <td>-999999.000</td>\n",
       "      <td>-999999.000</td>\n",
       "      <td>-999999.000</td>\n",
       "      <td>-999999.0</td>\n",
       "      <td>-999999.000</td>\n",
       "      <td>-999999.000</td>\n",
       "      <td>...</td>\n",
       "      <td>-999999.0</td>\n",
       "      <td>-999999.0</td>\n",
       "      <td>-999999.0</td>\n",
       "      <td>-999999.0</td>\n",
       "      <td>-999999.0</td>\n",
       "      <td>-999999.0</td>\n",
       "      <td>-999999.0</td>\n",
       "      <td>-999999.0</td>\n",
       "      <td>-999999.0</td>\n",
       "      <td>-999999.0</td>\n",
       "    </tr>\n",
       "  </tbody>\n",
       "</table>\n",
       "<p>5 rows × 927 columns</p>\n",
       "</div>"
      ],
      "text/plain": [
       "    Id    L0_S0_F0    L0_S0_F2    L0_S0_F4    L0_S0_F6    L0_S0_F8  \\\n",
       "0  1.0 -999999.000 -999999.000 -999999.000 -999999.000 -999999.000   \n",
       "1  2.0 -999999.000 -999999.000 -999999.000 -999999.000 -999999.000   \n",
       "2  3.0 -999999.000 -999999.000 -999999.000 -999999.000 -999999.000   \n",
       "3  5.0      -0.016      -0.026      -0.033      -0.016       0.205   \n",
       "4  8.0 -999999.000 -999999.000 -999999.000 -999999.000 -999999.000   \n",
       "\n",
       "    L0_S0_F10  L0_S0_F12   L0_S0_F14   L0_S0_F16      ...       L3_S50_F4243  \\\n",
       "0 -999999.000  -999999.0 -999999.000 -999999.000      ...          -999999.0   \n",
       "1 -999999.000  -999999.0 -999999.000 -999999.000      ...          -999999.0   \n",
       "2 -999999.000  -999999.0 -999999.000 -999999.000      ...          -999999.0   \n",
       "3      -0.157        0.0       0.008       0.087      ...          -999999.0   \n",
       "4 -999999.000  -999999.0 -999999.000 -999999.000      ...          -999999.0   \n",
       "\n",
       "   L3_S50_F4245  L3_S50_F4247  L3_S50_F4249  L3_S50_F4251  L3_S50_F4253  \\\n",
       "0     -999999.0     -999999.0     -999999.0     -999999.0     -999999.0   \n",
       "1     -999999.0     -999999.0     -999999.0     -999999.0     -999999.0   \n",
       "2     -999999.0     -999999.0     -999999.0     -999999.0     -999999.0   \n",
       "3     -999999.0     -999999.0     -999999.0     -999999.0     -999999.0   \n",
       "4     -999999.0     -999999.0     -999999.0     -999999.0     -999999.0   \n",
       "\n",
       "   L3_S51_F4256  L3_S51_F4258  L3_S51_F4260  L3_S51_F4262  \n",
       "0     -999999.0     -999999.0     -999999.0     -999999.0  \n",
       "1     -999999.0     -999999.0     -999999.0     -999999.0  \n",
       "2     -999999.0     -999999.0     -999999.0     -999999.0  \n",
       "3     -999999.0     -999999.0     -999999.0     -999999.0  \n",
       "4     -999999.0     -999999.0     -999999.0     -999999.0  \n",
       "\n",
       "[5 rows x 927 columns]"
      ]
     },
     "execution_count": 8,
     "metadata": {},
     "output_type": "execute_result"
    }
   ],
   "source": [
    "num_test.head()"
   ]
  },
  {
   "cell_type": "code",
   "execution_count": 7,
   "metadata": {
    "collapsed": true
   },
   "outputs": [],
   "source": [
    "num_test.fillna(-999999,inplace=True)"
   ]
  },
  {
   "cell_type": "code",
   "execution_count": 9,
   "metadata": {
    "collapsed": false
   },
   "outputs": [
    {
     "data": {
      "text/plain": [
       "(1183748, 927)"
      ]
     },
     "execution_count": 9,
     "metadata": {},
     "output_type": "execute_result"
    }
   ],
   "source": [
    "num_test.shape"
   ]
  },
  {
   "cell_type": "code",
   "execution_count": 10,
   "metadata": {
    "collapsed": true
   },
   "outputs": [],
   "source": [
    "num_test.to_hdf('test_numeric_928cols.hdf5','table')"
   ]
  },
  {
   "cell_type": "code",
   "execution_count": null,
   "metadata": {
    "collapsed": true
   },
   "outputs": [],
   "source": []
  }
 ],
 "metadata": {
  "anaconda-cloud": {},
  "kernelspec": {
   "display_name": "Python [default]",
   "language": "python",
   "name": "python3"
  },
  "language_info": {
   "codemirror_mode": {
    "name": "ipython",
    "version": 3
   },
   "file_extension": ".py",
   "mimetype": "text/x-python",
   "name": "python",
   "nbconvert_exporter": "python",
   "pygments_lexer": "ipython3",
   "version": "3.5.2"
  }
 },
 "nbformat": 4,
 "nbformat_minor": 1
}
