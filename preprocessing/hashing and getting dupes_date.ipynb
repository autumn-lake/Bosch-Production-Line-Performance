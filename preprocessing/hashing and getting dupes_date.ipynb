{
 "cells": [
  {
   "cell_type": "code",
   "execution_count": 1,
   "metadata": {
    "collapsed": true
   },
   "outputs": [],
   "source": [
    "import pandas as pd\n",
    "import numpy as np"
   ]
  },
  {
   "cell_type": "code",
   "execution_count": 2,
   "metadata": {
    "collapsed": true
   },
   "outputs": [],
   "source": [
    "date_train = pd.read_hdf('input_hdf/train_date.hdf5','table')"
   ]
  },
  {
   "cell_type": "code",
   "execution_count": 5,
   "metadata": {
    "collapsed": false
   },
   "outputs": [
    {
     "data": {
      "text/html": [
       "<div>\n",
       "<table border=\"1\" class=\"dataframe\">\n",
       "  <thead>\n",
       "    <tr style=\"text-align: right;\">\n",
       "      <th></th>\n",
       "      <th>Id</th>\n",
       "      <th>L0_S0_D1</th>\n",
       "      <th>L0_S0_D3</th>\n",
       "      <th>L0_S0_D5</th>\n",
       "      <th>L0_S0_D7</th>\n",
       "      <th>L0_S0_D9</th>\n",
       "      <th>L0_S0_D11</th>\n",
       "      <th>L0_S0_D13</th>\n",
       "      <th>L0_S0_D15</th>\n",
       "      <th>L0_S0_D17</th>\n",
       "      <th>...</th>\n",
       "      <th>L3_S50_D4246</th>\n",
       "      <th>L3_S50_D4248</th>\n",
       "      <th>L3_S50_D4250</th>\n",
       "      <th>L3_S50_D4252</th>\n",
       "      <th>L3_S50_D4254</th>\n",
       "      <th>L3_S51_D4255</th>\n",
       "      <th>L3_S51_D4257</th>\n",
       "      <th>L3_S51_D4259</th>\n",
       "      <th>L3_S51_D4261</th>\n",
       "      <th>L3_S51_D4263</th>\n",
       "    </tr>\n",
       "  </thead>\n",
       "  <tbody>\n",
       "    <tr>\n",
       "      <th>0</th>\n",
       "      <td>4.0</td>\n",
       "      <td>82.239998</td>\n",
       "      <td>82.239998</td>\n",
       "      <td>82.239998</td>\n",
       "      <td>82.239998</td>\n",
       "      <td>82.239998</td>\n",
       "      <td>82.239998</td>\n",
       "      <td>82.239998</td>\n",
       "      <td>82.239998</td>\n",
       "      <td>82.239998</td>\n",
       "      <td>...</td>\n",
       "      <td>-999999.0</td>\n",
       "      <td>-999999.0</td>\n",
       "      <td>-999999.0</td>\n",
       "      <td>-999999.0</td>\n",
       "      <td>-999999.0</td>\n",
       "      <td>-999999.0</td>\n",
       "      <td>-999999.0</td>\n",
       "      <td>-999999.0</td>\n",
       "      <td>-999999.0</td>\n",
       "      <td>-999999.0</td>\n",
       "    </tr>\n",
       "    <tr>\n",
       "      <th>1</th>\n",
       "      <td>6.0</td>\n",
       "      <td>-999999.000000</td>\n",
       "      <td>-999999.000000</td>\n",
       "      <td>-999999.000000</td>\n",
       "      <td>-999999.000000</td>\n",
       "      <td>-999999.000000</td>\n",
       "      <td>-999999.000000</td>\n",
       "      <td>-999999.000000</td>\n",
       "      <td>-999999.000000</td>\n",
       "      <td>-999999.000000</td>\n",
       "      <td>...</td>\n",
       "      <td>-999999.0</td>\n",
       "      <td>-999999.0</td>\n",
       "      <td>-999999.0</td>\n",
       "      <td>-999999.0</td>\n",
       "      <td>-999999.0</td>\n",
       "      <td>-999999.0</td>\n",
       "      <td>-999999.0</td>\n",
       "      <td>-999999.0</td>\n",
       "      <td>-999999.0</td>\n",
       "      <td>-999999.0</td>\n",
       "    </tr>\n",
       "    <tr>\n",
       "      <th>2</th>\n",
       "      <td>7.0</td>\n",
       "      <td>1618.699951</td>\n",
       "      <td>1618.699951</td>\n",
       "      <td>1618.699951</td>\n",
       "      <td>1618.699951</td>\n",
       "      <td>1618.699951</td>\n",
       "      <td>1618.699951</td>\n",
       "      <td>1618.699951</td>\n",
       "      <td>1618.699951</td>\n",
       "      <td>1618.699951</td>\n",
       "      <td>...</td>\n",
       "      <td>-999999.0</td>\n",
       "      <td>-999999.0</td>\n",
       "      <td>-999999.0</td>\n",
       "      <td>-999999.0</td>\n",
       "      <td>-999999.0</td>\n",
       "      <td>-999999.0</td>\n",
       "      <td>-999999.0</td>\n",
       "      <td>-999999.0</td>\n",
       "      <td>-999999.0</td>\n",
       "      <td>-999999.0</td>\n",
       "    </tr>\n",
       "    <tr>\n",
       "      <th>3</th>\n",
       "      <td>9.0</td>\n",
       "      <td>1149.199951</td>\n",
       "      <td>1149.199951</td>\n",
       "      <td>1149.199951</td>\n",
       "      <td>1149.199951</td>\n",
       "      <td>1149.199951</td>\n",
       "      <td>1149.199951</td>\n",
       "      <td>1149.199951</td>\n",
       "      <td>1149.199951</td>\n",
       "      <td>1149.199951</td>\n",
       "      <td>...</td>\n",
       "      <td>-999999.0</td>\n",
       "      <td>-999999.0</td>\n",
       "      <td>-999999.0</td>\n",
       "      <td>-999999.0</td>\n",
       "      <td>-999999.0</td>\n",
       "      <td>-999999.0</td>\n",
       "      <td>-999999.0</td>\n",
       "      <td>-999999.0</td>\n",
       "      <td>-999999.0</td>\n",
       "      <td>-999999.0</td>\n",
       "    </tr>\n",
       "    <tr>\n",
       "      <th>4</th>\n",
       "      <td>11.0</td>\n",
       "      <td>602.640015</td>\n",
       "      <td>602.640015</td>\n",
       "      <td>602.640015</td>\n",
       "      <td>602.640015</td>\n",
       "      <td>602.640015</td>\n",
       "      <td>602.640015</td>\n",
       "      <td>602.640015</td>\n",
       "      <td>602.640015</td>\n",
       "      <td>602.640015</td>\n",
       "      <td>...</td>\n",
       "      <td>-999999.0</td>\n",
       "      <td>-999999.0</td>\n",
       "      <td>-999999.0</td>\n",
       "      <td>-999999.0</td>\n",
       "      <td>-999999.0</td>\n",
       "      <td>-999999.0</td>\n",
       "      <td>-999999.0</td>\n",
       "      <td>-999999.0</td>\n",
       "      <td>-999999.0</td>\n",
       "      <td>-999999.0</td>\n",
       "    </tr>\n",
       "  </tbody>\n",
       "</table>\n",
       "<p>5 rows × 1157 columns</p>\n",
       "</div>"
      ],
      "text/plain": [
       "     Id       L0_S0_D1       L0_S0_D3       L0_S0_D5       L0_S0_D7  \\\n",
       "0   4.0      82.239998      82.239998      82.239998      82.239998   \n",
       "1   6.0 -999999.000000 -999999.000000 -999999.000000 -999999.000000   \n",
       "2   7.0    1618.699951    1618.699951    1618.699951    1618.699951   \n",
       "3   9.0    1149.199951    1149.199951    1149.199951    1149.199951   \n",
       "4  11.0     602.640015     602.640015     602.640015     602.640015   \n",
       "\n",
       "        L0_S0_D9      L0_S0_D11      L0_S0_D13      L0_S0_D15      L0_S0_D17  \\\n",
       "0      82.239998      82.239998      82.239998      82.239998      82.239998   \n",
       "1 -999999.000000 -999999.000000 -999999.000000 -999999.000000 -999999.000000   \n",
       "2    1618.699951    1618.699951    1618.699951    1618.699951    1618.699951   \n",
       "3    1149.199951    1149.199951    1149.199951    1149.199951    1149.199951   \n",
       "4     602.640015     602.640015     602.640015     602.640015     602.640015   \n",
       "\n",
       "       ...       L3_S50_D4246  L3_S50_D4248  L3_S50_D4250  L3_S50_D4252  \\\n",
       "0      ...          -999999.0     -999999.0     -999999.0     -999999.0   \n",
       "1      ...          -999999.0     -999999.0     -999999.0     -999999.0   \n",
       "2      ...          -999999.0     -999999.0     -999999.0     -999999.0   \n",
       "3      ...          -999999.0     -999999.0     -999999.0     -999999.0   \n",
       "4      ...          -999999.0     -999999.0     -999999.0     -999999.0   \n",
       "\n",
       "   L3_S50_D4254  L3_S51_D4255  L3_S51_D4257  L3_S51_D4259  L3_S51_D4261  \\\n",
       "0     -999999.0     -999999.0     -999999.0     -999999.0     -999999.0   \n",
       "1     -999999.0     -999999.0     -999999.0     -999999.0     -999999.0   \n",
       "2     -999999.0     -999999.0     -999999.0     -999999.0     -999999.0   \n",
       "3     -999999.0     -999999.0     -999999.0     -999999.0     -999999.0   \n",
       "4     -999999.0     -999999.0     -999999.0     -999999.0     -999999.0   \n",
       "\n",
       "   L3_S51_D4263  \n",
       "0     -999999.0  \n",
       "1     -999999.0  \n",
       "2     -999999.0  \n",
       "3     -999999.0  \n",
       "4     -999999.0  \n",
       "\n",
       "[5 rows x 1157 columns]"
      ]
     },
     "execution_count": 5,
     "metadata": {},
     "output_type": "execute_result"
    }
   ],
   "source": [
    "date_train.head()"
   ]
  },
  {
   "cell_type": "code",
   "execution_count": 4,
   "metadata": {
    "collapsed": true
   },
   "outputs": [],
   "source": [
    "date_train.fillna(-999999,inplace=True)"
   ]
  },
  {
   "cell_type": "code",
   "execution_count": 7,
   "metadata": {
    "collapsed": false
   },
   "outputs": [],
   "source": [
    "na_count = date_train.isnull().sum()"
   ]
  },
  {
   "cell_type": "code",
   "execution_count": 11,
   "metadata": {
    "collapsed": false
   },
   "outputs": [
    {
     "data": {
      "text/plain": [
       "762"
      ]
     },
     "execution_count": 11,
     "metadata": {},
     "output_type": "execute_result"
    }
   ],
   "source": [
    "(na_count>1100000).sum()"
   ]
  },
  {
   "cell_type": "code",
   "execution_count": 6,
   "metadata": {
    "collapsed": false
   },
   "outputs": [
    {
     "data": {
      "text/plain": [
       "(1183747, 1157)"
      ]
     },
     "execution_count": 6,
     "metadata": {},
     "output_type": "execute_result"
    }
   ],
   "source": [
    "date_train.shape"
   ]
  },
  {
   "cell_type": "code",
   "execution_count": 12,
   "metadata": {
    "collapsed": false
   },
   "outputs": [
    {
     "data": {
      "text/plain": [
       "395"
      ]
     },
     "execution_count": 12,
     "metadata": {},
     "output_type": "execute_result"
    }
   ],
   "source": [
    "1157-762"
   ]
  },
  {
   "cell_type": "code",
   "execution_count": 7,
   "metadata": {
    "collapsed": true
   },
   "outputs": [],
   "source": [
    "hashed = date_train.apply(lambda x: hash(tuple(x)), axis = 0)"
   ]
  },
  {
   "cell_type": "code",
   "execution_count": 8,
   "metadata": {
    "collapsed": false
   },
   "outputs": [
    {
     "data": {
      "text/plain": [
       "((162,), (1157,))"
      ]
     },
     "execution_count": 8,
     "metadata": {},
     "output_type": "execute_result"
    }
   ],
   "source": [
    "hashed.unique().shape,hashed.shape"
   ]
  },
  {
   "cell_type": "code",
   "execution_count": 10,
   "metadata": {
    "collapsed": true
   },
   "outputs": [],
   "source": [
    "hashed_df = pd.DataFrame(hashed)\n",
    "hashed_df.columns = ['hash']\n",
    "hashed_df['column'] = hashed_df.index\n",
    "hashed_df.reset_index(drop=True,inplace=True)"
   ]
  },
  {
   "cell_type": "code",
   "execution_count": 16,
   "metadata": {
    "collapsed": true
   },
   "outputs": [],
   "source": [
    "hashed_df.to_csv('date_hashed_df.csv',index=False)"
   ]
  },
  {
   "cell_type": "code",
   "execution_count": 12,
   "metadata": {
    "collapsed": false
   },
   "outputs": [],
   "source": [
    "hashed_date_unq = hashed_df.drop_duplicates(subset='hash',keep='first')"
   ]
  },
  {
   "cell_type": "code",
   "execution_count": 14,
   "metadata": {
    "collapsed": false
   },
   "outputs": [
    {
     "data": {
      "text/html": [
       "<div>\n",
       "<table border=\"1\" class=\"dataframe\">\n",
       "  <thead>\n",
       "    <tr style=\"text-align: right;\">\n",
       "      <th></th>\n",
       "      <th>hash</th>\n",
       "      <th>column</th>\n",
       "    </tr>\n",
       "  </thead>\n",
       "  <tbody>\n",
       "    <tr>\n",
       "      <th>0</th>\n",
       "      <td>-8179083408896920552</td>\n",
       "      <td>Id</td>\n",
       "    </tr>\n",
       "    <tr>\n",
       "      <th>1</th>\n",
       "      <td>4819478140584969564</td>\n",
       "      <td>L0_S0_D1</td>\n",
       "    </tr>\n",
       "    <tr>\n",
       "      <th>13</th>\n",
       "      <td>4528888709979328646</td>\n",
       "      <td>L0_S1_D26</td>\n",
       "    </tr>\n",
       "    <tr>\n",
       "      <th>14</th>\n",
       "      <td>7891462505238026686</td>\n",
       "      <td>L0_S1_D30</td>\n",
       "    </tr>\n",
       "    <tr>\n",
       "      <th>15</th>\n",
       "      <td>6432904867978465813</td>\n",
       "      <td>L0_S2_D34</td>\n",
       "    </tr>\n",
       "  </tbody>\n",
       "</table>\n",
       "</div>"
      ],
      "text/plain": [
       "                   hash     column\n",
       "0  -8179083408896920552         Id\n",
       "1   4819478140584969564   L0_S0_D1\n",
       "13  4528888709979328646  L0_S1_D26\n",
       "14  7891462505238026686  L0_S1_D30\n",
       "15  6432904867978465813  L0_S2_D34"
      ]
     },
     "execution_count": 14,
     "metadata": {},
     "output_type": "execute_result"
    }
   ],
   "source": [
    "hashed_date_unq.head()"
   ]
  },
  {
   "cell_type": "code",
   "execution_count": 15,
   "metadata": {
    "collapsed": true
   },
   "outputs": [],
   "source": [
    "df2 = pd.read_hdf('input_hdf/train_date_162cols.hdf5','table')"
   ]
  },
  {
   "cell_type": "code",
   "execution_count": 18,
   "metadata": {
    "collapsed": false
   },
   "outputs": [
    {
     "data": {
      "text/plain": [
       "0"
      ]
     },
     "execution_count": 18,
     "metadata": {},
     "output_type": "execute_result"
    }
   ],
   "source": [
    "len(set(hashed_date_unq.column.values)-set(df2.columns.values))"
   ]
  },
  {
   "cell_type": "code",
   "execution_count": null,
   "metadata": {
    "collapsed": true
   },
   "outputs": [],
   "source": []
  }
 ],
 "metadata": {
  "anaconda-cloud": {},
  "kernelspec": {
   "display_name": "Python [default]",
   "language": "python",
   "name": "python3"
  },
  "language_info": {
   "codemirror_mode": {
    "name": "ipython",
    "version": 3
   },
   "file_extension": ".py",
   "mimetype": "text/x-python",
   "name": "python",
   "nbconvert_exporter": "python",
   "pygments_lexer": "ipython3",
   "version": "3.5.2"
  }
 },
 "nbformat": 4,
 "nbformat_minor": 1
}
